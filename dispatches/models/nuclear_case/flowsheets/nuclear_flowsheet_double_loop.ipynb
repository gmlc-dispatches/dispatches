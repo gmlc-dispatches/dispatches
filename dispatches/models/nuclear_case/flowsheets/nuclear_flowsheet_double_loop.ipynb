{
 "cells": [
  {
   "cell_type": "markdown",
   "id": "compact-craps",
   "metadata": {},
   "source": [
    "# Generic Nuclear Case Study - Double Loop Workflow\n",
    "\n",
    "This notebook illustrates how to use the double loop workflow with the generic nuclear case study."
   ]
  },
  {
   "cell_type": "code",
   "execution_count": null,
   "id": "regulation-college",
   "metadata": {},
   "outputs": [],
   "source": []
  }
 ],
 "metadata": {
  "kernelspec": {
   "display_name": "Python 3",
   "language": "python",
   "name": "python3"
  },
  "language_info": {
   "codemirror_mode": {
    "name": "ipython",
    "version": 3
   },
   "file_extension": ".py",
   "mimetype": "text/x-python",
   "name": "python",
   "nbconvert_exporter": "python",
   "pygments_lexer": "ipython3",
   "version": "3.7.7"
  }
 },
 "nbformat": 4,
 "nbformat_minor": 5
}
