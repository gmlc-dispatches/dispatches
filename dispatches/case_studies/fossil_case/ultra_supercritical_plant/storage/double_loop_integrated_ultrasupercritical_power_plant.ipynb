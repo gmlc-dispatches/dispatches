{
 "cells": [
  {
   "cell_type": "markdown",
   "id": "498cf0b4",
   "metadata": {},
   "source": [
    "# Double-loop Framework Implementation with Fossil Case: Integrated Ultra-supercritical Power Plant Model\n"
   ]
  },
  {
   "cell_type": "markdown",
   "id": "595e8b1e",
   "metadata": {},
   "source": [
    "Author: Naresh Susarla (naresh.susarla@netl.doe.gov)"
   ]
  },
  {
   "cell_type": "markdown",
   "id": "a9094682",
   "metadata": {},
   "source": [
    "This notebook presents an implementation of the double-loop framework for the fossil case study using the integrated ultra-supercritical power plant model with a molten-salt based thermal energy storage. In order to run this notebook, we need multiple packages including, DISPATCHES, IDAES, and gridx-prescient."
   ]
  },
  {
   "cell_type": "markdown",
   "id": "112e52dd",
   "metadata": {},
   "source": [
    "For a given integrated energy system, the double loop workflow has six key steps:\n",
    "\n",
    " 1. Forecasting: Generate plausible price forcasts for the bidding horizon (chosen to be 48 hours).\n",
    " 2. Bidding: Formulate and solve a multi-period bidding problem for the generated set of forcasted price signals. The solution of the bidding problem yields a time-varying bid curve.\n",
    " 3. Day Ahead (DA) Market: Using the bid curve generated in the previous step, solve the unit commitment problem for the day ahead market.\n",
    " 4. Real Time Market: Fix unit commitment decisions and solve the unit commitment problem for the real time market. The solution yields real time local marginal prices and the optimal dispatch profile for each generator.\n",
    " 5. Tracking: Formulate and solve a tracking problem to track the optimal dispatch profile obtained in the previous step, and minimize under-production/over-production of electricity.\n",
    " 6. Settlement: Compute all the cash flows"
   ]
  },
  {
   "cell_type": "markdown",
   "id": "a058f475",
   "metadata": {},
   "source": [
    "To start the analysis, first import all necessary modules and packages including Prescient simulator and `MultiPeriodUsc` class. `MultiPeriodUsc` builds a multi-period model of the integrated ultra-supercritical power plant model with a molten salt energy storage."
   ]
  },
  {
   "cell_type": "code",
   "execution_count": 1,
   "id": "6607a30d",
   "metadata": {},
   "outputs": [
    {
     "name": "stdout",
     "output_type": "stream",
     "text": [
      "Interactive Python mode detected; using default matplotlib backend for plotting.\n"
     ]
    }
   ],
   "source": [
    "# Import Python library packages\n",
    "from types import ModuleType\n",
    "import pandas as pd\n",
    "from importlib import resources\n",
    "\n",
    "# Import Pyomo packages\n",
    "import pyomo.environ as pyo\n",
    "\n",
    "# Import IDAES packages\n",
    "from idaes.apps.grid_integration import Tracker\n",
    "from idaes.apps.grid_integration import Bidder\n",
    "from idaes.apps.grid_integration.forecaster import Backcaster\n",
    "from idaes.apps.grid_integration import DoubleLoopCoordinator\n",
    "from idaes.apps.grid_integration.model_data import ThermalGeneratorModelData\n",
    "\n",
    "# Import Prescient simulator\n",
    "from prescient.simulator import Prescient\n",
    "\n",
    "# Import integrated ultra-supercritical power plant with energy storage model\n",
    "from dispatches.case_studies.fossil_case.ultra_supercritical_plant.storage.multiperiod_double_loop_usc import MultiPeriodUsc\n",
    "from dispatches_sample_data import rts_gmlc"
   ]
  },
  {
   "cell_type": "markdown",
   "id": "fa7bd5c1",
   "metadata": {},
   "source": [
    "Following the imports, set up the fossil generator characteristics using a `model_data` object as shown below. The fossil generator used in this analysis is the integrated ultra-supercritical power plant, refered to in this analysis as the fossil-based integrated energy system (IES). A more detailed explanation of the integrated model is given in the notebook `integrated_storage_with_powerplant`. The double-loop model parameters are the number of hours for the bidding and tracking models, number of scenarios to use, and the number of days for simulation. The fossil generator data included in `model_data` and needed during this analysis is given and described in the list below: "
   ]
  },
  {
   "cell_type": "markdown",
   "id": "4693c38f",
   "metadata": {},
   "source": [
    " - gen_name: The ID of the generator in the RTS - GMLC that is being replaced by the fossil-based IES. The chosen generator name `gen_name` is `102_STEAM_3`\n",
    " - generator_type: Accepts either `thermal` or `renewable`. We choose `thermal` for both fossil generators\n",
    " - p_min: Minimum power output to the grid in MW. The minimum power output to the grid for this IES is 286 MW\n",
    " - p_max: Maximum power output to the grid in MW. The maximum power output to the grid for this IES is 460 MW\n",
    " - min_down_time: Mininum downtime after the generator is shutdown. The minimum downtime for this IES is 4 hours\n",
    " - min_up_time: Minimum uptime after the generator is turned on. The minimum uptime for this IES is 8 hours\n",
    " - ramp_up_60min: Ramp up rate in MW/hr. The default ramp up rate for this IES is 60 MW/hr\n",
    " - ramp_down_60min: Ramp down rate in MW/hr. The default ramp down rate for this IES is the same as the ramp up rate, 60 MW/hr\n",
    " - shutdown_capacity: Power output when shutdown is initiated in MW. For this IES, during shutdown the plant operates at p_min\n",
    " - startup_capacity: Power output when the generator is turned on. For this IES, during startup, the plant operates at p_min as considered during shotdown\n",
    " - production_cost_bid_pairs: Cost of production of electricity in \\\\$/MW as function of power output in MW\n",
    " - startup_cost_pairs: (Number of hours after shutdown, cost of startup)\n",
    " - fixed_commitment: 0/1 indicates that plant shutdown is allowed/not allowed"
   ]
  },
  {
   "cell_type": "code",
   "execution_count": 2,
   "id": "56a30c64",
   "metadata": {},
   "outputs": [],
   "source": [
    "# Import the historical price data from 'original rts-gmlc run' output folder:\n",
    "bus_name = \"Attlee\"\n",
    "\n",
    "da_lmp_historical = [21.288312, 20.419032, 19.689677, 19.983571, 19.983571, 20.419032,\n",
    "       21.843871, 23.437857, 18.072549, -0.      , -0.      , -0.      ,\n",
    "       -0.      , -0.      , -0.      , -0.      , 18.861   , 22.51634 ,\n",
    "       33.752674, 33.752674, 27.050323, 24.617429, 23.07    , 19.689677]\n",
    "\n",
    "rt_lmp_historical = [23.07    , 22.968387, 24.617429, 24.617429, 27.050323, 22.51634 ,\n",
    "       22.492903, 23.657742, 21.843871, -0.      , -0.      , -0.      ,\n",
    "       -0.      , -0.      , -0.      , -0.      , -0.      , 21.916765,\n",
    "       24.079344, 23.40518 , 22.683303, 21.916765, 20.244451, 18.861   ]"
   ]
  },
  {
   "cell_type": "code",
   "execution_count": 3,
   "id": "61d7856a",
   "metadata": {},
   "outputs": [],
   "source": [
    "generator_data = {\n",
    "    \"gen_name\": \"102_STEAM_3\",\n",
    "    \"p_min\": 286,\n",
    "    \"p_max\": 460,\n",
    "    \"min_down_time\": 4,\n",
    "    \"min_up_time\": 8,\n",
    "    \"ramp_up_60min\": 60,\n",
    "    \"ramp_down_60min\": 60,\n",
    "    \"shutdown_capacity\": 286,\n",
    "    \"startup_capacity\": 286,\n",
    "    \"initial_status\": -1,\n",
    "    \"initial_p_output\": 0,\n",
    "    \"production_cost_bid_pairs\": [\n",
    "        (286, 22.16602),\n",
    "        (350, 19.0723),\n",
    "        (400, 18.29703),\n",
    "        (430, 17.71727),\n",
    "        (460, 17.71727),\n",
    "    ],\n",
    "    \"startup_cost_pairs\": [(4, 7355.42), (10, 10488.35), (12, 11383.41)],\n",
    "    \"fixed_commitment\": 1,\n",
    "    \"bus\": bus_name,\n",
    "}\n",
    "\n",
    "model_data = ThermalGeneratorModelData(**generator_data)"
   ]
  },
  {
   "cell_type": "markdown",
   "id": "adae2723",
   "metadata": {},
   "source": [
    "Next, we set the following parameters needed for the double loop workflow:\n",
    " - tracking_horizon: Length of the tracking horizon. We choose it to be 10 hours\n",
    " - bidding_horizon: Length of the bidding horizon. We choose it to be 48 hours\n",
    " - n_scenario: Number of scenarios to be considered for the bidding problem. The file `idaes.apps.grid_integration.examples.lmp_forecasts_concat.csv` includes the data for ten scenarios, so we can choose any number between 1 and 10\n",
    " - n_tracking_hour: Frequency at which the tracking problem needs to be solved (every hour)\n",
    " - num_days: Simulation horizon (number of days). For this demonstration, 2 days is chosen for this simulation"
   ]
  },
  {
   "cell_type": "code",
   "execution_count": 4,
   "id": "11c77c81",
   "metadata": {},
   "outputs": [],
   "source": [
    "tracking_horizon = 4  # hours\n",
    "bidding_horizon = 4  # hours\n",
    "n_scenario = 1  # for bidding\n",
    "n_tracking_hour = 1  # advance n_tracking_hour (i.e. assume we solve every hour)\n",
    "num_days = 1"
   ]
  },
  {
   "cell_type": "markdown",
   "id": "eb98132b",
   "metadata": {},
   "source": [
    "Set up the solver and the forecaster objects."
   ]
  },
  {
   "cell_type": "code",
   "execution_count": 5,
   "id": "72dac94e",
   "metadata": {},
   "outputs": [],
   "source": [
    "# Create solver\n",
    "solver = pyo.SolverFactory(\"ipopt\")\n",
    "solver.options = {\n",
    "    \"max_iter\": 200,\n",
    "}\n",
    "\n",
    "# Create forecaster object\n",
    "forecaster = Backcaster({bus_name: da_lmp_historical}, {bus_name: rt_lmp_historical})"
   ]
  },
  {
   "cell_type": "markdown",
   "id": "aea6ba8c",
   "metadata": {},
   "source": [
    "Set up the objects for Tracker, Bidder, and Coordinator."
   ]
  },
  {
   "cell_type": "code",
   "execution_count": 6,
   "id": "4611e3df",
   "metadata": {},
   "outputs": [
    {
     "name": "stdout",
     "output_type": "stream",
     "text": [
      "[+   0.00] Beginning the formulation of the multiperiod optimization problem.\n",
      "2022-10-26 16:26:20 [INFO] idaes.apps.grid_integration.multiperiod.multiperiod: ...Constructing the flowsheet model for blocks[0]\n"
     ]
    },
    {
     "name": "stderr",
     "output_type": "stream",
     "text": [
      "INFO:idaes.apps.grid_integration.multiperiod.multiperiod:...Constructing the flowsheet model for blocks[0]\n"
     ]
    },
    {
     "name": "stdout",
     "output_type": "stream",
     "text": [
      ">>> Creating USC model and initialization for each time period\n",
      "2022-10-26 16:26:23 [INFO] idaes.apps.grid_integration.multiperiod.multiperiod: ...Constructing the flowsheet model for blocks[1]\n"
     ]
    },
    {
     "name": "stderr",
     "output_type": "stream",
     "text": [
      "INFO:idaes.apps.grid_integration.multiperiod.multiperiod:...Constructing the flowsheet model for blocks[1]\n"
     ]
    },
    {
     "name": "stdout",
     "output_type": "stream",
     "text": [
      ">>> Creating USC model and initialization for each time period\n",
      "2022-10-26 16:26:27 [INFO] idaes.apps.grid_integration.multiperiod.multiperiod: ...Constructing the flowsheet model for blocks[2]\n"
     ]
    },
    {
     "name": "stderr",
     "output_type": "stream",
     "text": [
      "INFO:idaes.apps.grid_integration.multiperiod.multiperiod:...Constructing the flowsheet model for blocks[2]\n"
     ]
    },
    {
     "name": "stdout",
     "output_type": "stream",
     "text": [
      ">>> Creating USC model and initialization for each time period\n",
      "2022-10-26 16:26:30 [INFO] idaes.apps.grid_integration.multiperiod.multiperiod: ...Constructing the flowsheet model for blocks[3]\n"
     ]
    },
    {
     "name": "stderr",
     "output_type": "stream",
     "text": [
      "INFO:idaes.apps.grid_integration.multiperiod.multiperiod:...Constructing the flowsheet model for blocks[3]\n"
     ]
    },
    {
     "name": "stdout",
     "output_type": "stream",
     "text": [
      ">>> Creating USC model and initialization for each time period\n",
      "[+  13.93] Completed the formulation of the multiperiod optimization problem.\n",
      "2022-10-26 16:26:34 [WARNING] idaes.apps.grid_integration.multiperiod.multiperiod: Initialization function is not provided. Returning the multiperiod model without initialization.\n"
     ]
    },
    {
     "name": "stderr",
     "output_type": "stream",
     "text": [
      "WARNING:idaes.apps.grid_integration.multiperiod.multiperiod:Initialization function is not provided. Returning the multiperiod model without initialization.\n"
     ]
    },
    {
     "name": "stdout",
     "output_type": "stream",
     "text": [
      "2022-10-26 16:26:34 [WARNING] idaes.apps.grid_integration.multiperiod.multiperiod: unfix_dof function is not provided. Returning the model without unfixing degrees of freedom\n"
     ]
    },
    {
     "name": "stderr",
     "output_type": "stream",
     "text": [
      "WARNING:idaes.apps.grid_integration.multiperiod.multiperiod:unfix_dof function is not provided. Returning the model without unfixing degrees of freedom\n"
     ]
    },
    {
     "name": "stdout",
     "output_type": "stream",
     "text": [
      "[+   0.00] Beginning the formulation of the multiperiod optimization problem.\n",
      "2022-10-26 16:26:34 [INFO] idaes.apps.grid_integration.multiperiod.multiperiod: ...Constructing the flowsheet model for blocks[0]\n"
     ]
    },
    {
     "name": "stderr",
     "output_type": "stream",
     "text": [
      "INFO:idaes.apps.grid_integration.multiperiod.multiperiod:...Constructing the flowsheet model for blocks[0]\n"
     ]
    },
    {
     "name": "stdout",
     "output_type": "stream",
     "text": [
      ">>> Creating USC model and initialization for each time period\n",
      "2022-10-26 16:26:37 [INFO] idaes.apps.grid_integration.multiperiod.multiperiod: ...Constructing the flowsheet model for blocks[1]\n"
     ]
    },
    {
     "name": "stderr",
     "output_type": "stream",
     "text": [
      "INFO:idaes.apps.grid_integration.multiperiod.multiperiod:...Constructing the flowsheet model for blocks[1]\n"
     ]
    },
    {
     "name": "stdout",
     "output_type": "stream",
     "text": [
      ">>> Creating USC model and initialization for each time period\n",
      "2022-10-26 16:26:41 [INFO] idaes.apps.grid_integration.multiperiod.multiperiod: ...Constructing the flowsheet model for blocks[2]\n"
     ]
    },
    {
     "name": "stderr",
     "output_type": "stream",
     "text": [
      "INFO:idaes.apps.grid_integration.multiperiod.multiperiod:...Constructing the flowsheet model for blocks[2]\n"
     ]
    },
    {
     "name": "stdout",
     "output_type": "stream",
     "text": [
      ">>> Creating USC model and initialization for each time period\n",
      "2022-10-26 16:26:44 [INFO] idaes.apps.grid_integration.multiperiod.multiperiod: ...Constructing the flowsheet model for blocks[3]\n"
     ]
    },
    {
     "name": "stderr",
     "output_type": "stream",
     "text": [
      "INFO:idaes.apps.grid_integration.multiperiod.multiperiod:...Constructing the flowsheet model for blocks[3]\n"
     ]
    },
    {
     "name": "stdout",
     "output_type": "stream",
     "text": [
      ">>> Creating USC model and initialization for each time period\n",
      "[+  13.86] Completed the formulation of the multiperiod optimization problem.\n",
      "2022-10-26 16:26:47 [WARNING] idaes.apps.grid_integration.multiperiod.multiperiod: Initialization function is not provided. Returning the multiperiod model without initialization.\n"
     ]
    },
    {
     "name": "stderr",
     "output_type": "stream",
     "text": [
      "WARNING:idaes.apps.grid_integration.multiperiod.multiperiod:Initialization function is not provided. Returning the multiperiod model without initialization.\n"
     ]
    },
    {
     "name": "stdout",
     "output_type": "stream",
     "text": [
      "2022-10-26 16:26:47 [WARNING] idaes.apps.grid_integration.multiperiod.multiperiod: unfix_dof function is not provided. Returning the model without unfixing degrees of freedom\n"
     ]
    },
    {
     "name": "stderr",
     "output_type": "stream",
     "text": [
      "WARNING:idaes.apps.grid_integration.multiperiod.multiperiod:unfix_dof function is not provided. Returning the model without unfixing degrees of freedom\n"
     ]
    },
    {
     "name": "stdout",
     "output_type": "stream",
     "text": [
      "[+   0.00] Beginning the formulation of the multiperiod optimization problem.\n",
      "2022-10-26 16:26:47 [INFO] idaes.apps.grid_integration.multiperiod.multiperiod: ...Constructing the flowsheet model for blocks[0]\n"
     ]
    },
    {
     "name": "stderr",
     "output_type": "stream",
     "text": [
      "INFO:idaes.apps.grid_integration.multiperiod.multiperiod:...Constructing the flowsheet model for blocks[0]\n"
     ]
    },
    {
     "name": "stdout",
     "output_type": "stream",
     "text": [
      ">>> Creating USC model and initialization for each time period\n",
      "2022-10-26 16:26:50 [INFO] idaes.apps.grid_integration.multiperiod.multiperiod: ...Constructing the flowsheet model for blocks[1]\n"
     ]
    },
    {
     "name": "stderr",
     "output_type": "stream",
     "text": [
      "INFO:idaes.apps.grid_integration.multiperiod.multiperiod:...Constructing the flowsheet model for blocks[1]\n"
     ]
    },
    {
     "name": "stdout",
     "output_type": "stream",
     "text": [
      ">>> Creating USC model and initialization for each time period\n",
      "2022-10-26 16:26:54 [INFO] idaes.apps.grid_integration.multiperiod.multiperiod: ...Constructing the flowsheet model for blocks[2]\n"
     ]
    },
    {
     "name": "stderr",
     "output_type": "stream",
     "text": [
      "INFO:idaes.apps.grid_integration.multiperiod.multiperiod:...Constructing the flowsheet model for blocks[2]\n"
     ]
    },
    {
     "name": "stdout",
     "output_type": "stream",
     "text": [
      ">>> Creating USC model and initialization for each time period\n",
      "2022-10-26 16:26:57 [INFO] idaes.apps.grid_integration.multiperiod.multiperiod: ...Constructing the flowsheet model for blocks[3]\n"
     ]
    },
    {
     "name": "stderr",
     "output_type": "stream",
     "text": [
      "INFO:idaes.apps.grid_integration.multiperiod.multiperiod:...Constructing the flowsheet model for blocks[3]\n"
     ]
    },
    {
     "name": "stdout",
     "output_type": "stream",
     "text": [
      ">>> Creating USC model and initialization for each time period\n",
      "[+  13.83] Completed the formulation of the multiperiod optimization problem.\n",
      "2022-10-26 16:27:01 [WARNING] idaes.apps.grid_integration.multiperiod.multiperiod: Initialization function is not provided. Returning the multiperiod model without initialization.\n"
     ]
    },
    {
     "name": "stderr",
     "output_type": "stream",
     "text": [
      "WARNING:idaes.apps.grid_integration.multiperiod.multiperiod:Initialization function is not provided. Returning the multiperiod model without initialization.\n"
     ]
    },
    {
     "name": "stdout",
     "output_type": "stream",
     "text": [
      "2022-10-26 16:27:01 [WARNING] idaes.apps.grid_integration.multiperiod.multiperiod: unfix_dof function is not provided. Returning the model without unfixing degrees of freedom\n"
     ]
    },
    {
     "name": "stderr",
     "output_type": "stream",
     "text": [
      "WARNING:idaes.apps.grid_integration.multiperiod.multiperiod:unfix_dof function is not provided. Returning the model without unfixing degrees of freedom\n"
     ]
    },
    {
     "name": "stdout",
     "output_type": "stream",
     "text": [
      "[+   0.00] Beginning the formulation of the multiperiod optimization problem.\n",
      "2022-10-26 16:27:01 [INFO] idaes.apps.grid_integration.multiperiod.multiperiod: ...Constructing the flowsheet model for blocks[0]\n"
     ]
    },
    {
     "name": "stderr",
     "output_type": "stream",
     "text": [
      "INFO:idaes.apps.grid_integration.multiperiod.multiperiod:...Constructing the flowsheet model for blocks[0]\n"
     ]
    },
    {
     "name": "stdout",
     "output_type": "stream",
     "text": [
      ">>> Creating USC model and initialization for each time period\n",
      "2022-10-26 16:27:04 [INFO] idaes.apps.grid_integration.multiperiod.multiperiod: ...Constructing the flowsheet model for blocks[1]\n"
     ]
    },
    {
     "name": "stderr",
     "output_type": "stream",
     "text": [
      "INFO:idaes.apps.grid_integration.multiperiod.multiperiod:...Constructing the flowsheet model for blocks[1]\n"
     ]
    },
    {
     "name": "stdout",
     "output_type": "stream",
     "text": [
      ">>> Creating USC model and initialization for each time period\n",
      "2022-10-26 16:27:07 [INFO] idaes.apps.grid_integration.multiperiod.multiperiod: ...Constructing the flowsheet model for blocks[2]\n"
     ]
    },
    {
     "name": "stderr",
     "output_type": "stream",
     "text": [
      "INFO:idaes.apps.grid_integration.multiperiod.multiperiod:...Constructing the flowsheet model for blocks[2]\n"
     ]
    },
    {
     "name": "stdout",
     "output_type": "stream",
     "text": [
      ">>> Creating USC model and initialization for each time period\n",
      "2022-10-26 16:27:12 [INFO] idaes.apps.grid_integration.multiperiod.multiperiod: ...Constructing the flowsheet model for blocks[3]\n"
     ]
    },
    {
     "name": "stderr",
     "output_type": "stream",
     "text": [
      "INFO:idaes.apps.grid_integration.multiperiod.multiperiod:...Constructing the flowsheet model for blocks[3]\n"
     ]
    },
    {
     "name": "stdout",
     "output_type": "stream",
     "text": [
      ">>> Creating USC model and initialization for each time period\n",
      "[+  13.16] Completed the formulation of the multiperiod optimization problem.\n",
      "2022-10-26 16:27:14 [WARNING] idaes.apps.grid_integration.multiperiod.multiperiod: Initialization function is not provided. Returning the multiperiod model without initialization.\n"
     ]
    },
    {
     "name": "stderr",
     "output_type": "stream",
     "text": [
      "WARNING:idaes.apps.grid_integration.multiperiod.multiperiod:Initialization function is not provided. Returning the multiperiod model without initialization.\n"
     ]
    },
    {
     "name": "stdout",
     "output_type": "stream",
     "text": [
      "2022-10-26 16:27:14 [WARNING] idaes.apps.grid_integration.multiperiod.multiperiod: unfix_dof function is not provided. Returning the model without unfixing degrees of freedom\n"
     ]
    },
    {
     "name": "stderr",
     "output_type": "stream",
     "text": [
      "WARNING:idaes.apps.grid_integration.multiperiod.multiperiod:unfix_dof function is not provided. Returning the model without unfixing degrees of freedom\n"
     ]
    }
   ],
   "source": [
    "# Tracker\n",
    "mp_usc_tracker = MultiPeriodUsc(\n",
    "    model_data=model_data\n",
    ")\n",
    "\n",
    "thermal_tracker = Tracker(\n",
    "    tracking_model_object=mp_usc_tracker,\n",
    "    n_tracking_hour=n_tracking_hour,\n",
    "    solver=solver,\n",
    "    tracking_horizon=tracking_horizon,\n",
    ")\n",
    "\n",
    "# Projection Tracker\n",
    "mp_usc_projection_tracker = MultiPeriodUsc(\n",
    "    model_data=model_data\n",
    ")\n",
    "\n",
    "thermal_projection_tracker = Tracker(\n",
    "    tracking_model_object=mp_usc_projection_tracker,\n",
    "    n_tracking_hour=n_tracking_hour,\n",
    "    solver=solver,\n",
    "    tracking_horizon=tracking_horizon,\n",
    ")\n",
    "\n",
    "# Bidder\n",
    "mp_usc_bidder = MultiPeriodUsc(\n",
    "    model_data=model_data\n",
    ")\n",
    "thermal_bidder = Bidder(\n",
    "    bidding_model_object=mp_usc_bidder,\n",
    "    n_scenario=n_scenario,\n",
    "    solver=solver,\n",
    "    forecaster=forecaster,\n",
    "    day_ahead_horizon=bidding_horizon,\n",
    "    real_time_horizon=tracking_horizon,\n",
    ")\n",
    "\n",
    "# Coordinator\n",
    "coordinator = DoubleLoopCoordinator(\n",
    "    bidder=thermal_bidder,\n",
    "    tracker=thermal_tracker,\n",
    "    projection_tracker=thermal_projection_tracker,\n",
    ")\n"
   ]
  },
  {
   "cell_type": "markdown",
   "id": "6b2f211a",
   "metadata": {},
   "source": [
    "Set up the `plugin_module` needed for the Prescient simulator"
   ]
  },
  {
   "cell_type": "code",
   "execution_count": 7,
   "id": "4a3b70af",
   "metadata": {},
   "outputs": [],
   "source": [
    "class PrescientPluginModule(ModuleType):\n",
    "    def __init__(self, get_configuration, register_plugins):\n",
    "        self.get_configuration = get_configuration\n",
    "        self.register_plugins = register_plugins\n",
    "\n",
    "\n",
    "plugin_module = PrescientPluginModule(\n",
    "    get_configuration=coordinator.get_configuration,\n",
    "    register_plugins=coordinator.register_plugins,\n",
    ")\n"
   ]
  },
  {
   "cell_type": "markdown",
   "id": "a6e289b9",
   "metadata": {},
   "source": [
    "**IMPORTANT** Before proceeding with the rest of the notebook:\n",
    "1. Install the `dispatches-sample-data` package by running `pip install dispatches-sample-data` in the working conda environment\n",
    "\n",
    "OR\n",
    "\n",
    "1. Download the RTS-GMLC dataset from [https://github.com/GridMod/RTS-GMLC] (or directly as a zipfile here) to your local machine\n",
    "2. Update the value of the `rst_gmlc_data_dir` variable in the cell below to the appropriate location of the `RTS_Data/SourceData` subfolder on your local machine"
   ]
  },
  {
   "cell_type": "code",
   "execution_count": 8,
   "id": "86fac6ca",
   "metadata": {},
   "outputs": [],
   "source": [
    "# If installing the dispatches-sample-data\n",
    "rts_gmlc_data_dir = str(rts_gmlc.source_data_path)\n",
    "\n",
    "# If downloading the data to the local machine use the following option with appropriate path\n",
    "rts_gmlc_data_dir = \"/projects/gmihybridsys/dguittet/data/RTS-GMLC/RTS_Data/SourceData\"\n"
   ]
  },
  {
   "cell_type": "markdown",
   "id": "61a63971",
   "metadata": {},
   "source": [
    "Declare the options for Prescient simulator"
   ]
  },
  {
   "cell_type": "code",
   "execution_count": 9,
   "id": "6e46669f",
   "metadata": {},
   "outputs": [],
   "source": [
    "options = {\n",
    "    \"data_path\": rts_gmlc_data_dir,\n",
    "    \"input_format\": \"rts-gmlc\",\n",
    "    \"simulate_out_of_sample\": True,\n",
    "    \"run_sced_with_persistent_forecast_errors\": True,\n",
    "    \"output_directory\": \"bidding_multiperiod_usc\",\n",
    "    \"start_date\": \"2020-07-10\",\n",
    "    \"num_days\": num_days,\n",
    "    \"sced_horizon\": tracking_horizon,\n",
    "    \"ruc_horizon\": bidding_horizon,\n",
    "    \"ruc_every_hours\": bidding_horizon,\n",
    "    \"compute_market_settlements\": True,\n",
    "    \"day_ahead_pricing\": \"LMP\",\n",
    "    \"ruc_mipgap\": 0.01,\n",
    "    \"symbolic_solver_labels\": True,\n",
    "    \"reserve_factor\": 0.0,\n",
    "    \"deterministic_ruc_solver\": \"gurobi\",\n",
    "    \"output_ruc_solutions\": True,\n",
    "    \"sced_solver\": \"gurobi\",\n",
    "    \"print_sced\": True,\n",
    "    \"enforce_sced_shutdown_ramprate\": True,\n",
    "    \"plugin\": {\n",
    "        \"doubleloop\": {\n",
    "            \"module\": plugin_module,\n",
    "            \"bidding_generator\": \"102_STEAM_3\",\n",
    "        }\n",
    "    }\n",
    "}\n"
   ]
  },
  {
   "cell_type": "markdown",
   "id": "89675ac5",
   "metadata": {},
   "source": [
    "Run Prescient simulator."
   ]
  },
  {
   "cell_type": "code",
   "execution_count": 10,
   "id": "02298741",
   "metadata": {
    "tags": [
     "nbval-skip"
    ]
   },
   "outputs": [
    {
     "name": "stderr",
     "output_type": "stream",
     "text": [
      "INFO:gurobipy.gurobipy:Restricted license - for non-production use only - expires 2023-10-25\n"
     ]
    },
    {
     "name": "stdout",
     "output_type": "stream",
     "text": [
      "Initializing simulation...\n",
      "Did not find reserves.csv; assuming no reserves\n"
     ]
    },
    {
     "name": "stderr",
     "output_type": "stream",
     "text": [
      "WARNING:egret:Did not find reserves.csv; assuming no reserves\n",
      "/home/dguittet/.conda-envs/hybrid/lib/python3.7/site-packages/pandas/io/parsers/base_parser.py:1055: FutureWarning: \n",
      "        Use pd.to_datetime instead.\n",
      "\n",
      "  return generic_parser(date_parser, *date_cols)\n"
     ]
    },
    {
     "name": "stdout",
     "output_type": "stream",
     "text": [
      "Setting default t0 state in RTS-GMLC parser\n"
     ]
    },
    {
     "name": "stderr",
     "output_type": "stream",
     "text": [
      "WARNING:egret:Setting default t0 state in RTS-GMLC parser\n"
     ]
    },
    {
     "name": "stdout",
     "output_type": "stream",
     "text": [
      "Dates to simulate: 2020-07-10 to 2020-07-10\n",
      "RUC activation hours: 0, 4, 8, 12, 16, 20\n",
      "Final RUC date: 2020-07-10\n",
      "Using current day's forecasts for RUC solves\n",
      "Using persistent forecast error model when projecting demand and renewables in SCED\n",
      "\n",
      "\n",
      "Extracting scenario to simulate\n",
      "Ipopt 3.13.2: max_iter=200\n",
      "\n",
      "\n",
      "******************************************************************************\n",
      "This program contains Ipopt, a library for large-scale nonlinear optimization.\n",
      " Ipopt is released as open source code under the Eclipse Public License (EPL).\n",
      "         For more information visit http://projects.coin-or.org/Ipopt\n",
      "\n",
      "This version of Ipopt was compiled from source code available at\n",
      "    https://github.com/IDAES/Ipopt as part of the Institute for the Design of\n",
      "    Advanced Energy Systems Process Systems Engineering Framework (IDAES PSE\n",
      "    Framework) Copyright (c) 2018-2019. See https://github.com/IDAES/idaes-pse.\n",
      "\n",
      "This version of Ipopt was compiled using HSL, a collection of Fortran codes\n",
      "    for large-scale scientific computation.  All technical papers, sales and\n",
      "    publicity material resulting from use of the HSL codes within IPOPT must\n",
      "    contain the following acknowledgement:\n",
      "        HSL, a collection of Fortran codes for large-scale scientific\n",
      "        computation. See http://www.hsl.rl.ac.uk.\n",
      "******************************************************************************\n",
      "\n",
      "This is Ipopt version 3.13.2, running with linear solver ma27.\n",
      "\n",
      "Number of nonzeros in equality constraint Jacobian...:     6388\n",
      "Number of nonzeros in inequality constraint Jacobian.:       56\n",
      "Number of nonzeros in Lagrangian Hessian.............:     1980\n",
      "\n",
      "Total number of variables............................:     2449\n",
      "                     variables with only lower bounds:        4\n",
      "                variables with lower and upper bounds:     1997\n",
      "                     variables with only upper bounds:        4\n",
      "Total number of equality constraints.................:     2427\n",
      "Total number of inequality constraints...............:       32\n",
      "        inequality constraints with only lower bounds:        4\n",
      "   inequality constraints with lower and upper bounds:        0\n",
      "        inequality constraints with only upper bounds:       28\n",
      "\n",
      "iter    objective    inf_pr   inf_du lg(mu)  ||d||  lg(rg) alpha_du alpha_pr  ls\n",
      "   0  2.6320488e+08 1.27e+08 2.46e+01  -1.0 0.00e+00    -  0.00e+00 0.00e+00   0\n",
      "   1r 2.6320488e+08 1.27e+08 9.99e+02   8.0 0.00e+00    -  0.00e+00 1.15e-10R  2\n",
      "   2r 2.6320489e+08 1.37e+08 1.89e+07   8.0 9.61e+07    -  1.99e-03 1.03e-06f  1\n",
      "   3r 2.6320517e+08 1.37e+08 8.11e+06   8.0 2.20e+07    -  5.74e-01 3.97e-03f  1\n",
      "   4r 2.6321040e+08 9.92e+07 6.94e+06   5.2 1.11e+07    -  1.44e-01 9.12e-01f  1\n",
      "   5  2.6320397e+08 9.92e+07 2.46e+01  -1.0 8.01e+11    -  5.91e-09 3.00e-08f  1\n",
      "   6r 2.6320397e+08 9.92e+07 9.99e+02   7.9 0.00e+00    -  0.00e+00 1.57e-10R  2\n",
      "   7r 2.6320397e+08 9.95e+07 1.59e+07   7.9 4.74e+07    -  1.88e-03 1.08e-06f  1\n",
      "   8r 2.6320327e+08 9.91e+07 1.00e+07   5.1 1.03e+07    -  3.71e-01 4.81e-01f  1\n",
      "   9r 2.6320329e+08 1.51e+08 7.66e+06   5.1 7.59e+04   0.0 2.39e-01 1.00e+00f  1\n",
      "iter    objective    inf_pr   inf_du lg(mu)  ||d||  lg(rg) alpha_du alpha_pr  ls\n",
      "  10r 2.6320332e+08 1.68e+08 2.30e+06   5.1 3.27e+03  -0.5 6.99e-01 1.00e+00f  1\n",
      "  11r 2.6320332e+08 1.77e+08 2.18e+06   5.1 2.51e+08    -  5.52e-02 7.18e-03f  1\n",
      "  12r 2.6320325e+08 1.85e+08 2.07e+06   4.4 2.49e+08    -  5.18e-02 4.73e-02f  1\n"
     ]
    }
   ],
   "source": [
    "Prescient().simulate(**options)"
   ]
  }
 ],
 "metadata": {
  "kernelspec": {
   "display_name": "Python 3.7.10 ('hybrid')",
   "language": "python",
   "name": "python3"
  },
  "language_info": {
   "codemirror_mode": {
    "name": "ipython",
    "version": 3
   },
   "file_extension": ".py",
   "mimetype": "text/x-python",
   "name": "python",
   "nbconvert_exporter": "python",
   "pygments_lexer": "ipython3",
   "version": "3.7.10"
  },
  "vscode": {
   "interpreter": {
    "hash": "5c77e5b389361b2ebad54d90c2eefe972bae596e1ceaa2c365334e88b42fd862"
   }
  }
 },
 "nbformat": 4,
 "nbformat_minor": 5
}
