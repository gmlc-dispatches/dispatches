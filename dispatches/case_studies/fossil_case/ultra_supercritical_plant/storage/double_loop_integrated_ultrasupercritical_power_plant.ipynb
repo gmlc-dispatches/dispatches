{
 "cells": [
  {
   "cell_type": "markdown",
   "id": "498cf0b4",
   "metadata": {},
   "source": [
    "# Double-loop Framework Implementation with Fossil Case: Integrated Ultra-supercritical Power Plant Model\n"
   ]
  },
  {
   "cell_type": "markdown",
   "id": "595e8b1e",
   "metadata": {},
   "source": [
    "Author: Naresh Susarla (naresh.susarla@netl.doe.gov)"
   ]
  },
  {
   "cell_type": "markdown",
   "id": "a9094682",
   "metadata": {},
   "source": [
    "This notebook presents an implementation of the double-loop framework for the fossil case study using the integrated ultra-supercritical power plant model with a molten-salt based thermal energy storage. In order to run this notebook, we need multiple packages including, DISPATCHES, IDAES, and gridx-prescient."
   ]
  },
  {
   "cell_type": "markdown",
   "id": "112e52dd",
   "metadata": {},
   "source": [
    "For a given integrated energy system, the double loop workflow has six key steps:\n",
    "\n",
    " 1. Forecasting: Generate plausible price forcasts for the bidding horizon (chosen to be 48 hours).\n",
    " 2. Bidding: Formulate and solve a multi-period bidding problem for the generated set of forcasted price signals. The solution of the bidding problem yields a time-varying bid curve.\n",
    " 3. Day Ahead (DA) Market: Using the bid curve generated in the previous step, solve the unit commitment problem for the day ahead market.\n",
    " 4. Real Time Market: Fix unit commitment decisions and solve the unit commitment problem for the real time market. The solution yields real time local marginal prices and the optimal dispatch profile for each generator.\n",
    " 5. Tracking: Formulate and solve a tracking problem to track the optimal dispatch profile obtained in the previous step, and minimize under-production/over-production of electricity.\n",
    " 6. Settlement: Compute all the cash flows"
   ]
  },
  {
   "cell_type": "markdown",
   "id": "a058f475",
   "metadata": {},
   "source": [
    "To start the analysis, first import all necessary modules and packages including Prescient simulator and `MultiPeriodUsc` class. `MultiPeriodUsc` builds a multi-period model of the integrated ultra-supercritical power plant model with a molten salt energy storage."
   ]
  },
  {
   "cell_type": "code",
   "execution_count": 1,
   "id": "6607a30d",
   "metadata": {},
   "outputs": [
    {
     "name": "stdout",
     "output_type": "stream",
     "text": [
      "Interactive Python mode detected; using default matplotlib backend for plotting.\n"
     ]
    }
   ],
   "source": [
    "# Import Python library packages\n",
    "from types import ModuleType\n",
    "import pandas as pd\n",
    "from importlib import resources\n",
    "\n",
    "# Import Pyomo packages\n",
    "import pyomo.environ as pyo\n",
    "\n",
    "# Import IDAES packages\n",
    "from idaes.apps.grid_integration import Tracker\n",
    "from idaes.apps.grid_integration import Bidder\n",
    "from idaes.apps.grid_integration.forecaster import Backcaster\n",
    "from idaes.apps.grid_integration import DoubleLoopCoordinator\n",
    "from idaes.apps.grid_integration.model_data import GeneratorModelData\n",
    "\n",
    "# Import Prescient simulator\n",
    "from prescient.simulator import Prescient\n",
    "\n",
    "# Import integrated ultra-supercritical power plant with energy storage model\n",
    "from dispatches.case_studies.fossil_case.ultra_supercritical_plant.storage.multiperiod_double_loop_usc import MultiPeriodUsc\n",
    "from dispatches_sample_data import rts_gmlc"
   ]
  },
  {
   "cell_type": "markdown",
   "id": "fa7bd5c1",
   "metadata": {},
   "source": [
    "Following the imports, set up the fossil generator characteristics using a `model_data` object as shown below. The fossil generator used in this analysis is the integrated ultra-supercritical power plant, refered to in this analysis as the fossil-based integrated energy system (IES). A more detailed explanation of the integrated model is given in the notebook `integrated_storage_with_powerplant`. The double-loop model parameters are the number of hours for the bidding and tracking models, number of scenarios to use, and the number of days for simulation. The fossil generator data included in `model_data` and needed during this analysis is given and described in the list below: "
   ]
  },
  {
   "cell_type": "markdown",
   "id": "4693c38f",
   "metadata": {},
   "source": [
    " - gen_name: The ID of the generator in the RTS - GMLC that is being replaced by the fossil-based IES. The chosen generator name `gen_name` is `102_STEAM_3`\n",
    " - generator_type: Accepts either `thermal` or `renewable`. We choose `thermal` for both fossil generators\n",
    " - p_min: Minimum power output to the grid in MW. The minimum power output to the grid for this IES is 286 MW\n",
    " - p_max: Maximum power output to the grid in MW. The maximum power output to the grid for this IES is 460 MW\n",
    " - min_down_time: Mininum downtime after the generator is shutdown. The minimum downtime for this IES is 4 hours\n",
    " - min_up_time: Minimum uptime after the generator is turned on. The minimum uptime for this IES is 8 hours\n",
    " - ramp_up_60min: Ramp up rate in MW/hr. The default ramp up rate for this IES is 60 MW/hr\n",
    " - ramp_down_60min: Ramp down rate in MW/hr. The default ramp down rate for this IES is the same as the ramp up rate, 60 MW/hr\n",
    " - shutdown_capacity: Power output when shutdown is initiated in MW. For this IES, during shutdown the plant operates at p_min\n",
    " - startup_capacity: Power output when the generator is turned on. For this IES, during startup, the plant operates at p_min as considered during shotdown\n",
    " - production_cost_bid_pairs: Cost of production of electricity in \\\\$/MW as function of power output in MW\n",
    " - startup_cost_pairs: (Number of hours after shutdown, cost of startup)\n",
    " - fixed_commitment: 0/1 indicates that plant shutdown is allowed/not allowed"
   ]
  },
  {
   "cell_type": "code",
   "execution_count": 2,
   "id": "56a30c64",
   "metadata": {},
   "outputs": [],
   "source": [
    "# Import the historical price data from 'original rts-gmlc run' output folder:\n",
    "bus_name = \"Attlee\"\n",
    "\n",
    "da_lmp_historical = [21.288312, 20.419032, 19.689677, 19.983571, 19.983571, 20.419032,\n",
    "       21.843871, 23.437857, 18.072549, -0.      , -0.      , -0.      ,\n",
    "       -0.      , -0.      , -0.      , -0.      , 18.861   , 22.51634 ,\n",
    "       33.752674, 33.752674, 27.050323, 24.617429, 23.07    , 19.689677]\n",
    "\n",
    "rt_lmp_historical = [23.07    , 22.968387, 24.617429, 24.617429, 27.050323, 22.51634 ,\n",
    "       22.492903, 23.657742, 21.843871, -0.      , -0.      , -0.      ,\n",
    "       -0.      , -0.      , -0.      , -0.      , -0.      , 21.916765,\n",
    "       24.079344, 23.40518 , 22.683303, 21.916765, 20.244451, 18.861   ]"
   ]
  },
  {
   "cell_type": "code",
   "execution_count": 3,
   "id": "61d7856a",
   "metadata": {},
   "outputs": [],
   "source": [
    "generator_data = {\n",
    "    \"gen_name\": \"102_STEAM_3\",\n",
    "    \"generator_type\": \"thermal\",\n",
    "    \"p_min\": 286,\n",
    "    \"p_max\": 460,\n",
    "    \"min_down_time\": 4,\n",
    "    \"min_up_time\": 8,\n",
    "    \"ramp_up_60min\": 60,\n",
    "    \"ramp_down_60min\": 60,\n",
    "    \"shutdown_capacity\": 286,\n",
    "    \"startup_capacity\": 286,\n",
    "    \"production_cost_bid_pairs\": [\n",
    "        (286, 22.16602),\n",
    "        (350, 19.0723),\n",
    "        (400, 18.29703),\n",
    "        (430, 17.71727),\n",
    "        (460, 17.71727),\n",
    "    ],\n",
    "    \"startup_cost_pairs\": [(4, 7355.42), (10, 10488.35), (12, 11383.41)],\n",
    "    \"fixed_commitment\": 1,\n",
    "    \"bus\": bus_name,\n",
    "}\n",
    "\n",
    "model_data = GeneratorModelData(**generator_data)"
   ]
  },
  {
   "cell_type": "markdown",
   "id": "adae2723",
   "metadata": {},
   "source": [
    "Next, we set the following parameters needed for the double loop workflow:\n",
    " - tracking_horizon: Length of the tracking horizon. We choose it to be 10 hours\n",
    " - bidding_horizon: Length of the bidding horizon. We choose it to be 48 hours\n",
    " - n_scenario: Number of scenarios to be considered for the bidding problem. The file `idaes.apps.grid_integration.examples.lmp_forecasts_concat.csv` includes the data for ten scenarios, so we can choose any number between 1 and 10\n",
    " - n_tracking_hour: Frequency at which the tracking problem needs to be solved (every hour)\n",
    " - num_days: Simulation horizon (number of days). For this demonstration, 2 days is chosen for this simulation"
   ]
  },
  {
   "cell_type": "code",
   "execution_count": 4,
   "id": "11c77c81",
   "metadata": {},
   "outputs": [],
   "source": [
    "tracking_horizon = 10  # hours\n",
    "bidding_horizon = 48  # hours\n",
    "n_scenario = 1  # for bidding\n",
    "n_tracking_hour = 1  # advance n_tracking_hour (i.e. assume we solve every hour)\n",
    "num_days = 2"
   ]
  },
  {
   "cell_type": "markdown",
   "id": "eb98132b",
   "metadata": {},
   "source": [
    "Set up the solver and the forecaster objects."
   ]
  },
  {
   "cell_type": "code",
   "execution_count": 5,
   "id": "72dac94e",
   "metadata": {},
   "outputs": [],
   "source": [
    "# Create solver\n",
    "solver = pyo.SolverFactory(\"ipopt\")\n",
    "solver.options = {\n",
    "    \"max_iter\": 200,\n",
    "}\n",
    "\n",
    "# Create forecaster object\n",
    "forecaster = Backcaster({bus_name: da_lmp_historical}, {bus_name: rt_lmp_historical})"
   ]
  },
  {
   "cell_type": "markdown",
   "id": "aea6ba8c",
   "metadata": {},
   "source": [
    "Set up the objects for Tracker, Bidder, and Coordinator."
   ]
  },
  {
   "cell_type": "code",
   "execution_count": 6,
   "id": "4611e3df",
   "metadata": {},
   "outputs": [
    {
     "name": "stdout",
     "output_type": "stream",
     "text": [
      "[+   0.00] Beginning the formulation of the multiperiod optimization problem.\n",
      "2022-10-04 17:17:18 [INFO] idaes.apps.grid_integration.multiperiod.multiperiod: ...Constructing the flowsheet model for blocks[0]\n"
     ]
    },
    {
     "name": "stderr",
     "output_type": "stream",
     "text": [
      "INFO:idaes.apps.grid_integration.multiperiod.multiperiod:...Constructing the flowsheet model for blocks[0]\n"
     ]
    },
    {
     "name": "stdout",
     "output_type": "stream",
     "text": [
      ">>> Creating USC model and initialization for each time period\n",
      "2022-10-04 17:17:21 [INFO] idaes.apps.grid_integration.multiperiod.multiperiod: ...Constructing the flowsheet model for blocks[1]\n"
     ]
    },
    {
     "name": "stderr",
     "output_type": "stream",
     "text": [
      "INFO:idaes.apps.grid_integration.multiperiod.multiperiod:...Constructing the flowsheet model for blocks[1]\n"
     ]
    },
    {
     "name": "stdout",
     "output_type": "stream",
     "text": [
      ">>> Creating USC model and initialization for each time period\n",
      "2022-10-04 17:17:24 [INFO] idaes.apps.grid_integration.multiperiod.multiperiod: ...Constructing the flowsheet model for blocks[2]\n"
     ]
    },
    {
     "name": "stderr",
     "output_type": "stream",
     "text": [
      "INFO:idaes.apps.grid_integration.multiperiod.multiperiod:...Constructing the flowsheet model for blocks[2]\n"
     ]
    },
    {
     "name": "stdout",
     "output_type": "stream",
     "text": [
      ">>> Creating USC model and initialization for each time period\n",
      "2022-10-04 17:17:26 [INFO] idaes.apps.grid_integration.multiperiod.multiperiod: ...Constructing the flowsheet model for blocks[3]\n"
     ]
    },
    {
     "name": "stderr",
     "output_type": "stream",
     "text": [
      "INFO:idaes.apps.grid_integration.multiperiod.multiperiod:...Constructing the flowsheet model for blocks[3]\n"
     ]
    },
    {
     "name": "stdout",
     "output_type": "stream",
     "text": [
      ">>> Creating USC model and initialization for each time period\n",
      "2022-10-04 17:17:29 [INFO] idaes.apps.grid_integration.multiperiod.multiperiod: ...Constructing the flowsheet model for blocks[4]\n"
     ]
    },
    {
     "name": "stderr",
     "output_type": "stream",
     "text": [
      "INFO:idaes.apps.grid_integration.multiperiod.multiperiod:...Constructing the flowsheet model for blocks[4]\n"
     ]
    },
    {
     "name": "stdout",
     "output_type": "stream",
     "text": [
      ">>> Creating USC model and initialization for each time period\n",
      "2022-10-04 17:17:32 [INFO] idaes.apps.grid_integration.multiperiod.multiperiod: ...Constructing the flowsheet model for blocks[5]\n"
     ]
    },
    {
     "name": "stderr",
     "output_type": "stream",
     "text": [
      "INFO:idaes.apps.grid_integration.multiperiod.multiperiod:...Constructing the flowsheet model for blocks[5]\n"
     ]
    },
    {
     "name": "stdout",
     "output_type": "stream",
     "text": [
      ">>> Creating USC model and initialization for each time period\n",
      "2022-10-04 17:17:34 [INFO] idaes.apps.grid_integration.multiperiod.multiperiod: ...Constructing the flowsheet model for blocks[6]\n"
     ]
    },
    {
     "name": "stderr",
     "output_type": "stream",
     "text": [
      "INFO:idaes.apps.grid_integration.multiperiod.multiperiod:...Constructing the flowsheet model for blocks[6]\n"
     ]
    },
    {
     "name": "stdout",
     "output_type": "stream",
     "text": [
      ">>> Creating USC model and initialization for each time period\n",
      "2022-10-04 17:17:37 [INFO] idaes.apps.grid_integration.multiperiod.multiperiod: ...Constructing the flowsheet model for blocks[7]\n"
     ]
    },
    {
     "name": "stderr",
     "output_type": "stream",
     "text": [
      "INFO:idaes.apps.grid_integration.multiperiod.multiperiod:...Constructing the flowsheet model for blocks[7]\n"
     ]
    },
    {
     "name": "stdout",
     "output_type": "stream",
     "text": [
      ">>> Creating USC model and initialization for each time period\n",
      "2022-10-04 17:17:40 [INFO] idaes.apps.grid_integration.multiperiod.multiperiod: ...Constructing the flowsheet model for blocks[8]\n"
     ]
    },
    {
     "name": "stderr",
     "output_type": "stream",
     "text": [
      "INFO:idaes.apps.grid_integration.multiperiod.multiperiod:...Constructing the flowsheet model for blocks[8]\n"
     ]
    },
    {
     "name": "stdout",
     "output_type": "stream",
     "text": [
      ">>> Creating USC model and initialization for each time period\n",
      "2022-10-04 17:17:43 [INFO] idaes.apps.grid_integration.multiperiod.multiperiod: ...Constructing the flowsheet model for blocks[9]\n"
     ]
    },
    {
     "name": "stderr",
     "output_type": "stream",
     "text": [
      "INFO:idaes.apps.grid_integration.multiperiod.multiperiod:...Constructing the flowsheet model for blocks[9]\n"
     ]
    },
    {
     "name": "stdout",
     "output_type": "stream",
     "text": [
      ">>> Creating USC model and initialization for each time period\n",
      "[+  26.60] Completed the formulation of the multiperiod optimization problem.\n",
      "2022-10-04 17:17:45 [WARNING] idaes.apps.grid_integration.multiperiod.multiperiod: Initialization function is not provided. Returning the multiperiod model without initialization.\n"
     ]
    },
    {
     "name": "stderr",
     "output_type": "stream",
     "text": [
      "WARNING:idaes.apps.grid_integration.multiperiod.multiperiod:Initialization function is not provided. Returning the multiperiod model without initialization.\n"
     ]
    },
    {
     "name": "stdout",
     "output_type": "stream",
     "text": [
      "2022-10-04 17:17:45 [WARNING] idaes.apps.grid_integration.multiperiod.multiperiod: unfix_dof function is not provided. Returning the model without unfixing degrees of freedom\n"
     ]
    },
    {
     "name": "stderr",
     "output_type": "stream",
     "text": [
      "WARNING:idaes.apps.grid_integration.multiperiod.multiperiod:unfix_dof function is not provided. Returning the model without unfixing degrees of freedom\n"
     ]
    },
    {
     "name": "stdout",
     "output_type": "stream",
     "text": [
      "[+   0.00] Beginning the formulation of the multiperiod optimization problem.\n",
      "2022-10-04 17:17:45 [INFO] idaes.apps.grid_integration.multiperiod.multiperiod: ...Constructing the flowsheet model for blocks[0]\n"
     ]
    },
    {
     "name": "stderr",
     "output_type": "stream",
     "text": [
      "INFO:idaes.apps.grid_integration.multiperiod.multiperiod:...Constructing the flowsheet model for blocks[0]\n"
     ]
    },
    {
     "name": "stdout",
     "output_type": "stream",
     "text": [
      ">>> Creating USC model and initialization for each time period\n",
      "2022-10-04 17:17:48 [INFO] idaes.apps.grid_integration.multiperiod.multiperiod: ...Constructing the flowsheet model for blocks[1]\n"
     ]
    },
    {
     "name": "stderr",
     "output_type": "stream",
     "text": [
      "INFO:idaes.apps.grid_integration.multiperiod.multiperiod:...Constructing the flowsheet model for blocks[1]\n"
     ]
    },
    {
     "name": "stdout",
     "output_type": "stream",
     "text": [
      ">>> Creating USC model and initialization for each time period\n",
      "2022-10-04 17:17:50 [INFO] idaes.apps.grid_integration.multiperiod.multiperiod: ...Constructing the flowsheet model for blocks[2]\n"
     ]
    },
    {
     "name": "stderr",
     "output_type": "stream",
     "text": [
      "INFO:idaes.apps.grid_integration.multiperiod.multiperiod:...Constructing the flowsheet model for blocks[2]\n"
     ]
    },
    {
     "name": "stdout",
     "output_type": "stream",
     "text": [
      ">>> Creating USC model and initialization for each time period\n",
      "2022-10-04 17:17:53 [INFO] idaes.apps.grid_integration.multiperiod.multiperiod: ...Constructing the flowsheet model for blocks[3]\n"
     ]
    },
    {
     "name": "stderr",
     "output_type": "stream",
     "text": [
      "INFO:idaes.apps.grid_integration.multiperiod.multiperiod:...Constructing the flowsheet model for blocks[3]\n"
     ]
    },
    {
     "name": "stdout",
     "output_type": "stream",
     "text": [
      ">>> Creating USC model and initialization for each time period\n",
      "2022-10-04 17:17:56 [INFO] idaes.apps.grid_integration.multiperiod.multiperiod: ...Constructing the flowsheet model for blocks[4]\n"
     ]
    },
    {
     "name": "stderr",
     "output_type": "stream",
     "text": [
      "INFO:idaes.apps.grid_integration.multiperiod.multiperiod:...Constructing the flowsheet model for blocks[4]\n"
     ]
    },
    {
     "name": "stdout",
     "output_type": "stream",
     "text": [
      ">>> Creating USC model and initialization for each time period\n",
      "2022-10-04 17:17:58 [INFO] idaes.apps.grid_integration.multiperiod.multiperiod: ...Constructing the flowsheet model for blocks[5]\n"
     ]
    },
    {
     "name": "stderr",
     "output_type": "stream",
     "text": [
      "INFO:idaes.apps.grid_integration.multiperiod.multiperiod:...Constructing the flowsheet model for blocks[5]\n"
     ]
    },
    {
     "name": "stdout",
     "output_type": "stream",
     "text": [
      ">>> Creating USC model and initialization for each time period\n",
      "2022-10-04 17:18:01 [INFO] idaes.apps.grid_integration.multiperiod.multiperiod: ...Constructing the flowsheet model for blocks[6]\n"
     ]
    },
    {
     "name": "stderr",
     "output_type": "stream",
     "text": [
      "INFO:idaes.apps.grid_integration.multiperiod.multiperiod:...Constructing the flowsheet model for blocks[6]\n"
     ]
    },
    {
     "name": "stdout",
     "output_type": "stream",
     "text": [
      ">>> Creating USC model and initialization for each time period\n",
      "2022-10-04 17:18:04 [INFO] idaes.apps.grid_integration.multiperiod.multiperiod: ...Constructing the flowsheet model for blocks[7]\n"
     ]
    },
    {
     "name": "stderr",
     "output_type": "stream",
     "text": [
      "INFO:idaes.apps.grid_integration.multiperiod.multiperiod:...Constructing the flowsheet model for blocks[7]\n"
     ]
    },
    {
     "name": "stdout",
     "output_type": "stream",
     "text": [
      ">>> Creating USC model and initialization for each time period\n",
      "2022-10-04 17:18:07 [INFO] idaes.apps.grid_integration.multiperiod.multiperiod: ...Constructing the flowsheet model for blocks[8]\n"
     ]
    },
    {
     "name": "stderr",
     "output_type": "stream",
     "text": [
      "INFO:idaes.apps.grid_integration.multiperiod.multiperiod:...Constructing the flowsheet model for blocks[8]\n"
     ]
    },
    {
     "name": "stdout",
     "output_type": "stream",
     "text": [
      ">>> Creating USC model and initialization for each time period\n",
      "2022-10-04 17:18:09 [INFO] idaes.apps.grid_integration.multiperiod.multiperiod: ...Constructing the flowsheet model for blocks[9]\n"
     ]
    },
    {
     "name": "stderr",
     "output_type": "stream",
     "text": [
      "INFO:idaes.apps.grid_integration.multiperiod.multiperiod:...Constructing the flowsheet model for blocks[9]\n"
     ]
    },
    {
     "name": "stdout",
     "output_type": "stream",
     "text": [
      ">>> Creating USC model and initialization for each time period\n",
      "[+  26.61] Completed the formulation of the multiperiod optimization problem.\n",
      "2022-10-04 17:18:12 [WARNING] idaes.apps.grid_integration.multiperiod.multiperiod: Initialization function is not provided. Returning the multiperiod model without initialization.\n"
     ]
    },
    {
     "name": "stderr",
     "output_type": "stream",
     "text": [
      "WARNING:idaes.apps.grid_integration.multiperiod.multiperiod:Initialization function is not provided. Returning the multiperiod model without initialization.\n"
     ]
    },
    {
     "name": "stdout",
     "output_type": "stream",
     "text": [
      "2022-10-04 17:18:12 [WARNING] idaes.apps.grid_integration.multiperiod.multiperiod: unfix_dof function is not provided. Returning the model without unfixing degrees of freedom\n"
     ]
    },
    {
     "name": "stderr",
     "output_type": "stream",
     "text": [
      "WARNING:idaes.apps.grid_integration.multiperiod.multiperiod:unfix_dof function is not provided. Returning the model without unfixing degrees of freedom\n"
     ]
    },
    {
     "name": "stdout",
     "output_type": "stream",
     "text": [
      "[+   0.00] Beginning the formulation of the multiperiod optimization problem.\n",
      "2022-10-04 17:18:12 [INFO] idaes.apps.grid_integration.multiperiod.multiperiod: ...Constructing the flowsheet model for blocks[0]\n"
     ]
    },
    {
     "name": "stderr",
     "output_type": "stream",
     "text": [
      "INFO:idaes.apps.grid_integration.multiperiod.multiperiod:...Constructing the flowsheet model for blocks[0]\n"
     ]
    },
    {
     "name": "stdout",
     "output_type": "stream",
     "text": [
      ">>> Creating USC model and initialization for each time period\n",
      "2022-10-04 17:18:15 [INFO] idaes.apps.grid_integration.multiperiod.multiperiod: ...Constructing the flowsheet model for blocks[1]\n"
     ]
    },
    {
     "name": "stderr",
     "output_type": "stream",
     "text": [
      "INFO:idaes.apps.grid_integration.multiperiod.multiperiod:...Constructing the flowsheet model for blocks[1]\n"
     ]
    },
    {
     "name": "stdout",
     "output_type": "stream",
     "text": [
      ">>> Creating USC model and initialization for each time period\n",
      "2022-10-04 17:18:18 [INFO] idaes.apps.grid_integration.multiperiod.multiperiod: ...Constructing the flowsheet model for blocks[2]\n"
     ]
    },
    {
     "name": "stderr",
     "output_type": "stream",
     "text": [
      "INFO:idaes.apps.grid_integration.multiperiod.multiperiod:...Constructing the flowsheet model for blocks[2]\n"
     ]
    },
    {
     "name": "stdout",
     "output_type": "stream",
     "text": [
      ">>> Creating USC model and initialization for each time period\n",
      "2022-10-04 17:18:20 [INFO] idaes.apps.grid_integration.multiperiod.multiperiod: ...Constructing the flowsheet model for blocks[3]\n"
     ]
    },
    {
     "name": "stderr",
     "output_type": "stream",
     "text": [
      "INFO:idaes.apps.grid_integration.multiperiod.multiperiod:...Constructing the flowsheet model for blocks[3]\n"
     ]
    },
    {
     "name": "stdout",
     "output_type": "stream",
     "text": [
      ">>> Creating USC model and initialization for each time period\n",
      "2022-10-04 17:18:22 [INFO] idaes.apps.grid_integration.multiperiod.multiperiod: ...Constructing the flowsheet model for blocks[4]\n"
     ]
    },
    {
     "name": "stderr",
     "output_type": "stream",
     "text": [
      "INFO:idaes.apps.grid_integration.multiperiod.multiperiod:...Constructing the flowsheet model for blocks[4]\n"
     ]
    },
    {
     "name": "stdout",
     "output_type": "stream",
     "text": [
      ">>> Creating USC model and initialization for each time period\n",
      "2022-10-04 17:18:25 [INFO] idaes.apps.grid_integration.multiperiod.multiperiod: ...Constructing the flowsheet model for blocks[5]\n"
     ]
    },
    {
     "name": "stderr",
     "output_type": "stream",
     "text": [
      "INFO:idaes.apps.grid_integration.multiperiod.multiperiod:...Constructing the flowsheet model for blocks[5]\n"
     ]
    },
    {
     "name": "stdout",
     "output_type": "stream",
     "text": [
      ">>> Creating USC model and initialization for each time period\n",
      "2022-10-04 17:18:29 [INFO] idaes.apps.grid_integration.multiperiod.multiperiod: ...Constructing the flowsheet model for blocks[6]\n"
     ]
    },
    {
     "name": "stderr",
     "output_type": "stream",
     "text": [
      "INFO:idaes.apps.grid_integration.multiperiod.multiperiod:...Constructing the flowsheet model for blocks[6]\n"
     ]
    },
    {
     "name": "stdout",
     "output_type": "stream",
     "text": [
      ">>> Creating USC model and initialization for each time period\n",
      "2022-10-04 17:18:31 [INFO] idaes.apps.grid_integration.multiperiod.multiperiod: ...Constructing the flowsheet model for blocks[7]\n"
     ]
    },
    {
     "name": "stderr",
     "output_type": "stream",
     "text": [
      "INFO:idaes.apps.grid_integration.multiperiod.multiperiod:...Constructing the flowsheet model for blocks[7]\n"
     ]
    },
    {
     "name": "stdout",
     "output_type": "stream",
     "text": [
      ">>> Creating USC model and initialization for each time period\n",
      "2022-10-04 17:18:34 [INFO] idaes.apps.grid_integration.multiperiod.multiperiod: ...Constructing the flowsheet model for blocks[8]\n"
     ]
    },
    {
     "name": "stderr",
     "output_type": "stream",
     "text": [
      "INFO:idaes.apps.grid_integration.multiperiod.multiperiod:...Constructing the flowsheet model for blocks[8]\n"
     ]
    },
    {
     "name": "stdout",
     "output_type": "stream",
     "text": [
      ">>> Creating USC model and initialization for each time period\n",
      "2022-10-04 17:18:36 [INFO] idaes.apps.grid_integration.multiperiod.multiperiod: ...Constructing the flowsheet model for blocks[9]\n"
     ]
    },
    {
     "name": "stderr",
     "output_type": "stream",
     "text": [
      "INFO:idaes.apps.grid_integration.multiperiod.multiperiod:...Constructing the flowsheet model for blocks[9]\n"
     ]
    },
    {
     "name": "stdout",
     "output_type": "stream",
     "text": [
      ">>> Creating USC model and initialization for each time period\n",
      "2022-10-04 17:18:38 [INFO] idaes.apps.grid_integration.multiperiod.multiperiod: ...Constructing the flowsheet model for blocks[10]\n"
     ]
    },
    {
     "name": "stderr",
     "output_type": "stream",
     "text": [
      "INFO:idaes.apps.grid_integration.multiperiod.multiperiod:...Constructing the flowsheet model for blocks[10]\n"
     ]
    },
    {
     "name": "stdout",
     "output_type": "stream",
     "text": [
      ">>> Creating USC model and initialization for each time period\n",
      "2022-10-04 17:18:41 [INFO] idaes.apps.grid_integration.multiperiod.multiperiod: ...Constructing the flowsheet model for blocks[11]\n"
     ]
    },
    {
     "name": "stderr",
     "output_type": "stream",
     "text": [
      "INFO:idaes.apps.grid_integration.multiperiod.multiperiod:...Constructing the flowsheet model for blocks[11]\n"
     ]
    },
    {
     "name": "stdout",
     "output_type": "stream",
     "text": [
      ">>> Creating USC model and initialization for each time period\n",
      "2022-10-04 17:18:45 [INFO] idaes.apps.grid_integration.multiperiod.multiperiod: ...Constructing the flowsheet model for blocks[12]\n"
     ]
    },
    {
     "name": "stderr",
     "output_type": "stream",
     "text": [
      "INFO:idaes.apps.grid_integration.multiperiod.multiperiod:...Constructing the flowsheet model for blocks[12]\n"
     ]
    },
    {
     "name": "stdout",
     "output_type": "stream",
     "text": [
      ">>> Creating USC model and initialization for each time period\n",
      "2022-10-04 17:18:47 [INFO] idaes.apps.grid_integration.multiperiod.multiperiod: ...Constructing the flowsheet model for blocks[13]\n"
     ]
    },
    {
     "name": "stderr",
     "output_type": "stream",
     "text": [
      "INFO:idaes.apps.grid_integration.multiperiod.multiperiod:...Constructing the flowsheet model for blocks[13]\n"
     ]
    },
    {
     "name": "stdout",
     "output_type": "stream",
     "text": [
      ">>> Creating USC model and initialization for each time period\n",
      "2022-10-04 17:18:50 [INFO] idaes.apps.grid_integration.multiperiod.multiperiod: ...Constructing the flowsheet model for blocks[14]\n"
     ]
    },
    {
     "name": "stderr",
     "output_type": "stream",
     "text": [
      "INFO:idaes.apps.grid_integration.multiperiod.multiperiod:...Constructing the flowsheet model for blocks[14]\n"
     ]
    },
    {
     "name": "stdout",
     "output_type": "stream",
     "text": [
      ">>> Creating USC model and initialization for each time period\n",
      "2022-10-04 17:18:52 [INFO] idaes.apps.grid_integration.multiperiod.multiperiod: ...Constructing the flowsheet model for blocks[15]\n"
     ]
    },
    {
     "name": "stderr",
     "output_type": "stream",
     "text": [
      "INFO:idaes.apps.grid_integration.multiperiod.multiperiod:...Constructing the flowsheet model for blocks[15]\n"
     ]
    },
    {
     "name": "stdout",
     "output_type": "stream",
     "text": [
      ">>> Creating USC model and initialization for each time period\n",
      "2022-10-04 17:18:55 [INFO] idaes.apps.grid_integration.multiperiod.multiperiod: ...Constructing the flowsheet model for blocks[16]\n"
     ]
    },
    {
     "name": "stderr",
     "output_type": "stream",
     "text": [
      "INFO:idaes.apps.grid_integration.multiperiod.multiperiod:...Constructing the flowsheet model for blocks[16]\n"
     ]
    },
    {
     "name": "stdout",
     "output_type": "stream",
     "text": [
      ">>> Creating USC model and initialization for each time period\n",
      "2022-10-04 17:18:57 [INFO] idaes.apps.grid_integration.multiperiod.multiperiod: ...Constructing the flowsheet model for blocks[17]\n"
     ]
    },
    {
     "name": "stderr",
     "output_type": "stream",
     "text": [
      "INFO:idaes.apps.grid_integration.multiperiod.multiperiod:...Constructing the flowsheet model for blocks[17]\n"
     ]
    },
    {
     "name": "stdout",
     "output_type": "stream",
     "text": [
      ">>> Creating USC model and initialization for each time period\n",
      "2022-10-04 17:18:59 [INFO] idaes.apps.grid_integration.multiperiod.multiperiod: ...Constructing the flowsheet model for blocks[18]\n"
     ]
    },
    {
     "name": "stderr",
     "output_type": "stream",
     "text": [
      "INFO:idaes.apps.grid_integration.multiperiod.multiperiod:...Constructing the flowsheet model for blocks[18]\n"
     ]
    },
    {
     "name": "stdout",
     "output_type": "stream",
     "text": [
      ">>> Creating USC model and initialization for each time period\n",
      "2022-10-04 17:19:04 [INFO] idaes.apps.grid_integration.multiperiod.multiperiod: ...Constructing the flowsheet model for blocks[19]\n"
     ]
    },
    {
     "name": "stderr",
     "output_type": "stream",
     "text": [
      "INFO:idaes.apps.grid_integration.multiperiod.multiperiod:...Constructing the flowsheet model for blocks[19]\n"
     ]
    },
    {
     "name": "stdout",
     "output_type": "stream",
     "text": [
      ">>> Creating USC model and initialization for each time period\n",
      "2022-10-04 17:19:06 [INFO] idaes.apps.grid_integration.multiperiod.multiperiod: ...Constructing the flowsheet model for blocks[20]\n"
     ]
    },
    {
     "name": "stderr",
     "output_type": "stream",
     "text": [
      "INFO:idaes.apps.grid_integration.multiperiod.multiperiod:...Constructing the flowsheet model for blocks[20]\n"
     ]
    },
    {
     "name": "stdout",
     "output_type": "stream",
     "text": [
      ">>> Creating USC model and initialization for each time period\n",
      "2022-10-04 17:19:09 [INFO] idaes.apps.grid_integration.multiperiod.multiperiod: ...Constructing the flowsheet model for blocks[21]\n"
     ]
    },
    {
     "name": "stderr",
     "output_type": "stream",
     "text": [
      "INFO:idaes.apps.grid_integration.multiperiod.multiperiod:...Constructing the flowsheet model for blocks[21]\n"
     ]
    },
    {
     "name": "stdout",
     "output_type": "stream",
     "text": [
      ">>> Creating USC model and initialization for each time period\n",
      "2022-10-04 17:19:11 [INFO] idaes.apps.grid_integration.multiperiod.multiperiod: ...Constructing the flowsheet model for blocks[22]\n"
     ]
    },
    {
     "name": "stderr",
     "output_type": "stream",
     "text": [
      "INFO:idaes.apps.grid_integration.multiperiod.multiperiod:...Constructing the flowsheet model for blocks[22]\n"
     ]
    },
    {
     "name": "stdout",
     "output_type": "stream",
     "text": [
      ">>> Creating USC model and initialization for each time period\n",
      "2022-10-04 17:19:14 [INFO] idaes.apps.grid_integration.multiperiod.multiperiod: ...Constructing the flowsheet model for blocks[23]\n"
     ]
    },
    {
     "name": "stderr",
     "output_type": "stream",
     "text": [
      "INFO:idaes.apps.grid_integration.multiperiod.multiperiod:...Constructing the flowsheet model for blocks[23]\n"
     ]
    },
    {
     "name": "stdout",
     "output_type": "stream",
     "text": [
      ">>> Creating USC model and initialization for each time period\n",
      "2022-10-04 17:19:16 [INFO] idaes.apps.grid_integration.multiperiod.multiperiod: ...Constructing the flowsheet model for blocks[24]\n"
     ]
    },
    {
     "name": "stderr",
     "output_type": "stream",
     "text": [
      "INFO:idaes.apps.grid_integration.multiperiod.multiperiod:...Constructing the flowsheet model for blocks[24]\n"
     ]
    },
    {
     "name": "stdout",
     "output_type": "stream",
     "text": [
      ">>> Creating USC model and initialization for each time period\n",
      "2022-10-04 17:19:19 [INFO] idaes.apps.grid_integration.multiperiod.multiperiod: ...Constructing the flowsheet model for blocks[25]\n"
     ]
    },
    {
     "name": "stderr",
     "output_type": "stream",
     "text": [
      "INFO:idaes.apps.grid_integration.multiperiod.multiperiod:...Constructing the flowsheet model for blocks[25]\n"
     ]
    },
    {
     "name": "stdout",
     "output_type": "stream",
     "text": [
      ">>> Creating USC model and initialization for each time period\n",
      "2022-10-04 17:19:21 [INFO] idaes.apps.grid_integration.multiperiod.multiperiod: ...Constructing the flowsheet model for blocks[26]\n"
     ]
    },
    {
     "name": "stderr",
     "output_type": "stream",
     "text": [
      "INFO:idaes.apps.grid_integration.multiperiod.multiperiod:...Constructing the flowsheet model for blocks[26]\n"
     ]
    },
    {
     "name": "stdout",
     "output_type": "stream",
     "text": [
      ">>> Creating USC model and initialization for each time period\n",
      "2022-10-04 17:19:24 [INFO] idaes.apps.grid_integration.multiperiod.multiperiod: ...Constructing the flowsheet model for blocks[27]\n"
     ]
    },
    {
     "name": "stderr",
     "output_type": "stream",
     "text": [
      "INFO:idaes.apps.grid_integration.multiperiod.multiperiod:...Constructing the flowsheet model for blocks[27]\n"
     ]
    },
    {
     "name": "stdout",
     "output_type": "stream",
     "text": [
      ">>> Creating USC model and initialization for each time period\n",
      "2022-10-04 17:19:29 [INFO] idaes.apps.grid_integration.multiperiod.multiperiod: ...Constructing the flowsheet model for blocks[28]\n"
     ]
    },
    {
     "name": "stderr",
     "output_type": "stream",
     "text": [
      "INFO:idaes.apps.grid_integration.multiperiod.multiperiod:...Constructing the flowsheet model for blocks[28]\n"
     ]
    },
    {
     "name": "stdout",
     "output_type": "stream",
     "text": [
      ">>> Creating USC model and initialization for each time period\n",
      "2022-10-04 17:19:31 [INFO] idaes.apps.grid_integration.multiperiod.multiperiod: ...Constructing the flowsheet model for blocks[29]\n"
     ]
    },
    {
     "name": "stderr",
     "output_type": "stream",
     "text": [
      "INFO:idaes.apps.grid_integration.multiperiod.multiperiod:...Constructing the flowsheet model for blocks[29]\n"
     ]
    },
    {
     "name": "stdout",
     "output_type": "stream",
     "text": [
      ">>> Creating USC model and initialization for each time period\n",
      "2022-10-04 17:19:34 [INFO] idaes.apps.grid_integration.multiperiod.multiperiod: ...Constructing the flowsheet model for blocks[30]\n"
     ]
    },
    {
     "name": "stderr",
     "output_type": "stream",
     "text": [
      "INFO:idaes.apps.grid_integration.multiperiod.multiperiod:...Constructing the flowsheet model for blocks[30]\n"
     ]
    },
    {
     "name": "stdout",
     "output_type": "stream",
     "text": [
      ">>> Creating USC model and initialization for each time period\n",
      "2022-10-04 17:19:37 [INFO] idaes.apps.grid_integration.multiperiod.multiperiod: ...Constructing the flowsheet model for blocks[31]\n"
     ]
    },
    {
     "name": "stderr",
     "output_type": "stream",
     "text": [
      "INFO:idaes.apps.grid_integration.multiperiod.multiperiod:...Constructing the flowsheet model for blocks[31]\n"
     ]
    },
    {
     "name": "stdout",
     "output_type": "stream",
     "text": [
      ">>> Creating USC model and initialization for each time period\n",
      "2022-10-04 17:19:39 [INFO] idaes.apps.grid_integration.multiperiod.multiperiod: ...Constructing the flowsheet model for blocks[32]\n"
     ]
    },
    {
     "name": "stderr",
     "output_type": "stream",
     "text": [
      "INFO:idaes.apps.grid_integration.multiperiod.multiperiod:...Constructing the flowsheet model for blocks[32]\n"
     ]
    },
    {
     "name": "stdout",
     "output_type": "stream",
     "text": [
      ">>> Creating USC model and initialization for each time period\n",
      "2022-10-04 17:19:42 [INFO] idaes.apps.grid_integration.multiperiod.multiperiod: ...Constructing the flowsheet model for blocks[33]\n"
     ]
    },
    {
     "name": "stderr",
     "output_type": "stream",
     "text": [
      "INFO:idaes.apps.grid_integration.multiperiod.multiperiod:...Constructing the flowsheet model for blocks[33]\n"
     ]
    },
    {
     "name": "stdout",
     "output_type": "stream",
     "text": [
      ">>> Creating USC model and initialization for each time period\n",
      "2022-10-04 17:19:44 [INFO] idaes.apps.grid_integration.multiperiod.multiperiod: ...Constructing the flowsheet model for blocks[34]\n"
     ]
    },
    {
     "name": "stderr",
     "output_type": "stream",
     "text": [
      "INFO:idaes.apps.grid_integration.multiperiod.multiperiod:...Constructing the flowsheet model for blocks[34]\n"
     ]
    },
    {
     "name": "stdout",
     "output_type": "stream",
     "text": [
      ">>> Creating USC model and initialization for each time period\n",
      "2022-10-04 17:19:47 [INFO] idaes.apps.grid_integration.multiperiod.multiperiod: ...Constructing the flowsheet model for blocks[35]\n"
     ]
    },
    {
     "name": "stderr",
     "output_type": "stream",
     "text": [
      "INFO:idaes.apps.grid_integration.multiperiod.multiperiod:...Constructing the flowsheet model for blocks[35]\n"
     ]
    },
    {
     "name": "stdout",
     "output_type": "stream",
     "text": [
      ">>> Creating USC model and initialization for each time period\n",
      "2022-10-04 17:19:49 [INFO] idaes.apps.grid_integration.multiperiod.multiperiod: ...Constructing the flowsheet model for blocks[36]\n"
     ]
    },
    {
     "name": "stderr",
     "output_type": "stream",
     "text": [
      "INFO:idaes.apps.grid_integration.multiperiod.multiperiod:...Constructing the flowsheet model for blocks[36]\n"
     ]
    },
    {
     "name": "stdout",
     "output_type": "stream",
     "text": [
      ">>> Creating USC model and initialization for each time period\n",
      "2022-10-04 17:19:51 [INFO] idaes.apps.grid_integration.multiperiod.multiperiod: ...Constructing the flowsheet model for blocks[37]\n"
     ]
    },
    {
     "name": "stderr",
     "output_type": "stream",
     "text": [
      "INFO:idaes.apps.grid_integration.multiperiod.multiperiod:...Constructing the flowsheet model for blocks[37]\n"
     ]
    },
    {
     "name": "stdout",
     "output_type": "stream",
     "text": [
      ">>> Creating USC model and initialization for each time period\n",
      "2022-10-04 17:19:54 [INFO] idaes.apps.grid_integration.multiperiod.multiperiod: ...Constructing the flowsheet model for blocks[38]\n"
     ]
    },
    {
     "name": "stderr",
     "output_type": "stream",
     "text": [
      "INFO:idaes.apps.grid_integration.multiperiod.multiperiod:...Constructing the flowsheet model for blocks[38]\n"
     ]
    },
    {
     "name": "stdout",
     "output_type": "stream",
     "text": [
      ">>> Creating USC model and initialization for each time period\n",
      "2022-10-04 17:19:56 [INFO] idaes.apps.grid_integration.multiperiod.multiperiod: ...Constructing the flowsheet model for blocks[39]\n"
     ]
    },
    {
     "name": "stderr",
     "output_type": "stream",
     "text": [
      "INFO:idaes.apps.grid_integration.multiperiod.multiperiod:...Constructing the flowsheet model for blocks[39]\n"
     ]
    },
    {
     "name": "stdout",
     "output_type": "stream",
     "text": [
      ">>> Creating USC model and initialization for each time period\n",
      "2022-10-04 17:20:02 [INFO] idaes.apps.grid_integration.multiperiod.multiperiod: ...Constructing the flowsheet model for blocks[40]\n"
     ]
    },
    {
     "name": "stderr",
     "output_type": "stream",
     "text": [
      "INFO:idaes.apps.grid_integration.multiperiod.multiperiod:...Constructing the flowsheet model for blocks[40]\n"
     ]
    },
    {
     "name": "stdout",
     "output_type": "stream",
     "text": [
      ">>> Creating USC model and initialization for each time period\n",
      "2022-10-04 17:20:05 [INFO] idaes.apps.grid_integration.multiperiod.multiperiod: ...Constructing the flowsheet model for blocks[41]\n"
     ]
    },
    {
     "name": "stderr",
     "output_type": "stream",
     "text": [
      "INFO:idaes.apps.grid_integration.multiperiod.multiperiod:...Constructing the flowsheet model for blocks[41]\n"
     ]
    },
    {
     "name": "stdout",
     "output_type": "stream",
     "text": [
      ">>> Creating USC model and initialization for each time period\n",
      "2022-10-04 17:20:07 [INFO] idaes.apps.grid_integration.multiperiod.multiperiod: ...Constructing the flowsheet model for blocks[42]\n"
     ]
    },
    {
     "name": "stderr",
     "output_type": "stream",
     "text": [
      "INFO:idaes.apps.grid_integration.multiperiod.multiperiod:...Constructing the flowsheet model for blocks[42]\n"
     ]
    },
    {
     "name": "stdout",
     "output_type": "stream",
     "text": [
      ">>> Creating USC model and initialization for each time period\n",
      "2022-10-04 17:20:10 [INFO] idaes.apps.grid_integration.multiperiod.multiperiod: ...Constructing the flowsheet model for blocks[43]\n"
     ]
    },
    {
     "name": "stderr",
     "output_type": "stream",
     "text": [
      "INFO:idaes.apps.grid_integration.multiperiod.multiperiod:...Constructing the flowsheet model for blocks[43]\n"
     ]
    },
    {
     "name": "stdout",
     "output_type": "stream",
     "text": [
      ">>> Creating USC model and initialization for each time period\n",
      "2022-10-04 17:20:12 [INFO] idaes.apps.grid_integration.multiperiod.multiperiod: ...Constructing the flowsheet model for blocks[44]\n"
     ]
    },
    {
     "name": "stderr",
     "output_type": "stream",
     "text": [
      "INFO:idaes.apps.grid_integration.multiperiod.multiperiod:...Constructing the flowsheet model for blocks[44]\n"
     ]
    },
    {
     "name": "stdout",
     "output_type": "stream",
     "text": [
      ">>> Creating USC model and initialization for each time period\n",
      "2022-10-04 17:20:15 [INFO] idaes.apps.grid_integration.multiperiod.multiperiod: ...Constructing the flowsheet model for blocks[45]\n"
     ]
    },
    {
     "name": "stderr",
     "output_type": "stream",
     "text": [
      "INFO:idaes.apps.grid_integration.multiperiod.multiperiod:...Constructing the flowsheet model for blocks[45]\n"
     ]
    },
    {
     "name": "stdout",
     "output_type": "stream",
     "text": [
      ">>> Creating USC model and initialization for each time period\n",
      "2022-10-04 17:20:17 [INFO] idaes.apps.grid_integration.multiperiod.multiperiod: ...Constructing the flowsheet model for blocks[46]\n"
     ]
    },
    {
     "name": "stderr",
     "output_type": "stream",
     "text": [
      "INFO:idaes.apps.grid_integration.multiperiod.multiperiod:...Constructing the flowsheet model for blocks[46]\n"
     ]
    },
    {
     "name": "stdout",
     "output_type": "stream",
     "text": [
      ">>> Creating USC model and initialization for each time period\n",
      "2022-10-04 17:20:20 [INFO] idaes.apps.grid_integration.multiperiod.multiperiod: ...Constructing the flowsheet model for blocks[47]\n"
     ]
    },
    {
     "name": "stderr",
     "output_type": "stream",
     "text": [
      "INFO:idaes.apps.grid_integration.multiperiod.multiperiod:...Constructing the flowsheet model for blocks[47]\n"
     ]
    },
    {
     "name": "stdout",
     "output_type": "stream",
     "text": [
      ">>> Creating USC model and initialization for each time period\n",
      "[+ 130.35] Completed the formulation of the multiperiod optimization problem.\n",
      "2022-10-04 17:20:22 [WARNING] idaes.apps.grid_integration.multiperiod.multiperiod: Initialization function is not provided. Returning the multiperiod model without initialization.\n"
     ]
    },
    {
     "name": "stderr",
     "output_type": "stream",
     "text": [
      "WARNING:idaes.apps.grid_integration.multiperiod.multiperiod:Initialization function is not provided. Returning the multiperiod model without initialization.\n"
     ]
    },
    {
     "name": "stdout",
     "output_type": "stream",
     "text": [
      "2022-10-04 17:20:22 [WARNING] idaes.apps.grid_integration.multiperiod.multiperiod: unfix_dof function is not provided. Returning the model without unfixing degrees of freedom\n"
     ]
    },
    {
     "name": "stderr",
     "output_type": "stream",
     "text": [
      "WARNING:idaes.apps.grid_integration.multiperiod.multiperiod:unfix_dof function is not provided. Returning the model without unfixing degrees of freedom\n"
     ]
    },
    {
     "name": "stdout",
     "output_type": "stream",
     "text": [
      "[+   0.00] Beginning the formulation of the multiperiod optimization problem.\n",
      "2022-10-04 17:20:22 [INFO] idaes.apps.grid_integration.multiperiod.multiperiod: ...Constructing the flowsheet model for blocks[0]\n"
     ]
    },
    {
     "name": "stderr",
     "output_type": "stream",
     "text": [
      "INFO:idaes.apps.grid_integration.multiperiod.multiperiod:...Constructing the flowsheet model for blocks[0]\n"
     ]
    },
    {
     "name": "stdout",
     "output_type": "stream",
     "text": [
      ">>> Creating USC model and initialization for each time period\n",
      "2022-10-04 17:20:25 [INFO] idaes.apps.grid_integration.multiperiod.multiperiod: ...Constructing the flowsheet model for blocks[1]\n"
     ]
    },
    {
     "name": "stderr",
     "output_type": "stream",
     "text": [
      "INFO:idaes.apps.grid_integration.multiperiod.multiperiod:...Constructing the flowsheet model for blocks[1]\n"
     ]
    },
    {
     "name": "stdout",
     "output_type": "stream",
     "text": [
      ">>> Creating USC model and initialization for each time period\n",
      "2022-10-04 17:20:27 [INFO] idaes.apps.grid_integration.multiperiod.multiperiod: ...Constructing the flowsheet model for blocks[2]\n"
     ]
    },
    {
     "name": "stderr",
     "output_type": "stream",
     "text": [
      "INFO:idaes.apps.grid_integration.multiperiod.multiperiod:...Constructing the flowsheet model for blocks[2]\n"
     ]
    },
    {
     "name": "stdout",
     "output_type": "stream",
     "text": [
      ">>> Creating USC model and initialization for each time period\n",
      "2022-10-04 17:20:29 [INFO] idaes.apps.grid_integration.multiperiod.multiperiod: ...Constructing the flowsheet model for blocks[3]\n"
     ]
    },
    {
     "name": "stderr",
     "output_type": "stream",
     "text": [
      "INFO:idaes.apps.grid_integration.multiperiod.multiperiod:...Constructing the flowsheet model for blocks[3]\n"
     ]
    },
    {
     "name": "stdout",
     "output_type": "stream",
     "text": [
      ">>> Creating USC model and initialization for each time period\n",
      "2022-10-04 17:20:32 [INFO] idaes.apps.grid_integration.multiperiod.multiperiod: ...Constructing the flowsheet model for blocks[4]\n"
     ]
    },
    {
     "name": "stderr",
     "output_type": "stream",
     "text": [
      "INFO:idaes.apps.grid_integration.multiperiod.multiperiod:...Constructing the flowsheet model for blocks[4]\n"
     ]
    },
    {
     "name": "stdout",
     "output_type": "stream",
     "text": [
      ">>> Creating USC model and initialization for each time period\n",
      "2022-10-04 17:20:34 [INFO] idaes.apps.grid_integration.multiperiod.multiperiod: ...Constructing the flowsheet model for blocks[5]\n"
     ]
    },
    {
     "name": "stderr",
     "output_type": "stream",
     "text": [
      "INFO:idaes.apps.grid_integration.multiperiod.multiperiod:...Constructing the flowsheet model for blocks[5]\n"
     ]
    },
    {
     "name": "stdout",
     "output_type": "stream",
     "text": [
      ">>> Creating USC model and initialization for each time period\n",
      "2022-10-04 17:20:41 [INFO] idaes.apps.grid_integration.multiperiod.multiperiod: ...Constructing the flowsheet model for blocks[6]\n"
     ]
    },
    {
     "name": "stderr",
     "output_type": "stream",
     "text": [
      "INFO:idaes.apps.grid_integration.multiperiod.multiperiod:...Constructing the flowsheet model for blocks[6]\n"
     ]
    },
    {
     "name": "stdout",
     "output_type": "stream",
     "text": [
      ">>> Creating USC model and initialization for each time period\n",
      "2022-10-04 17:20:44 [INFO] idaes.apps.grid_integration.multiperiod.multiperiod: ...Constructing the flowsheet model for blocks[7]\n"
     ]
    },
    {
     "name": "stderr",
     "output_type": "stream",
     "text": [
      "INFO:idaes.apps.grid_integration.multiperiod.multiperiod:...Constructing the flowsheet model for blocks[7]\n"
     ]
    },
    {
     "name": "stdout",
     "output_type": "stream",
     "text": [
      ">>> Creating USC model and initialization for each time period\n",
      "2022-10-04 17:20:46 [INFO] idaes.apps.grid_integration.multiperiod.multiperiod: ...Constructing the flowsheet model for blocks[8]\n"
     ]
    },
    {
     "name": "stderr",
     "output_type": "stream",
     "text": [
      "INFO:idaes.apps.grid_integration.multiperiod.multiperiod:...Constructing the flowsheet model for blocks[8]\n"
     ]
    },
    {
     "name": "stdout",
     "output_type": "stream",
     "text": [
      ">>> Creating USC model and initialization for each time period\n",
      "2022-10-04 17:20:49 [INFO] idaes.apps.grid_integration.multiperiod.multiperiod: ...Constructing the flowsheet model for blocks[9]\n"
     ]
    },
    {
     "name": "stderr",
     "output_type": "stream",
     "text": [
      "INFO:idaes.apps.grid_integration.multiperiod.multiperiod:...Constructing the flowsheet model for blocks[9]\n"
     ]
    },
    {
     "name": "stdout",
     "output_type": "stream",
     "text": [
      ">>> Creating USC model and initialization for each time period\n",
      "[+  29.10] Completed the formulation of the multiperiod optimization problem.\n",
      "2022-10-04 17:20:51 [WARNING] idaes.apps.grid_integration.multiperiod.multiperiod: Initialization function is not provided. Returning the multiperiod model without initialization.\n"
     ]
    },
    {
     "name": "stderr",
     "output_type": "stream",
     "text": [
      "WARNING:idaes.apps.grid_integration.multiperiod.multiperiod:Initialization function is not provided. Returning the multiperiod model without initialization.\n"
     ]
    },
    {
     "name": "stdout",
     "output_type": "stream",
     "text": [
      "2022-10-04 17:20:51 [WARNING] idaes.apps.grid_integration.multiperiod.multiperiod: unfix_dof function is not provided. Returning the model without unfixing degrees of freedom\n"
     ]
    },
    {
     "name": "stderr",
     "output_type": "stream",
     "text": [
      "WARNING:idaes.apps.grid_integration.multiperiod.multiperiod:unfix_dof function is not provided. Returning the model without unfixing degrees of freedom\n"
     ]
    }
   ],
   "source": [
    "# Tracker\n",
    "mp_usc_tracker = MultiPeriodUsc(\n",
    "    model_data=model_data\n",
    ")\n",
    "\n",
    "thermal_tracker = Tracker(\n",
    "    tracking_model_object=mp_usc_tracker,\n",
    "    n_tracking_hour=n_tracking_hour,\n",
    "    solver=solver,\n",
    "    tracking_horizon=tracking_horizon,\n",
    ")\n",
    "\n",
    "# Projection Tracker\n",
    "mp_usc_projection_tracker = MultiPeriodUsc(\n",
    "    model_data=model_data\n",
    ")\n",
    "\n",
    "thermal_projection_tracker = Tracker(\n",
    "    tracking_model_object=mp_usc_projection_tracker,\n",
    "    n_tracking_hour=n_tracking_hour,\n",
    "    solver=solver,\n",
    "    tracking_horizon=tracking_horizon,\n",
    ")\n",
    "\n",
    "# Bidder\n",
    "mp_usc_bidder = MultiPeriodUsc(\n",
    "    model_data=model_data\n",
    ")\n",
    "thermal_bidder = Bidder(\n",
    "    bidding_model_object=mp_usc_bidder,\n",
    "    n_scenario=n_scenario,\n",
    "    solver=solver,\n",
    "    forecaster=forecaster,\n",
    "    day_ahead_horizon=bidding_horizon,\n",
    "    real_time_horizon=tracking_horizon,\n",
    ")\n",
    "\n",
    "# Coordinator\n",
    "coordinator = DoubleLoopCoordinator(\n",
    "    bidder=thermal_bidder,\n",
    "    tracker=thermal_tracker,\n",
    "    projection_tracker=thermal_projection_tracker,\n",
    ")\n"
   ]
  },
  {
   "cell_type": "markdown",
   "id": "6b2f211a",
   "metadata": {},
   "source": [
    "Set up the `plugin_module` needed for the Prescient simulator"
   ]
  },
  {
   "cell_type": "code",
   "execution_count": 7,
   "id": "4a3b70af",
   "metadata": {},
   "outputs": [],
   "source": [
    "class PrescientPluginModule(ModuleType):\n",
    "    def __init__(self, get_configuration, register_plugins):\n",
    "        self.get_configuration = get_configuration\n",
    "        self.register_plugins = register_plugins\n",
    "\n",
    "\n",
    "plugin_module = PrescientPluginModule(\n",
    "    get_configuration=coordinator.get_configuration,\n",
    "    register_plugins=coordinator.register_plugins,\n",
    ")\n"
   ]
  },
  {
   "cell_type": "markdown",
   "id": "a6e289b9",
   "metadata": {},
   "source": [
    "**IMPORTANT** Before proceeding with the rest of the notebook:\n",
    "1. Install the `dispatches-sample-data` package by running `pip install dispatches-sample-data` in the working conda environment\n",
    "\n",
    "OR\n",
    "\n",
    "1. Download the RTS-GMLC dataset from [https://github.com/GridMod/RTS-GMLC] (or directly as a zipfile here) to your local machine\n",
    "2. Update the value of the `rst_gmlc_data_dir` variable in the cell below to the appropriate location of the `RTS_Data/SourceData` subfolder on your local machine"
   ]
  },
  {
   "cell_type": "code",
   "execution_count": 8,
   "id": "86fac6ca",
   "metadata": {},
   "outputs": [],
   "source": [
    "# If installing the dispatches-sample-data\n",
    "rts_gmlc_data_dir = str(rts_gmlc.source_data_path)\n",
    "\n",
    "# If downloading the data to the local machine use the following option with appropriate path\n",
    "#rts_gmlc_data_dir = \"C:\\\\grid\\\\source_code\\\\Prescient\\\\downloads\\\\rts_gmlc\\\\RTS-GMLC\\\\RTS_Data\\\\SourceData\"\n"
   ]
  },
  {
   "cell_type": "markdown",
   "id": "61a63971",
   "metadata": {},
   "source": [
    "Declare the options for Prescient simulator"
   ]
  },
  {
   "cell_type": "code",
   "execution_count": 9,
   "id": "6e46669f",
   "metadata": {},
   "outputs": [],
   "source": [
    "options = {\n",
    "    \"data_path\": rts_gmlc_data_dir,\n",
    "    \"input_format\": \"rts-gmlc\",\n",
    "    \"simulate_out_of_sample\": True,\n",
    "    \"run_sced_with_persistent_forecast_errors\": True,\n",
    "    \"output_directory\": \"bidding_multiperiod_usc\",\n",
    "    \"start_date\": \"2020-07-10\",\n",
    "    \"num_days\": num_days,\n",
    "    \"sced_horizon\": tracking_horizon,\n",
    "    \"ruc_horizon\": bidding_horizon,\n",
    "    \"compute_market_settlements\": True,\n",
    "    \"day_ahead_pricing\": \"LMP\",\n",
    "    \"ruc_mipgap\": 0.01,\n",
    "    \"symbolic_solver_labels\": True,\n",
    "    \"reserve_factor\": 0.0,\n",
    "    \"deterministic_ruc_solver\": \"gurobi\",\n",
    "    \"output_ruc_solutions\": True,\n",
    "    \"sced_solver\": \"gurobi\",\n",
    "    \"print_sced\": True,\n",
    "    \"enforce_sced_shutdown_ramprate\": True,\n",
    "    \"plugin\": {\n",
    "        \"doubleloop\": {\n",
    "            \"module\": plugin_module,\n",
    "            \"bidding_generator\": \"102_STEAM_3\",\n",
    "        }\n",
    "    }\n",
    "}\n"
   ]
  },
  {
   "cell_type": "markdown",
   "id": "89675ac5",
   "metadata": {},
   "source": [
    "Run Prescient simulator."
   ]
  },
  {
   "cell_type": "code",
   "execution_count": 10,
   "id": "02298741",
   "metadata": {
    "tags": [
     "nbval-skip"
    ]
   },
   "outputs": [
    {
     "name": "stdout",
     "output_type": "stream",
     "text": [
      "Initializing simulation...\n",
      "Did not find reserves.csv; assuming no reserves\n"
     ]
    },
    {
     "name": "stderr",
     "output_type": "stream",
     "text": [
      "WARNING:egret:Did not find reserves.csv; assuming no reserves\n",
      "C:\\Users\\Radhakrishna\\.conda\\envs\\dispatches-dev\\lib\\site-packages\\egret\\parsers\\rts_gmlc\\parser.py:256: FutureWarning: \n",
      "        Use pd.to_datetime instead.\n",
      "\n",
      "  df = pd.read_csv(file_name,\n",
      "C:\\Users\\Radhakrishna\\.conda\\envs\\dispatches-dev\\lib\\site-packages\\egret\\parsers\\rts_gmlc\\parser.py:256: FutureWarning: \n",
      "        Use pd.to_datetime instead.\n",
      "\n",
      "  df = pd.read_csv(file_name,\n",
      "C:\\Users\\Radhakrishna\\.conda\\envs\\dispatches-dev\\lib\\site-packages\\egret\\parsers\\rts_gmlc\\parser.py:256: FutureWarning: \n",
      "        Use pd.to_datetime instead.\n",
      "\n",
      "  df = pd.read_csv(file_name,\n",
      "C:\\Users\\Radhakrishna\\.conda\\envs\\dispatches-dev\\lib\\site-packages\\egret\\parsers\\rts_gmlc\\parser.py:256: FutureWarning: \n",
      "        Use pd.to_datetime instead.\n",
      "\n",
      "  df = pd.read_csv(file_name,\n",
      "C:\\Users\\Radhakrishna\\.conda\\envs\\dispatches-dev\\lib\\site-packages\\egret\\parsers\\rts_gmlc\\parser.py:304: FutureWarning: \n",
      "        Use pd.to_datetime instead.\n",
      "\n",
      "  df = pd.read_csv(file_name,\n",
      "C:\\Users\\Radhakrishna\\.conda\\envs\\dispatches-dev\\lib\\site-packages\\egret\\parsers\\rts_gmlc\\parser.py:304: FutureWarning: \n",
      "        Use pd.to_datetime instead.\n",
      "\n",
      "  df = pd.read_csv(file_name,\n",
      "C:\\Users\\Radhakrishna\\.conda\\envs\\dispatches-dev\\lib\\site-packages\\egret\\parsers\\rts_gmlc\\parser.py:304: FutureWarning: \n",
      "        Use pd.to_datetime instead.\n",
      "\n",
      "  df = pd.read_csv(file_name,\n",
      "C:\\Users\\Radhakrishna\\.conda\\envs\\dispatches-dev\\lib\\site-packages\\egret\\parsers\\rts_gmlc\\parser.py:304: FutureWarning: \n",
      "        Use pd.to_datetime instead.\n",
      "\n",
      "  df = pd.read_csv(file_name,\n",
      "C:\\Users\\Radhakrishna\\.conda\\envs\\dispatches-dev\\lib\\site-packages\\egret\\parsers\\rts_gmlc\\parser.py:256: FutureWarning: \n",
      "        Use pd.to_datetime instead.\n",
      "\n",
      "  df = pd.read_csv(file_name,\n",
      "C:\\Users\\Radhakrishna\\.conda\\envs\\dispatches-dev\\lib\\site-packages\\egret\\parsers\\rts_gmlc\\parser.py:256: FutureWarning: \n",
      "        Use pd.to_datetime instead.\n",
      "\n",
      "  df = pd.read_csv(file_name,\n",
      "C:\\Users\\Radhakrishna\\.conda\\envs\\dispatches-dev\\lib\\site-packages\\egret\\parsers\\rts_gmlc\\parser.py:256: FutureWarning: \n",
      "        Use pd.to_datetime instead.\n",
      "\n",
      "  df = pd.read_csv(file_name,\n",
      "C:\\Users\\Radhakrishna\\.conda\\envs\\dispatches-dev\\lib\\site-packages\\egret\\parsers\\rts_gmlc\\parser.py:256: FutureWarning: \n",
      "        Use pd.to_datetime instead.\n",
      "\n",
      "  df = pd.read_csv(file_name,\n",
      "C:\\Users\\Radhakrishna\\.conda\\envs\\dispatches-dev\\lib\\site-packages\\egret\\parsers\\rts_gmlc\\parser.py:256: FutureWarning: \n",
      "        Use pd.to_datetime instead.\n",
      "\n",
      "  df = pd.read_csv(file_name,\n",
      "C:\\Users\\Radhakrishna\\.conda\\envs\\dispatches-dev\\lib\\site-packages\\egret\\parsers\\rts_gmlc\\parser.py:256: FutureWarning: \n",
      "        Use pd.to_datetime instead.\n",
      "\n",
      "  df = pd.read_csv(file_name,\n",
      "C:\\Users\\Radhakrishna\\.conda\\envs\\dispatches-dev\\lib\\site-packages\\egret\\parsers\\rts_gmlc\\parser.py:256: FutureWarning: \n",
      "        Use pd.to_datetime instead.\n",
      "\n",
      "  df = pd.read_csv(file_name,\n",
      "C:\\Users\\Radhakrishna\\.conda\\envs\\dispatches-dev\\lib\\site-packages\\egret\\parsers\\rts_gmlc\\parser.py:256: FutureWarning: \n",
      "        Use pd.to_datetime instead.\n",
      "\n",
      "  df = pd.read_csv(file_name,\n",
      "C:\\Users\\Radhakrishna\\.conda\\envs\\dispatches-dev\\lib\\site-packages\\egret\\parsers\\rts_gmlc\\parser.py:304: FutureWarning: \n",
      "        Use pd.to_datetime instead.\n",
      "\n",
      "  df = pd.read_csv(file_name,\n",
      "C:\\Users\\Radhakrishna\\.conda\\envs\\dispatches-dev\\lib\\site-packages\\egret\\parsers\\rts_gmlc\\parser.py:304: FutureWarning: \n",
      "        Use pd.to_datetime instead.\n",
      "\n",
      "  df = pd.read_csv(file_name,\n",
      "C:\\Users\\Radhakrishna\\.conda\\envs\\dispatches-dev\\lib\\site-packages\\egret\\parsers\\rts_gmlc\\parser.py:256: FutureWarning: \n",
      "        Use pd.to_datetime instead.\n",
      "\n",
      "  df = pd.read_csv(file_name,\n",
      "C:\\Users\\Radhakrishna\\.conda\\envs\\dispatches-dev\\lib\\site-packages\\egret\\parsers\\rts_gmlc\\parser.py:256: FutureWarning: \n",
      "        Use pd.to_datetime instead.\n",
      "\n",
      "  df = pd.read_csv(file_name,\n",
      "C:\\Users\\Radhakrishna\\.conda\\envs\\dispatches-dev\\lib\\site-packages\\egret\\parsers\\rts_gmlc\\parser.py:256: FutureWarning: \n",
      "        Use pd.to_datetime instead.\n",
      "\n",
      "  df = pd.read_csv(file_name,\n",
      "C:\\Users\\Radhakrishna\\.conda\\envs\\dispatches-dev\\lib\\site-packages\\egret\\parsers\\rts_gmlc\\parser.py:256: FutureWarning: \n",
      "        Use pd.to_datetime instead.\n",
      "\n",
      "  df = pd.read_csv(file_name,\n"
     ]
    },
    {
     "name": "stdout",
     "output_type": "stream",
     "text": [
      "Setting default t0 state in RTS-GMLC parser\n"
     ]
    },
    {
     "name": "stderr",
     "output_type": "stream",
     "text": [
      "WARNING:egret:Setting default t0 state in RTS-GMLC parser\n"
     ]
    },
    {
     "name": "stdout",
     "output_type": "stream",
     "text": [
      "Dates to simulate: 2020-07-10 to 2020-07-11\n",
      "RUC activation hours: 0\n",
      "Final RUC date: 2020-07-11\n",
      "Using current day's forecasts for RUC solves\n",
      "Using persistent forecast error model when projecting demand and renewables in SCED\n",
      "\n",
      "\n",
      "Extracting scenario to simulate\n",
      "Ipopt 3.13.2: max_iter=200\n",
      "\n",
      "\n",
      "******************************************************************************\n",
      "This program contains Ipopt, a library for large-scale nonlinear optimization.\n",
      " Ipopt is released as open source code under the Eclipse Public License (EPL).\n",
      "         For more information visit http://projects.coin-or.org/Ipopt\n",
      "\n",
      "This version of Ipopt was compiled from source code available at\n",
      "    https://github.com/IDAES/Ipopt as part of the Institute for the Design of\n",
      "    Advanced Energy Systems Process Systems Engineering Framework (IDAES PSE\n",
      "    Framework) Copyright (c) 2018-2019. See https://github.com/IDAES/idaes-pse.\n",
      "\n",
      "This version of Ipopt was compiled using HSL, a collection of Fortran codes\n",
      "    for large-scale scientific computation.  All technical papers, sales and\n",
      "    publicity material resulting from use of the HSL codes within IPOPT must\n",
      "    contain the following acknowledgement:\n",
      "        HSL, a collection of Fortran codes for large-scale scientific\n",
      "        computation. See http://www.hsl.rl.ac.uk.\n",
      "******************************************************************************\n",
      "\n",
      "This is Ipopt version 3.13.2, running with linear solver ma27.\n",
      "\n",
      "Number of nonzeros in equality constraint Jacobian...:    76700\n",
      "Number of nonzeros in inequality constraint Jacobian.:      716\n",
      "Number of nonzeros in Lagrangian Hessian.............:    23760\n",
      "\n",
      "Total number of variables............................:    29421\n",
      "                     variables with only lower bounds:       48\n",
      "                variables with lower and upper bounds:    23997\n",
      "                     variables with only upper bounds:       48\n",
      "Total number of equality constraints.................:    29135\n",
      "Total number of inequality constraints...............:      384\n",
      "        inequality constraints with only lower bounds:       48\n",
      "   inequality constraints with lower and upper bounds:        0\n",
      "        inequality constraints with only upper bounds:      336\n",
      "\n",
      "iter    objective    inf_pr   inf_du lg(mu)  ||d||  lg(rg) alpha_du alpha_pr  ls\n",
      "   0  3.1586246e+09 1.27e+08 2.71e+01  -1.0 0.00e+00    -  0.00e+00 0.00e+00   0\n",
      "   1r 3.1586246e+09 1.27e+08 9.99e+02   8.0 0.00e+00    -  0.00e+00 1.14e-10R  2\n",
      "   2r 3.1586246e+09 1.37e+08 1.89e+07   8.0 9.61e+07    -  1.99e-03 1.03e-06f  1\n",
      "   3r 3.1586280e+09 1.37e+08 8.11e+06   8.0 2.20e+07    -  5.74e-01 3.97e-03f  1\n",
      "   4r 3.1586908e+09 9.92e+07 6.94e+06   5.2 1.11e+07    -  1.44e-01 9.12e-01f  1\n",
      "   5  3.1586151e+09 9.92e+07 2.71e+01  -1.0 8.01e+11    -  5.91e-09 3.00e-08f  1\n",
      "   6r 3.1586151e+09 9.92e+07 9.99e+02   7.9 0.00e+00    -  0.00e+00 1.57e-10R  2\n",
      "   7r 3.1586151e+09 9.95e+07 1.59e+07   7.9 4.74e+07    -  1.88e-03 1.08e-06f  1\n",
      "   8r 3.1586066e+09 9.91e+07 1.00e+07   5.1 1.03e+07    -  3.71e-01 4.81e-01f  1\n",
      "   9r 3.1586065e+09 1.51e+08 7.66e+06   5.1 7.59e+04   0.0 2.39e-01 1.00e+00f  1\n",
      "iter    objective    inf_pr   inf_du lg(mu)  ||d||  lg(rg) alpha_du alpha_pr  ls\n",
      "  10r 3.1586064e+09 1.68e+08 2.30e+06   5.1 3.27e+03  -0.5 7.00e-01 1.00e+00f  1\n",
      "  11r 3.1586065e+09 1.77e+08 2.18e+06   5.1 2.51e+08    -  5.51e-02 7.33e-03f  1\n",
      "  12r 3.1586057e+09 1.85e+08 2.06e+06   4.4 2.48e+08    -  5.19e-02 4.77e-02f  1\n",
      "  13r 3.1586057e+09 1.85e+08 9.99e+02   7.8 0.00e+00    -  0.00e+00 1.81e-07R  2\n",
      "  14r 3.1586057e+09 1.87e+08 1.78e+06   7.8 2.37e+07    -  6.72e-03 1.71e-05f  2\n",
      "  15r 3.1586055e+09 1.85e+08 1.50e+06   5.0 9.09e+06    -  1.45e-01 2.59e-01f  1\n",
      "  16r 3.1586055e+09 1.97e+08 6.27e+04   5.0 1.36e+03   0.0 9.75e-01 1.00e+00f  1\n",
      "  17r 3.1586051e+09 2.50e+08 9.74e+04   4.3 3.44e+03  -0.5 7.67e-01 1.00e+00f  1\n",
      "  18r 3.1586046e+09 3.16e+08 6.32e+03   4.3 9.09e+03  -1.0 9.94e-01 1.00e+00f  1\n",
      "  19r 3.1586036e+09 3.17e+08 6.99e+03   2.9 5.05e+08    -  4.19e-03 2.44e-03f  1\n",
      "iter    objective    inf_pr   inf_du lg(mu)  ||d||  lg(rg) alpha_du alpha_pr  ls\n",
      "  20r 3.1586036e+09 3.16e+08 3.61e+03   2.9 2.70e+04  -1.4 7.38e-01 2.16e-02f  1\n",
      "  21r 3.1586036e+09 3.14e+08 6.24e+03   2.9 1.10e+04  -1.0 1.00e+00 1.44e-01f  1\n",
      "  22r 3.1586038e+09 2.99e+08 3.71e+03   2.9 4.18e+03  -0.6 3.28e-01 5.40e-01f  1\n",
      "  23r 3.1586039e+09 2.98e+08 4.60e+03   2.9 1.68e+03  -0.2 8.62e-01 1.46e-01f  1\n",
      "  24r 3.1586040e+09 2.95e+08 1.32e+03   2.9 6.39e+02   0.3 1.00e+00 6.74e-01f  1\n",
      "  25r 3.1586040e+09 2.92e+08 1.29e+03   2.9 1.93e+03  -0.2 1.00e+00 2.35e-01f  1\n",
      "  26r 3.1586040e+09 2.90e+08 1.22e+03   2.9 5.74e+03  -0.7 3.87e-01 1.22e-01f  1\n",
      "  27r 3.1586040e+09 2.89e+08 1.28e+03   2.9 1.81e+04  -1.2 2.26e-01 4.50e-02f  1\n",
      "  28r 3.1586040e+09 2.83e+08 1.60e+03   2.9 5.23e+04  -1.6 9.03e-02 2.28e-02f  1\n",
      "  29r 3.1586041e+09 2.51e+08 1.64e+03   2.9 1.45e+05  -2.1 3.23e-02 1.07e-02f  1\n",
      "iter    objective    inf_pr   inf_du lg(mu)  ||d||  lg(rg) alpha_du alpha_pr  ls\n",
      "  30r 3.1586041e+09 2.84e+08 6.49e+03   2.9 1.01e+06  -2.6 3.00e-03 7.63e-04f  1\n",
      "  31r 3.1586041e+09 2.84e+08 1.15e+03   2.9 5.69e+01   1.4 8.22e-01 2.57e-01f  1\n",
      "  32r 3.1586041e+09 2.84e+08 1.92e+03   2.9 1.24e+02   1.0 1.97e-01 2.31e-01f  1\n",
      "  33r 3.1586041e+09 2.83e+08 4.70e+03   2.9 3.89e+02   0.5 2.39e-01 7.19e-02f  1\n",
      "  34r 3.1586041e+09 2.80e+08 1.23e+04   2.9 1.25e+03   0.0 1.94e-01 6.15e-02f  1\n",
      "  35r 3.1586041e+09 2.70e+08 2.03e+04   2.9 3.41e+03  -0.5 1.40e-01 1.46e-02f  1\n",
      "  36r 3.1586041e+09 2.03e+08 2.85e+04   2.9 1.01e+04  -0.9 9.83e-02 3.41e-02f  1\n",
      "  37r 3.1586041e+09 2.04e+08 4.25e+04   2.9 3.94e+01   2.2 1.45e-01 1.27e-01f  1\n",
      "  38r 3.1586042e+09 2.04e+08 6.55e+04   2.9 3.55e+01   1.7 3.80e-01 2.48e-01f  1\n",
      "  39r 3.1586042e+09 2.05e+08 4.14e+04   2.9 2.12e+01   2.1 6.46e-01 1.00e+00f  1\n",
      "iter    objective    inf_pr   inf_du lg(mu)  ||d||  lg(rg) alpha_du alpha_pr  ls\n",
      "  40r 3.1586042e+09 2.05e+08 3.27e+04   2.9 2.47e+01   1.7 1.00e+00 2.26e-01f  1\n",
      "  41r 3.1586042e+09 2.06e+08 4.41e+04   2.9 7.66e+01   1.2 1.00e+00 1.60e-01f  1\n",
      "  42r 3.1586042e+09 2.06e+08 1.59e+04   2.9 3.00e+01   1.6 1.00e+00 6.07e-01f  1\n",
      "  43r 3.1586042e+09 1.96e+08 4.44e+04   2.2 9.59e+01   1.1 5.49e-01 1.97e-01f  1\n",
      "  44r 3.1586044e+09 1.67e+08 7.63e+04   2.2 2.77e+02   0.7 3.73e-01 9.09e-02f  1\n",
      "  45r 3.1586045e+09 1.53e+08 2.34e+05   2.2 1.05e+02   1.1 1.00e+00 1.77e-01f  1\n",
      "  46r 3.1586045e+09 1.48e+08 2.44e+05   2.2 3.02e+02   0.6 5.01e-01 8.76e-02f  1\n",
      "  47r 3.1586046e+09 1.47e+08 1.93e+05   2.2 1.13e+02   1.0 1.00e+00 2.91e-01f  1\n",
      "  48r 3.1586046e+09 1.49e+08 1.93e+05   2.2 3.32e+02   0.6 5.17e-01 9.27e-02f  1\n",
      "  49r 3.1586046e+09 1.52e+08 1.86e+05   2.2 1.01e+03   0.1 4.20e-01 7.15e-02f  1\n",
      "iter    objective    inf_pr   inf_du lg(mu)  ||d||  lg(rg) alpha_du alpha_pr  ls\n",
      "  50r 3.1586046e+09 1.53e+08 1.79e+05   2.2 3.80e+02   0.5 7.64e-01 6.00e-02f  1\n",
      "  51r 3.1586047e+09 1.54e+08 1.33e+05   2.2 1.42e+02   0.9 1.00e+00 2.30e-01f  1\n",
      "  52r 3.1586047e+09 1.58e+08 1.11e+05   2.2 4.29e+02   0.5 5.34e-01 1.97e-01f  1\n",
      "  53r 3.1586047e+09 1.62e+08 1.16e+05   2.2 1.82e+03  -0.0 3.60e-01 4.03e-02f  1\n",
      "  54r 3.1586047e+09 1.64e+08 6.89e+05   2.2 4.83e+02   0.4 3.63e-01 9.27e-02f  1\n",
      "  55r 3.1586047e+09 1.66e+08 9.03e+04   2.2 1.82e+02   0.8 8.83e-01 1.79e-01f  1\n",
      "  56r 3.1586047e+09 1.68e+08 7.99e+04   2.2 5.76e+02   0.4 2.72e-01 1.10e-01f  1\n",
      "  57r 3.1586047e+09 1.69e+08 6.90e+04   2.2 2.15e+02   0.8 5.54e-01 9.43e-02f  1\n",
      "  58r 3.1586047e+09 1.70e+08 6.53e+04   2.2 6.39e+02   0.3 3.34e-01 1.03e-01f  1\n",
      "  59r 3.1586047e+09 1.70e+08 2.13e+05   2.2 2.37e+02   0.7 1.00e+00 1.38e-01f  1\n",
      "iter    objective    inf_pr   inf_du lg(mu)  ||d||  lg(rg) alpha_du alpha_pr  ls\n",
      "  60r 3.1586047e+09 1.69e+08 5.91e+04   2.2 1.55e+03   0.3 7.02e-02 1.00e-01f  1\n",
      "  61r 3.1586047e+09 1.68e+08 5.34e+04   2.2 2.63e+02   0.7 4.81e-01 1.59e-01f  1\n",
      "  62r 3.1586047e+09 1.68e+08 1.34e+05   2.2 9.66e+01   1.1 1.00e+00 1.42e-01f  1\n",
      "  63r 3.1586047e+09 1.68e+08 1.31e+05   2.2 2.91e+02   0.6 5.18e-01 7.89e-02f  1\n",
      "  64r 3.1586046e+09 1.67e+08 4.25e+04   2.2 1.09e+02   1.1 1.00e+00 5.98e-01f  1\n",
      "  65r 3.1586046e+09 1.66e+08 7.12e+04   2.2 3.27e+02   0.6 2.94e-01 9.81e-02f  1\n",
      "  66r 3.1586046e+09 1.65e+08 6.38e+04   2.2 1.23e+02   1.0 3.17e-01 1.63e-01f  1\n",
      "  67r 3.1586046e+09 1.64e+08 7.56e+04   2.2 3.71e+02   0.5 1.78e-01 1.04e-01f  1\n",
      "  68r 3.1586046e+09 1.63e+08 1.02e+05   2.2 1.38e+02   1.0 8.83e-01 1.42e-01f  1\n",
      "  69r 3.1586046e+09 1.63e+08 2.59e+05   2.2 4.92e+00   3.2 1.00e+00 5.50e-01f  1\n",
      "iter    objective    inf_pr   inf_du lg(mu)  ||d||  lg(rg) alpha_du alpha_pr  ls\n",
      "  70r 3.1586046e+09 1.63e+08 2.20e+05   2.2 2.42e+00   2.7 4.01e-01 1.00e+00f  1\n",
      "  71r 3.1586046e+09 1.63e+08 3.23e+05   2.2 7.26e+00   2.2 1.00e+00 1.00e+00f  1\n",
      "  72r 3.1586046e+09 1.63e+08 6.54e+05   2.2 4.07e+00   2.7 1.00e+00 3.97e-02f  1\n",
      "  73r 3.1586046e+09 1.63e+08 5.60e+05   2.2 8.17e+00   2.2 4.98e-01 5.95e-01f  1\n",
      "  74r 3.1586046e+09 1.63e+08 5.36e+05   2.2 1.93e+00   4.4 1.00e+00 5.92e-01f  1\n",
      "  75r 3.1586046e+09 1.63e+08 2.91e+04   2.2 8.32e-01   3.9 1.00e+00 1.00e+00f  1\n",
      "  76r 3.1586046e+09 1.63e+08 1.74e+04   2.2 4.31e-01   3.5 1.00e+00 1.00e+00f  1\n",
      "  77r 3.1586046e+09 1.63e+08 2.65e+03   2.2 1.29e+00   3.0 1.00e+00 1.00e+00f  1\n",
      "  78r 3.1586046e+09 1.63e+08 2.38e+05   1.5 3.87e+00   2.5 1.00e+00 1.00e+00f  1\n",
      "  79r 3.1586046e+09 1.63e+08 2.26e+05   1.5 1.13e+01   2.0 7.90e-01 1.47e-01f  1\n",
      "iter    objective    inf_pr   inf_du lg(mu)  ||d||  lg(rg) alpha_du alpha_pr  ls\n",
      "  80r 3.1586046e+09 1.62e+08 1.26e+05   1.5 3.41e+01   1.5 1.00e+00 2.53e-01f  1\n",
      "  81r 3.1586046e+09 1.62e+08 8.89e+04   1.5 1.03e+02   1.1 2.64e-01 8.14e-02f  1\n",
      "  82r 3.1586046e+09 1.62e+08 6.93e+04   1.5 3.11e+02   0.6 5.27e-01 5.16e-02f  1\n",
      "  83r 3.1586046e+09 1.61e+08 5.36e+04   1.5 1.16e+02   1.0 5.56e-01 6.60e-02f  1\n",
      "  84r 3.1586046e+09 1.60e+08 7.87e+04   1.5 3.50e+02   0.5 6.16e-01 8.36e-02f  1\n",
      "  85r 3.1586046e+09 1.60e+08 6.64e+04   1.5 1.31e+02   1.0 7.31e-01 5.95e-02f  1\n",
      "  86r 3.1586046e+09 1.58e+08 1.16e+05   1.5 4.53e+02   0.5 5.41e-01 1.24e-01f  1\n",
      "  87r 3.1586046e+09 1.58e+08 6.47e+04   1.5 3.79e+00   2.7 4.30e-02 2.71e-01f  1\n",
      "  88r 3.1586046e+09 1.58e+08 4.43e+05   1.5 1.93e+00   3.2 3.59e-01 1.00e+00f  1\n",
      "  89r 3.1586046e+09 1.58e+08 4.71e+05   1.5 4.49e+00   2.7 1.00e+00 3.80e-01f  1\n",
      "iter    objective    inf_pr   inf_du lg(mu)  ||d||  lg(rg) alpha_du alpha_pr  ls\n",
      "  90r 3.1586046e+09 1.58e+08 4.57e+06   1.5 7.71e+00   2.2 1.00e+00 4.85e-01f  1\n",
      "  91r 3.1586046e+09 1.58e+08 4.10e+06   1.5 2.32e+01   1.7 6.39e-02 5.78e-01f  1\n",
      "  92r 3.1586046e+09 1.58e+08 2.51e+04   1.5 1.08e+00   3.0 1.00e+00 1.00e+00f  1\n",
      "  93r 3.1586046e+09 1.58e+08 1.19e+04   1.5 3.25e+00   2.6 1.00e+00 7.90e-01f  1\n",
      "  94r 3.1586046e+09 1.57e+08 7.33e+04   1.5 9.77e+00   2.1 1.00e+00 1.00e+00f  1\n",
      "  95r 3.1586046e+09 1.57e+08 8.38e+04   1.5 2.94e+01   1.6 1.00e+00 4.23e-01f  1\n",
      "  96r 3.1586046e+09 1.56e+08 6.81e+04   1.5 8.84e+01   1.1 1.00e+00 2.40e-01f  1\n",
      "  97r 3.1586046e+09 1.55e+08 1.52e+05   1.5 2.79e+02   0.7 6.91e-01 1.14e-01f  1\n",
      "  98r 3.1586045e+09 1.53e+08 6.79e+04   1.5 9.97e+01   1.1 1.00e+00 5.15e-01f  1\n",
      "  99r 3.1586045e+09 1.53e+08 8.12e+04   1.5 3.54e+02   0.6 5.34e-02 1.76e-02f  1\n",
      "iter    objective    inf_pr   inf_du lg(mu)  ||d||  lg(rg) alpha_du alpha_pr  ls\n",
      " 100r 3.1586045e+09 1.50e+08 4.74e+04   1.5 1.12e+02   1.0 1.00e+00 7.98e-01f  1\n",
      " 101r 3.1586045e+09 1.49e+08 2.44e+05   1.5 5.02e+02   0.6 1.61e-01 4.40e-03f  1\n",
      " 102r 3.1586045e+09 1.48e+08 1.09e+05   1.5 1.27e+02   1.0 3.23e-01 2.92e-01f  1\n",
      " 103r 3.1586045e+09 1.48e+08 5.78e+05   1.5 5.34e+00   3.2 4.06e-02 4.00e-01f  1\n",
      " 104r 3.1586045e+09 1.48e+08 3.45e+05   1.5 3.28e+00   2.7 5.89e-01 2.35e-01f  1\n"
     ]
    },
    {
     "name": "stdout",
     "output_type": "stream",
     "text": [
      " 105r 3.1586045e+09 1.48e+08 5.43e+04   1.5 1.68e+01   2.3 1.00e+00 7.81e-01f  1\n",
      " 106r 3.1586045e+09 1.47e+08 2.64e+04   1.5 2.00e+01   1.8 1.70e-02 2.44e-01f  1\n",
      " 107r 3.1586045e+09 1.47e+08 3.11e+05   1.5 1.01e+01   3.1 5.76e-02 5.76e-01f  1\n",
      " 108r 3.1586045e+09 1.47e+08 4.31e+05   1.5 5.03e+00   3.5 1.00e+00 3.53e-01f  1\n",
      " 109r 3.1586045e+09 1.47e+08 3.09e+05   1.5 1.35e+01   3.1 4.28e-01 1.96e-01f  1\n",
      "iter    objective    inf_pr   inf_du lg(mu)  ||d||  lg(rg) alpha_du alpha_pr  ls\n",
      " 110r 3.1586045e+09 1.47e+08 3.53e+05   1.5 2.82e+00   3.5 9.58e-01 5.01e-02f  1\n",
      " 111r 3.1586045e+09 1.47e+08 3.76e+05   1.5 2.73e+00   3.0 3.42e-02 5.19e-01f  1\n",
      " 112r 3.1586045e+09 1.47e+08 6.85e+05   1.5 1.88e+00   4.3 2.38e-01 2.57e-01f  1\n",
      " 113r 3.1586045e+09 1.47e+08 4.20e+06   1.5 1.13e+00   5.7 2.67e-01 7.69e-02f  1\n",
      " 114r 3.1586045e+09 1.47e+08 3.42e+06   1.5 1.32e+00   5.2 1.24e-01 2.78e-01f  1\n",
      " 115r 3.1586045e+09 1.47e+08 2.71e+06   1.5 8.89e-01   4.7 2.82e-01 4.43e-01f  1\n",
      " 116r 3.1586045e+09 1.47e+08 2.54e+06   1.5 3.61e+00   4.2 1.58e-01 3.03e-01f  1\n",
      " 117r 3.1586045e+09 1.47e+08 1.40e+06   1.5 9.47e-01   3.8 1.00e+00 1.69e-01f  1\n",
      " 118r 3.1586045e+09 1.47e+08 1.48e+06   1.5 1.15e+00   4.2 3.38e-02 7.70e-01f  1\n",
      " 119r 3.1586045e+09 1.47e+08 8.35e+05   1.5 9.89e-01   4.6 3.07e-01 4.60e-01f  1\n",
      "iter    objective    inf_pr   inf_du lg(mu)  ||d||  lg(rg) alpha_du alpha_pr  ls\n",
      " 120r 3.1586045e+09 1.47e+08 3.99e+05   1.5 1.03e+00   4.1 6.40e-01 4.99e-01f  1\n",
      " 121r 3.1586045e+09 1.47e+08 2.40e+05   1.5 5.59e-01   3.7 1.00e+00 1.95e-01f  1\n",
      " 122r 3.1586045e+09 1.47e+08 4.01e+05   1.5 1.59e+00   3.2 1.00e+00 4.23e-01f  1\n",
      " 123r 3.1586045e+09 1.47e+08 4.74e+05   1.5 2.41e+00   2.7 8.79e-02 1.00e+00f  1\n",
      " 124r 3.1586045e+09 1.47e+08 4.18e+05   1.5 9.08e+00   4.0 8.70e-02 1.70e-01f  1\n",
      " 125r 3.1586045e+09 1.47e+08 2.44e+05   1.5 1.54e+00   4.5 5.01e-01 2.16e-01f  1\n",
      " 126r 3.1586045e+09 1.47e+08 4.45e+05   1.5 1.56e+00   4.0 5.38e-01 4.67e-01f  1\n",
      " 127r 3.1586045e+09 1.47e+08 6.16e+05   1.5 1.80e+00   3.5 3.53e-02 1.40e-01f  1\n",
      " 128r 3.1586045e+09 1.47e+08 8.76e+05   1.5 2.68e+00   4.8 8.72e-02 1.79e-01f  1\n",
      " 129r 3.1586045e+09 1.47e+08 4.36e+05   1.5 6.68e-01   4.4 7.07e-01 4.63e-01f  1\n",
      "iter    objective    inf_pr   inf_du lg(mu)  ||d||  lg(rg) alpha_du alpha_pr  ls\n",
      " 130r 3.1586045e+09 1.47e+08 2.69e+05   1.5 1.89e+00   3.9 4.33e-01 3.12e-01f  1\n",
      " 131r 3.1586045e+09 1.47e+08 2.43e+05   1.5 1.24e+01   3.4 2.29e-01 1.14e-01f  1\n",
      " 132r 3.1586045e+09 1.47e+08 3.90e+05   1.5 1.52e+00   3.8 1.00e+00 1.02e-01f  1\n",
      " 133r 3.1586045e+09 1.47e+08 6.44e+04   1.5 1.31e+00   3.4 1.00e+00 8.22e-01f  1\n",
      " 134r 3.1586045e+09 1.47e+08 7.62e+03   1.5 1.63e+00   2.9 1.00e+00 1.00e+00f  1\n",
      " 135r 3.1586045e+09 1.47e+08 4.47e+03   1.5 4.88e+00   2.4 1.00e+00 1.00e+00f  1\n",
      " 136r 3.1586045e+09 1.46e+08 2.22e+03   1.5 1.47e+01   1.9 1.00e+00 1.00e+00f  1\n",
      " 137r 3.1586045e+09 1.46e+08 1.72e+05   0.8 4.40e+01   1.4 8.77e-01 7.94e-02f  1\n",
      " 138r 3.1586045e+09 1.46e+08 1.83e+05   0.8 1.30e+02   1.0 7.31e-01 3.97e-02f  1\n",
      " 139r 3.1586045e+09 1.46e+08 1.24e+05   0.8 6.04e+00   2.3 1.00e+00 1.95e-01f  1\n",
      "iter    objective    inf_pr   inf_du lg(mu)  ||d||  lg(rg) alpha_du alpha_pr  ls\n",
      " 140r 3.1586045e+09 1.45e+08 7.05e+04   0.8 1.81e+01   1.8 1.47e-01 4.78e-01f  1\n",
      " 141r 3.1586045e+09 1.45e+08 1.99e+05   0.8 1.30e+01   4.1 5.18e-02 9.14e-02f  1\n",
      " 142r 3.1586045e+09 1.45e+08 3.30e+05   0.8 2.19e+00   3.6 1.00e+00 6.55e-02f  1\n",
      " 143r 3.1586045e+09 1.45e+08 2.21e+05   0.8 4.43e+00   3.1 1.00e+00 6.09e-01f  1\n",
      " 144r 3.1586045e+09 1.45e+08 2.59e+05   0.8 2.94e+00   2.6 1.00e+00 1.55e-01f  1\n",
      " 145r 3.1586045e+09 1.45e+08 1.77e+05   0.8 1.18e+01   2.1 1.00e+00 3.03e-01f  1\n",
      " 146r 3.1586045e+09 1.45e+08 6.48e+04   0.8 2.58e+01   1.7 1.00e+00 6.07e-01f  1\n",
      " 147r 3.1586045e+09 1.44e+08 7.05e+04   0.8 7.78e+01   1.2 9.11e-01 3.02e-01f  1\n",
      " 148r 3.1586045e+09 1.44e+08 7.70e+04   0.8 2.60e+02   0.7 8.46e-04 5.97e-03f  1\n",
      " 149r 3.1586045e+09 1.43e+08 5.42e+04   0.8 8.76e+01   1.1 9.46e-02 2.01e-01f  1\n",
      "iter    objective    inf_pr   inf_du lg(mu)  ||d||  lg(rg) alpha_du alpha_pr  ls\n",
      " 150r 3.1586045e+09 1.43e+08 1.13e+05   0.8 5.15e+00   3.4 3.61e-01 5.32e-01f  1\n",
      " 151r 3.1586045e+09 1.43e+08 2.20e+05   0.8 2.47e+00   2.9 1.00e+00 1.56e-01f  1\n",
      " 152r 3.1586045e+09 1.43e+08 1.45e+05   0.8 5.21e+00   2.4 3.51e-01 3.32e-01f  1\n",
      " 153r 3.1586045e+09 1.43e+08 8.92e+04   0.8 1.82e+00   4.6 1.34e-01 9.48e-02f  1\n",
      " 154r 3.1586045e+09 1.43e+08 2.93e+05   0.8 1.65e+00   4.2 1.98e-01 1.00e+00f  1\n",
      " 155r 3.1586045e+09 1.43e+08 4.33e+05   0.8 8.08e-01   3.7 1.00e+00 3.81e-01f  1\n",
      " 156r 3.1586045e+09 1.43e+08 8.75e+05   0.8 7.29e-01   3.2 1.00e+00 1.75e-01f  1\n",
      " 157r 3.1586045e+09 1.43e+08 2.29e+05   0.8 2.19e+00   2.7 1.00e+00 7.32e-01f  1\n",
      " 158r 3.1586045e+09 1.42e+08 1.94e+05   0.8 6.56e+00   2.3 5.54e-02 6.11e-01f  1\n",
      " 159r 3.1586045e+09 1.42e+08 2.17e+05   0.8 3.19e+00   4.5 7.67e-02 1.71e-01f  1\n",
      "iter    objective    inf_pr   inf_du lg(mu)  ||d||  lg(rg) alpha_du alpha_pr  ls\n",
      " 160r 3.1586045e+09 1.42e+08 2.67e+05   0.8 1.62e+01   4.0 3.87e-02 6.96e-02f  1\n",
      " 161r 3.1586045e+09 1.42e+08 2.49e+05   0.8 2.61e+00   4.4 9.76e-02 6.72e-02f  1\n",
      " 162r 3.1586045e+09 1.42e+08 2.43e+05   0.8 2.07e+01   4.0 3.43e-02 5.75e-02f  1\n",
      " 163r 3.1586045e+09 1.42e+08 7.59e+05   0.8 2.98e+00   3.5 8.00e-01 3.26e-02f  1\n",
      " 164r 3.1586045e+09 1.42e+08 3.72e+05   0.8 1.60e+00   3.0 1.00e+00 7.52e-01f  1\n",
      " 165r 3.1586045e+09 1.42e+08 5.09e+05   0.8 3.50e+00   2.5 3.49e-02 1.00e+00f  1\n",
      " 166r 3.1586045e+09 1.42e+08 3.59e+05   0.8 9.80e-01   4.8 2.60e-01 1.51e-01f  1\n",
      " 167r 3.1586045e+09 1.42e+08 2.61e+05   0.8 8.37e-01   4.3 1.00e+00 9.73e-01f  1\n",
      " 168r 3.1586045e+09 1.42e+08 3.74e+05   0.8 3.29e-01   3.8 2.40e-02 2.54e-01f  1\n",
      " 169r 3.1586045e+09 1.42e+08 4.12e+05   0.8 1.61e+00   5.1 7.03e-03 1.12e-01f  1\n",
      "iter    objective    inf_pr   inf_du lg(mu)  ||d||  lg(rg) alpha_du alpha_pr  ls\n",
      " 170r 3.1586045e+09 1.42e+08 4.67e+05   0.8 4.30e-01   4.7 9.56e-01 9.94e-02f  1\n",
      " 171r 3.1586045e+09 1.42e+08 1.55e+05   0.8 3.94e-01   4.2 1.00e+00 1.00e+00f  1\n",
      " 172r 3.1586045e+09 1.42e+08 1.33e+05   0.8 1.10e+00   3.7 1.00e+00 1.00e+00f  1\n",
      " 173r 3.1586045e+09 1.42e+08 2.39e+04   0.8 1.13e+00   3.2 1.00e+00 9.77e-01f  1\n",
      " 174r 3.1586045e+09 1.42e+08 2.66e+04   0.8 2.11e+00   2.8 1.00e+00 1.00e+00f  1\n",
      " 175r 3.1586045e+09 1.42e+08 2.71e+04   0.8 6.32e+00   2.3 1.00e+00 1.42e-01f  1\n",
      " 176r 3.1586045e+09 1.42e+08 1.47e+05   0.8 1.90e+01   1.8 1.00e+00 1.18e-01f  1\n",
      " 177r 3.1586045e+09 1.42e+08 1.72e+05   0.8 5.70e+01   1.3 5.34e-01 9.57e-02f  1\n",
      " 178r 3.1586045e+09 1.42e+08 1.75e+05   0.8 7.58e-01   3.6 1.00e+00 3.32e-01f  1\n",
      " 179r 3.1586045e+09 1.42e+08 1.25e+05   0.8 3.71e+00   4.0 2.84e-01 2.84e-01f  1\n",
      "iter    objective    inf_pr   inf_du lg(mu)  ||d||  lg(rg) alpha_du alpha_pr  ls\n",
      " 180r 3.1586045e+09 1.42e+08 2.19e+05   0.8 1.80e+00   3.5 1.00e+00 3.45e-02f  1\n",
      " 181r 3.1586045e+09 1.42e+08 2.13e+05   0.8 1.74e+00   3.0 1.00e+00 4.70e-01f  1\n",
      " 182r 3.1586045e+09 1.41e+08 3.11e+05   0.8 1.80e+01   2.6 2.90e-02 1.00e+00f  1\n",
      " 183r 3.1586045e+09 1.41e+08 4.25e+05   0.8 1.82e+01   3.9 1.32e-01 5.47e-02f  1\n",
      " 184r 3.1586045e+09 1.41e+08 3.71e+05   0.8 1.71e+01   4.3 7.13e-03 5.90e-02f  1\n",
      " 185r 3.1586045e+09 1.41e+08 3.78e+06   0.8 1.61e+01   3.8 7.97e-02 1.90e-01f  1\n",
      "Error in an AMPL evaluation. Run with \"halt_on_ampl_error yes\" to see details.\n",
      "Warning: Cutting back alpha due to evaluation error\n",
      " 186r 3.1586045e+09 1.41e+08 7.61e+08   0.8 1.28e+01   7.0 2.27e-02 1.82e-05h  2\n",
      " 187r 3.1586045e+09 1.41e+08 8.75e+08   0.8 1.30e+01   6.5 3.45e-02 8.91e-03h  1\n",
      " 188r 3.1586045e+09 1.41e+08 8.50e+08   0.8 1.29e+01   6.0 1.94e-02 2.28e-02H  1\n",
      " 189r 3.1586045e+09 1.41e+08 7.96e+08   0.8 1.26e+01   5.5 7.63e-02 5.78e-02h  1\n",
      "iter    objective    inf_pr   inf_du lg(mu)  ||d||  lg(rg) alpha_du alpha_pr  ls\n",
      " 190r 3.1586045e+09 1.41e+08 7.35e+08   0.8 1.19e+01   5.1 6.89e-02 1.51e-01f  1\n",
      " 191r 3.1586045e+09 1.41e+08 7.34e+08   0.8 1.00e+01   4.6 1.41e-02 1.04e-01f  1\n",
      " 192r 3.1586045e+09 1.41e+08 5.03e+08   0.8 8.96e+00   4.1 2.88e-01 1.66e-01f  1\n",
      " 193r 3.1586045e+09 1.41e+08 1.57e+08   0.8 7.39e+00   3.6 5.63e-01 1.11e-01f  1\n",
      " 194r 3.1586045e+09 1.41e+08 1.39e+08   0.8 6.38e+00   3.1 1.47e-01 2.08e-01f  1\n",
      " 195r 3.1586045e+09 1.41e+08 1.28e+08   0.8 1.72e+01   7.2 1.25e-03 2.01e-03h  1\n",
      " 196r 3.1586045e+09 1.41e+08 2.13e+08   0.8 5.27e+00   6.7 2.02e-02 2.51e-04h  4\n",
      " 197r 3.1586045e+09 1.41e+08 1.98e+08   0.8 5.27e+00   7.1 2.54e-03 3.64e-03H  1\n",
      "Error in an AMPL evaluation. Run with \"halt_on_ampl_error yes\" to see details.\n",
      "Warning: Cutting back alpha due to evaluation error\n",
      "Error in an AMPL evaluation. Run with \"halt_on_ampl_error yes\" to see details.\n",
      "Warning: Cutting back alpha due to evaluation error\n",
      "Error in an AMPL evaluation. Run with \"halt_on_ampl_error yes\" to see details.\n",
      "Warning: Cutting back alpha due to evaluation error\n",
      " 198r 3.1586045e+09 1.41e+08 2.06e+10   0.8 5.20e+00   9.4 1.64e-02 8.72e-06h  5\n",
      "Error in an AMPL evaluation. Run with \"halt_on_ampl_error yes\" to see details.\n",
      "Warning: Cutting back alpha due to evaluation error\n",
      "Error in an AMPL evaluation. Run with \"halt_on_ampl_error yes\" to see details.\n",
      "Warning: Cutting back alpha due to evaluation error\n",
      "Error in an AMPL evaluation. Run with \"halt_on_ampl_error yes\" to see details.\n",
      "Warning: Cutting back alpha due to evaluation error\n",
      " 199r 3.1586045e+09 1.41e+08 4.04e+10   0.8 5.25e+00   8.9 3.39e-02 6.39e-05h  4\n",
      "Error in an AMPL evaluation. Run with \"halt_on_ampl_error yes\" to see details.\n",
      "Warning: Cutting back alpha due to evaluation error\n",
      "Error in an AMPL evaluation. Run with \"halt_on_ampl_error yes\" to see details.\n",
      "Warning: Cutting back alpha due to evaluation error\n",
      "Error in an AMPL evaluation. Run with \"halt_on_ampl_error yes\" to see details.\n",
      "Warning: Cutting back alpha due to evaluation error\n",
      "Error in an AMPL evaluation. Run with \"halt_on_ampl_error yes\" to see details.\n",
      "Warning: Cutting back alpha due to evaluation error\n",
      "Error in an AMPL evaluation. Run with \"halt_on_ampl_error yes\" to see details.\n",
      "Warning: Cutting back alpha due to evaluation error\n",
      "iter    objective    inf_pr   inf_du lg(mu)  ||d||  lg(rg) alpha_du alpha_pr  ls\n",
      " 200r 3.1586045e+09 1.41e+08 4.23e+10   0.8 5.25e+00   8.4 1.13e-02 8.12e-07h 15\n",
      "\n",
      "Number of Iterations....: 200\n",
      "\n",
      "                                   (scaled)                 (unscaled)\n",
      "Objective...............:   3.1586045272691073e+09    3.1586045272691073e+09\n",
      "Dual infeasibility......:   4.2316279741861664e+10    4.2316279741861664e+10\n",
      "Constraint violation....:   6.4051024815596275e+07    1.4144730960040569e+08\n",
      "Complementarity.........:   8.6481286213077897e+02    8.6481286213077897e+02\n",
      "Overall NLP error.......:   6.4051024815596275e+07    4.2316279741861664e+10\n",
      "\n",
      "\n",
      "Number of objective function evaluations             = 228\n",
      "Number of objective gradient evaluations             = 8\n",
      "Number of equality constraint evaluations            = 240\n",
      "Number of inequality constraint evaluations          = 228\n",
      "Number of equality constraint Jacobian evaluations   = 204\n",
      "Number of inequality constraint Jacobian evaluations = 204\n",
      "Number of Lagrangian Hessian evaluations             = 200\n",
      "Total CPU secs in IPOPT (w/o function evaluations)   =     16.210\n",
      "Total CPU secs in NLP function evaluations           =   4589.574\n",
      "\n",
      "EXIT: Maximum Number of Iterations Exceeded.\n"
     ]
    },
    {
     "name": "stderr",
     "output_type": "stream",
     "text": [
      "WARNING:pyomo.core:Loading a SolverResults object with a warning status into model.name=\"unknown\";\n",
      "  - termination condition: maxIterations\n",
      "  - message from solver: Ipopt 3.13.2\\x3a Maximum Number of Iterations Exceeded.\n"
     ]
    },
    {
     "name": "stdout",
     "output_type": "stream",
     "text": [
      "Calculating PTDF Matrix Factorization\n"
     ]
    },
    {
     "name": "stderr",
     "output_type": "stream",
     "text": [
      "INFO:egret:Calculating PTDF Matrix Factorization\n"
     ]
    },
    {
     "name": "stdout",
     "output_type": "stream",
     "text": [
      "\n",
      "Pyomo model construction time:         3.43\n",
      "\n",
      "Failed to solve deterministic RUC instance - likely because no feasible solution exists!\n",
      "Wrote failed RUC data to file=bad_ruc.json\n"
     ]
    },
    {
     "ename": "Exception",
     "evalue": "Problem encountered during solve, termination_condition infeasibleOrUnbounded",
     "output_type": "error",
     "traceback": [
      "\u001b[1;31m---------------------------------------------------------------------------\u001b[0m",
      "\u001b[1;31mException\u001b[0m                                 Traceback (most recent call last)",
      "\u001b[1;32m~\\AppData\\Local\\Temp\\ipykernel_34804\\95747395.py\u001b[0m in \u001b[0;36m<cell line: 1>\u001b[1;34m()\u001b[0m\n\u001b[1;32m----> 1\u001b[1;33m \u001b[0mPrescient\u001b[0m\u001b[1;33m(\u001b[0m\u001b[1;33m)\u001b[0m\u001b[1;33m.\u001b[0m\u001b[0msimulate\u001b[0m\u001b[1;33m(\u001b[0m\u001b[1;33m**\u001b[0m\u001b[0moptions\u001b[0m\u001b[1;33m)\u001b[0m\u001b[1;33m\u001b[0m\u001b[1;33m\u001b[0m\u001b[0m\n\u001b[0m",
      "\u001b[1;32m~\\.conda\\envs\\dispatches-dev\\lib\\site-packages\\prescient\\simulator\\prescient.py\u001b[0m in \u001b[0;36msimulate\u001b[1;34m(self, **options)\u001b[0m\n\u001b[0;32m     73\u001b[0m             \u001b[0mself\u001b[0m\u001b[1;33m.\u001b[0m\u001b[0mconfig\u001b[0m\u001b[1;33m.\u001b[0m\u001b[0mset_value\u001b[0m\u001b[1;33m(\u001b[0m\u001b[0moptions\u001b[0m\u001b[1;33m)\u001b[0m\u001b[1;33m\u001b[0m\u001b[1;33m\u001b[0m\u001b[0m\n\u001b[0;32m     74\u001b[0m \u001b[1;33m\u001b[0m\u001b[0m\n\u001b[1;32m---> 75\u001b[1;33m         \u001b[1;32mreturn\u001b[0m \u001b[0mself\u001b[0m\u001b[1;33m.\u001b[0m\u001b[0m_simulate\u001b[0m\u001b[1;33m(\u001b[0m\u001b[0mself\u001b[0m\u001b[1;33m.\u001b[0m\u001b[0mconfig\u001b[0m\u001b[1;33m)\u001b[0m\u001b[1;33m\u001b[0m\u001b[1;33m\u001b[0m\u001b[0m\n\u001b[0m\u001b[0;32m     76\u001b[0m \u001b[1;33m\u001b[0m\u001b[0m\n\u001b[0;32m     77\u001b[0m     \u001b[1;32mdef\u001b[0m \u001b[0m_simulate\u001b[0m\u001b[1;33m(\u001b[0m\u001b[0mself\u001b[0m\u001b[1;33m,\u001b[0m \u001b[0moptions\u001b[0m\u001b[1;33m:\u001b[0m \u001b[0mPrescientConfig\u001b[0m\u001b[1;33m)\u001b[0m\u001b[1;33m:\u001b[0m\u001b[1;33m\u001b[0m\u001b[1;33m\u001b[0m\u001b[0m\n",
      "\u001b[1;32m~\\.conda\\envs\\dispatches-dev\\lib\\site-packages\\prescient\\simulator\\prescient.py\u001b[0m in \u001b[0;36m_simulate\u001b[1;34m(self, options)\u001b[0m\n\u001b[0;32m     80\u001b[0m                                 \"If you wish to simulate again create a new Prescient object.\")\n\u001b[0;32m     81\u001b[0m         \u001b[0mself\u001b[0m\u001b[1;33m.\u001b[0m\u001b[0msimulate_called\u001b[0m \u001b[1;33m=\u001b[0m \u001b[1;32mTrue\u001b[0m\u001b[1;33m\u001b[0m\u001b[1;33m\u001b[0m\u001b[0m\n\u001b[1;32m---> 82\u001b[1;33m         \u001b[1;32mreturn\u001b[0m \u001b[0msuper\u001b[0m\u001b[1;33m(\u001b[0m\u001b[1;33m)\u001b[0m\u001b[1;33m.\u001b[0m\u001b[0msimulate\u001b[0m\u001b[1;33m(\u001b[0m\u001b[0moptions\u001b[0m\u001b[1;33m)\u001b[0m\u001b[1;33m\u001b[0m\u001b[1;33m\u001b[0m\u001b[0m\n\u001b[0m\u001b[0;32m     83\u001b[0m \u001b[1;33m\u001b[0m\u001b[0m\n\u001b[0;32m     84\u001b[0m \u001b[1;32mdef\u001b[0m \u001b[0mmain\u001b[0m\u001b[1;33m(\u001b[0m\u001b[0margs\u001b[0m\u001b[1;33m=\u001b[0m\u001b[1;32mNone\u001b[0m\u001b[1;33m)\u001b[0m\u001b[1;33m:\u001b[0m\u001b[1;33m\u001b[0m\u001b[1;33m\u001b[0m\u001b[0m\n",
      "\u001b[1;32m~\\.conda\\envs\\dispatches-dev\\lib\\site-packages\\prescient\\simulator\\simulator.py\u001b[0m in \u001b[0;36msimulate\u001b[1;34m(self, options)\u001b[0m\n\u001b[0;32m     93\u001b[0m \u001b[1;33m\u001b[0m\u001b[0m\n\u001b[0;32m     94\u001b[0m         \u001b[0mfirst_time_step\u001b[0m \u001b[1;33m=\u001b[0m \u001b[0mtime_manager\u001b[0m\u001b[1;33m.\u001b[0m\u001b[0mget_first_time_step\u001b[0m\u001b[1;33m(\u001b[0m\u001b[1;33m)\u001b[0m\u001b[1;33m\u001b[0m\u001b[1;33m\u001b[0m\u001b[0m\n\u001b[1;32m---> 95\u001b[1;33m         \u001b[0moracle_manager\u001b[0m\u001b[1;33m.\u001b[0m\u001b[0mcall_initialization_oracle\u001b[0m\u001b[1;33m(\u001b[0m\u001b[0moptions\u001b[0m\u001b[1;33m,\u001b[0m \u001b[0mfirst_time_step\u001b[0m\u001b[1;33m)\u001b[0m\u001b[1;33m\u001b[0m\u001b[1;33m\u001b[0m\u001b[0m\n\u001b[0m\u001b[0;32m     96\u001b[0m \u001b[1;33m\u001b[0m\u001b[0m\n\u001b[0;32m     97\u001b[0m         \u001b[1;32mfor\u001b[0m \u001b[0mtime_step\u001b[0m \u001b[1;32min\u001b[0m \u001b[0mtime_manager\u001b[0m\u001b[1;33m.\u001b[0m\u001b[0mtime_steps\u001b[0m\u001b[1;33m(\u001b[0m\u001b[1;33m)\u001b[0m\u001b[1;33m:\u001b[0m\u001b[1;33m\u001b[0m\u001b[1;33m\u001b[0m\u001b[0m\n",
      "\u001b[1;32m~\\.conda\\envs\\dispatches-dev\\lib\\site-packages\\prescient\\simulator\\oracle_manager.py\u001b[0m in \u001b[0;36mcall_initialization_oracle\u001b[1;34m(self, options, time_step)\u001b[0m\n\u001b[0;32m    123\u001b[0m         \u001b[1;31m#################################################################\u001b[0m\u001b[1;33m\u001b[0m\u001b[1;33m\u001b[0m\u001b[0m\n\u001b[0;32m    124\u001b[0m \u001b[1;33m\u001b[0m\u001b[0m\n\u001b[1;32m--> 125\u001b[1;33m         \u001b[0mself\u001b[0m\u001b[1;33m.\u001b[0m\u001b[0m_generate_pending_ruc\u001b[0m\u001b[1;33m(\u001b[0m\u001b[0moptions\u001b[0m\u001b[1;33m,\u001b[0m \u001b[0mtime_step\u001b[0m\u001b[1;33m.\u001b[0m\u001b[0mdate\u001b[0m\u001b[1;33m,\u001b[0m \u001b[0mtime_step\u001b[0m\u001b[1;33m.\u001b[0m\u001b[0mhour\u001b[0m\u001b[1;33m,\u001b[0m \u001b[1;32mNone\u001b[0m\u001b[1;33m)\u001b[0m\u001b[1;33m\u001b[0m\u001b[1;33m\u001b[0m\u001b[0m\n\u001b[0m\u001b[0;32m    126\u001b[0m         \u001b[0mself\u001b[0m\u001b[1;33m.\u001b[0m\u001b[0mactivate_pending_ruc\u001b[0m\u001b[1;33m(\u001b[0m\u001b[0moptions\u001b[0m\u001b[1;33m)\u001b[0m\u001b[1;33m\u001b[0m\u001b[1;33m\u001b[0m\u001b[0m\n\u001b[0;32m    127\u001b[0m \u001b[1;33m\u001b[0m\u001b[0m\n",
      "\u001b[1;32m~\\.conda\\envs\\dispatches-dev\\lib\\site-packages\\prescient\\simulator\\oracle_manager.py\u001b[0m in \u001b[0;36m_generate_pending_ruc\u001b[1;34m(self, options, uc_date, uc_hour, sim_state_for_ruc)\u001b[0m\n\u001b[0;32m    210\u001b[0m \u001b[1;33m\u001b[0m\u001b[0m\n\u001b[0;32m    211\u001b[0m         \u001b[1;31m# Solve RUC\u001b[0m\u001b[1;33m\u001b[0m\u001b[1;33m\u001b[0m\u001b[0m\n\u001b[1;32m--> 212\u001b[1;33m         deterministic_ruc_instance, ruc_market = self._solve_ruc(\n\u001b[0m\u001b[0;32m    213\u001b[0m                 \u001b[0moptions\u001b[0m\u001b[1;33m,\u001b[0m\u001b[1;33m\u001b[0m\u001b[1;33m\u001b[0m\u001b[0m\n\u001b[0;32m    214\u001b[0m                 \u001b[0muc_date\u001b[0m\u001b[1;33m,\u001b[0m\u001b[1;33m\u001b[0m\u001b[1;33m\u001b[0m\u001b[0m\n",
      "\u001b[1;32m~\\.conda\\envs\\dispatches-dev\\lib\\site-packages\\prescient\\simulator\\oracle_manager.py\u001b[0m in \u001b[0;36m_solve_ruc\u001b[1;34m(self, options, uc_date, uc_hour, deterministic_ruc_instance, compute_market_settlements)\u001b[0m\n\u001b[0;32m    160\u001b[0m     \u001b[1;32mdef\u001b[0m \u001b[0m_solve_ruc\u001b[0m\u001b[1;33m(\u001b[0m\u001b[0mself\u001b[0m\u001b[1;33m,\u001b[0m \u001b[0moptions\u001b[0m\u001b[1;33m,\u001b[0m \u001b[0muc_date\u001b[0m\u001b[1;33m,\u001b[0m \u001b[0muc_hour\u001b[0m\u001b[1;33m,\u001b[0m \u001b[0mdeterministic_ruc_instance\u001b[0m\u001b[1;33m,\u001b[0m \u001b[0mcompute_market_settlements\u001b[0m\u001b[1;33m:\u001b[0m\u001b[0mbool\u001b[0m\u001b[1;33m)\u001b[0m\u001b[1;33m:\u001b[0m\u001b[1;33m\u001b[0m\u001b[1;33m\u001b[0m\u001b[0m\n\u001b[0;32m    161\u001b[0m         \u001b[1;34m''' Solve a RUC, and generate and solve market RUC if options indicate we should '''\u001b[0m\u001b[1;33m\u001b[0m\u001b[1;33m\u001b[0m\u001b[0m\n\u001b[1;32m--> 162\u001b[1;33m         deterministic_ruc_instance = self.engine.solve_deterministic_ruc(\n\u001b[0m\u001b[0;32m    163\u001b[0m             \u001b[0moptions\u001b[0m\u001b[1;33m,\u001b[0m\u001b[1;33m\u001b[0m\u001b[1;33m\u001b[0m\u001b[0m\n\u001b[0;32m    164\u001b[0m             \u001b[0mdeterministic_ruc_instance\u001b[0m\u001b[1;33m,\u001b[0m\u001b[1;33m\u001b[0m\u001b[1;33m\u001b[0m\u001b[0m\n",
      "\u001b[1;32m~\\.conda\\envs\\dispatches-dev\\lib\\site-packages\\prescient\\engine\\egret\\engine.py\u001b[0m in \u001b[0;36msolve_deterministic_ruc\u001b[1;34m(self, options, ruc_instance, uc_date, uc_hour)\u001b[0m\n\u001b[0;32m    106\u001b[0m         \u001b[0mnetwork_type\u001b[0m \u001b[1;33m=\u001b[0m \u001b[0m_network_type_to_egret_network_constraints\u001b[0m\u001b[1;33m[\u001b[0m\u001b[0moptions\u001b[0m\u001b[1;33m.\u001b[0m\u001b[0mruc_network_type\u001b[0m\u001b[1;33m]\u001b[0m\u001b[1;33m\u001b[0m\u001b[1;33m\u001b[0m\u001b[0m\n\u001b[0;32m    107\u001b[0m         \u001b[0mslack_type\u001b[0m \u001b[1;33m=\u001b[0m \u001b[0m_slack_type_to_egret_slack_type\u001b[0m\u001b[1;33m[\u001b[0m\u001b[0moptions\u001b[0m\u001b[1;33m.\u001b[0m\u001b[0mruc_slack_type\u001b[0m\u001b[1;33m]\u001b[0m\u001b[1;33m\u001b[0m\u001b[1;33m\u001b[0m\u001b[0m\n\u001b[1;32m--> 108\u001b[1;33m         \u001b[1;32mreturn\u001b[0m \u001b[0mself\u001b[0m\u001b[1;33m.\u001b[0m\u001b[0m_p\u001b[0m\u001b[1;33m.\u001b[0m\u001b[0msolve_deterministic_ruc\u001b[0m\u001b[1;33m(\u001b[0m\u001b[0mself\u001b[0m\u001b[1;33m.\u001b[0m\u001b[0m_ruc_solver\u001b[0m\u001b[1;33m,\u001b[0m \u001b[0moptions\u001b[0m\u001b[1;33m,\u001b[0m \u001b[0mruc_instance\u001b[0m\u001b[1;33m,\u001b[0m \u001b[0muc_date\u001b[0m\u001b[1;33m,\u001b[0m \u001b[0muc_hour\u001b[0m\u001b[1;33m,\u001b[0m \u001b[0mnetwork_type\u001b[0m\u001b[1;33m,\u001b[0m \u001b[0mslack_type\u001b[0m\u001b[1;33m,\u001b[0m \u001b[0mself\u001b[0m\u001b[1;33m.\u001b[0m\u001b[0m_ptdf_manager\u001b[0m\u001b[1;33m)\u001b[0m\u001b[1;33m\u001b[0m\u001b[1;33m\u001b[0m\u001b[0m\n\u001b[0m\u001b[0;32m    109\u001b[0m \u001b[1;33m\u001b[0m\u001b[0m\n\u001b[0;32m    110\u001b[0m     def create_and_solve_day_ahead_pricing(self,\n",
      "\u001b[1;32m~\\.conda\\envs\\dispatches-dev\\lib\\site-packages\\prescient\\engine\\egret\\egret_plugin.py\u001b[0m in \u001b[0;36msolve_deterministic_ruc\u001b[1;34m(solver, options, ruc_instance_for_this_period, this_date, this_hour, network_type, slack_type, ptdf_manager)\u001b[0m\n\u001b[0;32m    278\u001b[0m                                 \u001b[0mslack_type\u001b[0m\u001b[1;33m,\u001b[0m\u001b[1;33m\u001b[0m\u001b[1;33m\u001b[0m\u001b[0m\n\u001b[0;32m    279\u001b[0m                                 ptdf_manager):\n\u001b[1;32m--> 280\u001b[1;33m         \u001b[0mruc_instance_for_this_period\u001b[0m \u001b[1;33m=\u001b[0m \u001b[0mdeterministic_ruc_solver\u001b[0m\u001b[1;33m(\u001b[0m\u001b[0mruc_instance_for_this_period\u001b[0m\u001b[1;33m,\u001b[0m \u001b[0msolver\u001b[0m\u001b[1;33m,\u001b[0m \u001b[0moptions\u001b[0m\u001b[1;33m,\u001b[0m \u001b[0mnetwork_type\u001b[0m\u001b[1;33m,\u001b[0m \u001b[0mslack_type\u001b[0m\u001b[1;33m,\u001b[0m \u001b[0mptdf_manager\u001b[0m\u001b[1;33m)\u001b[0m\u001b[1;33m\u001b[0m\u001b[1;33m\u001b[0m\u001b[0m\n\u001b[0m\u001b[0;32m    281\u001b[0m \u001b[1;33m\u001b[0m\u001b[0m\n\u001b[0;32m    282\u001b[0m         \u001b[1;32mif\u001b[0m \u001b[0moptions\u001b[0m\u001b[1;33m.\u001b[0m\u001b[0mwrite_deterministic_ruc_instances\u001b[0m\u001b[1;33m:\u001b[0m\u001b[1;33m\u001b[0m\u001b[1;33m\u001b[0m\u001b[0m\n",
      "\u001b[1;32m~\\.conda\\envs\\dispatches-dev\\lib\\site-packages\\prescient\\engine\\egret\\egret_plugin.py\u001b[0m in \u001b[0;36m_solve_deterministic_ruc\u001b[1;34m(deterministic_ruc_data, solver, options, network_type, slack_type, ptdf_manager)\u001b[0m\n\u001b[0;32m    334\u001b[0m     \u001b[1;32mtry\u001b[0m\u001b[1;33m:\u001b[0m\u001b[1;33m\u001b[0m\u001b[1;33m\u001b[0m\u001b[0m\n\u001b[0;32m    335\u001b[0m         \u001b[0mst\u001b[0m \u001b[1;33m=\u001b[0m \u001b[0mtime\u001b[0m\u001b[1;33m.\u001b[0m\u001b[0mtime\u001b[0m\u001b[1;33m(\u001b[0m\u001b[1;33m)\u001b[0m\u001b[1;33m\u001b[0m\u001b[1;33m\u001b[0m\u001b[0m\n\u001b[1;32m--> 336\u001b[1;33m         ruc_results, pyo_results, _  = call_solver(solver,\n\u001b[0m\u001b[0;32m    337\u001b[0m                                                    \u001b[0mpyo_model\u001b[0m\u001b[1;33m,\u001b[0m\u001b[1;33m\u001b[0m\u001b[1;33m\u001b[0m\u001b[0m\n\u001b[0;32m    338\u001b[0m                                                    \u001b[0moptions\u001b[0m\u001b[1;33m,\u001b[0m\u001b[1;33m\u001b[0m\u001b[1;33m\u001b[0m\u001b[0m\n",
      "\u001b[1;32m~\\.conda\\envs\\dispatches-dev\\lib\\site-packages\\prescient\\engine\\egret\\egret_plugin.py\u001b[0m in \u001b[0;36mcall_solver\u001b[1;34m(solver, instance, options, solver_options, relaxed, set_instance)\u001b[0m\n\u001b[0;32m     48\u001b[0m     \u001b[0mmipgap\u001b[0m \u001b[1;33m=\u001b[0m \u001b[0moptions\u001b[0m\u001b[1;33m.\u001b[0m\u001b[0mruc_mipgap\u001b[0m\u001b[1;33m\u001b[0m\u001b[1;33m\u001b[0m\u001b[0m\n\u001b[0;32m     49\u001b[0m \u001b[1;33m\u001b[0m\u001b[0m\n\u001b[1;32m---> 50\u001b[1;33m     m, results, solver = _solve_unit_commitment(instance, solver, mipgap, None,\n\u001b[0m\u001b[0;32m     51\u001b[0m                                                 \u001b[0mtee\u001b[0m\u001b[1;33m,\u001b[0m \u001b[0msymbolic_solver_labels\u001b[0m\u001b[1;33m,\u001b[0m\u001b[1;33m\u001b[0m\u001b[1;33m\u001b[0m\u001b[0m\n\u001b[0;32m     52\u001b[0m                                                 solver_options, None, relaxed, set_instance=set_instance)\n",
      "\u001b[1;32m~\\.conda\\envs\\dispatches-dev\\lib\\site-packages\\egret\\models\\unit_commitment.py\u001b[0m in \u001b[0;36m_solve_unit_commitment\u001b[1;34m(m, solver, mipgap, timelimit, solver_tee, symbolic_solver_labels, solver_options, solve_method_options, relaxed, set_instance)\u001b[0m\n\u001b[0;32m   1584\u001b[0m     \u001b[0mnetwork\u001b[0m \u001b[1;33m=\u001b[0m \u001b[1;33m(\u001b[0m\u001b[1;34m'branch'\u001b[0m \u001b[1;32min\u001b[0m \u001b[0mmodel_data\u001b[0m\u001b[1;33m.\u001b[0m\u001b[0mdata\u001b[0m\u001b[1;33m[\u001b[0m\u001b[1;34m'elements'\u001b[0m\u001b[1;33m]\u001b[0m\u001b[1;33m)\u001b[0m \u001b[1;32mand\u001b[0m \u001b[0mbool\u001b[0m\u001b[1;33m(\u001b[0m\u001b[0mlen\u001b[0m\u001b[1;33m(\u001b[0m\u001b[0mmodel_data\u001b[0m\u001b[1;33m.\u001b[0m\u001b[0mdata\u001b[0m\u001b[1;33m[\u001b[0m\u001b[1;34m'elements'\u001b[0m\u001b[1;33m]\u001b[0m\u001b[1;33m[\u001b[0m\u001b[1;34m'branch'\u001b[0m\u001b[1;33m]\u001b[0m\u001b[1;33m)\u001b[0m\u001b[1;33m)\u001b[0m\u001b[1;33m\u001b[0m\u001b[1;33m\u001b[0m\u001b[0m\n\u001b[0;32m   1585\u001b[0m     \u001b[1;32mif\u001b[0m \u001b[0mm\u001b[0m\u001b[1;33m.\u001b[0m\u001b[0mpower_balance\u001b[0m \u001b[1;33m==\u001b[0m \u001b[1;34m'ptdf_power_flow'\u001b[0m \u001b[1;32mand\u001b[0m \u001b[0mm\u001b[0m\u001b[1;33m.\u001b[0m\u001b[0m_ptdf_options\u001b[0m\u001b[1;33m[\u001b[0m\u001b[1;34m'lazy'\u001b[0m\u001b[1;33m]\u001b[0m \u001b[1;32mand\u001b[0m \u001b[0mnetwork\u001b[0m\u001b[1;33m:\u001b[0m\u001b[1;33m\u001b[0m\u001b[1;33m\u001b[0m\u001b[0m\n\u001b[1;32m-> 1586\u001b[1;33m         \u001b[1;32mreturn\u001b[0m \u001b[0m_outer_lazy_ptdf_solve_loop\u001b[0m\u001b[1;33m(\u001b[0m\u001b[0mm\u001b[0m\u001b[1;33m,\u001b[0m \u001b[0msolver\u001b[0m\u001b[1;33m,\u001b[0m \u001b[0mmipgap\u001b[0m\u001b[1;33m,\u001b[0m \u001b[0mtimelimit\u001b[0m\u001b[1;33m,\u001b[0m \u001b[0msolver_tee\u001b[0m\u001b[1;33m,\u001b[0m \u001b[0msymbolic_solver_labels\u001b[0m\u001b[1;33m,\u001b[0m \u001b[0msolver_options\u001b[0m\u001b[1;33m,\u001b[0m \u001b[0msolve_method_options\u001b[0m\u001b[1;33m,\u001b[0m\u001b[0mrelaxed\u001b[0m\u001b[1;33m,\u001b[0m \u001b[0mset_instance\u001b[0m\u001b[1;33m=\u001b[0m\u001b[0mset_instance\u001b[0m \u001b[1;33m)\u001b[0m\u001b[1;33m\u001b[0m\u001b[1;33m\u001b[0m\u001b[0m\n\u001b[0m\u001b[0;32m   1587\u001b[0m     \u001b[1;32melse\u001b[0m\u001b[1;33m:\u001b[0m\u001b[1;33m\u001b[0m\u001b[1;33m\u001b[0m\u001b[0m\n\u001b[0;32m   1588\u001b[0m         \u001b[1;32mreturn\u001b[0m \u001b[0m_solve_model\u001b[0m\u001b[1;33m(\u001b[0m\u001b[0mm\u001b[0m\u001b[1;33m,\u001b[0m\u001b[0msolver\u001b[0m\u001b[1;33m,\u001b[0m\u001b[0mmipgap\u001b[0m\u001b[1;33m,\u001b[0m\u001b[0mtimelimit\u001b[0m\u001b[1;33m,\u001b[0m\u001b[0msolver_tee\u001b[0m\u001b[1;33m,\u001b[0m\u001b[0msymbolic_solver_labels\u001b[0m\u001b[1;33m,\u001b[0m\u001b[0msolver_options\u001b[0m\u001b[1;33m,\u001b[0m\u001b[0msolve_method_options\u001b[0m\u001b[1;33m,\u001b[0m \u001b[0mreturn_solver\u001b[0m\u001b[1;33m=\u001b[0m\u001b[1;32mTrue\u001b[0m\u001b[1;33m,\u001b[0m \u001b[0mset_instance\u001b[0m\u001b[1;33m=\u001b[0m\u001b[0mset_instance\u001b[0m\u001b[1;33m)\u001b[0m\u001b[1;33m\u001b[0m\u001b[1;33m\u001b[0m\u001b[0m\n",
      "\u001b[1;32m~\\.conda\\envs\\dispatches-dev\\lib\\site-packages\\egret\\models\\unit_commitment.py\u001b[0m in \u001b[0;36m_outer_lazy_ptdf_solve_loop\u001b[1;34m(m, solver, mipgap, timelimit, solver_tee, symbolic_solver_labels, solver_options, solve_method_options, relaxed, set_instance)\u001b[0m\n\u001b[0;32m    915\u001b[0m \u001b[1;33m\u001b[0m\u001b[0m\n\u001b[0;32m    916\u001b[0m         \u001b[0mlpu\u001b[0m\u001b[1;33m.\u001b[0m\u001b[0muc_instance_binary_relaxer\u001b[0m\u001b[1;33m(\u001b[0m\u001b[0mm\u001b[0m\u001b[1;33m,\u001b[0m \u001b[1;32mNone\u001b[0m\u001b[1;33m)\u001b[0m\u001b[1;33m\u001b[0m\u001b[1;33m\u001b[0m\u001b[0m\n\u001b[1;32m--> 917\u001b[1;33m         \u001b[0mm\u001b[0m\u001b[1;33m,\u001b[0m \u001b[0mresults_init\u001b[0m\u001b[1;33m,\u001b[0m \u001b[0msolver\u001b[0m \u001b[1;33m=\u001b[0m \u001b[0m_solve_model\u001b[0m\u001b[1;33m(\u001b[0m\u001b[0mm\u001b[0m\u001b[1;33m,\u001b[0m\u001b[0msolver\u001b[0m\u001b[1;33m,\u001b[0m\u001b[0mmipgap\u001b[0m\u001b[1;33m,\u001b[0m\u001b[0mtimelimit\u001b[0m\u001b[1;33m,\u001b[0m\u001b[0msolver_tee\u001b[0m\u001b[1;33m,\u001b[0m\u001b[0msymbolic_solver_labels\u001b[0m\u001b[1;33m,\u001b[0m\u001b[0msolver_options\u001b[0m\u001b[1;33m,\u001b[0m\u001b[0msolve_method_options\u001b[0m\u001b[1;33m,\u001b[0m \u001b[0mreturn_solver\u001b[0m\u001b[1;33m=\u001b[0m\u001b[1;32mTrue\u001b[0m\u001b[1;33m,\u001b[0m \u001b[0mvars_to_load\u001b[0m \u001b[1;33m=\u001b[0m \u001b[0mvars_to_load\u001b[0m\u001b[1;33m,\u001b[0m \u001b[0mset_instance\u001b[0m\u001b[1;33m=\u001b[0m\u001b[0mset_instance\u001b[0m\u001b[1;33m)\u001b[0m\u001b[1;33m\u001b[0m\u001b[1;33m\u001b[0m\u001b[0m\n\u001b[0m\u001b[0;32m    918\u001b[0m         \u001b[1;32mif\u001b[0m \u001b[0mlp_warmstart_iter_limit\u001b[0m \u001b[1;33m>\u001b[0m \u001b[1;36m0\u001b[0m\u001b[1;33m:\u001b[0m\u001b[1;33m\u001b[0m\u001b[1;33m\u001b[0m\u001b[0m\n\u001b[0;32m    919\u001b[0m             \u001b[0mlp_warmstart_termination_cond\u001b[0m\u001b[1;33m,\u001b[0m \u001b[0mresults\u001b[0m\u001b[1;33m,\u001b[0m \u001b[0mlp_warmstart_iterations\u001b[0m \u001b[1;33m=\u001b[0m\u001b[0;31m \u001b[0m\u001b[0;31m\\\u001b[0m\u001b[1;33m\u001b[0m\u001b[1;33m\u001b[0m\u001b[0m\n",
      "\u001b[1;32m~\\.conda\\envs\\dispatches-dev\\lib\\site-packages\\egret\\common\\solver_interface.py\u001b[0m in \u001b[0;36m_solve_model\u001b[1;34m(model, solver, mipgap, timelimit, solver_tee, symbolic_solver_labels, solver_options, solve_method_options, return_solver, vars_to_load, set_instance)\u001b[0m\n\u001b[0;32m    158\u001b[0m \u001b[1;33m\u001b[0m\u001b[0m\n\u001b[0;32m    159\u001b[0m     \u001b[1;32mif\u001b[0m \u001b[0mresults\u001b[0m\u001b[1;33m.\u001b[0m\u001b[0msolver\u001b[0m\u001b[1;33m.\u001b[0m\u001b[0mtermination_condition\u001b[0m \u001b[1;32mnot\u001b[0m \u001b[1;32min\u001b[0m \u001b[0msafe_termination_conditions\u001b[0m\u001b[1;33m:\u001b[0m\u001b[1;33m\u001b[0m\u001b[1;33m\u001b[0m\u001b[0m\n\u001b[1;32m--> 160\u001b[1;33m         \u001b[1;32mraise\u001b[0m \u001b[0mException\u001b[0m\u001b[1;33m(\u001b[0m\u001b[1;34m'Problem encountered during solve, termination_condition {}'\u001b[0m\u001b[1;33m.\u001b[0m\u001b[0mformat\u001b[0m\u001b[1;33m(\u001b[0m\u001b[0mresults\u001b[0m\u001b[1;33m.\u001b[0m\u001b[0msolver\u001b[0m\u001b[1;33m.\u001b[0m\u001b[0mtermination_condition\u001b[0m\u001b[1;33m)\u001b[0m\u001b[1;33m)\u001b[0m\u001b[1;33m\u001b[0m\u001b[1;33m\u001b[0m\u001b[0m\n\u001b[0m\u001b[0;32m    161\u001b[0m \u001b[1;33m\u001b[0m\u001b[0m\n\u001b[0;32m    162\u001b[0m     \u001b[1;32mif\u001b[0m \u001b[0misinstance\u001b[0m\u001b[1;33m(\u001b[0m\u001b[0msolver\u001b[0m\u001b[1;33m,\u001b[0m \u001b[0mPersistentSolver\u001b[0m\u001b[1;33m)\u001b[0m\u001b[1;33m:\u001b[0m\u001b[1;33m\u001b[0m\u001b[1;33m\u001b[0m\u001b[0m\n",
      "\u001b[1;31mException\u001b[0m: Problem encountered during solve, termination_condition infeasibleOrUnbounded"
     ]
    }
   ],
   "source": [
    "Prescient().simulate(**options)\n"
   ]
  },
  {
   "cell_type": "code",
   "execution_count": null,
   "id": "945adacf",
   "metadata": {},
   "outputs": [],
   "source": []
  }
 ],
 "metadata": {
  "kernelspec": {
   "display_name": "Python 3 (ipykernel)",
   "language": "python",
   "name": "python3"
  },
  "language_info": {
   "codemirror_mode": {
    "name": "ipython",
    "version": 3
   },
   "file_extension": ".py",
   "mimetype": "text/x-python",
   "name": "python",
   "nbconvert_exporter": "python",
   "pygments_lexer": "ipython3",
   "version": "3.10.5"
  },
  "vscode": {
   "interpreter": {
    "hash": "3de6449f03505a37b78911f8b034d40127ea57d9aee03280633bd6a176a9ad3c"
   }
  }
 },
 "nbformat": 4,
 "nbformat_minor": 5
}
