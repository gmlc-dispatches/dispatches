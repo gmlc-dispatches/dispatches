{
 "cells": [
  {
   "cell_type": "markdown",
   "id": "498cf0b4",
   "metadata": {},
   "source": [
    "# Double-loop Framework Implementation with Fossil Case: Integrated Ultra-supercritical Power Plant Model\n"
   ]
  },
  {
   "cell_type": "markdown",
   "id": "595e8b1e",
   "metadata": {},
   "source": [
    "Author: Naresh Susarla (naresh.susarla@netl.doe.gov)"
   ]
  },
  {
   "cell_type": "markdown",
   "id": "a9094682",
   "metadata": {},
   "source": [
    "This notebook presents an implementation of the double-loop framework for the fossil case study using the integrated ultra-supercritical power plant model with a molten-salt based thermal energy storage. In order to run this notebook, we need multiple packages including, DISPATCHES, IDAES, and gridx-prescient."
   ]
  },
  {
   "cell_type": "markdown",
   "id": "112e52dd",
   "metadata": {},
   "source": [
    "For a given integrated energy system, the double loop workflow has six key steps:\n",
    "\n",
    " 1. Forecasting: Generate plausible price forcasts for the bidding horizon (chosen to be 48 hours).\n",
    " 2. Bidding: Formulate and solve a multi-period bidding problem for the generated set of forcasted price signals. The solution of the bidding problem yields a time-varying bid curve.\n",
    " 3. Day Ahead (DA) Market: Using the bid curve generated in the previous step, solve the unit commitment problem for the day ahead market.\n",
    " 4. Real Time Market: Fix unit commitment decisions and solve the unit commitment problem for the real time market. The solution yields real time local marginal prices and the optimal dispatch profile for each generator.\n",
    " 5. Tracking: Formulate and solve a tracking problem to track the optimal dispatch profile obtained in the previous step, and minimize under-production/over-production of electricity.\n",
    " 6. Settlement: Compute all the cash flows"
   ]
  },
  {
   "cell_type": "markdown",
   "id": "a058f475",
   "metadata": {},
   "source": [
    "To start the analysis, first import all necessary modules and packages including Prescient simulator and `MultiPeriodUsc` class. `MultiPeriodUsc` builds a multi-period model of the integrated ultra-supercritical power plant model with a molten salt energy storage."
   ]
  },
  {
   "cell_type": "code",
   "execution_count": 1,
   "id": "6607a30d",
   "metadata": {},
   "outputs": [
    {
     "name": "stdout",
     "output_type": "stream",
     "text": [
      "Interactive Python mode detected; using default matplotlib backend for plotting.\n"
     ]
    }
   ],
   "source": [
    "# Import Python library packages\n",
    "from types import ModuleType\n",
    "import pandas as pd\n",
    "from importlib import resources\n",
    "\n",
    "# Import Pyomo packages\n",
    "import pyomo.environ as pyo\n",
    "\n",
    "# Import IDAES packages\n",
    "from idaes.apps.grid_integration import Tracker\n",
    "from idaes.apps.grid_integration import Bidder\n",
    "from idaes.apps.grid_integration.forecaster import Backcaster\n",
    "from idaes.apps.grid_integration import DoubleLoopCoordinator\n",
    "from idaes.apps.grid_integration.model_data import ThermalGeneratorModelData\n",
    "\n",
    "# Import Prescient simulator\n",
    "from prescient.simulator import Prescient\n",
    "\n",
    "# Import integrated ultra-supercritical power plant with energy storage model\n",
    "from dispatches.case_studies.fossil_case.ultra_supercritical_plant.storage.multiperiod_double_loop_usc import MultiPeriodUsc\n",
    "from dispatches_sample_data import rts_gmlc"
   ]
  },
  {
   "cell_type": "markdown",
   "id": "fa7bd5c1",
   "metadata": {},
   "source": [
    "Following the imports, set up the fossil generator characteristics using a `model_data` object as shown below. The fossil generator used in this analysis is the integrated ultra-supercritical power plant, refered to in this analysis as the fossil-based integrated energy system (IES). A more detailed explanation of the integrated model is given in the notebook `integrated_storage_with_powerplant`. The double-loop model parameters are the number of hours for the bidding and tracking models, number of scenarios to use, and the number of days for simulation. The fossil generator data included in `model_data` and needed during this analysis is given and described in the list below: "
   ]
  },
  {
   "cell_type": "markdown",
   "id": "4693c38f",
   "metadata": {},
   "source": [
    " - gen_name: The ID of the generator in the RTS - GMLC that is being replaced by the fossil-based IES. The chosen generator name `gen_name` is `102_STEAM_3`\n",
    " - generator_type: Accepts either `thermal` or `renewable`. We choose `thermal` for both fossil generators\n",
    " - p_min: Minimum power output to the grid in MW. The minimum power output to the grid for this IES is 286 MW\n",
    " - p_max: Maximum power output to the grid in MW. The maximum power output to the grid for this IES is 460 MW\n",
    " - min_down_time: Mininum downtime after the generator is shutdown. The minimum downtime for this IES is 4 hours\n",
    " - min_up_time: Minimum uptime after the generator is turned on. The minimum uptime for this IES is 8 hours\n",
    " - ramp_up_60min: Ramp up rate in MW/hr. The default ramp up rate for this IES is 60 MW/hr\n",
    " - ramp_down_60min: Ramp down rate in MW/hr. The default ramp down rate for this IES is the same as the ramp up rate, 60 MW/hr\n",
    " - shutdown_capacity: Power output when shutdown is initiated in MW. For this IES, during shutdown the plant operates at p_min\n",
    " - startup_capacity: Power output when the generator is turned on. For this IES, during startup, the plant operates at p_min as considered during shotdown\n",
    " - production_cost_bid_pairs: Cost of production of electricity in \\\\$/MW as function of power output in MW\n",
    " - startup_cost_pairs: (Number of hours after shutdown, cost of startup)\n",
    " - fixed_commitment: 0/1 indicates that plant shutdown is allowed/not allowed"
   ]
  },
  {
   "cell_type": "code",
   "execution_count": 2,
   "id": "56a30c64",
   "metadata": {},
   "outputs": [],
   "source": [
    "# Import the historical price data from 'original rts-gmlc run' output folder:\n",
    "bus_name = \"Attlee\"\n",
    "\n",
    "da_lmp_historical = [21.288312, 20.419032, 19.689677, 19.983571, 19.983571, 20.419032,\n",
    "       21.843871, 23.437857, 18.072549, -0.      , -0.      , -0.      ,\n",
    "       -0.      , -0.      , -0.      , -0.      , 18.861   , 22.51634 ,\n",
    "       33.752674, 33.752674, 27.050323, 24.617429, 23.07    , 19.689677]\n",
    "\n",
    "rt_lmp_historical = [23.07    , 22.968387, 24.617429, 24.617429, 27.050323, 22.51634 ,\n",
    "       22.492903, 23.657742, 21.843871, -0.      , -0.      , -0.      ,\n",
    "       -0.      , -0.      , -0.      , -0.      , -0.      , 21.916765,\n",
    "       24.079344, 23.40518 , 22.683303, 21.916765, 20.244451, 18.861   ]"
   ]
  },
  {
   "cell_type": "code",
   "execution_count": 3,
   "id": "61d7856a",
   "metadata": {},
   "outputs": [],
   "source": [
    "generator_data = {\n",
    "    \"gen_name\": \"102_STEAM_3\",\n",
    "    \"p_min\": 286,\n",
    "    \"p_max\": 460,\n",
    "    \"min_down_time\": 4,\n",
    "    \"min_up_time\": 8,\n",
    "    \"ramp_up_60min\": 60,\n",
    "    \"ramp_down_60min\": 60,\n",
    "    \"shutdown_capacity\": 286,\n",
    "    \"startup_capacity\": 286,\n",
    "    \"initial_status\": -1,\n",
    "    \"initial_p_output\": 0,\n",
    "    \"production_cost_bid_pairs\": [\n",
    "        (286, 22.16602),\n",
    "        (350, 19.0723),\n",
    "        (400, 18.29703),\n",
    "        (430, 17.71727),\n",
    "        (460, 17.71727),\n",
    "    ],\n",
    "    \"startup_cost_pairs\": [(4, 7355.42), (10, 10488.35), (12, 11383.41)],\n",
    "    \"fixed_commitment\": 1,\n",
    "    \"bus\": bus_name,\n",
    "}\n",
    "\n",
    "model_data = ThermalGeneratorModelData(**generator_data)"
   ]
  },
  {
   "cell_type": "markdown",
   "id": "adae2723",
   "metadata": {},
   "source": [
    "Next, we set the following parameters needed for the double loop workflow:\n",
    " - tracking_horizon: Length of the tracking horizon. We choose it to be 10 hours\n",
    " - bidding_horizon: Length of the bidding horizon. We choose it to be 48 hours\n",
    " - n_scenario: Number of scenarios to be considered for the bidding problem. The file `idaes.apps.grid_integration.examples.lmp_forecasts_concat.csv` includes the data for ten scenarios, so we can choose any number between 1 and 10\n",
    " - n_tracking_hour: Frequency at which the tracking problem needs to be solved (every hour)\n",
    " - num_days: Simulation horizon (number of days). For this demonstration, 2 days is chosen for this simulation"
   ]
  },
  {
   "cell_type": "code",
   "execution_count": 4,
   "id": "11c77c81",
   "metadata": {},
   "outputs": [],
   "source": [
    "tracking_horizon = 4  # hours\n",
    "bidding_horizon = 48  # hours\n",
    "hourly_bidding_horizon = 4  # hours\n",
    "n_scenario = 1  # for bidding\n",
    "n_tracking_hour = 1  # advance n_tracking_hour (i.e. assume we solve every hour)\n",
    "num_days = 1"
   ]
  },
  {
   "cell_type": "markdown",
   "id": "eb98132b",
   "metadata": {},
   "source": [
    "Set up the solver and the forecaster objects."
   ]
  },
  {
   "cell_type": "code",
   "execution_count": 5,
   "id": "72dac94e",
   "metadata": {},
   "outputs": [],
   "source": [
    "# Create solver\n",
    "solver = pyo.SolverFactory(\"ipopt\")\n",
    "solver.options = {\n",
    "    \"max_iter\": 200,\n",
    "}\n",
    "\n",
    "# Create forecaster object\n",
    "forecaster = Backcaster({bus_name: da_lmp_historical}, {bus_name: rt_lmp_historical})"
   ]
  },
  {
   "cell_type": "markdown",
   "id": "aea6ba8c",
   "metadata": {},
   "source": [
    "Set up the objects for Tracker, Bidder, and Coordinator."
   ]
  },
  {
   "cell_type": "code",
   "execution_count": 6,
   "id": "4611e3df",
   "metadata": {},
   "outputs": [
    {
     "name": "stdout",
     "output_type": "stream",
     "text": [
      "[+   0.00] Beginning the formulation of the multiperiod optimization problem.\n",
      "2022-11-02 09:40:04 [INFO] idaes.apps.grid_integration.multiperiod.multiperiod: ...Constructing the flowsheet model for blocks[0]\n"
     ]
    },
    {
     "name": "stderr",
     "output_type": "stream",
     "text": [
      "INFO:idaes.apps.grid_integration.multiperiod.multiperiod:...Constructing the flowsheet model for blocks[0]\n"
     ]
    },
    {
     "name": "stdout",
     "output_type": "stream",
     "text": [
      "2022-11-02 09:40:08 [INFO] idaes.apps.grid_integration.multiperiod.multiperiod: ...Constructing the flowsheet model for blocks[1]\n"
     ]
    },
    {
     "name": "stderr",
     "output_type": "stream",
     "text": [
      "INFO:idaes.apps.grid_integration.multiperiod.multiperiod:...Constructing the flowsheet model for blocks[1]\n"
     ]
    },
    {
     "name": "stdout",
     "output_type": "stream",
     "text": [
      "2022-11-02 09:40:11 [INFO] idaes.apps.grid_integration.multiperiod.multiperiod: ...Constructing the flowsheet model for blocks[2]\n"
     ]
    },
    {
     "name": "stderr",
     "output_type": "stream",
     "text": [
      "INFO:idaes.apps.grid_integration.multiperiod.multiperiod:...Constructing the flowsheet model for blocks[2]\n"
     ]
    },
    {
     "name": "stdout",
     "output_type": "stream",
     "text": [
      "2022-11-02 09:40:15 [INFO] idaes.apps.grid_integration.multiperiod.multiperiod: ...Constructing the flowsheet model for blocks[3]\n"
     ]
    },
    {
     "name": "stderr",
     "output_type": "stream",
     "text": [
      "INFO:idaes.apps.grid_integration.multiperiod.multiperiod:...Constructing the flowsheet model for blocks[3]\n"
     ]
    },
    {
     "name": "stdout",
     "output_type": "stream",
     "text": [
      "[+  15.23] Completed the formulation of the multiperiod optimization problem.\n",
      "2022-11-02 09:40:27 [INFO] idaes.init.fs.boiler.control_volume: Initialization Complete\n",
      "2022-11-02 09:40:27 [INFO] idaes.init.fs.boiler: Initialization Complete: optimal - Optimal Solution Found\n",
      "2022-11-02 09:40:27 [INFO] idaes.init.fs.turbine_splitter[1]: Initialization Complete: optimal - Optimal Solution Found\n",
      "2022-11-02 09:40:27 [INFO] idaes.init.fs.turbine_splitter[2]: Initialization Complete: optimal - Optimal Solution Found\n",
      "2022-11-02 09:40:27 [INFO] idaes.init.fs.reheater[1].control_volume: Initialization Complete\n",
      "2022-11-02 09:40:27 [INFO] idaes.init.fs.reheater[1]: Initialization Complete: optimal - Optimal Solution Found\n",
      "2022-11-02 09:40:27 [INFO] idaes.init.fs.turbine_splitter[3]: Initialization Complete: optimal - Optimal Solution Found\n",
      "2022-11-02 09:40:28 [INFO] idaes.init.fs.turbine_splitter[4]: Initialization Complete: optimal - Optimal Solution Found\n",
      "2022-11-02 09:40:28 [INFO] idaes.init.fs.reheater[2].control_volume: Initialization Complete\n",
      "2022-11-02 09:40:28 [INFO] idaes.init.fs.reheater[2]: Initialization Complete: optimal - Optimal Solution Found\n",
      "2022-11-02 09:40:28 [INFO] idaes.init.fs.turbine_splitter[5]: Initialization Complete: optimal - Optimal Solution Found\n",
      "2022-11-02 09:40:28 [INFO] idaes.init.fs.turbine_splitter[6]: Initialization Complete: optimal - Optimal Solution Found\n",
      "2022-11-02 09:40:28 [INFO] idaes.init.fs.turbine_splitter[7]: Initialization Complete: optimal - Optimal Solution Found\n",
      "2022-11-02 09:40:28 [INFO] idaes.init.fs.turbine_splitter[8]: Initialization Complete: optimal - Optimal Solution Found\n",
      "2022-11-02 09:40:28 [INFO] idaes.init.fs.turbine_splitter[9]: Initialization Complete: optimal - Optimal Solution Found\n",
      "2022-11-02 09:40:29 [INFO] idaes.init.fs.turbine_splitter[10]: Initialization Complete: optimal - Optimal Solution Found\n",
      "2022-11-02 09:40:29 [INFO] idaes.init.fs.condenser_mix: Initialization Complete: optimal - Optimal Solution Found\n",
      "2022-11-02 09:40:29 [INFO] idaes.init.fs.condenser.control_volume: Initialization Complete\n",
      "2022-11-02 09:40:29 [INFO] idaes.init.fs.condenser: Initialization Complete: optimal - Optimal Solution Found\n",
      "2022-11-02 09:40:29 [INFO] idaes.init.fs.fwh_mixer[1]: Initialization Complete: optimal - Optimal Solution Found\n",
      "2022-11-02 09:40:29 [INFO] idaes.init.fs.fwh[1].hot_side: Initialization Complete\n",
      "2022-11-02 09:40:29 [INFO] idaes.init.fs.fwh[1].cold_side: Initialization Complete\n",
      "2022-11-02 09:40:29 [INFO] idaes.init.fs.fwh[1]: Initialization Completed, optimal - Optimal Solution Found\n",
      "2022-11-02 09:40:29 [INFO] idaes.init.fs.fwh_mixer[2]: Initialization Complete: optimal - Optimal Solution Found\n",
      "2022-11-02 09:40:29 [INFO] idaes.init.fs.fwh[2].hot_side: Initialization Complete\n",
      "2022-11-02 09:40:29 [INFO] idaes.init.fs.fwh[2].cold_side: Initialization Complete\n",
      "2022-11-02 09:40:30 [INFO] idaes.init.fs.fwh[2]: Initialization Completed, optimal - Optimal Solution Found\n",
      "2022-11-02 09:40:30 [INFO] idaes.init.fs.fwh_mixer[3]: Initialization Complete: optimal - Optimal Solution Found\n",
      "2022-11-02 09:40:30 [INFO] idaes.init.fs.fwh[3].hot_side: Initialization Complete\n",
      "2022-11-02 09:40:30 [INFO] idaes.init.fs.fwh[3].cold_side: Initialization Complete\n",
      "2022-11-02 09:40:30 [INFO] idaes.init.fs.fwh[3]: Initialization Completed, optimal - Optimal Solution Found\n",
      "2022-11-02 09:40:30 [INFO] idaes.init.fs.fwh_mixer[4]: Initialization Complete: optimal - Optimal Solution Found\n",
      "2022-11-02 09:40:30 [INFO] idaes.init.fs.fwh[4].hot_side: Initialization Complete\n",
      "2022-11-02 09:40:30 [INFO] idaes.init.fs.fwh[4].cold_side: Initialization Complete\n",
      "2022-11-02 09:40:30 [INFO] idaes.init.fs.fwh[4]: Initialization Completed, optimal - Optimal Solution Found\n",
      "2022-11-02 09:40:30 [INFO] idaes.init.fs.fwh[5].hot_side: Initialization Complete\n",
      "2022-11-02 09:40:30 [INFO] idaes.init.fs.fwh[5].cold_side: Initialization Complete\n",
      "2022-11-02 09:40:30 [INFO] idaes.init.fs.fwh[5]: Initialization Completed, optimal - Optimal Solution Found\n",
      "2022-11-02 09:40:30 [INFO] idaes.init.fs.deaerator: Initialization Complete: optimal - Optimal Solution Found\n",
      "2022-11-02 09:40:31 [INFO] idaes.init.fs.fwh_mixer[6]: Initialization Complete: optimal - Optimal Solution Found\n",
      "2022-11-02 09:40:31 [INFO] idaes.init.fs.fwh[6].hot_side: Initialization Complete\n",
      "2022-11-02 09:40:31 [INFO] idaes.init.fs.fwh[6].cold_side: Initialization Complete\n",
      "2022-11-02 09:40:31 [INFO] idaes.init.fs.fwh[6]: Initialization Completed, optimal - Optimal Solution Found\n",
      "2022-11-02 09:40:31 [INFO] idaes.init.fs.fwh_mixer[7]: Initialization Complete: optimal - Optimal Solution Found\n",
      "2022-11-02 09:40:31 [INFO] idaes.init.fs.fwh[7].hot_side: Initialization Complete\n",
      "2022-11-02 09:40:31 [INFO] idaes.init.fs.fwh[7].cold_side: Initialization Complete\n",
      "2022-11-02 09:40:31 [INFO] idaes.init.fs.fwh[7]: Initialization Completed, optimal - Optimal Solution Found\n",
      "2022-11-02 09:40:31 [INFO] idaes.init.fs.fwh_mixer[8]: Initialization Complete: optimal - Optimal Solution Found\n",
      "2022-11-02 09:40:31 [INFO] idaes.init.fs.fwh[8].hot_side: Initialization Complete\n",
      "2022-11-02 09:40:31 [INFO] idaes.init.fs.fwh[8].cold_side: Initialization Complete\n",
      "2022-11-02 09:40:31 [INFO] idaes.init.fs.fwh[8]: Initialization Completed, optimal - Optimal Solution Found\n",
      "2022-11-02 09:40:31 [INFO] idaes.init.fs.fwh[9].hot_side: Initialization Complete\n",
      "2022-11-02 09:40:31 [INFO] idaes.init.fs.fwh[9].cold_side: Initialization Complete\n",
      "2022-11-02 09:40:32 [INFO] idaes.init.fs.fwh[9]: Initialization Completed, optimal - Optimal Solution Found\n",
      "Model Initialization =  optimal\n",
      "*******************  USC Model Initialized   ********************\n",
      "2022-11-02 09:40:34 [INFO] idaes.init.fs.ess_hp_split: Initialization Complete: optimal - Optimal Solution Found\n",
      "2022-11-02 09:40:34 [INFO] idaes.init.fs.hxc.hot_side: Initialization Complete\n",
      "2022-11-02 09:40:34 [INFO] idaes.init.dispatches.properties.solarsalt_properties: fs.hxc.cold_side.properties_in Initialisation Step 1 Complete.\n",
      "2022-11-02 09:40:34 [INFO] idaes.init.dispatches.properties.solarsalt_properties: Initialization Step 1 Complete.\n",
      "2022-11-02 09:40:34 [INFO] idaes.init.dispatches.properties.solarsalt_properties: fs.hxc.cold_side.properties_out Initialisation Step 1 Complete.\n",
      "2022-11-02 09:40:34 [INFO] idaes.init.dispatches.properties.solarsalt_properties: Initialization Step 1 Complete.\n",
      "2022-11-02 09:40:34 [INFO] idaes.init.dispatches.properties.solarsalt_properties: State Released.\n",
      "2022-11-02 09:40:34 [INFO] idaes.init.fs.hxc.cold_side: Initialization Complete\n",
      "2022-11-02 09:40:34 [INFO] idaes.init.dispatches.properties.solarsalt_properties: State Released.\n",
      "2022-11-02 09:40:34 [INFO] idaes.init.fs.hxc: Initialization Completed, optimal - Optimal Solution Found\n",
      "2022-11-02 09:40:34 [INFO] idaes.init.fs.cooler.control_volume: Initialization Complete\n",
      "2022-11-02 09:40:34 [INFO] idaes.init.fs.cooler: Initialization Complete: optimal - Optimal Solution Found\n",
      "2022-11-02 09:40:34 [INFO] idaes.init.fs.hx_pump.control_volume: Initialization Complete\n",
      "2022-11-02 09:40:35 [INFO] idaes.init.fs.hx_pump: Initialization Complete: optimal - Optimal Solution Found\n",
      "2022-11-02 09:40:35 [INFO] idaes.init.fs.ess_bfp_split: Initialization Complete: optimal - Optimal Solution Found\n",
      "2022-11-02 09:40:35 [INFO] idaes.init.fs.recycle_mixer: Initialization Complete: optimal - Optimal Solution Found\n",
      "2022-11-02 09:40:35 [INFO] idaes.init.dispatches.properties.solarsalt_properties: fs.hxd.hot_side.properties_in Initialisation Step 1 Complete.\n",
      "2022-11-02 09:40:35 [INFO] idaes.init.dispatches.properties.solarsalt_properties: Initialization Step 1 Complete.\n",
      "2022-11-02 09:40:35 [INFO] idaes.init.dispatches.properties.solarsalt_properties: fs.hxd.hot_side.properties_out Initialisation Step 1 Complete.\n",
      "2022-11-02 09:40:35 [INFO] idaes.init.dispatches.properties.solarsalt_properties: Initialization Step 1 Complete.\n",
      "2022-11-02 09:40:35 [INFO] idaes.init.dispatches.properties.solarsalt_properties: State Released.\n",
      "2022-11-02 09:40:35 [INFO] idaes.init.fs.hxd.hot_side: Initialization Complete\n",
      "2022-11-02 09:40:35 [INFO] idaes.init.fs.hxd.cold_side: Initialization Complete\n",
      "2022-11-02 09:40:36 [INFO] idaes.init.dispatches.properties.solarsalt_properties: State Released.\n"
     ]
    },
    {
     "name": "stdout",
     "output_type": "stream",
     "text": [
      "2022-11-02 09:40:36 [INFO] idaes.init.fs.hxd: Initialization Completed, optimal - Optimal Solution Found\n",
      "Integrated Model Initialization =  optimal\n",
      "***************   Integrated Model Initialized   ***************\n",
      "Cost Initialization =  optimal\n",
      "******************** Costing Initialized *************************\n",
      "\n",
      "\n"
     ]
    },
    {
     "name": "stderr",
     "output_type": "stream",
     "text": [
      "WARNING:pyomo.core:Setting Var 'fs.hxd.delta_temperature_in[0.0]' to a numeric value `0.0629934683431687` outside the bounds (4.9, 300).\n",
      "WARNING:pyomo.core:Setting Var 'blocks[0].process.fs.hxd.delta_temperature_in[0.0]' to a numeric value `0.06299346834317004` outside the bounds (4.9, 300).\n"
     ]
    },
    {
     "name": "stdout",
     "output_type": "stream",
     "text": [
      "[+  23.20] Created an instance of the flowsheet and initialized it.\n"
     ]
    },
    {
     "name": "stderr",
     "output_type": "stream",
     "text": [
      "WARNING:pyomo.core:Setting Var 'blocks[1].process.fs.hxd.delta_temperature_in[0.0]' to a numeric value `0.06299346834317004` outside the bounds (4.9, 300).\n",
      "WARNING:pyomo.core:Setting Var 'blocks[2].process.fs.hxd.delta_temperature_in[0.0]' to a numeric value `0.06299346834317004` outside the bounds (4.9, 300).\n",
      "WARNING:pyomo.core:Setting Var 'blocks[3].process.fs.hxd.delta_temperature_in[0.0]' to a numeric value `0.06299346834317004` outside the bounds (4.9, 300).\n"
     ]
    },
    {
     "name": "stdout",
     "output_type": "stream",
     "text": [
      "[+   0.59] Initialized the entire multiperiod optimization model.\n",
      "[+   0.01] Unfixed the degrees of freedom from each period model.\n",
      "[+   0.00] Beginning the formulation of the multiperiod optimization problem.\n",
      "2022-11-02 09:40:43 [INFO] idaes.apps.grid_integration.multiperiod.multiperiod: ...Constructing the flowsheet model for blocks[0]\n"
     ]
    },
    {
     "name": "stderr",
     "output_type": "stream",
     "text": [
      "INFO:idaes.apps.grid_integration.multiperiod.multiperiod:...Constructing the flowsheet model for blocks[0]\n"
     ]
    },
    {
     "name": "stdout",
     "output_type": "stream",
     "text": [
      "2022-11-02 09:40:47 [INFO] idaes.apps.grid_integration.multiperiod.multiperiod: ...Constructing the flowsheet model for blocks[1]\n"
     ]
    },
    {
     "name": "stderr",
     "output_type": "stream",
     "text": [
      "INFO:idaes.apps.grid_integration.multiperiod.multiperiod:...Constructing the flowsheet model for blocks[1]\n"
     ]
    },
    {
     "name": "stdout",
     "output_type": "stream",
     "text": [
      "2022-11-02 09:40:51 [INFO] idaes.apps.grid_integration.multiperiod.multiperiod: ...Constructing the flowsheet model for blocks[2]\n"
     ]
    },
    {
     "name": "stderr",
     "output_type": "stream",
     "text": [
      "INFO:idaes.apps.grid_integration.multiperiod.multiperiod:...Constructing the flowsheet model for blocks[2]\n"
     ]
    },
    {
     "name": "stdout",
     "output_type": "stream",
     "text": [
      "2022-11-02 09:40:54 [INFO] idaes.apps.grid_integration.multiperiod.multiperiod: ...Constructing the flowsheet model for blocks[3]\n"
     ]
    },
    {
     "name": "stderr",
     "output_type": "stream",
     "text": [
      "INFO:idaes.apps.grid_integration.multiperiod.multiperiod:...Constructing the flowsheet model for blocks[3]\n"
     ]
    },
    {
     "name": "stdout",
     "output_type": "stream",
     "text": [
      "[+  16.11] Completed the formulation of the multiperiod optimization problem.\n",
      "2022-11-02 09:41:08 [INFO] idaes.init.fs.boiler.control_volume: Initialization Complete\n",
      "2022-11-02 09:41:08 [INFO] idaes.init.fs.boiler: Initialization Complete: optimal - Optimal Solution Found\n",
      "2022-11-02 09:41:08 [INFO] idaes.init.fs.turbine_splitter[1]: Initialization Complete: optimal - Optimal Solution Found\n",
      "2022-11-02 09:41:08 [INFO] idaes.init.fs.turbine_splitter[2]: Initialization Complete: optimal - Optimal Solution Found\n",
      "2022-11-02 09:41:08 [INFO] idaes.init.fs.reheater[1].control_volume: Initialization Complete\n",
      "2022-11-02 09:41:09 [INFO] idaes.init.fs.reheater[1]: Initialization Complete: optimal - Optimal Solution Found\n",
      "2022-11-02 09:41:09 [INFO] idaes.init.fs.turbine_splitter[3]: Initialization Complete: optimal - Optimal Solution Found\n",
      "2022-11-02 09:41:09 [INFO] idaes.init.fs.turbine_splitter[4]: Initialization Complete: optimal - Optimal Solution Found\n",
      "2022-11-02 09:41:09 [INFO] idaes.init.fs.reheater[2].control_volume: Initialization Complete\n",
      "2022-11-02 09:41:09 [INFO] idaes.init.fs.reheater[2]: Initialization Complete: optimal - Optimal Solution Found\n",
      "2022-11-02 09:41:09 [INFO] idaes.init.fs.turbine_splitter[5]: Initialization Complete: optimal - Optimal Solution Found\n",
      "2022-11-02 09:41:09 [INFO] idaes.init.fs.turbine_splitter[6]: Initialization Complete: optimal - Optimal Solution Found\n",
      "2022-11-02 09:41:09 [INFO] idaes.init.fs.turbine_splitter[7]: Initialization Complete: optimal - Optimal Solution Found\n",
      "2022-11-02 09:41:09 [INFO] idaes.init.fs.turbine_splitter[8]: Initialization Complete: optimal - Optimal Solution Found\n",
      "2022-11-02 09:41:09 [INFO] idaes.init.fs.turbine_splitter[9]: Initialization Complete: optimal - Optimal Solution Found\n",
      "2022-11-02 09:41:10 [INFO] idaes.init.fs.turbine_splitter[10]: Initialization Complete: optimal - Optimal Solution Found\n",
      "2022-11-02 09:41:10 [INFO] idaes.init.fs.condenser_mix: Initialization Complete: optimal - Optimal Solution Found\n",
      "2022-11-02 09:41:10 [INFO] idaes.init.fs.condenser.control_volume: Initialization Complete\n",
      "2022-11-02 09:41:10 [INFO] idaes.init.fs.condenser: Initialization Complete: optimal - Optimal Solution Found\n",
      "2022-11-02 09:41:10 [INFO] idaes.init.fs.fwh_mixer[1]: Initialization Complete: optimal - Optimal Solution Found\n",
      "2022-11-02 09:41:10 [INFO] idaes.init.fs.fwh[1].hot_side: Initialization Complete\n",
      "2022-11-02 09:41:10 [INFO] idaes.init.fs.fwh[1].cold_side: Initialization Complete\n",
      "2022-11-02 09:41:10 [INFO] idaes.init.fs.fwh[1]: Initialization Completed, optimal - Optimal Solution Found\n",
      "2022-11-02 09:41:10 [INFO] idaes.init.fs.fwh_mixer[2]: Initialization Complete: optimal - Optimal Solution Found\n",
      "2022-11-02 09:41:10 [INFO] idaes.init.fs.fwh[2].hot_side: Initialization Complete\n",
      "2022-11-02 09:41:10 [INFO] idaes.init.fs.fwh[2].cold_side: Initialization Complete\n",
      "2022-11-02 09:41:11 [INFO] idaes.init.fs.fwh[2]: Initialization Completed, optimal - Optimal Solution Found\n",
      "2022-11-02 09:41:11 [INFO] idaes.init.fs.fwh_mixer[3]: Initialization Complete: optimal - Optimal Solution Found\n",
      "2022-11-02 09:41:11 [INFO] idaes.init.fs.fwh[3].hot_side: Initialization Complete\n",
      "2022-11-02 09:41:11 [INFO] idaes.init.fs.fwh[3].cold_side: Initialization Complete\n",
      "2022-11-02 09:41:11 [INFO] idaes.init.fs.fwh[3]: Initialization Completed, optimal - Optimal Solution Found\n",
      "2022-11-02 09:41:11 [INFO] idaes.init.fs.fwh_mixer[4]: Initialization Complete: optimal - Optimal Solution Found\n",
      "2022-11-02 09:41:11 [INFO] idaes.init.fs.fwh[4].hot_side: Initialization Complete\n",
      "2022-11-02 09:41:11 [INFO] idaes.init.fs.fwh[4].cold_side: Initialization Complete\n",
      "2022-11-02 09:41:11 [INFO] idaes.init.fs.fwh[4]: Initialization Completed, optimal - Optimal Solution Found\n",
      "2022-11-02 09:41:11 [INFO] idaes.init.fs.fwh[5].hot_side: Initialization Complete\n",
      "2022-11-02 09:41:11 [INFO] idaes.init.fs.fwh[5].cold_side: Initialization Complete\n",
      "2022-11-02 09:41:11 [INFO] idaes.init.fs.fwh[5]: Initialization Completed, optimal - Optimal Solution Found\n",
      "2022-11-02 09:41:11 [INFO] idaes.init.fs.deaerator: Initialization Complete: optimal - Optimal Solution Found\n",
      "2022-11-02 09:41:11 [INFO] idaes.init.fs.fwh_mixer[6]: Initialization Complete: optimal - Optimal Solution Found\n",
      "2022-11-02 09:41:11 [INFO] idaes.init.fs.fwh[6].hot_side: Initialization Complete\n",
      "2022-11-02 09:41:11 [INFO] idaes.init.fs.fwh[6].cold_side: Initialization Complete\n",
      "2022-11-02 09:41:12 [INFO] idaes.init.fs.fwh[6]: Initialization Completed, optimal - Optimal Solution Found\n",
      "2022-11-02 09:41:12 [INFO] idaes.init.fs.fwh_mixer[7]: Initialization Complete: optimal - Optimal Solution Found\n",
      "2022-11-02 09:41:12 [INFO] idaes.init.fs.fwh[7].hot_side: Initialization Complete\n",
      "2022-11-02 09:41:12 [INFO] idaes.init.fs.fwh[7].cold_side: Initialization Complete\n",
      "2022-11-02 09:41:12 [INFO] idaes.init.fs.fwh[7]: Initialization Completed, optimal - Optimal Solution Found\n",
      "2022-11-02 09:41:12 [INFO] idaes.init.fs.fwh_mixer[8]: Initialization Complete: optimal - Optimal Solution Found\n",
      "2022-11-02 09:41:12 [INFO] idaes.init.fs.fwh[8].hot_side: Initialization Complete\n",
      "2022-11-02 09:41:12 [INFO] idaes.init.fs.fwh[8].cold_side: Initialization Complete\n",
      "2022-11-02 09:41:12 [INFO] idaes.init.fs.fwh[8]: Initialization Completed, optimal - Optimal Solution Found\n",
      "2022-11-02 09:41:12 [INFO] idaes.init.fs.fwh[9].hot_side: Initialization Complete\n",
      "2022-11-02 09:41:12 [INFO] idaes.init.fs.fwh[9].cold_side: Initialization Complete\n",
      "2022-11-02 09:41:12 [INFO] idaes.init.fs.fwh[9]: Initialization Completed, optimal - Optimal Solution Found\n",
      "Model Initialization =  optimal\n",
      "*******************  USC Model Initialized   ********************\n",
      "2022-11-02 09:41:15 [INFO] idaes.init.fs.ess_hp_split: Initialization Complete: optimal - Optimal Solution Found\n",
      "2022-11-02 09:41:15 [INFO] idaes.init.fs.hxc.hot_side: Initialization Complete\n",
      "2022-11-02 09:41:15 [INFO] idaes.init.dispatches.properties.solarsalt_properties: fs.hxc.cold_side.properties_in Initialisation Step 1 Complete.\n",
      "2022-11-02 09:41:15 [INFO] idaes.init.dispatches.properties.solarsalt_properties: Initialization Step 1 Complete.\n",
      "2022-11-02 09:41:15 [INFO] idaes.init.dispatches.properties.solarsalt_properties: fs.hxc.cold_side.properties_out Initialisation Step 1 Complete.\n",
      "2022-11-02 09:41:15 [INFO] idaes.init.dispatches.properties.solarsalt_properties: Initialization Step 1 Complete.\n",
      "2022-11-02 09:41:15 [INFO] idaes.init.dispatches.properties.solarsalt_properties: State Released.\n",
      "2022-11-02 09:41:15 [INFO] idaes.init.fs.hxc.cold_side: Initialization Complete\n",
      "2022-11-02 09:41:15 [INFO] idaes.init.dispatches.properties.solarsalt_properties: State Released.\n",
      "2022-11-02 09:41:15 [INFO] idaes.init.fs.hxc: Initialization Completed, optimal - Optimal Solution Found\n",
      "2022-11-02 09:41:15 [INFO] idaes.init.fs.cooler.control_volume: Initialization Complete\n",
      "2022-11-02 09:41:15 [INFO] idaes.init.fs.cooler: Initialization Complete: optimal - Optimal Solution Found\n",
      "2022-11-02 09:41:15 [INFO] idaes.init.fs.hx_pump.control_volume: Initialization Complete\n",
      "2022-11-02 09:41:16 [INFO] idaes.init.fs.hx_pump: Initialization Complete: optimal - Optimal Solution Found\n",
      "2022-11-02 09:41:16 [INFO] idaes.init.fs.ess_bfp_split: Initialization Complete: optimal - Optimal Solution Found\n",
      "2022-11-02 09:41:16 [INFO] idaes.init.fs.recycle_mixer: Initialization Complete: optimal - Optimal Solution Found\n",
      "2022-11-02 09:41:16 [INFO] idaes.init.dispatches.properties.solarsalt_properties: fs.hxd.hot_side.properties_in Initialisation Step 1 Complete.\n",
      "2022-11-02 09:41:16 [INFO] idaes.init.dispatches.properties.solarsalt_properties: Initialization Step 1 Complete.\n",
      "2022-11-02 09:41:16 [INFO] idaes.init.dispatches.properties.solarsalt_properties: fs.hxd.hot_side.properties_out Initialisation Step 1 Complete.\n",
      "2022-11-02 09:41:16 [INFO] idaes.init.dispatches.properties.solarsalt_properties: Initialization Step 1 Complete.\n",
      "2022-11-02 09:41:16 [INFO] idaes.init.dispatches.properties.solarsalt_properties: State Released.\n",
      "2022-11-02 09:41:16 [INFO] idaes.init.fs.hxd.hot_side: Initialization Complete\n",
      "2022-11-02 09:41:16 [INFO] idaes.init.fs.hxd.cold_side: Initialization Complete\n",
      "2022-11-02 09:41:16 [INFO] idaes.init.dispatches.properties.solarsalt_properties: State Released.\n"
     ]
    },
    {
     "name": "stdout",
     "output_type": "stream",
     "text": [
      "2022-11-02 09:41:16 [INFO] idaes.init.fs.hxd: Initialization Completed, optimal - Optimal Solution Found\n",
      "Integrated Model Initialization =  optimal\n",
      "***************   Integrated Model Initialized   ***************\n",
      "Cost Initialization =  optimal\n",
      "******************** Costing Initialized *************************\n",
      "\n",
      "\n"
     ]
    },
    {
     "name": "stderr",
     "output_type": "stream",
     "text": [
      "WARNING:pyomo.core:Setting Var 'fs.hxd.delta_temperature_in[0.0]' to a numeric value `0.0629934683431687` outside the bounds (4.9, 300).\n",
      "WARNING:pyomo.core:Setting Var 'blocks[0].process.fs.hxd.delta_temperature_in[0.0]' to a numeric value `0.06299346834317004` outside the bounds (4.9, 300).\n"
     ]
    },
    {
     "name": "stdout",
     "output_type": "stream",
     "text": [
      "[+  25.51] Created an instance of the flowsheet and initialized it.\n"
     ]
    },
    {
     "name": "stderr",
     "output_type": "stream",
     "text": [
      "WARNING:pyomo.core:Setting Var 'blocks[1].process.fs.hxd.delta_temperature_in[0.0]' to a numeric value `0.06299346834317004` outside the bounds (4.9, 300).\n",
      "WARNING:pyomo.core:Setting Var 'blocks[2].process.fs.hxd.delta_temperature_in[0.0]' to a numeric value `0.06299346834317004` outside the bounds (4.9, 300).\n",
      "WARNING:pyomo.core:Setting Var 'blocks[3].process.fs.hxd.delta_temperature_in[0.0]' to a numeric value `0.06299346834317004` outside the bounds (4.9, 300).\n"
     ]
    },
    {
     "name": "stdout",
     "output_type": "stream",
     "text": [
      "[+   0.67] Initialized the entire multiperiod optimization model.\n",
      "[+   0.01] Unfixed the degrees of freedom from each period model.\n",
      "[+   0.00] Beginning the formulation of the multiperiod optimization problem.\n",
      "2022-11-02 09:41:25 [INFO] idaes.apps.grid_integration.multiperiod.multiperiod: ...Constructing the flowsheet model for blocks[0]\n"
     ]
    },
    {
     "name": "stderr",
     "output_type": "stream",
     "text": [
      "INFO:idaes.apps.grid_integration.multiperiod.multiperiod:...Constructing the flowsheet model for blocks[0]\n"
     ]
    },
    {
     "name": "stdout",
     "output_type": "stream",
     "text": [
      "2022-11-02 09:41:30 [INFO] idaes.apps.grid_integration.multiperiod.multiperiod: ...Constructing the flowsheet model for blocks[1]\n"
     ]
    },
    {
     "name": "stderr",
     "output_type": "stream",
     "text": [
      "INFO:idaes.apps.grid_integration.multiperiod.multiperiod:...Constructing the flowsheet model for blocks[1]\n"
     ]
    },
    {
     "name": "stdout",
     "output_type": "stream",
     "text": [
      "2022-11-02 09:41:35 [INFO] idaes.apps.grid_integration.multiperiod.multiperiod: ...Constructing the flowsheet model for blocks[2]\n"
     ]
    },
    {
     "name": "stderr",
     "output_type": "stream",
     "text": [
      "INFO:idaes.apps.grid_integration.multiperiod.multiperiod:...Constructing the flowsheet model for blocks[2]\n"
     ]
    },
    {
     "name": "stdout",
     "output_type": "stream",
     "text": [
      "2022-11-02 09:41:40 [INFO] idaes.apps.grid_integration.multiperiod.multiperiod: ...Constructing the flowsheet model for blocks[3]\n"
     ]
    },
    {
     "name": "stderr",
     "output_type": "stream",
     "text": [
      "INFO:idaes.apps.grid_integration.multiperiod.multiperiod:...Constructing the flowsheet model for blocks[3]\n"
     ]
    },
    {
     "name": "stdout",
     "output_type": "stream",
     "text": [
      "2022-11-02 09:41:44 [INFO] idaes.apps.grid_integration.multiperiod.multiperiod: ...Constructing the flowsheet model for blocks[4]\n"
     ]
    },
    {
     "name": "stderr",
     "output_type": "stream",
     "text": [
      "INFO:idaes.apps.grid_integration.multiperiod.multiperiod:...Constructing the flowsheet model for blocks[4]\n"
     ]
    },
    {
     "name": "stdout",
     "output_type": "stream",
     "text": [
      "2022-11-02 09:41:50 [INFO] idaes.apps.grid_integration.multiperiod.multiperiod: ...Constructing the flowsheet model for blocks[5]\n"
     ]
    },
    {
     "name": "stderr",
     "output_type": "stream",
     "text": [
      "INFO:idaes.apps.grid_integration.multiperiod.multiperiod:...Constructing the flowsheet model for blocks[5]\n"
     ]
    },
    {
     "name": "stdout",
     "output_type": "stream",
     "text": [
      "2022-11-02 09:41:54 [INFO] idaes.apps.grid_integration.multiperiod.multiperiod: ...Constructing the flowsheet model for blocks[6]\n"
     ]
    },
    {
     "name": "stderr",
     "output_type": "stream",
     "text": [
      "INFO:idaes.apps.grid_integration.multiperiod.multiperiod:...Constructing the flowsheet model for blocks[6]\n"
     ]
    },
    {
     "name": "stdout",
     "output_type": "stream",
     "text": [
      "2022-11-02 09:41:58 [INFO] idaes.apps.grid_integration.multiperiod.multiperiod: ...Constructing the flowsheet model for blocks[7]\n"
     ]
    },
    {
     "name": "stderr",
     "output_type": "stream",
     "text": [
      "INFO:idaes.apps.grid_integration.multiperiod.multiperiod:...Constructing the flowsheet model for blocks[7]\n"
     ]
    },
    {
     "name": "stdout",
     "output_type": "stream",
     "text": [
      "2022-11-02 09:42:01 [INFO] idaes.apps.grid_integration.multiperiod.multiperiod: ...Constructing the flowsheet model for blocks[8]\n"
     ]
    },
    {
     "name": "stderr",
     "output_type": "stream",
     "text": [
      "INFO:idaes.apps.grid_integration.multiperiod.multiperiod:...Constructing the flowsheet model for blocks[8]\n"
     ]
    },
    {
     "name": "stdout",
     "output_type": "stream",
     "text": [
      "2022-11-02 09:42:06 [INFO] idaes.apps.grid_integration.multiperiod.multiperiod: ...Constructing the flowsheet model for blocks[9]\n"
     ]
    },
    {
     "name": "stderr",
     "output_type": "stream",
     "text": [
      "INFO:idaes.apps.grid_integration.multiperiod.multiperiod:...Constructing the flowsheet model for blocks[9]\n"
     ]
    },
    {
     "name": "stdout",
     "output_type": "stream",
     "text": [
      "2022-11-02 09:42:11 [INFO] idaes.apps.grid_integration.multiperiod.multiperiod: ...Constructing the flowsheet model for blocks[10]\n"
     ]
    },
    {
     "name": "stderr",
     "output_type": "stream",
     "text": [
      "INFO:idaes.apps.grid_integration.multiperiod.multiperiod:...Constructing the flowsheet model for blocks[10]\n"
     ]
    },
    {
     "name": "stdout",
     "output_type": "stream",
     "text": [
      "2022-11-02 09:42:15 [INFO] idaes.apps.grid_integration.multiperiod.multiperiod: ...Constructing the flowsheet model for blocks[11]\n"
     ]
    },
    {
     "name": "stderr",
     "output_type": "stream",
     "text": [
      "INFO:idaes.apps.grid_integration.multiperiod.multiperiod:...Constructing the flowsheet model for blocks[11]\n"
     ]
    },
    {
     "name": "stdout",
     "output_type": "stream",
     "text": [
      "2022-11-02 09:42:20 [INFO] idaes.apps.grid_integration.multiperiod.multiperiod: ...Constructing the flowsheet model for blocks[12]\n"
     ]
    },
    {
     "name": "stderr",
     "output_type": "stream",
     "text": [
      "INFO:idaes.apps.grid_integration.multiperiod.multiperiod:...Constructing the flowsheet model for blocks[12]\n"
     ]
    },
    {
     "name": "stdout",
     "output_type": "stream",
     "text": [
      "2022-11-02 09:42:27 [INFO] idaes.apps.grid_integration.multiperiod.multiperiod: ...Constructing the flowsheet model for blocks[13]\n"
     ]
    },
    {
     "name": "stderr",
     "output_type": "stream",
     "text": [
      "INFO:idaes.apps.grid_integration.multiperiod.multiperiod:...Constructing the flowsheet model for blocks[13]\n"
     ]
    },
    {
     "name": "stdout",
     "output_type": "stream",
     "text": [
      "2022-11-02 09:42:32 [INFO] idaes.apps.grid_integration.multiperiod.multiperiod: ...Constructing the flowsheet model for blocks[14]\n"
     ]
    },
    {
     "name": "stderr",
     "output_type": "stream",
     "text": [
      "INFO:idaes.apps.grid_integration.multiperiod.multiperiod:...Constructing the flowsheet model for blocks[14]\n"
     ]
    },
    {
     "name": "stdout",
     "output_type": "stream",
     "text": [
      "2022-11-02 09:42:35 [INFO] idaes.apps.grid_integration.multiperiod.multiperiod: ...Constructing the flowsheet model for blocks[15]\n"
     ]
    },
    {
     "name": "stderr",
     "output_type": "stream",
     "text": [
      "INFO:idaes.apps.grid_integration.multiperiod.multiperiod:...Constructing the flowsheet model for blocks[15]\n"
     ]
    },
    {
     "name": "stdout",
     "output_type": "stream",
     "text": [
      "2022-11-02 09:42:39 [INFO] idaes.apps.grid_integration.multiperiod.multiperiod: ...Constructing the flowsheet model for blocks[16]\n"
     ]
    },
    {
     "name": "stderr",
     "output_type": "stream",
     "text": [
      "INFO:idaes.apps.grid_integration.multiperiod.multiperiod:...Constructing the flowsheet model for blocks[16]\n"
     ]
    },
    {
     "name": "stdout",
     "output_type": "stream",
     "text": [
      "2022-11-02 09:42:43 [INFO] idaes.apps.grid_integration.multiperiod.multiperiod: ...Constructing the flowsheet model for blocks[17]\n"
     ]
    },
    {
     "name": "stderr",
     "output_type": "stream",
     "text": [
      "INFO:idaes.apps.grid_integration.multiperiod.multiperiod:...Constructing the flowsheet model for blocks[17]\n"
     ]
    },
    {
     "name": "stdout",
     "output_type": "stream",
     "text": [
      "2022-11-02 09:42:49 [INFO] idaes.apps.grid_integration.multiperiod.multiperiod: ...Constructing the flowsheet model for blocks[18]\n"
     ]
    },
    {
     "name": "stderr",
     "output_type": "stream",
     "text": [
      "INFO:idaes.apps.grid_integration.multiperiod.multiperiod:...Constructing the flowsheet model for blocks[18]\n"
     ]
    },
    {
     "name": "stdout",
     "output_type": "stream",
     "text": [
      "2022-11-02 09:42:53 [INFO] idaes.apps.grid_integration.multiperiod.multiperiod: ...Constructing the flowsheet model for blocks[19]\n"
     ]
    },
    {
     "name": "stderr",
     "output_type": "stream",
     "text": [
      "INFO:idaes.apps.grid_integration.multiperiod.multiperiod:...Constructing the flowsheet model for blocks[19]\n"
     ]
    },
    {
     "name": "stdout",
     "output_type": "stream",
     "text": [
      "2022-11-02 09:42:57 [INFO] idaes.apps.grid_integration.multiperiod.multiperiod: ...Constructing the flowsheet model for blocks[20]\n"
     ]
    },
    {
     "name": "stderr",
     "output_type": "stream",
     "text": [
      "INFO:idaes.apps.grid_integration.multiperiod.multiperiod:...Constructing the flowsheet model for blocks[20]\n"
     ]
    },
    {
     "name": "stdout",
     "output_type": "stream",
     "text": [
      "2022-11-02 09:43:01 [INFO] idaes.apps.grid_integration.multiperiod.multiperiod: ...Constructing the flowsheet model for blocks[21]\n"
     ]
    },
    {
     "name": "stderr",
     "output_type": "stream",
     "text": [
      "INFO:idaes.apps.grid_integration.multiperiod.multiperiod:...Constructing the flowsheet model for blocks[21]\n"
     ]
    },
    {
     "name": "stdout",
     "output_type": "stream",
     "text": [
      "2022-11-02 09:43:05 [INFO] idaes.apps.grid_integration.multiperiod.multiperiod: ...Constructing the flowsheet model for blocks[22]\n"
     ]
    },
    {
     "name": "stderr",
     "output_type": "stream",
     "text": [
      "INFO:idaes.apps.grid_integration.multiperiod.multiperiod:...Constructing the flowsheet model for blocks[22]\n"
     ]
    },
    {
     "name": "stdout",
     "output_type": "stream",
     "text": [
      "2022-11-02 09:43:09 [INFO] idaes.apps.grid_integration.multiperiod.multiperiod: ...Constructing the flowsheet model for blocks[23]\n"
     ]
    },
    {
     "name": "stderr",
     "output_type": "stream",
     "text": [
      "INFO:idaes.apps.grid_integration.multiperiod.multiperiod:...Constructing the flowsheet model for blocks[23]\n"
     ]
    },
    {
     "name": "stdout",
     "output_type": "stream",
     "text": [
      "2022-11-02 09:43:13 [INFO] idaes.apps.grid_integration.multiperiod.multiperiod: ...Constructing the flowsheet model for blocks[24]\n"
     ]
    },
    {
     "name": "stderr",
     "output_type": "stream",
     "text": [
      "INFO:idaes.apps.grid_integration.multiperiod.multiperiod:...Constructing the flowsheet model for blocks[24]\n"
     ]
    },
    {
     "name": "stdout",
     "output_type": "stream",
     "text": [
      "2022-11-02 09:43:20 [INFO] idaes.apps.grid_integration.multiperiod.multiperiod: ...Constructing the flowsheet model for blocks[25]\n"
     ]
    },
    {
     "name": "stderr",
     "output_type": "stream",
     "text": [
      "INFO:idaes.apps.grid_integration.multiperiod.multiperiod:...Constructing the flowsheet model for blocks[25]\n"
     ]
    },
    {
     "name": "stdout",
     "output_type": "stream",
     "text": [
      "2022-11-02 09:43:24 [INFO] idaes.apps.grid_integration.multiperiod.multiperiod: ...Constructing the flowsheet model for blocks[26]\n"
     ]
    },
    {
     "name": "stderr",
     "output_type": "stream",
     "text": [
      "INFO:idaes.apps.grid_integration.multiperiod.multiperiod:...Constructing the flowsheet model for blocks[26]\n"
     ]
    },
    {
     "name": "stdout",
     "output_type": "stream",
     "text": [
      "2022-11-02 09:43:29 [INFO] idaes.apps.grid_integration.multiperiod.multiperiod: ...Constructing the flowsheet model for blocks[27]\n"
     ]
    },
    {
     "name": "stderr",
     "output_type": "stream",
     "text": [
      "INFO:idaes.apps.grid_integration.multiperiod.multiperiod:...Constructing the flowsheet model for blocks[27]\n"
     ]
    },
    {
     "name": "stdout",
     "output_type": "stream",
     "text": [
      "2022-11-02 09:43:33 [INFO] idaes.apps.grid_integration.multiperiod.multiperiod: ...Constructing the flowsheet model for blocks[28]\n"
     ]
    },
    {
     "name": "stderr",
     "output_type": "stream",
     "text": [
      "INFO:idaes.apps.grid_integration.multiperiod.multiperiod:...Constructing the flowsheet model for blocks[28]\n"
     ]
    },
    {
     "name": "stdout",
     "output_type": "stream",
     "text": [
      "2022-11-02 09:43:37 [INFO] idaes.apps.grid_integration.multiperiod.multiperiod: ...Constructing the flowsheet model for blocks[29]\n"
     ]
    },
    {
     "name": "stderr",
     "output_type": "stream",
     "text": [
      "INFO:idaes.apps.grid_integration.multiperiod.multiperiod:...Constructing the flowsheet model for blocks[29]\n"
     ]
    },
    {
     "name": "stdout",
     "output_type": "stream",
     "text": [
      "2022-11-02 09:43:41 [INFO] idaes.apps.grid_integration.multiperiod.multiperiod: ...Constructing the flowsheet model for blocks[30]\n"
     ]
    },
    {
     "name": "stderr",
     "output_type": "stream",
     "text": [
      "INFO:idaes.apps.grid_integration.multiperiod.multiperiod:...Constructing the flowsheet model for blocks[30]\n"
     ]
    },
    {
     "name": "stdout",
     "output_type": "stream",
     "text": [
      "2022-11-02 09:43:46 [INFO] idaes.apps.grid_integration.multiperiod.multiperiod: ...Constructing the flowsheet model for blocks[31]\n"
     ]
    },
    {
     "name": "stderr",
     "output_type": "stream",
     "text": [
      "INFO:idaes.apps.grid_integration.multiperiod.multiperiod:...Constructing the flowsheet model for blocks[31]\n"
     ]
    },
    {
     "name": "stdout",
     "output_type": "stream",
     "text": [
      "2022-11-02 09:43:51 [INFO] idaes.apps.grid_integration.multiperiod.multiperiod: ...Constructing the flowsheet model for blocks[32]\n"
     ]
    },
    {
     "name": "stderr",
     "output_type": "stream",
     "text": [
      "INFO:idaes.apps.grid_integration.multiperiod.multiperiod:...Constructing the flowsheet model for blocks[32]\n"
     ]
    },
    {
     "name": "stdout",
     "output_type": "stream",
     "text": [
      "2022-11-02 09:43:57 [INFO] idaes.apps.grid_integration.multiperiod.multiperiod: ...Constructing the flowsheet model for blocks[33]\n"
     ]
    },
    {
     "name": "stderr",
     "output_type": "stream",
     "text": [
      "INFO:idaes.apps.grid_integration.multiperiod.multiperiod:...Constructing the flowsheet model for blocks[33]\n"
     ]
    },
    {
     "name": "stdout",
     "output_type": "stream",
     "text": [
      "2022-11-02 09:44:01 [INFO] idaes.apps.grid_integration.multiperiod.multiperiod: ...Constructing the flowsheet model for blocks[34]\n"
     ]
    },
    {
     "name": "stderr",
     "output_type": "stream",
     "text": [
      "INFO:idaes.apps.grid_integration.multiperiod.multiperiod:...Constructing the flowsheet model for blocks[34]\n"
     ]
    },
    {
     "name": "stdout",
     "output_type": "stream",
     "text": [
      "2022-11-02 09:44:05 [INFO] idaes.apps.grid_integration.multiperiod.multiperiod: ...Constructing the flowsheet model for blocks[35]\n"
     ]
    },
    {
     "name": "stderr",
     "output_type": "stream",
     "text": [
      "INFO:idaes.apps.grid_integration.multiperiod.multiperiod:...Constructing the flowsheet model for blocks[35]\n"
     ]
    },
    {
     "name": "stdout",
     "output_type": "stream",
     "text": [
      "2022-11-02 09:44:09 [INFO] idaes.apps.grid_integration.multiperiod.multiperiod: ...Constructing the flowsheet model for blocks[36]\n"
     ]
    },
    {
     "name": "stderr",
     "output_type": "stream",
     "text": [
      "INFO:idaes.apps.grid_integration.multiperiod.multiperiod:...Constructing the flowsheet model for blocks[36]\n"
     ]
    },
    {
     "name": "stdout",
     "output_type": "stream",
     "text": [
      "2022-11-02 09:44:13 [INFO] idaes.apps.grid_integration.multiperiod.multiperiod: ...Constructing the flowsheet model for blocks[37]\n"
     ]
    },
    {
     "name": "stderr",
     "output_type": "stream",
     "text": [
      "INFO:idaes.apps.grid_integration.multiperiod.multiperiod:...Constructing the flowsheet model for blocks[37]\n"
     ]
    },
    {
     "name": "stdout",
     "output_type": "stream",
     "text": [
      "2022-11-02 09:44:17 [INFO] idaes.apps.grid_integration.multiperiod.multiperiod: ...Constructing the flowsheet model for blocks[38]\n"
     ]
    },
    {
     "name": "stderr",
     "output_type": "stream",
     "text": [
      "INFO:idaes.apps.grid_integration.multiperiod.multiperiod:...Constructing the flowsheet model for blocks[38]\n"
     ]
    },
    {
     "name": "stdout",
     "output_type": "stream",
     "text": [
      "2022-11-02 09:44:21 [INFO] idaes.apps.grid_integration.multiperiod.multiperiod: ...Constructing the flowsheet model for blocks[39]\n"
     ]
    },
    {
     "name": "stderr",
     "output_type": "stream",
     "text": [
      "INFO:idaes.apps.grid_integration.multiperiod.multiperiod:...Constructing the flowsheet model for blocks[39]\n"
     ]
    },
    {
     "name": "stdout",
     "output_type": "stream",
     "text": [
      "2022-11-02 09:44:25 [INFO] idaes.apps.grid_integration.multiperiod.multiperiod: ...Constructing the flowsheet model for blocks[40]\n"
     ]
    },
    {
     "name": "stderr",
     "output_type": "stream",
     "text": [
      "INFO:idaes.apps.grid_integration.multiperiod.multiperiod:...Constructing the flowsheet model for blocks[40]\n"
     ]
    },
    {
     "name": "stdout",
     "output_type": "stream",
     "text": [
      "2022-11-02 09:44:30 [INFO] idaes.apps.grid_integration.multiperiod.multiperiod: ...Constructing the flowsheet model for blocks[41]\n"
     ]
    },
    {
     "name": "stderr",
     "output_type": "stream",
     "text": [
      "INFO:idaes.apps.grid_integration.multiperiod.multiperiod:...Constructing the flowsheet model for blocks[41]\n"
     ]
    },
    {
     "name": "stdout",
     "output_type": "stream",
     "text": [
      "2022-11-02 09:44:34 [INFO] idaes.apps.grid_integration.multiperiod.multiperiod: ...Constructing the flowsheet model for blocks[42]\n"
     ]
    },
    {
     "name": "stderr",
     "output_type": "stream",
     "text": [
      "INFO:idaes.apps.grid_integration.multiperiod.multiperiod:...Constructing the flowsheet model for blocks[42]\n"
     ]
    },
    {
     "name": "stdout",
     "output_type": "stream",
     "text": [
      "2022-11-02 09:44:38 [INFO] idaes.apps.grid_integration.multiperiod.multiperiod: ...Constructing the flowsheet model for blocks[43]\n"
     ]
    },
    {
     "name": "stderr",
     "output_type": "stream",
     "text": [
      "INFO:idaes.apps.grid_integration.multiperiod.multiperiod:...Constructing the flowsheet model for blocks[43]\n"
     ]
    },
    {
     "name": "stdout",
     "output_type": "stream",
     "text": [
      "2022-11-02 09:44:45 [INFO] idaes.apps.grid_integration.multiperiod.multiperiod: ...Constructing the flowsheet model for blocks[44]\n"
     ]
    },
    {
     "name": "stderr",
     "output_type": "stream",
     "text": [
      "INFO:idaes.apps.grid_integration.multiperiod.multiperiod:...Constructing the flowsheet model for blocks[44]\n"
     ]
    },
    {
     "name": "stdout",
     "output_type": "stream",
     "text": [
      "2022-11-02 09:44:49 [INFO] idaes.apps.grid_integration.multiperiod.multiperiod: ...Constructing the flowsheet model for blocks[45]\n"
     ]
    },
    {
     "name": "stderr",
     "output_type": "stream",
     "text": [
      "INFO:idaes.apps.grid_integration.multiperiod.multiperiod:...Constructing the flowsheet model for blocks[45]\n"
     ]
    },
    {
     "name": "stdout",
     "output_type": "stream",
     "text": [
      "2022-11-02 09:44:53 [INFO] idaes.apps.grid_integration.multiperiod.multiperiod: ...Constructing the flowsheet model for blocks[46]\n"
     ]
    },
    {
     "name": "stderr",
     "output_type": "stream",
     "text": [
      "INFO:idaes.apps.grid_integration.multiperiod.multiperiod:...Constructing the flowsheet model for blocks[46]\n"
     ]
    },
    {
     "name": "stdout",
     "output_type": "stream",
     "text": [
      "2022-11-02 09:44:58 [INFO] idaes.apps.grid_integration.multiperiod.multiperiod: ...Constructing the flowsheet model for blocks[47]\n"
     ]
    },
    {
     "name": "stderr",
     "output_type": "stream",
     "text": [
      "INFO:idaes.apps.grid_integration.multiperiod.multiperiod:...Constructing the flowsheet model for blocks[47]\n"
     ]
    },
    {
     "name": "stdout",
     "output_type": "stream",
     "text": [
      "[+ 216.90] Completed the formulation of the multiperiod optimization problem.\n",
      "2022-11-02 09:45:10 [INFO] idaes.init.fs.boiler.control_volume: Initialization Complete\n",
      "2022-11-02 09:45:10 [INFO] idaes.init.fs.boiler: Initialization Complete: optimal - Optimal Solution Found\n",
      "2022-11-02 09:45:10 [INFO] idaes.init.fs.turbine_splitter[1]: Initialization Complete: optimal - Optimal Solution Found\n",
      "2022-11-02 09:45:10 [INFO] idaes.init.fs.turbine_splitter[2]: Initialization Complete: optimal - Optimal Solution Found\n",
      "2022-11-02 09:45:10 [INFO] idaes.init.fs.reheater[1].control_volume: Initialization Complete\n",
      "2022-11-02 09:45:10 [INFO] idaes.init.fs.reheater[1]: Initialization Complete: optimal - Optimal Solution Found\n",
      "2022-11-02 09:45:11 [INFO] idaes.init.fs.turbine_splitter[3]: Initialization Complete: optimal - Optimal Solution Found\n",
      "2022-11-02 09:45:11 [INFO] idaes.init.fs.turbine_splitter[4]: Initialization Complete: optimal - Optimal Solution Found\n",
      "2022-11-02 09:45:11 [INFO] idaes.init.fs.reheater[2].control_volume: Initialization Complete\n",
      "2022-11-02 09:45:11 [INFO] idaes.init.fs.reheater[2]: Initialization Complete: optimal - Optimal Solution Found\n",
      "2022-11-02 09:45:11 [INFO] idaes.init.fs.turbine_splitter[5]: Initialization Complete: optimal - Optimal Solution Found\n",
      "2022-11-02 09:45:11 [INFO] idaes.init.fs.turbine_splitter[6]: Initialization Complete: optimal - Optimal Solution Found\n",
      "2022-11-02 09:45:11 [INFO] idaes.init.fs.turbine_splitter[7]: Initialization Complete: optimal - Optimal Solution Found\n",
      "2022-11-02 09:45:11 [INFO] idaes.init.fs.turbine_splitter[8]: Initialization Complete: optimal - Optimal Solution Found\n",
      "2022-11-02 09:45:11 [INFO] idaes.init.fs.turbine_splitter[9]: Initialization Complete: optimal - Optimal Solution Found\n",
      "2022-11-02 09:45:11 [INFO] idaes.init.fs.turbine_splitter[10]: Initialization Complete: optimal - Optimal Solution Found\n",
      "2022-11-02 09:45:12 [INFO] idaes.init.fs.condenser_mix: Initialization Complete: optimal - Optimal Solution Found\n",
      "2022-11-02 09:45:12 [INFO] idaes.init.fs.condenser.control_volume: Initialization Complete\n",
      "2022-11-02 09:45:12 [INFO] idaes.init.fs.condenser: Initialization Complete: optimal - Optimal Solution Found\n",
      "2022-11-02 09:45:12 [INFO] idaes.init.fs.fwh_mixer[1]: Initialization Complete: optimal - Optimal Solution Found\n",
      "2022-11-02 09:45:12 [INFO] idaes.init.fs.fwh[1].hot_side: Initialization Complete\n",
      "2022-11-02 09:45:12 [INFO] idaes.init.fs.fwh[1].cold_side: Initialization Complete\n",
      "2022-11-02 09:45:12 [INFO] idaes.init.fs.fwh[1]: Initialization Completed, optimal - Optimal Solution Found\n",
      "2022-11-02 09:45:12 [INFO] idaes.init.fs.fwh_mixer[2]: Initialization Complete: optimal - Optimal Solution Found\n",
      "2022-11-02 09:45:12 [INFO] idaes.init.fs.fwh[2].hot_side: Initialization Complete\n",
      "2022-11-02 09:45:12 [INFO] idaes.init.fs.fwh[2].cold_side: Initialization Complete\n",
      "2022-11-02 09:45:12 [INFO] idaes.init.fs.fwh[2]: Initialization Completed, optimal - Optimal Solution Found\n",
      "2022-11-02 09:45:13 [INFO] idaes.init.fs.fwh_mixer[3]: Initialization Complete: optimal - Optimal Solution Found\n",
      "2022-11-02 09:45:13 [INFO] idaes.init.fs.fwh[3].hot_side: Initialization Complete\n",
      "2022-11-02 09:45:13 [INFO] idaes.init.fs.fwh[3].cold_side: Initialization Complete\n",
      "2022-11-02 09:45:13 [INFO] idaes.init.fs.fwh[3]: Initialization Completed, optimal - Optimal Solution Found\n",
      "2022-11-02 09:45:13 [INFO] idaes.init.fs.fwh_mixer[4]: Initialization Complete: optimal - Optimal Solution Found\n",
      "2022-11-02 09:45:13 [INFO] idaes.init.fs.fwh[4].hot_side: Initialization Complete\n",
      "2022-11-02 09:45:13 [INFO] idaes.init.fs.fwh[4].cold_side: Initialization Complete\n",
      "2022-11-02 09:45:13 [INFO] idaes.init.fs.fwh[4]: Initialization Completed, optimal - Optimal Solution Found\n",
      "2022-11-02 09:45:13 [INFO] idaes.init.fs.fwh[5].hot_side: Initialization Complete\n",
      "2022-11-02 09:45:13 [INFO] idaes.init.fs.fwh[5].cold_side: Initialization Complete\n",
      "2022-11-02 09:45:13 [INFO] idaes.init.fs.fwh[5]: Initialization Completed, optimal - Optimal Solution Found\n",
      "2022-11-02 09:45:13 [INFO] idaes.init.fs.deaerator: Initialization Complete: optimal - Optimal Solution Found\n",
      "2022-11-02 09:45:13 [INFO] idaes.init.fs.fwh_mixer[6]: Initialization Complete: optimal - Optimal Solution Found\n",
      "2022-11-02 09:45:13 [INFO] idaes.init.fs.fwh[6].hot_side: Initialization Complete\n",
      "2022-11-02 09:45:13 [INFO] idaes.init.fs.fwh[6].cold_side: Initialization Complete\n",
      "2022-11-02 09:45:14 [INFO] idaes.init.fs.fwh[6]: Initialization Completed, optimal - Optimal Solution Found\n",
      "2022-11-02 09:45:14 [INFO] idaes.init.fs.fwh_mixer[7]: Initialization Complete: optimal - Optimal Solution Found\n",
      "2022-11-02 09:45:14 [INFO] idaes.init.fs.fwh[7].hot_side: Initialization Complete\n",
      "2022-11-02 09:45:14 [INFO] idaes.init.fs.fwh[7].cold_side: Initialization Complete\n",
      "2022-11-02 09:45:14 [INFO] idaes.init.fs.fwh[7]: Initialization Completed, optimal - Optimal Solution Found\n",
      "2022-11-02 09:45:14 [INFO] idaes.init.fs.fwh_mixer[8]: Initialization Complete: optimal - Optimal Solution Found\n",
      "2022-11-02 09:45:14 [INFO] idaes.init.fs.fwh[8].hot_side: Initialization Complete\n",
      "2022-11-02 09:45:14 [INFO] idaes.init.fs.fwh[8].cold_side: Initialization Complete\n",
      "2022-11-02 09:45:14 [INFO] idaes.init.fs.fwh[8]: Initialization Completed, optimal - Optimal Solution Found\n",
      "2022-11-02 09:45:14 [INFO] idaes.init.fs.fwh[9].hot_side: Initialization Complete\n",
      "2022-11-02 09:45:14 [INFO] idaes.init.fs.fwh[9].cold_side: Initialization Complete\n",
      "2022-11-02 09:45:14 [INFO] idaes.init.fs.fwh[9]: Initialization Completed, optimal - Optimal Solution Found\n",
      "Model Initialization =  optimal\n",
      "*******************  USC Model Initialized   ********************\n",
      "2022-11-02 09:45:16 [INFO] idaes.init.fs.ess_hp_split: Initialization Complete: optimal - Optimal Solution Found\n",
      "2022-11-02 09:45:16 [INFO] idaes.init.fs.hxc.hot_side: Initialization Complete\n",
      "2022-11-02 09:45:16 [INFO] idaes.init.dispatches.properties.solarsalt_properties: fs.hxc.cold_side.properties_in Initialisation Step 1 Complete.\n",
      "2022-11-02 09:45:16 [INFO] idaes.init.dispatches.properties.solarsalt_properties: Initialization Step 1 Complete.\n",
      "2022-11-02 09:45:17 [INFO] idaes.init.dispatches.properties.solarsalt_properties: fs.hxc.cold_side.properties_out Initialisation Step 1 Complete.\n",
      "2022-11-02 09:45:17 [INFO] idaes.init.dispatches.properties.solarsalt_properties: Initialization Step 1 Complete.\n",
      "2022-11-02 09:45:17 [INFO] idaes.init.dispatches.properties.solarsalt_properties: State Released.\n",
      "2022-11-02 09:45:17 [INFO] idaes.init.fs.hxc.cold_side: Initialization Complete\n",
      "2022-11-02 09:45:17 [INFO] idaes.init.dispatches.properties.solarsalt_properties: State Released.\n",
      "2022-11-02 09:45:17 [INFO] idaes.init.fs.hxc: Initialization Completed, optimal - Optimal Solution Found\n",
      "2022-11-02 09:45:17 [INFO] idaes.init.fs.cooler.control_volume: Initialization Complete\n",
      "2022-11-02 09:45:17 [INFO] idaes.init.fs.cooler: Initialization Complete: optimal - Optimal Solution Found\n",
      "2022-11-02 09:45:17 [INFO] idaes.init.fs.hx_pump.control_volume: Initialization Complete\n",
      "2022-11-02 09:45:17 [INFO] idaes.init.fs.hx_pump: Initialization Complete: optimal - Optimal Solution Found\n",
      "2022-11-02 09:45:17 [INFO] idaes.init.fs.ess_bfp_split: Initialization Complete: optimal - Optimal Solution Found\n",
      "2022-11-02 09:45:17 [INFO] idaes.init.fs.recycle_mixer: Initialization Complete: optimal - Optimal Solution Found\n",
      "2022-11-02 09:45:17 [INFO] idaes.init.dispatches.properties.solarsalt_properties: fs.hxd.hot_side.properties_in Initialisation Step 1 Complete.\n",
      "2022-11-02 09:45:17 [INFO] idaes.init.dispatches.properties.solarsalt_properties: Initialization Step 1 Complete.\n",
      "2022-11-02 09:45:17 [INFO] idaes.init.dispatches.properties.solarsalt_properties: fs.hxd.hot_side.properties_out Initialisation Step 1 Complete.\n",
      "2022-11-02 09:45:17 [INFO] idaes.init.dispatches.properties.solarsalt_properties: Initialization Step 1 Complete.\n",
      "2022-11-02 09:45:17 [INFO] idaes.init.dispatches.properties.solarsalt_properties: State Released.\n",
      "2022-11-02 09:45:17 [INFO] idaes.init.fs.hxd.hot_side: Initialization Complete\n",
      "2022-11-02 09:45:17 [INFO] idaes.init.fs.hxd.cold_side: Initialization Complete\n",
      "2022-11-02 09:45:18 [INFO] idaes.init.dispatches.properties.solarsalt_properties: State Released.\n"
     ]
    },
    {
     "name": "stdout",
     "output_type": "stream",
     "text": [
      "2022-11-02 09:45:18 [INFO] idaes.init.fs.hxd: Initialization Completed, optimal - Optimal Solution Found\n",
      "Integrated Model Initialization =  optimal\n",
      "***************   Integrated Model Initialized   ***************\n",
      "Cost Initialization =  optimal\n",
      "******************** Costing Initialized *************************\n",
      "\n",
      "\n"
     ]
    },
    {
     "name": "stderr",
     "output_type": "stream",
     "text": [
      "WARNING:pyomo.core:Setting Var 'fs.hxd.delta_temperature_in[0.0]' to a numeric value `0.0629934683431687` outside the bounds (4.9, 300).\n",
      "WARNING:pyomo.core:Setting Var 'blocks[0].process.fs.hxd.delta_temperature_in[0.0]' to a numeric value `0.06299346834317004` outside the bounds (4.9, 300).\n"
     ]
    },
    {
     "name": "stdout",
     "output_type": "stream",
     "text": [
      "[+  22.47] Created an instance of the flowsheet and initialized it.\n"
     ]
    },
    {
     "name": "stderr",
     "output_type": "stream",
     "text": [
      "WARNING:pyomo.core:Setting Var 'blocks[1].process.fs.hxd.delta_temperature_in[0.0]' to a numeric value `0.06299346834317004` outside the bounds (4.9, 300).\n",
      "WARNING:pyomo.core:Setting Var 'blocks[2].process.fs.hxd.delta_temperature_in[0.0]' to a numeric value `0.06299346834317004` outside the bounds (4.9, 300).\n",
      "WARNING:pyomo.core:Setting Var 'blocks[3].process.fs.hxd.delta_temperature_in[0.0]' to a numeric value `0.06299346834317004` outside the bounds (4.9, 300).\n",
      "WARNING:pyomo.core:Setting Var 'blocks[4].process.fs.hxd.delta_temperature_in[0.0]' to a numeric value `0.06299346834317004` outside the bounds (4.9, 300).\n",
      "WARNING:pyomo.core:Setting Var 'blocks[5].process.fs.hxd.delta_temperature_in[0.0]' to a numeric value `0.06299346834317004` outside the bounds (4.9, 300).\n",
      "WARNING:pyomo.core:Setting Var 'blocks[6].process.fs.hxd.delta_temperature_in[0.0]' to a numeric value `0.06299346834317004` outside the bounds (4.9, 300).\n",
      "WARNING:pyomo.core:Setting Var 'blocks[7].process.fs.hxd.delta_temperature_in[0.0]' to a numeric value `0.06299346834317004` outside the bounds (4.9, 300).\n",
      "WARNING:pyomo.core:Setting Var 'blocks[8].process.fs.hxd.delta_temperature_in[0.0]' to a numeric value `0.06299346834317004` outside the bounds (4.9, 300).\n",
      "WARNING:pyomo.core:Setting Var 'blocks[9].process.fs.hxd.delta_temperature_in[0.0]' to a numeric value `0.06299346834317004` outside the bounds (4.9, 300).\n",
      "WARNING:pyomo.core:Setting Var 'blocks[10].process.fs.hxd.delta_temperature_in[0.0]' to a numeric value `0.06299346834317004` outside the bounds (4.9, 300).\n",
      "WARNING:pyomo.core:Setting Var 'blocks[11].process.fs.hxd.delta_temperature_in[0.0]' to a numeric value `0.06299346834317004` outside the bounds (4.9, 300).\n",
      "WARNING:pyomo.core:Setting Var 'blocks[12].process.fs.hxd.delta_temperature_in[0.0]' to a numeric value `0.06299346834317004` outside the bounds (4.9, 300).\n",
      "WARNING:pyomo.core:Setting Var 'blocks[13].process.fs.hxd.delta_temperature_in[0.0]' to a numeric value `0.06299346834317004` outside the bounds (4.9, 300).\n",
      "WARNING:pyomo.core:Setting Var 'blocks[14].process.fs.hxd.delta_temperature_in[0.0]' to a numeric value `0.06299346834317004` outside the bounds (4.9, 300).\n",
      "WARNING:pyomo.core:Setting Var 'blocks[15].process.fs.hxd.delta_temperature_in[0.0]' to a numeric value `0.06299346834317004` outside the bounds (4.9, 300).\n",
      "WARNING:pyomo.core:Setting Var 'blocks[16].process.fs.hxd.delta_temperature_in[0.0]' to a numeric value `0.06299346834317004` outside the bounds (4.9, 300).\n",
      "WARNING:pyomo.core:Setting Var 'blocks[17].process.fs.hxd.delta_temperature_in[0.0]' to a numeric value `0.06299346834317004` outside the bounds (4.9, 300).\n",
      "WARNING:pyomo.core:Setting Var 'blocks[18].process.fs.hxd.delta_temperature_in[0.0]' to a numeric value `0.06299346834317004` outside the bounds (4.9, 300).\n",
      "WARNING:pyomo.core:Setting Var 'blocks[19].process.fs.hxd.delta_temperature_in[0.0]' to a numeric value `0.06299346834317004` outside the bounds (4.9, 300).\n",
      "WARNING:pyomo.core:Setting Var 'blocks[20].process.fs.hxd.delta_temperature_in[0.0]' to a numeric value `0.06299346834317004` outside the bounds (4.9, 300).\n",
      "WARNING:pyomo.core:Setting Var 'blocks[21].process.fs.hxd.delta_temperature_in[0.0]' to a numeric value `0.06299346834317004` outside the bounds (4.9, 300).\n",
      "WARNING:pyomo.core:Setting Var 'blocks[22].process.fs.hxd.delta_temperature_in[0.0]' to a numeric value `0.06299346834317004` outside the bounds (4.9, 300).\n",
      "WARNING:pyomo.core:Setting Var 'blocks[23].process.fs.hxd.delta_temperature_in[0.0]' to a numeric value `0.06299346834317004` outside the bounds (4.9, 300).\n",
      "WARNING:pyomo.core:Setting Var 'blocks[24].process.fs.hxd.delta_temperature_in[0.0]' to a numeric value `0.06299346834317004` outside the bounds (4.9, 300).\n",
      "WARNING:pyomo.core:Setting Var 'blocks[25].process.fs.hxd.delta_temperature_in[0.0]' to a numeric value `0.06299346834317004` outside the bounds (4.9, 300).\n",
      "WARNING:pyomo.core:Setting Var 'blocks[26].process.fs.hxd.delta_temperature_in[0.0]' to a numeric value `0.06299346834317004` outside the bounds (4.9, 300).\n",
      "WARNING:pyomo.core:Setting Var 'blocks[27].process.fs.hxd.delta_temperature_in[0.0]' to a numeric value `0.06299346834317004` outside the bounds (4.9, 300).\n",
      "WARNING:pyomo.core:Setting Var 'blocks[28].process.fs.hxd.delta_temperature_in[0.0]' to a numeric value `0.06299346834317004` outside the bounds (4.9, 300).\n",
      "WARNING:pyomo.core:Setting Var 'blocks[29].process.fs.hxd.delta_temperature_in[0.0]' to a numeric value `0.06299346834317004` outside the bounds (4.9, 300).\n",
      "WARNING:pyomo.core:Setting Var 'blocks[30].process.fs.hxd.delta_temperature_in[0.0]' to a numeric value `0.06299346834317004` outside the bounds (4.9, 300).\n",
      "WARNING:pyomo.core:Setting Var 'blocks[31].process.fs.hxd.delta_temperature_in[0.0]' to a numeric value `0.06299346834317004` outside the bounds (4.9, 300).\n",
      "WARNING:pyomo.core:Setting Var 'blocks[32].process.fs.hxd.delta_temperature_in[0.0]' to a numeric value `0.06299346834317004` outside the bounds (4.9, 300).\n",
      "WARNING:pyomo.core:Setting Var 'blocks[33].process.fs.hxd.delta_temperature_in[0.0]' to a numeric value `0.06299346834317004` outside the bounds (4.9, 300).\n",
      "WARNING:pyomo.core:Setting Var 'blocks[34].process.fs.hxd.delta_temperature_in[0.0]' to a numeric value `0.06299346834317004` outside the bounds (4.9, 300).\n",
      "WARNING:pyomo.core:Setting Var 'blocks[35].process.fs.hxd.delta_temperature_in[0.0]' to a numeric value `0.06299346834317004` outside the bounds (4.9, 300).\n",
      "WARNING:pyomo.core:Setting Var 'blocks[36].process.fs.hxd.delta_temperature_in[0.0]' to a numeric value `0.06299346834317004` outside the bounds (4.9, 300).\n",
      "WARNING:pyomo.core:Setting Var 'blocks[37].process.fs.hxd.delta_temperature_in[0.0]' to a numeric value `0.06299346834317004` outside the bounds (4.9, 300).\n",
      "WARNING:pyomo.core:Setting Var 'blocks[38].process.fs.hxd.delta_temperature_in[0.0]' to a numeric value `0.06299346834317004` outside the bounds (4.9, 300).\n",
      "WARNING:pyomo.core:Setting Var 'blocks[39].process.fs.hxd.delta_temperature_in[0.0]' to a numeric value `0.06299346834317004` outside the bounds (4.9, 300).\n",
      "WARNING:pyomo.core:Setting Var 'blocks[40].process.fs.hxd.delta_temperature_in[0.0]' to a numeric value `0.06299346834317004` outside the bounds (4.9, 300).\n",
      "WARNING:pyomo.core:Setting Var 'blocks[41].process.fs.hxd.delta_temperature_in[0.0]' to a numeric value `0.06299346834317004` outside the bounds (4.9, 300).\n",
      "WARNING:pyomo.core:Setting Var 'blocks[42].process.fs.hxd.delta_temperature_in[0.0]' to a numeric value `0.06299346834317004` outside the bounds (4.9, 300).\n",
      "WARNING:pyomo.core:Setting Var 'blocks[43].process.fs.hxd.delta_temperature_in[0.0]' to a numeric value `0.06299346834317004` outside the bounds (4.9, 300).\n",
      "WARNING:pyomo.core:Setting Var 'blocks[44].process.fs.hxd.delta_temperature_in[0.0]' to a numeric value `0.06299346834317004` outside the bounds (4.9, 300).\n",
      "WARNING:pyomo.core:Setting Var 'blocks[45].process.fs.hxd.delta_temperature_in[0.0]' to a numeric value `0.06299346834317004` outside the bounds (4.9, 300).\n",
      "WARNING:pyomo.core:Setting Var 'blocks[46].process.fs.hxd.delta_temperature_in[0.0]' to a numeric value `0.06299346834317004` outside the bounds (4.9, 300).\n",
      "WARNING:pyomo.core:Setting Var 'blocks[47].process.fs.hxd.delta_temperature_in[0.0]' to a numeric value `0.06299346834317004` outside the bounds (4.9, 300).\n"
     ]
    },
    {
     "name": "stdout",
     "output_type": "stream",
     "text": [
      "[+   7.38] Initialized the entire multiperiod optimization model.\n",
      "[+   0.04] Unfixed the degrees of freedom from each period model.\n",
      "[+   0.00] Beginning the formulation of the multiperiod optimization problem.\n",
      "2022-11-02 09:45:32 [INFO] idaes.apps.grid_integration.multiperiod.multiperiod: ...Constructing the flowsheet model for blocks[0]\n"
     ]
    },
    {
     "name": "stderr",
     "output_type": "stream",
     "text": [
      "INFO:idaes.apps.grid_integration.multiperiod.multiperiod:...Constructing the flowsheet model for blocks[0]\n"
     ]
    },
    {
     "name": "stdout",
     "output_type": "stream",
     "text": [
      "2022-11-02 09:45:36 [INFO] idaes.apps.grid_integration.multiperiod.multiperiod: ...Constructing the flowsheet model for blocks[1]\n"
     ]
    },
    {
     "name": "stderr",
     "output_type": "stream",
     "text": [
      "INFO:idaes.apps.grid_integration.multiperiod.multiperiod:...Constructing the flowsheet model for blocks[1]\n"
     ]
    },
    {
     "name": "stdout",
     "output_type": "stream",
     "text": [
      "2022-11-02 09:45:40 [INFO] idaes.apps.grid_integration.multiperiod.multiperiod: ...Constructing the flowsheet model for blocks[2]\n"
     ]
    },
    {
     "name": "stderr",
     "output_type": "stream",
     "text": [
      "INFO:idaes.apps.grid_integration.multiperiod.multiperiod:...Constructing the flowsheet model for blocks[2]\n"
     ]
    },
    {
     "name": "stdout",
     "output_type": "stream",
     "text": [
      "2022-11-02 09:45:44 [INFO] idaes.apps.grid_integration.multiperiod.multiperiod: ...Constructing the flowsheet model for blocks[3]\n"
     ]
    },
    {
     "name": "stderr",
     "output_type": "stream",
     "text": [
      "INFO:idaes.apps.grid_integration.multiperiod.multiperiod:...Constructing the flowsheet model for blocks[3]\n"
     ]
    },
    {
     "name": "stdout",
     "output_type": "stream",
     "text": [
      "[+  16.36] Completed the formulation of the multiperiod optimization problem.\n",
      "2022-11-02 09:45:57 [INFO] idaes.init.fs.boiler.control_volume: Initialization Complete\n",
      "2022-11-02 09:45:57 [INFO] idaes.init.fs.boiler: Initialization Complete: optimal - Optimal Solution Found\n",
      "2022-11-02 09:45:57 [INFO] idaes.init.fs.turbine_splitter[1]: Initialization Complete: optimal - Optimal Solution Found\n",
      "2022-11-02 09:45:57 [INFO] idaes.init.fs.turbine_splitter[2]: Initialization Complete: optimal - Optimal Solution Found\n",
      "2022-11-02 09:45:57 [INFO] idaes.init.fs.reheater[1].control_volume: Initialization Complete\n",
      "2022-11-02 09:45:57 [INFO] idaes.init.fs.reheater[1]: Initialization Complete: optimal - Optimal Solution Found\n",
      "2022-11-02 09:45:57 [INFO] idaes.init.fs.turbine_splitter[3]: Initialization Complete: optimal - Optimal Solution Found\n",
      "2022-11-02 09:45:57 [INFO] idaes.init.fs.turbine_splitter[4]: Initialization Complete: optimal - Optimal Solution Found\n",
      "2022-11-02 09:45:57 [INFO] idaes.init.fs.reheater[2].control_volume: Initialization Complete\n",
      "2022-11-02 09:45:57 [INFO] idaes.init.fs.reheater[2]: Initialization Complete: optimal - Optimal Solution Found\n",
      "2022-11-02 09:45:58 [INFO] idaes.init.fs.turbine_splitter[5]: Initialization Complete: optimal - Optimal Solution Found\n",
      "2022-11-02 09:45:58 [INFO] idaes.init.fs.turbine_splitter[6]: Initialization Complete: optimal - Optimal Solution Found\n",
      "2022-11-02 09:45:58 [INFO] idaes.init.fs.turbine_splitter[7]: Initialization Complete: optimal - Optimal Solution Found\n",
      "2022-11-02 09:45:58 [INFO] idaes.init.fs.turbine_splitter[8]: Initialization Complete: optimal - Optimal Solution Found\n",
      "2022-11-02 09:46:02 [INFO] idaes.init.fs.turbine_splitter[9]: Initialization Complete: optimal - Optimal Solution Found\n",
      "2022-11-02 09:46:03 [INFO] idaes.init.fs.turbine_splitter[10]: Initialization Complete: optimal - Optimal Solution Found\n",
      "2022-11-02 09:46:03 [INFO] idaes.init.fs.condenser_mix: Initialization Complete: optimal - Optimal Solution Found\n",
      "2022-11-02 09:46:03 [INFO] idaes.init.fs.condenser.control_volume: Initialization Complete\n",
      "2022-11-02 09:46:03 [INFO] idaes.init.fs.condenser: Initialization Complete: optimal - Optimal Solution Found\n",
      "2022-11-02 09:46:03 [INFO] idaes.init.fs.fwh_mixer[1]: Initialization Complete: optimal - Optimal Solution Found\n",
      "2022-11-02 09:46:03 [INFO] idaes.init.fs.fwh[1].hot_side: Initialization Complete\n",
      "2022-11-02 09:46:03 [INFO] idaes.init.fs.fwh[1].cold_side: Initialization Complete\n",
      "2022-11-02 09:46:03 [INFO] idaes.init.fs.fwh[1]: Initialization Completed, optimal - Optimal Solution Found\n",
      "2022-11-02 09:46:03 [INFO] idaes.init.fs.fwh_mixer[2]: Initialization Complete: optimal - Optimal Solution Found\n",
      "2022-11-02 09:46:03 [INFO] idaes.init.fs.fwh[2].hot_side: Initialization Complete\n",
      "2022-11-02 09:46:03 [INFO] idaes.init.fs.fwh[2].cold_side: Initialization Complete\n",
      "2022-11-02 09:46:04 [INFO] idaes.init.fs.fwh[2]: Initialization Completed, optimal - Optimal Solution Found\n",
      "2022-11-02 09:46:04 [INFO] idaes.init.fs.fwh_mixer[3]: Initialization Complete: optimal - Optimal Solution Found\n",
      "2022-11-02 09:46:04 [INFO] idaes.init.fs.fwh[3].hot_side: Initialization Complete\n",
      "2022-11-02 09:46:04 [INFO] idaes.init.fs.fwh[3].cold_side: Initialization Complete\n",
      "2022-11-02 09:46:04 [INFO] idaes.init.fs.fwh[3]: Initialization Completed, optimal - Optimal Solution Found\n",
      "2022-11-02 09:46:04 [INFO] idaes.init.fs.fwh_mixer[4]: Initialization Complete: optimal - Optimal Solution Found\n",
      "2022-11-02 09:46:04 [INFO] idaes.init.fs.fwh[4].hot_side: Initialization Complete\n",
      "2022-11-02 09:46:04 [INFO] idaes.init.fs.fwh[4].cold_side: Initialization Complete\n",
      "2022-11-02 09:46:04 [INFO] idaes.init.fs.fwh[4]: Initialization Completed, optimal - Optimal Solution Found\n",
      "2022-11-02 09:46:04 [INFO] idaes.init.fs.fwh[5].hot_side: Initialization Complete\n",
      "2022-11-02 09:46:04 [INFO] idaes.init.fs.fwh[5].cold_side: Initialization Complete\n",
      "2022-11-02 09:46:05 [INFO] idaes.init.fs.fwh[5]: Initialization Completed, optimal - Optimal Solution Found\n",
      "2022-11-02 09:46:05 [INFO] idaes.init.fs.deaerator: Initialization Complete: optimal - Optimal Solution Found\n",
      "2022-11-02 09:46:05 [INFO] idaes.init.fs.fwh_mixer[6]: Initialization Complete: optimal - Optimal Solution Found\n",
      "2022-11-02 09:46:05 [INFO] idaes.init.fs.fwh[6].hot_side: Initialization Complete\n",
      "2022-11-02 09:46:05 [INFO] idaes.init.fs.fwh[6].cold_side: Initialization Complete\n",
      "2022-11-02 09:46:05 [INFO] idaes.init.fs.fwh[6]: Initialization Completed, optimal - Optimal Solution Found\n",
      "2022-11-02 09:46:05 [INFO] idaes.init.fs.fwh_mixer[7]: Initialization Complete: optimal - Optimal Solution Found\n",
      "2022-11-02 09:46:05 [INFO] idaes.init.fs.fwh[7].hot_side: Initialization Complete\n",
      "2022-11-02 09:46:05 [INFO] idaes.init.fs.fwh[7].cold_side: Initialization Complete\n",
      "2022-11-02 09:46:05 [INFO] idaes.init.fs.fwh[7]: Initialization Completed, optimal - Optimal Solution Found\n",
      "2022-11-02 09:46:05 [INFO] idaes.init.fs.fwh_mixer[8]: Initialization Complete: optimal - Optimal Solution Found\n",
      "2022-11-02 09:46:05 [INFO] idaes.init.fs.fwh[8].hot_side: Initialization Complete\n",
      "2022-11-02 09:46:05 [INFO] idaes.init.fs.fwh[8].cold_side: Initialization Complete\n",
      "2022-11-02 09:46:05 [INFO] idaes.init.fs.fwh[8]: Initialization Completed, optimal - Optimal Solution Found\n",
      "2022-11-02 09:46:05 [INFO] idaes.init.fs.fwh[9].hot_side: Initialization Complete\n",
      "2022-11-02 09:46:05 [INFO] idaes.init.fs.fwh[9].cold_side: Initialization Complete\n",
      "2022-11-02 09:46:06 [INFO] idaes.init.fs.fwh[9]: Initialization Completed, optimal - Optimal Solution Found\n",
      "Model Initialization =  optimal\n",
      "*******************  USC Model Initialized   ********************\n",
      "2022-11-02 09:46:08 [INFO] idaes.init.fs.ess_hp_split: Initialization Complete: optimal - Optimal Solution Found\n",
      "2022-11-02 09:46:08 [INFO] idaes.init.fs.hxc.hot_side: Initialization Complete\n",
      "2022-11-02 09:46:08 [INFO] idaes.init.dispatches.properties.solarsalt_properties: fs.hxc.cold_side.properties_in Initialisation Step 1 Complete.\n",
      "2022-11-02 09:46:08 [INFO] idaes.init.dispatches.properties.solarsalt_properties: Initialization Step 1 Complete.\n",
      "2022-11-02 09:46:08 [INFO] idaes.init.dispatches.properties.solarsalt_properties: fs.hxc.cold_side.properties_out Initialisation Step 1 Complete.\n",
      "2022-11-02 09:46:08 [INFO] idaes.init.dispatches.properties.solarsalt_properties: Initialization Step 1 Complete.\n",
      "2022-11-02 09:46:08 [INFO] idaes.init.dispatches.properties.solarsalt_properties: State Released.\n",
      "2022-11-02 09:46:08 [INFO] idaes.init.fs.hxc.cold_side: Initialization Complete\n",
      "2022-11-02 09:46:09 [INFO] idaes.init.dispatches.properties.solarsalt_properties: State Released.\n",
      "2022-11-02 09:46:09 [INFO] idaes.init.fs.hxc: Initialization Completed, optimal - Optimal Solution Found\n",
      "2022-11-02 09:46:09 [INFO] idaes.init.fs.cooler.control_volume: Initialization Complete\n",
      "2022-11-02 09:46:09 [INFO] idaes.init.fs.cooler: Initialization Complete: optimal - Optimal Solution Found\n",
      "2022-11-02 09:46:09 [INFO] idaes.init.fs.hx_pump.control_volume: Initialization Complete\n",
      "2022-11-02 09:46:09 [INFO] idaes.init.fs.hx_pump: Initialization Complete: optimal - Optimal Solution Found\n",
      "2022-11-02 09:46:09 [INFO] idaes.init.fs.ess_bfp_split: Initialization Complete: optimal - Optimal Solution Found\n",
      "2022-11-02 09:46:09 [INFO] idaes.init.fs.recycle_mixer: Initialization Complete: optimal - Optimal Solution Found\n",
      "2022-11-02 09:46:09 [INFO] idaes.init.dispatches.properties.solarsalt_properties: fs.hxd.hot_side.properties_in Initialisation Step 1 Complete.\n",
      "2022-11-02 09:46:09 [INFO] idaes.init.dispatches.properties.solarsalt_properties: Initialization Step 1 Complete.\n",
      "2022-11-02 09:46:09 [INFO] idaes.init.dispatches.properties.solarsalt_properties: fs.hxd.hot_side.properties_out Initialisation Step 1 Complete.\n",
      "2022-11-02 09:46:09 [INFO] idaes.init.dispatches.properties.solarsalt_properties: Initialization Step 1 Complete.\n",
      "2022-11-02 09:46:09 [INFO] idaes.init.dispatches.properties.solarsalt_properties: State Released.\n",
      "2022-11-02 09:46:09 [INFO] idaes.init.fs.hxd.hot_side: Initialization Complete\n",
      "2022-11-02 09:46:09 [INFO] idaes.init.fs.hxd.cold_side: Initialization Complete\n",
      "2022-11-02 09:46:10 [INFO] idaes.init.dispatches.properties.solarsalt_properties: State Released.\n"
     ]
    },
    {
     "name": "stdout",
     "output_type": "stream",
     "text": [
      "2022-11-02 09:46:10 [INFO] idaes.init.fs.hxd: Initialization Completed, optimal - Optimal Solution Found\n",
      "Integrated Model Initialization =  optimal\n",
      "***************   Integrated Model Initialized   ***************\n",
      "Cost Initialization =  optimal\n",
      "******************** Costing Initialized *************************\n",
      "\n",
      "\n"
     ]
    },
    {
     "name": "stderr",
     "output_type": "stream",
     "text": [
      "WARNING:pyomo.core:Setting Var 'fs.hxd.delta_temperature_in[0.0]' to a numeric value `0.0629934683431687` outside the bounds (4.9, 300).\n",
      "WARNING:pyomo.core:Setting Var 'blocks[0].process.fs.hxd.delta_temperature_in[0.0]' to a numeric value `0.06299346834317004` outside the bounds (4.9, 300).\n"
     ]
    },
    {
     "name": "stdout",
     "output_type": "stream",
     "text": [
      "[+  30.37] Created an instance of the flowsheet and initialized it.\n"
     ]
    },
    {
     "name": "stderr",
     "output_type": "stream",
     "text": [
      "WARNING:pyomo.core:Setting Var 'blocks[1].process.fs.hxd.delta_temperature_in[0.0]' to a numeric value `0.06299346834317004` outside the bounds (4.9, 300).\n",
      "WARNING:pyomo.core:Setting Var 'blocks[2].process.fs.hxd.delta_temperature_in[0.0]' to a numeric value `0.06299346834317004` outside the bounds (4.9, 300).\n",
      "WARNING:pyomo.core:Setting Var 'blocks[3].process.fs.hxd.delta_temperature_in[0.0]' to a numeric value `0.06299346834317004` outside the bounds (4.9, 300).\n"
     ]
    },
    {
     "name": "stdout",
     "output_type": "stream",
     "text": [
      "[+   0.65] Initialized the entire multiperiod optimization model.\n",
      "[+   0.00] Unfixed the degrees of freedom from each period model.\n"
     ]
    }
   ],
   "source": [
    "# Tracker\n",
    "mp_usc_tracker = MultiPeriodUsc(\n",
    "    model_data=model_data\n",
    ")\n",
    "\n",
    "thermal_tracker = Tracker(\n",
    "    tracking_model_object=mp_usc_tracker,\n",
    "    n_tracking_hour=n_tracking_hour,\n",
    "    solver=solver,\n",
    "    tracking_horizon=tracking_horizon,\n",
    ")\n",
    "\n",
    "# Projection Tracker\n",
    "mp_usc_projection_tracker = MultiPeriodUsc(\n",
    "    model_data=model_data\n",
    ")\n",
    "\n",
    "thermal_projection_tracker = Tracker(\n",
    "    tracking_model_object=mp_usc_projection_tracker,\n",
    "    n_tracking_hour=n_tracking_hour,\n",
    "    solver=solver,\n",
    "    tracking_horizon=tracking_horizon,\n",
    ")\n",
    "\n",
    "# Bidder\n",
    "mp_usc_bidder = MultiPeriodUsc(\n",
    "    model_data=model_data\n",
    ")\n",
    "thermal_bidder = Bidder(\n",
    "    bidding_model_object=mp_usc_bidder,\n",
    "    n_scenario=n_scenario,\n",
    "    solver=solver,\n",
    "    forecaster=forecaster,\n",
    "    day_ahead_horizon=bidding_horizon,\n",
    "    real_time_horizon=tracking_horizon,\n",
    ")\n",
    "\n",
    "# Coordinator\n",
    "coordinator = DoubleLoopCoordinator(\n",
    "    bidder=thermal_bidder,\n",
    "    tracker=thermal_tracker,\n",
    "    projection_tracker=thermal_projection_tracker,\n",
    ")\n"
   ]
  },
  {
   "cell_type": "markdown",
   "id": "6b2f211a",
   "metadata": {},
   "source": [
    "Set up the `plugin_module` needed for the Prescient simulator"
   ]
  },
  {
   "cell_type": "code",
   "execution_count": 7,
   "id": "4a3b70af",
   "metadata": {},
   "outputs": [],
   "source": [
    "class PrescientPluginModule(ModuleType):\n",
    "    def __init__(self, get_configuration, register_plugins):\n",
    "        self.get_configuration = get_configuration\n",
    "        self.register_plugins = register_plugins\n",
    "\n",
    "\n",
    "plugin_module = PrescientPluginModule(\n",
    "    get_configuration=coordinator.get_configuration,\n",
    "    register_plugins=coordinator.register_plugins,\n",
    ")\n"
   ]
  },
  {
   "cell_type": "markdown",
   "id": "a6e289b9",
   "metadata": {},
   "source": [
    "**IMPORTANT** Before proceeding with the rest of the notebook:\n",
    "1. Install the `dispatches-sample-data` package by running `pip install dispatches-sample-data` in the working conda environment\n",
    "\n",
    "OR\n",
    "\n",
    "1. Download the RTS-GMLC dataset from [https://github.com/GridMod/RTS-GMLC] (or directly as a zipfile here) to your local machine\n",
    "2. Update the value of the `rst_gmlc_data_dir` variable in the cell below to the appropriate location of the `RTS_Data/SourceData` subfolder on your local machine"
   ]
  },
  {
   "cell_type": "code",
   "execution_count": 8,
   "id": "86fac6ca",
   "metadata": {},
   "outputs": [],
   "source": [
    "# If installing the dispatches-sample-data\n",
    "rts_gmlc_data_dir = str(rts_gmlc.source_data_path)\n",
    "\n",
    "# If downloading the data to the local machine use the following option with appropriate path\n",
    "# rts_gmlc_data_dir = \"/projects/gmihybridsys/dguittet/data/RTS-GMLC/RTS_Data/SourceData\"\n"
   ]
  },
  {
   "cell_type": "markdown",
   "id": "61a63971",
   "metadata": {},
   "source": [
    "Declare the options for Prescient simulator"
   ]
  },
  {
   "cell_type": "code",
   "execution_count": 9,
   "id": "6e46669f",
   "metadata": {},
   "outputs": [],
   "source": [
    "options = {\n",
    "    \"data_path\": rts_gmlc_data_dir,\n",
    "    \"input_format\": \"rts-gmlc\",\n",
    "    \"simulate_out_of_sample\": True,\n",
    "    \"run_sced_with_persistent_forecast_errors\": True,\n",
    "    \"output_directory\": \"bidding_multiperiod_usc\",\n",
    "    \"start_date\": \"2020-07-10\",\n",
    "    \"num_days\": num_days,\n",
    "    \"sced_horizon\": tracking_horizon,\n",
    "    \"ruc_horizon\": bidding_horizon,\n",
    "    \"ruc_every_hours\": hourly_bidding_horizon,\n",
    "    \"compute_market_settlements\": True,\n",
    "    \"day_ahead_pricing\": \"LMP\",\n",
    "    \"ruc_mipgap\": 0.01,\n",
    "    \"symbolic_solver_labels\": True,\n",
    "    \"reserve_factor\": 0.0,\n",
    "    \"deterministic_ruc_solver\": \"gurobi\",\n",
    "    \"output_ruc_solutions\": True,\n",
    "    \"sced_solver\": \"gurobi\",\n",
    "    \"print_sced\": True,\n",
    "    \"enforce_sced_shutdown_ramprate\": True,\n",
    "    \"output_solver_logs\": True,\n",
    "    \"plugin\": {\n",
    "        \"doubleloop\": {\n",
    "            \"module\": plugin_module,\n",
    "            \"bidding_generator\": \"102_STEAM_3\",\n",
    "        }\n",
    "    }\n",
    "}\n"
   ]
  },
  {
   "cell_type": "markdown",
   "id": "89675ac5",
   "metadata": {},
   "source": [
    "Run Prescient simulator."
   ]
  },
  {
   "cell_type": "code",
   "execution_count": 10,
   "id": "02298741",
   "metadata": {
    "tags": [
     "nbval-skip"
    ]
   },
   "outputs": [
    {
     "name": "stdout",
     "output_type": "stream",
     "text": [
      "Initializing simulation...\n",
      "Did not find reserves.csv; assuming no reserves\n"
     ]
    },
    {
     "name": "stderr",
     "output_type": "stream",
     "text": [
      "WARNING:egret:Did not find reserves.csv; assuming no reserves\n",
      "C:\\Users\\susarlan\\Anaconda3\\envs\\gmlc\\lib\\site-packages\\egret\\parsers\\rts_gmlc\\parser.py:256: FutureWarning: \n",
      "        Use pd.to_datetime instead.\n",
      "\n",
      "  df = pd.read_csv(file_name,\n",
      "C:\\Users\\susarlan\\Anaconda3\\envs\\gmlc\\lib\\site-packages\\egret\\parsers\\rts_gmlc\\parser.py:256: FutureWarning: \n",
      "        Use pd.to_datetime instead.\n",
      "\n",
      "  df = pd.read_csv(file_name,\n",
      "C:\\Users\\susarlan\\Anaconda3\\envs\\gmlc\\lib\\site-packages\\egret\\parsers\\rts_gmlc\\parser.py:256: FutureWarning: \n",
      "        Use pd.to_datetime instead.\n",
      "\n",
      "  df = pd.read_csv(file_name,\n",
      "C:\\Users\\susarlan\\Anaconda3\\envs\\gmlc\\lib\\site-packages\\egret\\parsers\\rts_gmlc\\parser.py:256: FutureWarning: \n",
      "        Use pd.to_datetime instead.\n",
      "\n",
      "  df = pd.read_csv(file_name,\n",
      "C:\\Users\\susarlan\\Anaconda3\\envs\\gmlc\\lib\\site-packages\\egret\\parsers\\rts_gmlc\\parser.py:304: FutureWarning: \n",
      "        Use pd.to_datetime instead.\n",
      "\n",
      "  df = pd.read_csv(file_name,\n",
      "C:\\Users\\susarlan\\Anaconda3\\envs\\gmlc\\lib\\site-packages\\egret\\parsers\\rts_gmlc\\parser.py:304: FutureWarning: \n",
      "        Use pd.to_datetime instead.\n",
      "\n",
      "  df = pd.read_csv(file_name,\n",
      "C:\\Users\\susarlan\\Anaconda3\\envs\\gmlc\\lib\\site-packages\\egret\\parsers\\rts_gmlc\\parser.py:304: FutureWarning: \n",
      "        Use pd.to_datetime instead.\n",
      "\n",
      "  df = pd.read_csv(file_name,\n",
      "C:\\Users\\susarlan\\Anaconda3\\envs\\gmlc\\lib\\site-packages\\egret\\parsers\\rts_gmlc\\parser.py:304: FutureWarning: \n",
      "        Use pd.to_datetime instead.\n",
      "\n",
      "  df = pd.read_csv(file_name,\n",
      "C:\\Users\\susarlan\\Anaconda3\\envs\\gmlc\\lib\\site-packages\\egret\\parsers\\rts_gmlc\\parser.py:256: FutureWarning: \n",
      "        Use pd.to_datetime instead.\n",
      "\n",
      "  df = pd.read_csv(file_name,\n",
      "C:\\Users\\susarlan\\Anaconda3\\envs\\gmlc\\lib\\site-packages\\egret\\parsers\\rts_gmlc\\parser.py:256: FutureWarning: \n",
      "        Use pd.to_datetime instead.\n",
      "\n",
      "  df = pd.read_csv(file_name,\n",
      "C:\\Users\\susarlan\\Anaconda3\\envs\\gmlc\\lib\\site-packages\\egret\\parsers\\rts_gmlc\\parser.py:256: FutureWarning: \n",
      "        Use pd.to_datetime instead.\n",
      "\n",
      "  df = pd.read_csv(file_name,\n",
      "C:\\Users\\susarlan\\Anaconda3\\envs\\gmlc\\lib\\site-packages\\egret\\parsers\\rts_gmlc\\parser.py:256: FutureWarning: \n",
      "        Use pd.to_datetime instead.\n",
      "\n",
      "  df = pd.read_csv(file_name,\n",
      "C:\\Users\\susarlan\\Anaconda3\\envs\\gmlc\\lib\\site-packages\\egret\\parsers\\rts_gmlc\\parser.py:256: FutureWarning: \n",
      "        Use pd.to_datetime instead.\n",
      "\n",
      "  df = pd.read_csv(file_name,\n",
      "C:\\Users\\susarlan\\Anaconda3\\envs\\gmlc\\lib\\site-packages\\egret\\parsers\\rts_gmlc\\parser.py:256: FutureWarning: \n",
      "        Use pd.to_datetime instead.\n",
      "\n",
      "  df = pd.read_csv(file_name,\n",
      "C:\\Users\\susarlan\\Anaconda3\\envs\\gmlc\\lib\\site-packages\\egret\\parsers\\rts_gmlc\\parser.py:256: FutureWarning: \n",
      "        Use pd.to_datetime instead.\n",
      "\n",
      "  df = pd.read_csv(file_name,\n",
      "C:\\Users\\susarlan\\Anaconda3\\envs\\gmlc\\lib\\site-packages\\egret\\parsers\\rts_gmlc\\parser.py:256: FutureWarning: \n",
      "        Use pd.to_datetime instead.\n",
      "\n",
      "  df = pd.read_csv(file_name,\n",
      "C:\\Users\\susarlan\\Anaconda3\\envs\\gmlc\\lib\\site-packages\\egret\\parsers\\rts_gmlc\\parser.py:304: FutureWarning: \n",
      "        Use pd.to_datetime instead.\n",
      "\n",
      "  df = pd.read_csv(file_name,\n",
      "C:\\Users\\susarlan\\Anaconda3\\envs\\gmlc\\lib\\site-packages\\egret\\parsers\\rts_gmlc\\parser.py:304: FutureWarning: \n",
      "        Use pd.to_datetime instead.\n",
      "\n",
      "  df = pd.read_csv(file_name,\n",
      "C:\\Users\\susarlan\\Anaconda3\\envs\\gmlc\\lib\\site-packages\\egret\\parsers\\rts_gmlc\\parser.py:256: FutureWarning: \n",
      "        Use pd.to_datetime instead.\n",
      "\n",
      "  df = pd.read_csv(file_name,\n",
      "C:\\Users\\susarlan\\Anaconda3\\envs\\gmlc\\lib\\site-packages\\egret\\parsers\\rts_gmlc\\parser.py:256: FutureWarning: \n",
      "        Use pd.to_datetime instead.\n",
      "\n",
      "  df = pd.read_csv(file_name,\n",
      "C:\\Users\\susarlan\\Anaconda3\\envs\\gmlc\\lib\\site-packages\\egret\\parsers\\rts_gmlc\\parser.py:256: FutureWarning: \n",
      "        Use pd.to_datetime instead.\n",
      "\n",
      "  df = pd.read_csv(file_name,\n",
      "C:\\Users\\susarlan\\Anaconda3\\envs\\gmlc\\lib\\site-packages\\egret\\parsers\\rts_gmlc\\parser.py:256: FutureWarning: \n",
      "        Use pd.to_datetime instead.\n",
      "\n",
      "  df = pd.read_csv(file_name,\n"
     ]
    },
    {
     "name": "stdout",
     "output_type": "stream",
     "text": [
      "Setting default t0 state in RTS-GMLC parser\n"
     ]
    },
    {
     "name": "stderr",
     "output_type": "stream",
     "text": [
      "WARNING:egret:Setting default t0 state in RTS-GMLC parser\n"
     ]
    },
    {
     "name": "stdout",
     "output_type": "stream",
     "text": [
      "Dates to simulate: 2020-07-10 to 2020-07-10\n",
      "RUC activation hours: 0, 4, 8, 12, 16, 20\n",
      "Final RUC date: 2020-07-10\n",
      "Using current day's forecasts for RUC solves\n",
      "Using persistent forecast error model when projecting demand and renewables in SCED\n",
      "\n",
      "\n",
      "Extracting scenario to simulate\n",
      "Ipopt 3.13.2: max_iter=200\n",
      "\n",
      "\n",
      "******************************************************************************\n",
      "This program contains Ipopt, a library for large-scale nonlinear optimization.\n",
      " Ipopt is released as open source code under the Eclipse Public License (EPL).\n",
      "         For more information visit http://projects.coin-or.org/Ipopt\n",
      "\n",
      "This version of Ipopt was compiled from source code available at\n",
      "    https://github.com/IDAES/Ipopt as part of the Institute for the Design of\n",
      "    Advanced Energy Systems Process Systems Engineering Framework (IDAES PSE\n",
      "    Framework) Copyright (c) 2018-2019. See https://github.com/IDAES/idaes-pse.\n",
      "\n",
      "This version of Ipopt was compiled using HSL, a collection of Fortran codes\n",
      "    for large-scale scientific computation.  All technical papers, sales and\n",
      "    publicity material resulting from use of the HSL codes within IPOPT must\n",
      "    contain the following acknowledgement:\n",
      "        HSL, a collection of Fortran codes for large-scale scientific\n",
      "        computation. See http://www.hsl.rl.ac.uk.\n",
      "******************************************************************************\n",
      "\n",
      "This is Ipopt version 3.13.2, running with linear solver ma27.\n",
      "\n",
      "Number of nonzeros in equality constraint Jacobian...:    76699\n",
      "Number of nonzeros in inequality constraint Jacobian.:      716\n",
      "Number of nonzeros in Lagrangian Hessian.............:    23760\n",
      "\n",
      "Total number of variables............................:    29421\n",
      "                     variables with only lower bounds:      336\n",
      "                variables with lower and upper bounds:    20109\n",
      "                     variables with only upper bounds:        0\n",
      "Total number of equality constraints.................:    29134\n",
      "Total number of inequality constraints...............:      384\n",
      "        inequality constraints with only lower bounds:       48\n",
      "   inequality constraints with lower and upper bounds:        0\n",
      "        inequality constraints with only upper bounds:      336\n",
      "\n",
      "iter    objective    inf_pr   inf_du lg(mu)  ||d||  lg(rg) alpha_du alpha_pr  ls\n",
      "   0  3.1311302e+09 2.83e+08 2.71e+01  -1.0 0.00e+00    -  0.00e+00 0.00e+00   0\n",
      "   1  3.1248284e+09 2.82e+08 5.22e+01  -1.0 4.17e+08    -  5.07e-02 2.84e-03f  1\n",
      "   2  3.1018934e+09 2.80e+08 3.00e+02  -1.0 4.26e+08    -  5.32e-04 8.58e-03f  1\n",
      "   3  3.0773563e+09 2.77e+08 5.53e+02  -1.0 4.22e+08    -  4.45e-05 9.13e-03f  1\n",
      "   4  2.9761183e+09 2.67e+08 4.56e+03  -1.0 4.19e+08    -  4.06e-02 3.76e-02f  1\n",
      "   5  2.9744249e+09 2.67e+08 4.56e+03  -1.0 4.14e+08    -  4.41e-04 7.30e-04f  1\n",
      "   6  2.9735828e+09 2.67e+08 4.56e+03  -1.0 4.26e+08    -  5.68e-05 4.85e-04f  1\n",
      "   7  2.9727907e+09 2.67e+08 4.56e+03  -1.0 4.26e+08    -  6.53e-03 5.08e-04f  1\n",
      "   8  2.9637978e+09 2.65e+08 4.96e+03  -1.0 4.31e+08    -  8.30e-05 5.87e-03f  1\n",
      "   9  2.9540949e+09 2.63e+08 5.41e+03  -1.0 4.30e+08    -  3.11e-03 6.34e-03f  1\n",
      "iter    objective    inf_pr   inf_du lg(mu)  ||d||  lg(rg) alpha_du alpha_pr  ls\n",
      "  10  2.9083730e+09 2.56e+08 1.60e+04  -1.0 4.30e+08    -  1.72e-02 2.99e-02f  1\n",
      "  11  2.8476151e+09 2.46e+08 3.38e+04  -1.0 4.27e+08    -  1.00e-01 3.96e-02f  1\n",
      "  12  2.5845274e+09 2.11e+08 3.44e+05  -1.0 4.40e+08    -  1.18e-03 1.64e-01f  1\n",
      "  13  2.5817572e+09 2.11e+08 3.44e+05  -1.0 3.98e+08    -  1.25e-01 1.80e-03f  1\n",
      "  14  2.5803763e+09 2.10e+08 3.43e+05  -1.0 4.20e+08    -  1.66e-03 8.68e-04f  1\n",
      "  15  2.5763865e+09 2.10e+08 3.43e+05  -1.0 4.20e+08    -  6.70e-04 2.51e-03f  1\n",
      "  16  2.3872042e+09 1.87e+08 4.38e+05  -1.0 4.19e+08    -  6.79e-03 1.19e-01f  1\n",
      "  17  2.3852502e+09 1.87e+08 4.38e+05  -1.0 3.87e+08    -  1.30e-02 1.30e-03f  1\n",
      "  18  2.3850512e+09 1.87e+08 4.38e+05  -1.0 3.89e+08    -  3.10e-03 2.15e-04f  1\n",
      "  19  2.3847938e+09 1.87e+08 4.37e+05  -1.0 3.89e+08    -  2.30e-01 1.24e-03f  1\n",
      "iter    objective    inf_pr   inf_du lg(mu)  ||d||  lg(rg) alpha_du alpha_pr  ls\n",
      "  20  2.3839366e+09 1.84e+08 4.33e+05  -1.0 4.11e+08    -  5.82e-03 1.43e-02f  1\n",
      "  21  2.3839107e+09 1.84e+08 4.32e+05  -1.0 7.15e+07    -  1.43e-02 8.37e-04f  1\n",
      "  22  2.3835947e+09 1.82e+08 4.27e+05  -1.0 3.87e+07    -  2.41e-01 1.25e-02f  1\n",
      "  23  2.3755596e+09 1.40e+08 3.35e+05  -1.0 3.85e+07    -  3.62e-03 2.96e-01f  1\n",
      "  24  2.3753755e+09 1.38e+08 3.32e+05  -1.0 3.42e+07    -  1.11e-01 1.02e-02f  1\n",
      "  25  2.3735451e+09 1.26e+08 3.02e+05  -1.0 3.40e+07    -  3.22e-03 9.70e-02f  1\n",
      "  26  2.3715101e+09 1.12e+08 2.68e+05  -1.0 3.20e+07    -  8.86e-02 1.18e-01f  1\n",
      "  27  2.3630602e+09 7.21e+07 1.70e+05  -1.0 2.94e+07    -  1.03e-02 5.03e-01f  1\n",
      "  28  2.3579060e+09 4.75e+07 1.10e+05  -1.0 1.79e+07    -  2.15e-01 4.16e-01f  1\n",
      "  29  2.3477175e+09 2.31e+07 6.20e+04  -1.0 1.12e+07    -  7.39e-01 6.73e-01f  1\n",
      "iter    objective    inf_pr   inf_du lg(mu)  ||d||  lg(rg) alpha_du alpha_pr  ls\n",
      "  30  2.3007298e+09 1.02e+07 6.14e+04  -1.0 1.70e+07    -  4.53e-01 9.42e-01f  1\n",
      "  31  2.2467541e+09 1.19e+07 1.88e+04  -1.0 1.81e+07    -  6.10e-01 1.00e+00f  1\n",
      "  32  2.2064254e+09 1.12e+07 1.04e+04  -1.0 1.60e+07    -  8.62e-01 1.00e+00f  1\n",
      "  33  2.1941641e+09 4.94e+06 2.30e+03  -1.0 8.04e+06    -  4.70e-01 9.11e-01f  1\n",
      "  34  2.1938838e+09 4.11e+06 1.91e+03  -1.0 1.05e+06    -  9.52e-03 1.71e-01f  1\n",
      "  35  2.1938774e+09 4.09e+06 1.90e+03  -1.0 8.64e+05    -  1.39e-03 4.67e-03f  1\n",
      "  36  2.1934146e+09 2.72e+06 1.26e+03  -1.0 8.58e+05    -  9.86e-01 3.39e-01f  1\n",
      "  37  2.1933491e+09 2.53e+06 1.17e+03  -1.0 5.07e+05    -  3.11e-01 7.03e-02f  1\n",
      "  38  2.1927682e+09 8.63e+05 3.87e+02  -1.0 4.66e+05    -  7.06e-01 6.71e-01f  1\n",
      "  39  2.1924951e+09 3.69e+04 1.38e+01  -1.0 1.44e+05    -  9.50e-01 9.66e-01f  1\n",
      "iter    objective    inf_pr   inf_du lg(mu)  ||d||  lg(rg) alpha_du alpha_pr  ls\n",
      "  40  2.1924901e+09 1.28e+04 1.95e+01  -1.0 7.85e+05    -  2.54e-01 6.53e-01f  1\n",
      "  41  2.1924901e+09 6.30e+03 3.88e+01  -1.0 8.44e+05    -  1.29e-01 5.09e-01h  1\n",
      "  42  2.1924902e+09 2.81e+03 4.39e+01  -1.0 7.94e+05    -  3.42e-01 5.54e-01h  1\n",
      "  43  2.1924902e+09 3.56e-02 7.55e+01  -1.0 8.62e+05    -  5.63e-03 1.00e+00f  1\n",
      "  44  2.1924881e+09 7.84e-01 2.92e+00  -1.0 5.34e+05    -  7.22e-02 9.95e-01f  1\n",
      "  45  2.1924879e+09 9.59e-03 3.92e-02  -1.0 3.57e+05    -  9.30e-01 1.00e+00f  1\n",
      "  46  2.1924879e+09 2.38e-07 1.00e-06  -1.0 5.52e+05    -  1.00e+00 1.00e+00f  1\n",
      "  47  2.1924879e+09 3.05e-06 2.57e-07  -2.5 2.74e+03    -  1.00e+00 1.00e+00f  1\n",
      "  48  2.1924879e+09 2.01e-07 1.12e-08  -3.8 5.05e+03    -  1.00e+00 1.00e+00f  1\n",
      "  49  2.1924879e+09 1.86e-07 1.36e-08  -5.7 1.10e+03    -  1.00e+00 1.00e+00f  1\n",
      "In iteration 49, 48 Slacks too small, adjusting variable bounds\n",
      "iter    objective    inf_pr   inf_du lg(mu)  ||d||  lg(rg) alpha_du alpha_pr  ls\n",
      "  50  2.1924879e+09 1.94e-07 1.28e-08  -8.6 1.21e+02    -  1.00e+00 1.00e+00h  1\n",
      "\n",
      "Number of Iterations....: 50\n",
      "\n",
      "                                   (scaled)                 (unscaled)\n",
      "Objective...............:   2.1924878859498258e+09    2.1924878859498258e+09\n",
      "Dual infeasibility......:   1.2774603908291213e-08    1.2774603908291213e-08\n",
      "Constraint violation....:   2.5611370801925659e-09    1.9371509552001953e-07\n",
      "Complementarity.........:   2.5457100086287576e-09    2.5457100086287576e-09\n",
      "Overall NLP error.......:   2.5611370801925659e-09    1.9371509552001953e-07\n",
      "\n",
      "\n",
      "Number of objective function evaluations             = 51\n",
      "Number of objective gradient evaluations             = 51\n",
      "Number of equality constraint evaluations            = 51\n",
      "Number of inequality constraint evaluations          = 51\n",
      "Number of equality constraint Jacobian evaluations   = 51\n",
      "Number of inequality constraint Jacobian evaluations = 51\n",
      "Number of Lagrangian Hessian evaluations             = 50\n",
      "Total CPU secs in IPOPT (w/o function evaluations)   =      6.552\n",
      "Total CPU secs in NLP function evaluations           =    246.980\n",
      "\n",
      "EXIT: Optimal Solution Found.\n",
      "Calculating PTDF Matrix Factorization\n"
     ]
    },
    {
     "name": "stderr",
     "output_type": "stream",
     "text": [
      "INFO:egret:Calculating PTDF Matrix Factorization\n"
     ]
    },
    {
     "name": "stdout",
     "output_type": "stream",
     "text": [
      "\n",
      "Pyomo model construction time:         6.12\n",
      "\n",
      "Set parameter MIPGap to value 0.01\n"
     ]
    },
    {
     "name": "stderr",
     "output_type": "stream",
     "text": [
      "INFO:gurobipy.gurobipy:Set parameter MIPGap to value 0.01\n"
     ]
    },
    {
     "name": "stdout",
     "output_type": "stream",
     "text": [
      "Gurobi Optimizer version 9.5.1 build v9.5.1rc2 (win64)\n"
     ]
    },
    {
     "name": "stderr",
     "output_type": "stream",
     "text": [
      "INFO:gurobipy.gurobipy:Gurobi Optimizer version 9.5.1 build v9.5.1rc2 (win64)\n"
     ]
    },
    {
     "name": "stdout",
     "output_type": "stream",
     "text": [
      "Thread count: 4 physical cores, 8 logical processors, using up to 8 threads\n"
     ]
    },
    {
     "name": "stderr",
     "output_type": "stream",
     "text": [
      "INFO:gurobipy.gurobipy:Thread count: 4 physical cores, 8 logical processors, using up to 8 threads\n"
     ]
    },
    {
     "name": "stdout",
     "output_type": "stream",
     "text": [
      "Optimize a model with 79109 rows, 80702 columns and 323765 nonzeros\n"
     ]
    },
    {
     "name": "stderr",
     "output_type": "stream",
     "text": [
      "INFO:gurobipy.gurobipy:Optimize a model with 79109 rows, 80702 columns and 323765 nonzeros\n"
     ]
    },
    {
     "name": "stdout",
     "output_type": "stream",
     "text": [
      "Model fingerprint: 0x9728f68e\n"
     ]
    },
    {
     "name": "stderr",
     "output_type": "stream",
     "text": [
      "INFO:gurobipy.gurobipy:Model fingerprint: 0x9728f68e\n"
     ]
    },
    {
     "name": "stdout",
     "output_type": "stream",
     "text": [
      "Coefficient statistics:\n"
     ]
    },
    {
     "name": "stderr",
     "output_type": "stream",
     "text": [
      "INFO:gurobipy.gurobipy:Coefficient statistics:\n"
     ]
    },
    {
     "name": "stdout",
     "output_type": "stream",
     "text": [
      "  Matrix range     [7e-03, 6e+04]\n"
     ]
    },
    {
     "name": "stderr",
     "output_type": "stream",
     "text": [
      "INFO:gurobipy.gurobipy:  Matrix range     [7e-03, 6e+04]\n"
     ]
    },
    {
     "name": "stdout",
     "output_type": "stream",
     "text": [
      "  Objective range  [1e+00, 1e+08]\n"
     ]
    },
    {
     "name": "stderr",
     "output_type": "stream",
     "text": [
      "INFO:gurobipy.gurobipy:  Objective range  [1e+00, 1e+08]\n"
     ]
    },
    {
     "name": "stdout",
     "output_type": "stream",
     "text": [
      "  Bounds range     [1e-03, 1e+01]\n"
     ]
    },
    {
     "name": "stderr",
     "output_type": "stream",
     "text": [
      "INFO:gurobipy.gurobipy:  Bounds range     [1e-03, 1e+01]\n"
     ]
    },
    {
     "name": "stdout",
     "output_type": "stream",
     "text": [
      "  RHS range        [7e-03, 6e+01]\n"
     ]
    },
    {
     "name": "stderr",
     "output_type": "stream",
     "text": [
      "INFO:gurobipy.gurobipy:  RHS range        [7e-03, 6e+01]\n"
     ]
    },
    {
     "name": "stdout",
     "output_type": "stream",
     "text": [
      "\n"
     ]
    },
    {
     "name": "stderr",
     "output_type": "stream",
     "text": [
      "INFO:gurobipy.gurobipy:\n"
     ]
    },
    {
     "name": "stdout",
     "output_type": "stream",
     "text": [
      "Concurrent LP optimizer: dual simplex and barrier\n"
     ]
    },
    {
     "name": "stderr",
     "output_type": "stream",
     "text": [
      "INFO:gurobipy.gurobipy:Concurrent LP optimizer: dual simplex and barrier\n"
     ]
    },
    {
     "name": "stdout",
     "output_type": "stream",
     "text": [
      "Showing barrier log only...\n"
     ]
    },
    {
     "name": "stderr",
     "output_type": "stream",
     "text": [
      "INFO:gurobipy.gurobipy:Showing barrier log only...\n"
     ]
    },
    {
     "name": "stdout",
     "output_type": "stream",
     "text": [
      "\n"
     ]
    },
    {
     "name": "stderr",
     "output_type": "stream",
     "text": [
      "INFO:gurobipy.gurobipy:\n"
     ]
    },
    {
     "name": "stdout",
     "output_type": "stream",
     "text": [
      "Presolve removed 19480 rows and 19122 columns\n"
     ]
    },
    {
     "name": "stderr",
     "output_type": "stream",
     "text": [
      "INFO:gurobipy.gurobipy:Presolve removed 19480 rows and 19122 columns\n"
     ]
    },
    {
     "name": "stdout",
     "output_type": "stream",
     "text": [
      "Presolve time: 0.10s\n"
     ]
    },
    {
     "name": "stderr",
     "output_type": "stream",
     "text": [
      "INFO:gurobipy.gurobipy:Presolve time: 0.10s\n"
     ]
    },
    {
     "name": "stdout",
     "output_type": "stream",
     "text": [
      "\n"
     ]
    },
    {
     "name": "stderr",
     "output_type": "stream",
     "text": [
      "INFO:gurobipy.gurobipy:\n"
     ]
    },
    {
     "name": "stdout",
     "output_type": "stream",
     "text": [
      "Solved with barrier\n"
     ]
    },
    {
     "name": "stderr",
     "output_type": "stream",
     "text": [
      "INFO:gurobipy.gurobipy:Solved with barrier\n"
     ]
    },
    {
     "name": "stdout",
     "output_type": "stream",
     "text": [
      "Solved in 0 iterations and 0.10 seconds (0.01 work units)\n"
     ]
    },
    {
     "name": "stderr",
     "output_type": "stream",
     "text": [
      "INFO:gurobipy.gurobipy:Solved in 0 iterations and 0.10 seconds (0.01 work units)\n"
     ]
    },
    {
     "name": "stdout",
     "output_type": "stream",
     "text": [
      "Infeasible or unbounded model\n"
     ]
    },
    {
     "name": "stderr",
     "output_type": "stream",
     "text": [
      "INFO:gurobipy.gurobipy:Infeasible or unbounded model\n"
     ]
    },
    {
     "name": "stdout",
     "output_type": "stream",
     "text": [
      "Failed to solve deterministic RUC instance - likely because no feasible solution exists!\n",
      "Wrote failed RUC data to file=bad_ruc.json\n"
     ]
    },
    {
     "ename": "Exception",
     "evalue": "Problem encountered during solve, termination_condition infeasibleOrUnbounded",
     "output_type": "error",
     "traceback": [
      "\u001b[1;31m---------------------------------------------------------------------------\u001b[0m",
      "\u001b[1;31mException\u001b[0m                                 Traceback (most recent call last)",
      "\u001b[1;32m~\\AppData\\Local\\Temp\\ipykernel_19176\\3063286072.py\u001b[0m in \u001b[0;36m<cell line: 1>\u001b[1;34m()\u001b[0m\n\u001b[1;32m----> 1\u001b[1;33m \u001b[0mPrescient\u001b[0m\u001b[1;33m(\u001b[0m\u001b[1;33m)\u001b[0m\u001b[1;33m.\u001b[0m\u001b[0msimulate\u001b[0m\u001b[1;33m(\u001b[0m\u001b[1;33m**\u001b[0m\u001b[0moptions\u001b[0m\u001b[1;33m)\u001b[0m\u001b[1;33m\u001b[0m\u001b[1;33m\u001b[0m\u001b[0m\n\u001b[0m",
      "\u001b[1;32m~\\Anaconda3\\envs\\gmlc\\lib\\site-packages\\prescient\\simulator\\prescient.py\u001b[0m in \u001b[0;36msimulate\u001b[1;34m(self, **options)\u001b[0m\n\u001b[0;32m     73\u001b[0m             \u001b[0mself\u001b[0m\u001b[1;33m.\u001b[0m\u001b[0mconfig\u001b[0m\u001b[1;33m.\u001b[0m\u001b[0mset_value\u001b[0m\u001b[1;33m(\u001b[0m\u001b[0moptions\u001b[0m\u001b[1;33m)\u001b[0m\u001b[1;33m\u001b[0m\u001b[1;33m\u001b[0m\u001b[0m\n\u001b[0;32m     74\u001b[0m \u001b[1;33m\u001b[0m\u001b[0m\n\u001b[1;32m---> 75\u001b[1;33m         \u001b[1;32mreturn\u001b[0m \u001b[0mself\u001b[0m\u001b[1;33m.\u001b[0m\u001b[0m_simulate\u001b[0m\u001b[1;33m(\u001b[0m\u001b[0mself\u001b[0m\u001b[1;33m.\u001b[0m\u001b[0mconfig\u001b[0m\u001b[1;33m)\u001b[0m\u001b[1;33m\u001b[0m\u001b[1;33m\u001b[0m\u001b[0m\n\u001b[0m\u001b[0;32m     76\u001b[0m \u001b[1;33m\u001b[0m\u001b[0m\n\u001b[0;32m     77\u001b[0m     \u001b[1;32mdef\u001b[0m \u001b[0m_simulate\u001b[0m\u001b[1;33m(\u001b[0m\u001b[0mself\u001b[0m\u001b[1;33m,\u001b[0m \u001b[0moptions\u001b[0m\u001b[1;33m:\u001b[0m \u001b[0mPrescientConfig\u001b[0m\u001b[1;33m)\u001b[0m\u001b[1;33m:\u001b[0m\u001b[1;33m\u001b[0m\u001b[1;33m\u001b[0m\u001b[0m\n",
      "\u001b[1;32m~\\Anaconda3\\envs\\gmlc\\lib\\site-packages\\prescient\\simulator\\prescient.py\u001b[0m in \u001b[0;36m_simulate\u001b[1;34m(self, options)\u001b[0m\n\u001b[0;32m     80\u001b[0m                                 \"If you wish to simulate again create a new Prescient object.\")\n\u001b[0;32m     81\u001b[0m         \u001b[0mself\u001b[0m\u001b[1;33m.\u001b[0m\u001b[0msimulate_called\u001b[0m \u001b[1;33m=\u001b[0m \u001b[1;32mTrue\u001b[0m\u001b[1;33m\u001b[0m\u001b[1;33m\u001b[0m\u001b[0m\n\u001b[1;32m---> 82\u001b[1;33m         \u001b[1;32mreturn\u001b[0m \u001b[0msuper\u001b[0m\u001b[1;33m(\u001b[0m\u001b[1;33m)\u001b[0m\u001b[1;33m.\u001b[0m\u001b[0msimulate\u001b[0m\u001b[1;33m(\u001b[0m\u001b[0moptions\u001b[0m\u001b[1;33m)\u001b[0m\u001b[1;33m\u001b[0m\u001b[1;33m\u001b[0m\u001b[0m\n\u001b[0m\u001b[0;32m     83\u001b[0m \u001b[1;33m\u001b[0m\u001b[0m\n\u001b[0;32m     84\u001b[0m \u001b[1;32mdef\u001b[0m \u001b[0mmain\u001b[0m\u001b[1;33m(\u001b[0m\u001b[0margs\u001b[0m\u001b[1;33m=\u001b[0m\u001b[1;32mNone\u001b[0m\u001b[1;33m)\u001b[0m\u001b[1;33m:\u001b[0m\u001b[1;33m\u001b[0m\u001b[1;33m\u001b[0m\u001b[0m\n",
      "\u001b[1;32m~\\Anaconda3\\envs\\gmlc\\lib\\site-packages\\prescient\\simulator\\simulator.py\u001b[0m in \u001b[0;36msimulate\u001b[1;34m(self, options)\u001b[0m\n\u001b[0;32m     93\u001b[0m \u001b[1;33m\u001b[0m\u001b[0m\n\u001b[0;32m     94\u001b[0m         \u001b[0mfirst_time_step\u001b[0m \u001b[1;33m=\u001b[0m \u001b[0mtime_manager\u001b[0m\u001b[1;33m.\u001b[0m\u001b[0mget_first_time_step\u001b[0m\u001b[1;33m(\u001b[0m\u001b[1;33m)\u001b[0m\u001b[1;33m\u001b[0m\u001b[1;33m\u001b[0m\u001b[0m\n\u001b[1;32m---> 95\u001b[1;33m         \u001b[0moracle_manager\u001b[0m\u001b[1;33m.\u001b[0m\u001b[0mcall_initialization_oracle\u001b[0m\u001b[1;33m(\u001b[0m\u001b[0moptions\u001b[0m\u001b[1;33m,\u001b[0m \u001b[0mfirst_time_step\u001b[0m\u001b[1;33m)\u001b[0m\u001b[1;33m\u001b[0m\u001b[1;33m\u001b[0m\u001b[0m\n\u001b[0m\u001b[0;32m     96\u001b[0m \u001b[1;33m\u001b[0m\u001b[0m\n\u001b[0;32m     97\u001b[0m         \u001b[1;32mfor\u001b[0m \u001b[0mtime_step\u001b[0m \u001b[1;32min\u001b[0m \u001b[0mtime_manager\u001b[0m\u001b[1;33m.\u001b[0m\u001b[0mtime_steps\u001b[0m\u001b[1;33m(\u001b[0m\u001b[1;33m)\u001b[0m\u001b[1;33m:\u001b[0m\u001b[1;33m\u001b[0m\u001b[1;33m\u001b[0m\u001b[0m\n",
      "\u001b[1;32m~\\Anaconda3\\envs\\gmlc\\lib\\site-packages\\prescient\\simulator\\oracle_manager.py\u001b[0m in \u001b[0;36mcall_initialization_oracle\u001b[1;34m(self, options, time_step)\u001b[0m\n\u001b[0;32m    123\u001b[0m         \u001b[1;31m#################################################################\u001b[0m\u001b[1;33m\u001b[0m\u001b[1;33m\u001b[0m\u001b[0m\n\u001b[0;32m    124\u001b[0m \u001b[1;33m\u001b[0m\u001b[0m\n\u001b[1;32m--> 125\u001b[1;33m         \u001b[0mself\u001b[0m\u001b[1;33m.\u001b[0m\u001b[0m_generate_pending_ruc\u001b[0m\u001b[1;33m(\u001b[0m\u001b[0moptions\u001b[0m\u001b[1;33m,\u001b[0m \u001b[0mtime_step\u001b[0m\u001b[1;33m.\u001b[0m\u001b[0mdate\u001b[0m\u001b[1;33m,\u001b[0m \u001b[0mtime_step\u001b[0m\u001b[1;33m.\u001b[0m\u001b[0mhour\u001b[0m\u001b[1;33m,\u001b[0m \u001b[1;32mNone\u001b[0m\u001b[1;33m)\u001b[0m\u001b[1;33m\u001b[0m\u001b[1;33m\u001b[0m\u001b[0m\n\u001b[0m\u001b[0;32m    126\u001b[0m         \u001b[0mself\u001b[0m\u001b[1;33m.\u001b[0m\u001b[0mactivate_pending_ruc\u001b[0m\u001b[1;33m(\u001b[0m\u001b[0moptions\u001b[0m\u001b[1;33m)\u001b[0m\u001b[1;33m\u001b[0m\u001b[1;33m\u001b[0m\u001b[0m\n\u001b[0;32m    127\u001b[0m \u001b[1;33m\u001b[0m\u001b[0m\n",
      "\u001b[1;32m~\\Anaconda3\\envs\\gmlc\\lib\\site-packages\\prescient\\simulator\\oracle_manager.py\u001b[0m in \u001b[0;36m_generate_pending_ruc\u001b[1;34m(self, options, uc_date, uc_hour, sim_state_for_ruc)\u001b[0m\n\u001b[0;32m    210\u001b[0m \u001b[1;33m\u001b[0m\u001b[0m\n\u001b[0;32m    211\u001b[0m         \u001b[1;31m# Solve RUC\u001b[0m\u001b[1;33m\u001b[0m\u001b[1;33m\u001b[0m\u001b[0m\n\u001b[1;32m--> 212\u001b[1;33m         deterministic_ruc_instance, ruc_market = self._solve_ruc(\n\u001b[0m\u001b[0;32m    213\u001b[0m                 \u001b[0moptions\u001b[0m\u001b[1;33m,\u001b[0m\u001b[1;33m\u001b[0m\u001b[1;33m\u001b[0m\u001b[0m\n\u001b[0;32m    214\u001b[0m                 \u001b[0muc_date\u001b[0m\u001b[1;33m,\u001b[0m\u001b[1;33m\u001b[0m\u001b[1;33m\u001b[0m\u001b[0m\n",
      "\u001b[1;32m~\\Anaconda3\\envs\\gmlc\\lib\\site-packages\\prescient\\simulator\\oracle_manager.py\u001b[0m in \u001b[0;36m_solve_ruc\u001b[1;34m(self, options, uc_date, uc_hour, deterministic_ruc_instance, compute_market_settlements)\u001b[0m\n\u001b[0;32m    160\u001b[0m     \u001b[1;32mdef\u001b[0m \u001b[0m_solve_ruc\u001b[0m\u001b[1;33m(\u001b[0m\u001b[0mself\u001b[0m\u001b[1;33m,\u001b[0m \u001b[0moptions\u001b[0m\u001b[1;33m,\u001b[0m \u001b[0muc_date\u001b[0m\u001b[1;33m,\u001b[0m \u001b[0muc_hour\u001b[0m\u001b[1;33m,\u001b[0m \u001b[0mdeterministic_ruc_instance\u001b[0m\u001b[1;33m,\u001b[0m \u001b[0mcompute_market_settlements\u001b[0m\u001b[1;33m:\u001b[0m\u001b[0mbool\u001b[0m\u001b[1;33m)\u001b[0m\u001b[1;33m:\u001b[0m\u001b[1;33m\u001b[0m\u001b[1;33m\u001b[0m\u001b[0m\n\u001b[0;32m    161\u001b[0m         \u001b[1;34m''' Solve a RUC, and generate and solve market RUC if options indicate we should '''\u001b[0m\u001b[1;33m\u001b[0m\u001b[1;33m\u001b[0m\u001b[0m\n\u001b[1;32m--> 162\u001b[1;33m         deterministic_ruc_instance = self.engine.solve_deterministic_ruc(\n\u001b[0m\u001b[0;32m    163\u001b[0m             \u001b[0moptions\u001b[0m\u001b[1;33m,\u001b[0m\u001b[1;33m\u001b[0m\u001b[1;33m\u001b[0m\u001b[0m\n\u001b[0;32m    164\u001b[0m             \u001b[0mdeterministic_ruc_instance\u001b[0m\u001b[1;33m,\u001b[0m\u001b[1;33m\u001b[0m\u001b[1;33m\u001b[0m\u001b[0m\n",
      "\u001b[1;32m~\\Anaconda3\\envs\\gmlc\\lib\\site-packages\\prescient\\engine\\egret\\engine.py\u001b[0m in \u001b[0;36msolve_deterministic_ruc\u001b[1;34m(self, options, ruc_instance, uc_date, uc_hour)\u001b[0m\n\u001b[0;32m    106\u001b[0m         \u001b[0mnetwork_type\u001b[0m \u001b[1;33m=\u001b[0m \u001b[0m_network_type_to_egret_network_constraints\u001b[0m\u001b[1;33m[\u001b[0m\u001b[0moptions\u001b[0m\u001b[1;33m.\u001b[0m\u001b[0mruc_network_type\u001b[0m\u001b[1;33m]\u001b[0m\u001b[1;33m\u001b[0m\u001b[1;33m\u001b[0m\u001b[0m\n\u001b[0;32m    107\u001b[0m         \u001b[0mslack_type\u001b[0m \u001b[1;33m=\u001b[0m \u001b[0m_slack_type_to_egret_slack_type\u001b[0m\u001b[1;33m[\u001b[0m\u001b[0moptions\u001b[0m\u001b[1;33m.\u001b[0m\u001b[0mruc_slack_type\u001b[0m\u001b[1;33m]\u001b[0m\u001b[1;33m\u001b[0m\u001b[1;33m\u001b[0m\u001b[0m\n\u001b[1;32m--> 108\u001b[1;33m         \u001b[1;32mreturn\u001b[0m \u001b[0mself\u001b[0m\u001b[1;33m.\u001b[0m\u001b[0m_p\u001b[0m\u001b[1;33m.\u001b[0m\u001b[0msolve_deterministic_ruc\u001b[0m\u001b[1;33m(\u001b[0m\u001b[0mself\u001b[0m\u001b[1;33m.\u001b[0m\u001b[0m_ruc_solver\u001b[0m\u001b[1;33m,\u001b[0m \u001b[0moptions\u001b[0m\u001b[1;33m,\u001b[0m \u001b[0mruc_instance\u001b[0m\u001b[1;33m,\u001b[0m \u001b[0muc_date\u001b[0m\u001b[1;33m,\u001b[0m \u001b[0muc_hour\u001b[0m\u001b[1;33m,\u001b[0m \u001b[0mnetwork_type\u001b[0m\u001b[1;33m,\u001b[0m \u001b[0mslack_type\u001b[0m\u001b[1;33m,\u001b[0m \u001b[0mself\u001b[0m\u001b[1;33m.\u001b[0m\u001b[0m_ptdf_manager\u001b[0m\u001b[1;33m)\u001b[0m\u001b[1;33m\u001b[0m\u001b[1;33m\u001b[0m\u001b[0m\n\u001b[0m\u001b[0;32m    109\u001b[0m \u001b[1;33m\u001b[0m\u001b[0m\n\u001b[0;32m    110\u001b[0m     def create_and_solve_day_ahead_pricing(self,\n",
      "\u001b[1;32m~\\Anaconda3\\envs\\gmlc\\lib\\site-packages\\prescient\\engine\\egret\\egret_plugin.py\u001b[0m in \u001b[0;36msolve_deterministic_ruc\u001b[1;34m(solver, options, ruc_instance_for_this_period, this_date, this_hour, network_type, slack_type, ptdf_manager)\u001b[0m\n\u001b[0;32m    278\u001b[0m                                 \u001b[0mslack_type\u001b[0m\u001b[1;33m,\u001b[0m\u001b[1;33m\u001b[0m\u001b[1;33m\u001b[0m\u001b[0m\n\u001b[0;32m    279\u001b[0m                                 ptdf_manager):\n\u001b[1;32m--> 280\u001b[1;33m         \u001b[0mruc_instance_for_this_period\u001b[0m \u001b[1;33m=\u001b[0m \u001b[0mdeterministic_ruc_solver\u001b[0m\u001b[1;33m(\u001b[0m\u001b[0mruc_instance_for_this_period\u001b[0m\u001b[1;33m,\u001b[0m \u001b[0msolver\u001b[0m\u001b[1;33m,\u001b[0m \u001b[0moptions\u001b[0m\u001b[1;33m,\u001b[0m \u001b[0mnetwork_type\u001b[0m\u001b[1;33m,\u001b[0m \u001b[0mslack_type\u001b[0m\u001b[1;33m,\u001b[0m \u001b[0mptdf_manager\u001b[0m\u001b[1;33m)\u001b[0m\u001b[1;33m\u001b[0m\u001b[1;33m\u001b[0m\u001b[0m\n\u001b[0m\u001b[0;32m    281\u001b[0m \u001b[1;33m\u001b[0m\u001b[0m\n\u001b[0;32m    282\u001b[0m         \u001b[1;32mif\u001b[0m \u001b[0moptions\u001b[0m\u001b[1;33m.\u001b[0m\u001b[0mwrite_deterministic_ruc_instances\u001b[0m\u001b[1;33m:\u001b[0m\u001b[1;33m\u001b[0m\u001b[1;33m\u001b[0m\u001b[0m\n",
      "\u001b[1;32m~\\Anaconda3\\envs\\gmlc\\lib\\site-packages\\prescient\\engine\\egret\\egret_plugin.py\u001b[0m in \u001b[0;36m_solve_deterministic_ruc\u001b[1;34m(deterministic_ruc_data, solver, options, network_type, slack_type, ptdf_manager)\u001b[0m\n\u001b[0;32m    334\u001b[0m     \u001b[1;32mtry\u001b[0m\u001b[1;33m:\u001b[0m\u001b[1;33m\u001b[0m\u001b[1;33m\u001b[0m\u001b[0m\n\u001b[0;32m    335\u001b[0m         \u001b[0mst\u001b[0m \u001b[1;33m=\u001b[0m \u001b[0mtime\u001b[0m\u001b[1;33m.\u001b[0m\u001b[0mtime\u001b[0m\u001b[1;33m(\u001b[0m\u001b[1;33m)\u001b[0m\u001b[1;33m\u001b[0m\u001b[1;33m\u001b[0m\u001b[0m\n\u001b[1;32m--> 336\u001b[1;33m         ruc_results, pyo_results, _  = call_solver(solver,\n\u001b[0m\u001b[0;32m    337\u001b[0m                                                    \u001b[0mpyo_model\u001b[0m\u001b[1;33m,\u001b[0m\u001b[1;33m\u001b[0m\u001b[1;33m\u001b[0m\u001b[0m\n\u001b[0;32m    338\u001b[0m                                                    \u001b[0moptions\u001b[0m\u001b[1;33m,\u001b[0m\u001b[1;33m\u001b[0m\u001b[1;33m\u001b[0m\u001b[0m\n",
      "\u001b[1;32m~\\Anaconda3\\envs\\gmlc\\lib\\site-packages\\prescient\\engine\\egret\\egret_plugin.py\u001b[0m in \u001b[0;36mcall_solver\u001b[1;34m(solver, instance, options, solver_options, relaxed, set_instance)\u001b[0m\n\u001b[0;32m     48\u001b[0m     \u001b[0mmipgap\u001b[0m \u001b[1;33m=\u001b[0m \u001b[0moptions\u001b[0m\u001b[1;33m.\u001b[0m\u001b[0mruc_mipgap\u001b[0m\u001b[1;33m\u001b[0m\u001b[1;33m\u001b[0m\u001b[0m\n\u001b[0;32m     49\u001b[0m \u001b[1;33m\u001b[0m\u001b[0m\n\u001b[1;32m---> 50\u001b[1;33m     m, results, solver = _solve_unit_commitment(instance, solver, mipgap, None,\n\u001b[0m\u001b[0;32m     51\u001b[0m                                                 \u001b[0mtee\u001b[0m\u001b[1;33m,\u001b[0m \u001b[0msymbolic_solver_labels\u001b[0m\u001b[1;33m,\u001b[0m\u001b[1;33m\u001b[0m\u001b[1;33m\u001b[0m\u001b[0m\n\u001b[0;32m     52\u001b[0m                                                 solver_options, None, relaxed, set_instance=set_instance)\n",
      "\u001b[1;32m~\\Anaconda3\\envs\\gmlc\\lib\\site-packages\\egret\\models\\unit_commitment.py\u001b[0m in \u001b[0;36m_solve_unit_commitment\u001b[1;34m(m, solver, mipgap, timelimit, solver_tee, symbolic_solver_labels, solver_options, solve_method_options, relaxed, set_instance)\u001b[0m\n\u001b[0;32m   1584\u001b[0m     \u001b[0mnetwork\u001b[0m \u001b[1;33m=\u001b[0m \u001b[1;33m(\u001b[0m\u001b[1;34m'branch'\u001b[0m \u001b[1;32min\u001b[0m \u001b[0mmodel_data\u001b[0m\u001b[1;33m.\u001b[0m\u001b[0mdata\u001b[0m\u001b[1;33m[\u001b[0m\u001b[1;34m'elements'\u001b[0m\u001b[1;33m]\u001b[0m\u001b[1;33m)\u001b[0m \u001b[1;32mand\u001b[0m \u001b[0mbool\u001b[0m\u001b[1;33m(\u001b[0m\u001b[0mlen\u001b[0m\u001b[1;33m(\u001b[0m\u001b[0mmodel_data\u001b[0m\u001b[1;33m.\u001b[0m\u001b[0mdata\u001b[0m\u001b[1;33m[\u001b[0m\u001b[1;34m'elements'\u001b[0m\u001b[1;33m]\u001b[0m\u001b[1;33m[\u001b[0m\u001b[1;34m'branch'\u001b[0m\u001b[1;33m]\u001b[0m\u001b[1;33m)\u001b[0m\u001b[1;33m)\u001b[0m\u001b[1;33m\u001b[0m\u001b[1;33m\u001b[0m\u001b[0m\n\u001b[0;32m   1585\u001b[0m     \u001b[1;32mif\u001b[0m \u001b[0mm\u001b[0m\u001b[1;33m.\u001b[0m\u001b[0mpower_balance\u001b[0m \u001b[1;33m==\u001b[0m \u001b[1;34m'ptdf_power_flow'\u001b[0m \u001b[1;32mand\u001b[0m \u001b[0mm\u001b[0m\u001b[1;33m.\u001b[0m\u001b[0m_ptdf_options\u001b[0m\u001b[1;33m[\u001b[0m\u001b[1;34m'lazy'\u001b[0m\u001b[1;33m]\u001b[0m \u001b[1;32mand\u001b[0m \u001b[0mnetwork\u001b[0m\u001b[1;33m:\u001b[0m\u001b[1;33m\u001b[0m\u001b[1;33m\u001b[0m\u001b[0m\n\u001b[1;32m-> 1586\u001b[1;33m         \u001b[1;32mreturn\u001b[0m \u001b[0m_outer_lazy_ptdf_solve_loop\u001b[0m\u001b[1;33m(\u001b[0m\u001b[0mm\u001b[0m\u001b[1;33m,\u001b[0m \u001b[0msolver\u001b[0m\u001b[1;33m,\u001b[0m \u001b[0mmipgap\u001b[0m\u001b[1;33m,\u001b[0m \u001b[0mtimelimit\u001b[0m\u001b[1;33m,\u001b[0m \u001b[0msolver_tee\u001b[0m\u001b[1;33m,\u001b[0m \u001b[0msymbolic_solver_labels\u001b[0m\u001b[1;33m,\u001b[0m \u001b[0msolver_options\u001b[0m\u001b[1;33m,\u001b[0m \u001b[0msolve_method_options\u001b[0m\u001b[1;33m,\u001b[0m\u001b[0mrelaxed\u001b[0m\u001b[1;33m,\u001b[0m \u001b[0mset_instance\u001b[0m\u001b[1;33m=\u001b[0m\u001b[0mset_instance\u001b[0m \u001b[1;33m)\u001b[0m\u001b[1;33m\u001b[0m\u001b[1;33m\u001b[0m\u001b[0m\n\u001b[0m\u001b[0;32m   1587\u001b[0m     \u001b[1;32melse\u001b[0m\u001b[1;33m:\u001b[0m\u001b[1;33m\u001b[0m\u001b[1;33m\u001b[0m\u001b[0m\n\u001b[0;32m   1588\u001b[0m         \u001b[1;32mreturn\u001b[0m \u001b[0m_solve_model\u001b[0m\u001b[1;33m(\u001b[0m\u001b[0mm\u001b[0m\u001b[1;33m,\u001b[0m\u001b[0msolver\u001b[0m\u001b[1;33m,\u001b[0m\u001b[0mmipgap\u001b[0m\u001b[1;33m,\u001b[0m\u001b[0mtimelimit\u001b[0m\u001b[1;33m,\u001b[0m\u001b[0msolver_tee\u001b[0m\u001b[1;33m,\u001b[0m\u001b[0msymbolic_solver_labels\u001b[0m\u001b[1;33m,\u001b[0m\u001b[0msolver_options\u001b[0m\u001b[1;33m,\u001b[0m\u001b[0msolve_method_options\u001b[0m\u001b[1;33m,\u001b[0m \u001b[0mreturn_solver\u001b[0m\u001b[1;33m=\u001b[0m\u001b[1;32mTrue\u001b[0m\u001b[1;33m,\u001b[0m \u001b[0mset_instance\u001b[0m\u001b[1;33m=\u001b[0m\u001b[0mset_instance\u001b[0m\u001b[1;33m)\u001b[0m\u001b[1;33m\u001b[0m\u001b[1;33m\u001b[0m\u001b[0m\n",
      "\u001b[1;32m~\\Anaconda3\\envs\\gmlc\\lib\\site-packages\\egret\\models\\unit_commitment.py\u001b[0m in \u001b[0;36m_outer_lazy_ptdf_solve_loop\u001b[1;34m(m, solver, mipgap, timelimit, solver_tee, symbolic_solver_labels, solver_options, solve_method_options, relaxed, set_instance)\u001b[0m\n\u001b[0;32m    915\u001b[0m \u001b[1;33m\u001b[0m\u001b[0m\n\u001b[0;32m    916\u001b[0m         \u001b[0mlpu\u001b[0m\u001b[1;33m.\u001b[0m\u001b[0muc_instance_binary_relaxer\u001b[0m\u001b[1;33m(\u001b[0m\u001b[0mm\u001b[0m\u001b[1;33m,\u001b[0m \u001b[1;32mNone\u001b[0m\u001b[1;33m)\u001b[0m\u001b[1;33m\u001b[0m\u001b[1;33m\u001b[0m\u001b[0m\n\u001b[1;32m--> 917\u001b[1;33m         \u001b[0mm\u001b[0m\u001b[1;33m,\u001b[0m \u001b[0mresults_init\u001b[0m\u001b[1;33m,\u001b[0m \u001b[0msolver\u001b[0m \u001b[1;33m=\u001b[0m \u001b[0m_solve_model\u001b[0m\u001b[1;33m(\u001b[0m\u001b[0mm\u001b[0m\u001b[1;33m,\u001b[0m\u001b[0msolver\u001b[0m\u001b[1;33m,\u001b[0m\u001b[0mmipgap\u001b[0m\u001b[1;33m,\u001b[0m\u001b[0mtimelimit\u001b[0m\u001b[1;33m,\u001b[0m\u001b[0msolver_tee\u001b[0m\u001b[1;33m,\u001b[0m\u001b[0msymbolic_solver_labels\u001b[0m\u001b[1;33m,\u001b[0m\u001b[0msolver_options\u001b[0m\u001b[1;33m,\u001b[0m\u001b[0msolve_method_options\u001b[0m\u001b[1;33m,\u001b[0m \u001b[0mreturn_solver\u001b[0m\u001b[1;33m=\u001b[0m\u001b[1;32mTrue\u001b[0m\u001b[1;33m,\u001b[0m \u001b[0mvars_to_load\u001b[0m \u001b[1;33m=\u001b[0m \u001b[0mvars_to_load\u001b[0m\u001b[1;33m,\u001b[0m \u001b[0mset_instance\u001b[0m\u001b[1;33m=\u001b[0m\u001b[0mset_instance\u001b[0m\u001b[1;33m)\u001b[0m\u001b[1;33m\u001b[0m\u001b[1;33m\u001b[0m\u001b[0m\n\u001b[0m\u001b[0;32m    918\u001b[0m         \u001b[1;32mif\u001b[0m \u001b[0mlp_warmstart_iter_limit\u001b[0m \u001b[1;33m>\u001b[0m \u001b[1;36m0\u001b[0m\u001b[1;33m:\u001b[0m\u001b[1;33m\u001b[0m\u001b[1;33m\u001b[0m\u001b[0m\n\u001b[0;32m    919\u001b[0m             \u001b[0mlp_warmstart_termination_cond\u001b[0m\u001b[1;33m,\u001b[0m \u001b[0mresults\u001b[0m\u001b[1;33m,\u001b[0m \u001b[0mlp_warmstart_iterations\u001b[0m \u001b[1;33m=\u001b[0m\u001b[0;31m \u001b[0m\u001b[0;31m\\\u001b[0m\u001b[1;33m\u001b[0m\u001b[1;33m\u001b[0m\u001b[0m\n",
      "\u001b[1;32m~\\Anaconda3\\envs\\gmlc\\lib\\site-packages\\egret\\common\\solver_interface.py\u001b[0m in \u001b[0;36m_solve_model\u001b[1;34m(model, solver, mipgap, timelimit, solver_tee, symbolic_solver_labels, solver_options, solve_method_options, return_solver, vars_to_load, set_instance)\u001b[0m\n\u001b[0;32m    158\u001b[0m \u001b[1;33m\u001b[0m\u001b[0m\n\u001b[0;32m    159\u001b[0m     \u001b[1;32mif\u001b[0m \u001b[0mresults\u001b[0m\u001b[1;33m.\u001b[0m\u001b[0msolver\u001b[0m\u001b[1;33m.\u001b[0m\u001b[0mtermination_condition\u001b[0m \u001b[1;32mnot\u001b[0m \u001b[1;32min\u001b[0m \u001b[0msafe_termination_conditions\u001b[0m\u001b[1;33m:\u001b[0m\u001b[1;33m\u001b[0m\u001b[1;33m\u001b[0m\u001b[0m\n\u001b[1;32m--> 160\u001b[1;33m         \u001b[1;32mraise\u001b[0m \u001b[0mException\u001b[0m\u001b[1;33m(\u001b[0m\u001b[1;34m'Problem encountered during solve, termination_condition {}'\u001b[0m\u001b[1;33m.\u001b[0m\u001b[0mformat\u001b[0m\u001b[1;33m(\u001b[0m\u001b[0mresults\u001b[0m\u001b[1;33m.\u001b[0m\u001b[0msolver\u001b[0m\u001b[1;33m.\u001b[0m\u001b[0mtermination_condition\u001b[0m\u001b[1;33m)\u001b[0m\u001b[1;33m)\u001b[0m\u001b[1;33m\u001b[0m\u001b[1;33m\u001b[0m\u001b[0m\n\u001b[0m\u001b[0;32m    161\u001b[0m \u001b[1;33m\u001b[0m\u001b[0m\n\u001b[0;32m    162\u001b[0m     \u001b[1;32mif\u001b[0m \u001b[0misinstance\u001b[0m\u001b[1;33m(\u001b[0m\u001b[0msolver\u001b[0m\u001b[1;33m,\u001b[0m \u001b[0mPersistentSolver\u001b[0m\u001b[1;33m)\u001b[0m\u001b[1;33m:\u001b[0m\u001b[1;33m\u001b[0m\u001b[1;33m\u001b[0m\u001b[0m\n",
      "\u001b[1;31mException\u001b[0m: Problem encountered during solve, termination_condition infeasibleOrUnbounded"
     ]
    }
   ],
   "source": [
    "Prescient().simulate(**options)"
   ]
  },
  {
   "cell_type": "code",
   "execution_count": null,
   "id": "111446a3",
   "metadata": {},
   "outputs": [],
   "source": []
  }
 ],
 "metadata": {
  "kernelspec": {
   "display_name": "Python 3 (ipykernel)",
   "language": "python",
   "name": "python3"
  },
  "language_info": {
   "codemirror_mode": {
    "name": "ipython",
    "version": 3
   },
   "file_extension": ".py",
   "mimetype": "text/x-python",
   "name": "python",
   "nbconvert_exporter": "python",
   "pygments_lexer": "ipython3",
   "version": "3.9.12"
  },
  "vscode": {
   "interpreter": {
    "hash": "5c77e5b389361b2ebad54d90c2eefe972bae596e1ceaa2c365334e88b42fd862"
   }
  }
 },
 "nbformat": 4,
 "nbformat_minor": 5
}
