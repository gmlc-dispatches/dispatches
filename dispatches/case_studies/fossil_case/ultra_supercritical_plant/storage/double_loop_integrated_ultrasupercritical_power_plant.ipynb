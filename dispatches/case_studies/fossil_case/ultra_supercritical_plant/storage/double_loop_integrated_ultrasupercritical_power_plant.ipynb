{
 "cells": [
  {
   "cell_type": "markdown",
   "id": "498cf0b4",
   "metadata": {},
   "source": [
    "# Double-loop Framework Implementation with Fossil Case: Integrated Ultra-supercritical Power Plant Model\n"
   ]
  },
  {
   "cell_type": "markdown",
   "id": "595e8b1e",
   "metadata": {},
   "source": [
    "Author: Naresh Susarla (naresh.susarla@netl.doe.gov)"
   ]
  },
  {
   "cell_type": "markdown",
   "id": "a9094682",
   "metadata": {},
   "source": [
    "This notebook presents an implementation of the double-loop framework for the fossil case study using the integrated ultra-supercritical power plant model with a molten-salt based thermal energy storage. In order to run this notebook, we need multiple packages including, DISPATCHES, IDAES, and gridx-prescient."
   ]
  },
  {
   "cell_type": "markdown",
   "id": "112e52dd",
   "metadata": {},
   "source": [
    "For a given integrated energy system, the double loop workflow has six key steps:\n",
    "\n",
    " 1. Forecasting: Generate plausible price forcasts for the bidding horizon (chosen to be 48 hours).\n",
    " 2. Bidding: Formulate and solve a multi-period bidding problem for the generated set of forcasted price signals. The solution of the bidding problem yields a time-varying bid curve.\n",
    " 3. Day Ahead (DA) Market: Using the bid curve generated in the previous step, solve the unit commitment problem for the day ahead market.\n",
    " 4. Real Time Market: Fix unit commitment decisions and solve the unit commitment problem for the real time market. The solution yields real time local marginal prices and the optimal dispatch profile for each generator.\n",
    " 5. Tracking: Formulate and solve a tracking problem to track the optimal dispatch profile obtained in the previous step, and minimize under-production/over-production of electricity.\n",
    " 6. Settlement: Compute all the cash flows"
   ]
  },
  {
   "cell_type": "markdown",
   "id": "a058f475",
   "metadata": {},
   "source": [
    "To start the analysis, first import all necessary modules and packages including Prescient simulator and `MultiPeriodUsc` class. `MultiPeriodUsc` builds a multi-period model of the integrated ultra-supercritical power plant model with a molten salt energy storage."
   ]
  },
  {
   "cell_type": "code",
   "execution_count": 1,
   "id": "6607a30d",
   "metadata": {},
   "outputs": [
    {
     "name": "stdout",
     "output_type": "stream",
     "text": [
      "Interactive Python mode detected; using default matplotlib backend for plotting.\n"
     ]
    }
   ],
   "source": [
    "# Import Python library packages\n",
    "from types import ModuleType\n",
    "import pandas as pd\n",
    "from importlib import resources\n",
    "\n",
    "# Import Pyomo packages\n",
    "import pyomo.environ as pyo\n",
    "\n",
    "# Import IDAES packages\n",
    "from idaes.apps.grid_integration import Tracker\n",
    "from idaes.apps.grid_integration import Bidder\n",
    "from idaes.apps.grid_integration.forecaster import Backcaster\n",
    "from idaes.apps.grid_integration import DoubleLoopCoordinator\n",
    "from idaes.apps.grid_integration.model_data import ThermalGeneratorModelData\n",
    "\n",
    "# Import Prescient simulator\n",
    "from prescient.simulator import Prescient\n",
    "\n",
    "# Import integrated ultra-supercritical power plant with energy storage model\n",
    "from dispatches.case_studies.fossil_case.ultra_supercritical_plant.storage.multiperiod_double_loop_usc import MultiPeriodUsc\n",
    "from dispatches_sample_data import rts_gmlc"
   ]
  },
  {
   "cell_type": "markdown",
   "id": "fa7bd5c1",
   "metadata": {},
   "source": [
    "Following the imports, set up the fossil generator characteristics using a `model_data` object as shown below. The fossil generator used in this analysis is the integrated ultra-supercritical power plant, refered to in this analysis as the fossil-based integrated energy system (IES). A more detailed explanation of the integrated model is given in the notebook `integrated_storage_with_powerplant`. The double-loop model parameters are the number of hours for the bidding and tracking models, number of scenarios to use, and the number of days for simulation. The fossil generator data included in `model_data` and needed during this analysis is given and described in the list below: "
   ]
  },
  {
   "cell_type": "markdown",
   "id": "4693c38f",
   "metadata": {},
   "source": [
    " - gen_name: The ID of the generator in the RTS - GMLC that is being replaced by the fossil-based IES. The chosen generator name `gen_name` is `102_STEAM_3`\n",
    " - generator_type: Accepts either `thermal` or `renewable`. We choose `thermal` for both fossil generators\n",
    " - p_min: Minimum power output to the grid in MW. The minimum power output to the grid for this IES is 286 MW\n",
    " - p_max: Maximum power output to the grid in MW. The maximum power output to the grid for this IES is 460 MW\n",
    " - min_down_time: Mininum downtime after the generator is shutdown. The minimum downtime for this IES is 4 hours\n",
    " - min_up_time: Minimum uptime after the generator is turned on. The minimum uptime for this IES is 8 hours\n",
    " - ramp_up_60min: Ramp up rate in MW/hr. The default ramp up rate for this IES is 60 MW/hr\n",
    " - ramp_down_60min: Ramp down rate in MW/hr. The default ramp down rate for this IES is the same as the ramp up rate, 60 MW/hr\n",
    " - shutdown_capacity: Power output when shutdown is initiated in MW. For this IES, during shutdown the plant operates at p_min\n",
    " - startup_capacity: Power output when the generator is turned on. For this IES, during startup, the plant operates at p_min as considered during shotdown\n",
    " - production_cost_bid_pairs: Cost of production of electricity in \\\\$/MW as function of power output in MW\n",
    " - startup_cost_pairs: (Number of hours after shutdown, cost of startup)\n",
    " - fixed_commitment: 0/1 indicates that plant shutdown is allowed/not allowed"
   ]
  },
  {
   "cell_type": "code",
   "execution_count": 2,
   "id": "56a30c64",
   "metadata": {},
   "outputs": [],
   "source": [
    "# Import the historical price data from 'original rts-gmlc run' output folder:\n",
    "bus_name = \"Attlee\"\n",
    "\n",
    "da_lmp_historical = [21.288312, 20.419032, 19.689677, 19.983571, 19.983571, 20.419032,\n",
    "       21.843871, 23.437857, 18.072549, -0.      , -0.      , -0.      ,\n",
    "       -0.      , -0.      , -0.      , -0.      , 18.861   , 22.51634 ,\n",
    "       33.752674, 33.752674, 27.050323, 24.617429, 23.07    , 19.689677]\n",
    "\n",
    "rt_lmp_historical = [23.07    , 22.968387, 24.617429, 24.617429, 27.050323, 22.51634 ,\n",
    "       22.492903, 23.657742, 21.843871, -0.      , -0.      , -0.      ,\n",
    "       -0.      , -0.      , -0.      , -0.      , -0.      , 21.916765,\n",
    "       24.079344, 23.40518 , 22.683303, 21.916765, 20.244451, 18.861   ]"
   ]
  },
  {
   "cell_type": "code",
   "execution_count": 3,
   "id": "61d7856a",
   "metadata": {},
   "outputs": [],
   "source": [
    "generator_data = {\n",
    "    \"gen_name\": \"102_STEAM_3\",\n",
    "    \"p_min\": 286,\n",
    "    \"p_max\": 460,\n",
    "    \"min_down_time\": 4,\n",
    "    \"min_up_time\": 8,\n",
    "    \"ramp_up_60min\": 60,\n",
    "    \"ramp_down_60min\": 60,\n",
    "    \"shutdown_capacity\": 286,\n",
    "    \"startup_capacity\": 286,\n",
    "    \"initial_status\": -1,\n",
    "    \"initial_p_output\": 0,\n",
    "    \"production_cost_bid_pairs\": [\n",
    "        (286, 22.16602),\n",
    "        (350, 19.0723),\n",
    "        (400, 18.29703),\n",
    "        (430, 17.71727),\n",
    "        (460, 17.71727),\n",
    "    ],\n",
    "    \"startup_cost_pairs\": [(4, 7355.42), (10, 10488.35), (12, 11383.41)],\n",
    "    \"fixed_commitment\": 1,\n",
    "    \"bus\": bus_name,\n",
    "}\n",
    "\n",
    "model_data = ThermalGeneratorModelData(**generator_data)"
   ]
  },
  {
   "cell_type": "markdown",
   "id": "adae2723",
   "metadata": {},
   "source": [
    "Next, we set the following parameters needed for the double loop workflow:\n",
    " - tracking_horizon: Length of the tracking horizon. We choose it to be 10 hours\n",
    " - bidding_horizon: Length of the bidding horizon. We choose it to be 48 hours\n",
    " - n_scenario: Number of scenarios to be considered for the bidding problem. The file `idaes.apps.grid_integration.examples.lmp_forecasts_concat.csv` includes the data for ten scenarios, so we can choose any number between 1 and 10\n",
    " - n_tracking_hour: Frequency at which the tracking problem needs to be solved (every hour)\n",
    " - num_days: Simulation horizon (number of days). For this demonstration, 2 days is chosen for this simulation"
   ]
  },
  {
   "cell_type": "code",
   "execution_count": 4,
   "id": "11c77c81",
   "metadata": {},
   "outputs": [],
   "source": [
    "tracking_horizon = 4  # hours\n",
    "bidding_horizon = 4  # hours\n",
    "n_scenario = 1  # for bidding\n",
    "n_tracking_hour = 1  # advance n_tracking_hour (i.e. assume we solve every hour)\n",
    "num_days = 1"
   ]
  },
  {
   "cell_type": "markdown",
   "id": "eb98132b",
   "metadata": {},
   "source": [
    "Set up the solver and the forecaster objects."
   ]
  },
  {
   "cell_type": "code",
   "execution_count": 5,
   "id": "72dac94e",
   "metadata": {},
   "outputs": [],
   "source": [
    "# Create solver\n",
    "solver = pyo.SolverFactory(\"ipopt\")\n",
    "solver.options = {\n",
    "    \"max_iter\": 200,\n",
    "}\n",
    "\n",
    "# Create forecaster object\n",
    "forecaster = Backcaster({bus_name: da_lmp_historical}, {bus_name: rt_lmp_historical})"
   ]
  },
  {
   "cell_type": "markdown",
   "id": "aea6ba8c",
   "metadata": {},
   "source": [
    "Set up the objects for Tracker, Bidder, and Coordinator."
   ]
  },
  {
   "cell_type": "code",
   "execution_count": 6,
   "id": "4611e3df",
   "metadata": {},
   "outputs": [
    {
     "name": "stdout",
     "output_type": "stream",
     "text": [
      "[+   0.00] Beginning the formulation of the multiperiod optimization problem.\n",
      "2022-10-26 16:26:20 [INFO] idaes.apps.grid_integration.multiperiod.multiperiod: ...Constructing the flowsheet model for blocks[0]\n"
     ]
    },
    {
     "name": "stderr",
     "output_type": "stream",
     "text": [
      "INFO:idaes.apps.grid_integration.multiperiod.multiperiod:...Constructing the flowsheet model for blocks[0]\n"
     ]
    },
    {
     "name": "stdout",
     "output_type": "stream",
     "text": [
      ">>> Creating USC model and initialization for each time period\n",
      "2022-10-26 16:26:23 [INFO] idaes.apps.grid_integration.multiperiod.multiperiod: ...Constructing the flowsheet model for blocks[1]\n"
     ]
    },
    {
     "name": "stderr",
     "output_type": "stream",
     "text": [
      "INFO:idaes.apps.grid_integration.multiperiod.multiperiod:...Constructing the flowsheet model for blocks[1]\n"
     ]
    },
    {
     "name": "stdout",
     "output_type": "stream",
     "text": [
      ">>> Creating USC model and initialization for each time period\n",
      "2022-10-26 16:26:27 [INFO] idaes.apps.grid_integration.multiperiod.multiperiod: ...Constructing the flowsheet model for blocks[2]\n"
     ]
    },
    {
     "name": "stderr",
     "output_type": "stream",
     "text": [
      "INFO:idaes.apps.grid_integration.multiperiod.multiperiod:...Constructing the flowsheet model for blocks[2]\n"
     ]
    },
    {
     "name": "stdout",
     "output_type": "stream",
     "text": [
      ">>> Creating USC model and initialization for each time period\n",
      "2022-10-26 16:26:30 [INFO] idaes.apps.grid_integration.multiperiod.multiperiod: ...Constructing the flowsheet model for blocks[3]\n"
     ]
    },
    {
     "name": "stderr",
     "output_type": "stream",
     "text": [
      "INFO:idaes.apps.grid_integration.multiperiod.multiperiod:...Constructing the flowsheet model for blocks[3]\n"
     ]
    },
    {
     "name": "stdout",
     "output_type": "stream",
     "text": [
      ">>> Creating USC model and initialization for each time period\n",
      "[+  13.93] Completed the formulation of the multiperiod optimization problem.\n",
      "2022-10-26 16:26:34 [WARNING] idaes.apps.grid_integration.multiperiod.multiperiod: Initialization function is not provided. Returning the multiperiod model without initialization.\n"
     ]
    },
    {
     "name": "stderr",
     "output_type": "stream",
     "text": [
      "WARNING:idaes.apps.grid_integration.multiperiod.multiperiod:Initialization function is not provided. Returning the multiperiod model without initialization.\n"
     ]
    },
    {
     "name": "stdout",
     "output_type": "stream",
     "text": [
      "2022-10-26 16:26:34 [WARNING] idaes.apps.grid_integration.multiperiod.multiperiod: unfix_dof function is not provided. Returning the model without unfixing degrees of freedom\n"
     ]
    },
    {
     "name": "stderr",
     "output_type": "stream",
     "text": [
      "WARNING:idaes.apps.grid_integration.multiperiod.multiperiod:unfix_dof function is not provided. Returning the model without unfixing degrees of freedom\n"
     ]
    },
    {
     "name": "stdout",
     "output_type": "stream",
     "text": [
      "[+   0.00] Beginning the formulation of the multiperiod optimization problem.\n",
      "2022-10-26 16:26:34 [INFO] idaes.apps.grid_integration.multiperiod.multiperiod: ...Constructing the flowsheet model for blocks[0]\n"
     ]
    },
    {
     "name": "stderr",
     "output_type": "stream",
     "text": [
      "INFO:idaes.apps.grid_integration.multiperiod.multiperiod:...Constructing the flowsheet model for blocks[0]\n"
     ]
    },
    {
     "name": "stdout",
     "output_type": "stream",
     "text": [
      ">>> Creating USC model and initialization for each time period\n",
      "2022-10-26 16:26:37 [INFO] idaes.apps.grid_integration.multiperiod.multiperiod: ...Constructing the flowsheet model for blocks[1]\n"
     ]
    },
    {
     "name": "stderr",
     "output_type": "stream",
     "text": [
      "INFO:idaes.apps.grid_integration.multiperiod.multiperiod:...Constructing the flowsheet model for blocks[1]\n"
     ]
    },
    {
     "name": "stdout",
     "output_type": "stream",
     "text": [
      ">>> Creating USC model and initialization for each time period\n",
      "2022-10-26 16:26:41 [INFO] idaes.apps.grid_integration.multiperiod.multiperiod: ...Constructing the flowsheet model for blocks[2]\n"
     ]
    },
    {
     "name": "stderr",
     "output_type": "stream",
     "text": [
      "INFO:idaes.apps.grid_integration.multiperiod.multiperiod:...Constructing the flowsheet model for blocks[2]\n"
     ]
    },
    {
     "name": "stdout",
     "output_type": "stream",
     "text": [
      ">>> Creating USC model and initialization for each time period\n",
      "2022-10-26 16:26:44 [INFO] idaes.apps.grid_integration.multiperiod.multiperiod: ...Constructing the flowsheet model for blocks[3]\n"
     ]
    },
    {
     "name": "stderr",
     "output_type": "stream",
     "text": [
      "INFO:idaes.apps.grid_integration.multiperiod.multiperiod:...Constructing the flowsheet model for blocks[3]\n"
     ]
    },
    {
     "name": "stdout",
     "output_type": "stream",
     "text": [
      ">>> Creating USC model and initialization for each time period\n",
      "[+  13.86] Completed the formulation of the multiperiod optimization problem.\n",
      "2022-10-26 16:26:47 [WARNING] idaes.apps.grid_integration.multiperiod.multiperiod: Initialization function is not provided. Returning the multiperiod model without initialization.\n"
     ]
    },
    {
     "name": "stderr",
     "output_type": "stream",
     "text": [
      "WARNING:idaes.apps.grid_integration.multiperiod.multiperiod:Initialization function is not provided. Returning the multiperiod model without initialization.\n"
     ]
    },
    {
     "name": "stdout",
     "output_type": "stream",
     "text": [
      "2022-10-26 16:26:47 [WARNING] idaes.apps.grid_integration.multiperiod.multiperiod: unfix_dof function is not provided. Returning the model without unfixing degrees of freedom\n"
     ]
    },
    {
     "name": "stderr",
     "output_type": "stream",
     "text": [
      "WARNING:idaes.apps.grid_integration.multiperiod.multiperiod:unfix_dof function is not provided. Returning the model without unfixing degrees of freedom\n"
     ]
    },
    {
     "name": "stdout",
     "output_type": "stream",
     "text": [
      "[+   0.00] Beginning the formulation of the multiperiod optimization problem.\n",
      "2022-10-26 16:26:47 [INFO] idaes.apps.grid_integration.multiperiod.multiperiod: ...Constructing the flowsheet model for blocks[0]\n"
     ]
    },
    {
     "name": "stderr",
     "output_type": "stream",
     "text": [
      "INFO:idaes.apps.grid_integration.multiperiod.multiperiod:...Constructing the flowsheet model for blocks[0]\n"
     ]
    },
    {
     "name": "stdout",
     "output_type": "stream",
     "text": [
      ">>> Creating USC model and initialization for each time period\n",
      "2022-10-26 16:26:50 [INFO] idaes.apps.grid_integration.multiperiod.multiperiod: ...Constructing the flowsheet model for blocks[1]\n"
     ]
    },
    {
     "name": "stderr",
     "output_type": "stream",
     "text": [
      "INFO:idaes.apps.grid_integration.multiperiod.multiperiod:...Constructing the flowsheet model for blocks[1]\n"
     ]
    },
    {
     "name": "stdout",
     "output_type": "stream",
     "text": [
      ">>> Creating USC model and initialization for each time period\n",
      "2022-10-26 16:26:54 [INFO] idaes.apps.grid_integration.multiperiod.multiperiod: ...Constructing the flowsheet model for blocks[2]\n"
     ]
    },
    {
     "name": "stderr",
     "output_type": "stream",
     "text": [
      "INFO:idaes.apps.grid_integration.multiperiod.multiperiod:...Constructing the flowsheet model for blocks[2]\n"
     ]
    },
    {
     "name": "stdout",
     "output_type": "stream",
     "text": [
      ">>> Creating USC model and initialization for each time period\n",
      "2022-10-26 16:26:57 [INFO] idaes.apps.grid_integration.multiperiod.multiperiod: ...Constructing the flowsheet model for blocks[3]\n"
     ]
    },
    {
     "name": "stderr",
     "output_type": "stream",
     "text": [
      "INFO:idaes.apps.grid_integration.multiperiod.multiperiod:...Constructing the flowsheet model for blocks[3]\n"
     ]
    },
    {
     "name": "stdout",
     "output_type": "stream",
     "text": [
      ">>> Creating USC model and initialization for each time period\n",
      "[+  13.83] Completed the formulation of the multiperiod optimization problem.\n",
      "2022-10-26 16:27:01 [WARNING] idaes.apps.grid_integration.multiperiod.multiperiod: Initialization function is not provided. Returning the multiperiod model without initialization.\n"
     ]
    },
    {
     "name": "stderr",
     "output_type": "stream",
     "text": [
      "WARNING:idaes.apps.grid_integration.multiperiod.multiperiod:Initialization function is not provided. Returning the multiperiod model without initialization.\n"
     ]
    },
    {
     "name": "stdout",
     "output_type": "stream",
     "text": [
      "2022-10-26 16:27:01 [WARNING] idaes.apps.grid_integration.multiperiod.multiperiod: unfix_dof function is not provided. Returning the model without unfixing degrees of freedom\n"
     ]
    },
    {
     "name": "stderr",
     "output_type": "stream",
     "text": [
      "WARNING:idaes.apps.grid_integration.multiperiod.multiperiod:unfix_dof function is not provided. Returning the model without unfixing degrees of freedom\n"
     ]
    },
    {
     "name": "stdout",
     "output_type": "stream",
     "text": [
      "[+   0.00] Beginning the formulation of the multiperiod optimization problem.\n",
      "2022-10-26 16:27:01 [INFO] idaes.apps.grid_integration.multiperiod.multiperiod: ...Constructing the flowsheet model for blocks[0]\n"
     ]
    },
    {
     "name": "stderr",
     "output_type": "stream",
     "text": [
      "INFO:idaes.apps.grid_integration.multiperiod.multiperiod:...Constructing the flowsheet model for blocks[0]\n"
     ]
    },
    {
     "name": "stdout",
     "output_type": "stream",
     "text": [
      ">>> Creating USC model and initialization for each time period\n",
      "2022-10-26 16:27:04 [INFO] idaes.apps.grid_integration.multiperiod.multiperiod: ...Constructing the flowsheet model for blocks[1]\n"
     ]
    },
    {
     "name": "stderr",
     "output_type": "stream",
     "text": [
      "INFO:idaes.apps.grid_integration.multiperiod.multiperiod:...Constructing the flowsheet model for blocks[1]\n"
     ]
    },
    {
     "name": "stdout",
     "output_type": "stream",
     "text": [
      ">>> Creating USC model and initialization for each time period\n",
      "2022-10-26 16:27:07 [INFO] idaes.apps.grid_integration.multiperiod.multiperiod: ...Constructing the flowsheet model for blocks[2]\n"
     ]
    },
    {
     "name": "stderr",
     "output_type": "stream",
     "text": [
      "INFO:idaes.apps.grid_integration.multiperiod.multiperiod:...Constructing the flowsheet model for blocks[2]\n"
     ]
    },
    {
     "name": "stdout",
     "output_type": "stream",
     "text": [
      ">>> Creating USC model and initialization for each time period\n",
      "2022-10-26 16:27:12 [INFO] idaes.apps.grid_integration.multiperiod.multiperiod: ...Constructing the flowsheet model for blocks[3]\n"
     ]
    },
    {
     "name": "stderr",
     "output_type": "stream",
     "text": [
      "INFO:idaes.apps.grid_integration.multiperiod.multiperiod:...Constructing the flowsheet model for blocks[3]\n"
     ]
    },
    {
     "name": "stdout",
     "output_type": "stream",
     "text": [
      ">>> Creating USC model and initialization for each time period\n",
      "[+  13.16] Completed the formulation of the multiperiod optimization problem.\n",
      "2022-10-26 16:27:14 [WARNING] idaes.apps.grid_integration.multiperiod.multiperiod: Initialization function is not provided. Returning the multiperiod model without initialization.\n"
     ]
    },
    {
     "name": "stderr",
     "output_type": "stream",
     "text": [
      "WARNING:idaes.apps.grid_integration.multiperiod.multiperiod:Initialization function is not provided. Returning the multiperiod model without initialization.\n"
     ]
    },
    {
     "name": "stdout",
     "output_type": "stream",
     "text": [
      "2022-10-26 16:27:14 [WARNING] idaes.apps.grid_integration.multiperiod.multiperiod: unfix_dof function is not provided. Returning the model without unfixing degrees of freedom\n"
     ]
    },
    {
     "name": "stderr",
     "output_type": "stream",
     "text": [
      "WARNING:idaes.apps.grid_integration.multiperiod.multiperiod:unfix_dof function is not provided. Returning the model without unfixing degrees of freedom\n"
     ]
    }
   ],
   "source": [
    "# Tracker\n",
    "mp_usc_tracker = MultiPeriodUsc(\n",
    "    model_data=model_data\n",
    ")\n",
    "\n",
    "thermal_tracker = Tracker(\n",
    "    tracking_model_object=mp_usc_tracker,\n",
    "    n_tracking_hour=n_tracking_hour,\n",
    "    solver=solver,\n",
    "    tracking_horizon=tracking_horizon,\n",
    ")\n",
    "\n",
    "# Projection Tracker\n",
    "mp_usc_projection_tracker = MultiPeriodUsc(\n",
    "    model_data=model_data\n",
    ")\n",
    "\n",
    "thermal_projection_tracker = Tracker(\n",
    "    tracking_model_object=mp_usc_projection_tracker,\n",
    "    n_tracking_hour=n_tracking_hour,\n",
    "    solver=solver,\n",
    "    tracking_horizon=tracking_horizon,\n",
    ")\n",
    "\n",
    "# Bidder\n",
    "mp_usc_bidder = MultiPeriodUsc(\n",
    "    model_data=model_data\n",
    ")\n",
    "thermal_bidder = Bidder(\n",
    "    bidding_model_object=mp_usc_bidder,\n",
    "    n_scenario=n_scenario,\n",
    "    solver=solver,\n",
    "    forecaster=forecaster,\n",
    "    day_ahead_horizon=bidding_horizon,\n",
    "    real_time_horizon=tracking_horizon,\n",
    ")\n",
    "\n",
    "# Coordinator\n",
    "coordinator = DoubleLoopCoordinator(\n",
    "    bidder=thermal_bidder,\n",
    "    tracker=thermal_tracker,\n",
    "    projection_tracker=thermal_projection_tracker,\n",
    ")\n"
   ]
  },
  {
   "cell_type": "markdown",
   "id": "6b2f211a",
   "metadata": {},
   "source": [
    "Set up the `plugin_module` needed for the Prescient simulator"
   ]
  },
  {
   "cell_type": "code",
   "execution_count": 7,
   "id": "4a3b70af",
   "metadata": {},
   "outputs": [],
   "source": [
    "class PrescientPluginModule(ModuleType):\n",
    "    def __init__(self, get_configuration, register_plugins):\n",
    "        self.get_configuration = get_configuration\n",
    "        self.register_plugins = register_plugins\n",
    "\n",
    "\n",
    "plugin_module = PrescientPluginModule(\n",
    "    get_configuration=coordinator.get_configuration,\n",
    "    register_plugins=coordinator.register_plugins,\n",
    ")\n"
   ]
  },
  {
   "cell_type": "markdown",
   "id": "a6e289b9",
   "metadata": {},
   "source": [
    "**IMPORTANT** Before proceeding with the rest of the notebook:\n",
    "1. Install the `dispatches-sample-data` package by running `pip install dispatches-sample-data` in the working conda environment\n",
    "\n",
    "OR\n",
    "\n",
    "1. Download the RTS-GMLC dataset from [https://github.com/GridMod/RTS-GMLC] (or directly as a zipfile here) to your local machine\n",
    "2. Update the value of the `rst_gmlc_data_dir` variable in the cell below to the appropriate location of the `RTS_Data/SourceData` subfolder on your local machine"
   ]
  },
  {
   "cell_type": "code",
   "execution_count": 8,
   "id": "86fac6ca",
   "metadata": {},
   "outputs": [],
   "source": [
    "# If installing the dispatches-sample-data\n",
    "rts_gmlc_data_dir = str(rts_gmlc.source_data_path)\n",
    "\n",
    "# If downloading the data to the local machine use the following option with appropriate path\n",
    "# rts_gmlc_data_dir = \"/projects/gmihybridsys/dguittet/data/RTS-GMLC/RTS_Data/SourceData\"\n"
   ]
  },
  {
   "cell_type": "markdown",
   "id": "61a63971",
   "metadata": {},
   "source": [
    "Declare the options for Prescient simulator"
   ]
  },
  {
   "cell_type": "code",
   "execution_count": 9,
   "id": "6e46669f",
   "metadata": {},
   "outputs": [],
   "source": [
    "options = {\n",
    "    \"data_path\": rts_gmlc_data_dir,\n",
    "    \"input_format\": \"rts-gmlc\",\n",
    "    \"simulate_out_of_sample\": True,\n",
    "    \"run_sced_with_persistent_forecast_errors\": True,\n",
    "    \"output_directory\": \"bidding_multiperiod_usc\",\n",
    "    \"start_date\": \"2020-07-10\",\n",
    "    \"num_days\": num_days,\n",
    "    \"sced_horizon\": tracking_horizon,\n",
    "    \"ruc_horizon\": bidding_horizon,\n",
    "    \"ruc_every_hours\": bidding_horizon,\n",
    "    \"compute_market_settlements\": True,\n",
    "    \"day_ahead_pricing\": \"LMP\",\n",
    "    \"ruc_mipgap\": 0.01,\n",
    "    \"symbolic_solver_labels\": True,\n",
    "    \"reserve_factor\": 0.0,\n",
    "    \"deterministic_ruc_solver\": \"gurobi\",\n",
    "    \"output_ruc_solutions\": True,\n",
    "    \"sced_solver\": \"gurobi\",\n",
    "    \"print_sced\": True,\n",
    "    \"enforce_sced_shutdown_ramprate\": True,\n",
    "    \"plugin\": {\n",
    "        \"doubleloop\": {\n",
    "            \"module\": plugin_module,\n",
    "            \"bidding_generator\": \"102_STEAM_3\",\n",
    "        }\n",
    "    }\n",
    "}\n"
   ]
  },
  {
   "cell_type": "markdown",
   "id": "89675ac5",
   "metadata": {},
   "source": [
    "Run Prescient simulator."
   ]
  },
  {
   "cell_type": "code",
   "execution_count": 10,
   "id": "02298741",
   "metadata": {
    "tags": [
     "nbval-skip"
    ]
   },
   "outputs": [
    {
     "name": "stderr",
     "output_type": "stream",
     "text": [
      "INFO:gurobipy.gurobipy:Restricted license - for non-production use only - expires 2023-10-25\n"
     ]
    },
    {
     "name": "stdout",
     "output_type": "stream",
     "text": [
      "Initializing simulation...\n",
      "Did not find reserves.csv; assuming no reserves\n"
     ]
    },
    {
     "name": "stderr",
     "output_type": "stream",
     "text": [
      "WARNING:egret:Did not find reserves.csv; assuming no reserves\n",
      "/home/dguittet/.conda-envs/hybrid/lib/python3.7/site-packages/pandas/io/parsers/base_parser.py:1055: FutureWarning: \n",
      "        Use pd.to_datetime instead.\n",
      "\n",
      "  return generic_parser(date_parser, *date_cols)\n"
     ]
    },
    {
     "name": "stdout",
     "output_type": "stream",
     "text": [
      "Setting default t0 state in RTS-GMLC parser\n"
     ]
    },
    {
     "name": "stderr",
     "output_type": "stream",
     "text": [
      "WARNING:egret:Setting default t0 state in RTS-GMLC parser\n"
     ]
    },
    {
     "name": "stdout",
     "output_type": "stream",
     "text": [
      "Dates to simulate: 2020-07-10 to 2020-07-10\n",
      "RUC activation hours: 0, 4, 8, 12, 16, 20\n",
      "Final RUC date: 2020-07-10\n",
      "Using current day's forecasts for RUC solves\n",
      "Using persistent forecast error model when projecting demand and renewables in SCED\n",
      "\n",
      "\n",
      "Extracting scenario to simulate\n",
      "Ipopt 3.13.2: max_iter=200\n",
      "\n",
      "\n",
      "******************************************************************************\n",
      "This program contains Ipopt, a library for large-scale nonlinear optimization.\n",
      " Ipopt is released as open source code under the Eclipse Public License (EPL).\n",
      "         For more information visit http://projects.coin-or.org/Ipopt\n",
      "\n",
      "This version of Ipopt was compiled from source code available at\n",
      "    https://github.com/IDAES/Ipopt as part of the Institute for the Design of\n",
      "    Advanced Energy Systems Process Systems Engineering Framework (IDAES PSE\n",
      "    Framework) Copyright (c) 2018-2019. See https://github.com/IDAES/idaes-pse.\n",
      "\n",
      "This version of Ipopt was compiled using HSL, a collection of Fortran codes\n",
      "    for large-scale scientific computation.  All technical papers, sales and\n",
      "    publicity material resulting from use of the HSL codes within IPOPT must\n",
      "    contain the following acknowledgement:\n",
      "        HSL, a collection of Fortran codes for large-scale scientific\n",
      "        computation. See http://www.hsl.rl.ac.uk.\n",
      "******************************************************************************\n",
      "\n",
      "This is Ipopt version 3.13.2, running with linear solver ma27.\n",
      "\n",
      "Number of nonzeros in equality constraint Jacobian...:     6388\n",
      "Number of nonzeros in inequality constraint Jacobian.:       56\n",
      "Number of nonzeros in Lagrangian Hessian.............:     1980\n",
      "\n",
      "Total number of variables............................:     2449\n",
      "                     variables with only lower bounds:        4\n",
      "                variables with lower and upper bounds:     1997\n",
      "                     variables with only upper bounds:        4\n",
      "Total number of equality constraints.................:     2427\n",
      "Total number of inequality constraints...............:       32\n",
      "        inequality constraints with only lower bounds:        4\n",
      "   inequality constraints with lower and upper bounds:        0\n",
      "        inequality constraints with only upper bounds:       28\n",
      "\n",
      "iter    objective    inf_pr   inf_du lg(mu)  ||d||  lg(rg) alpha_du alpha_pr  ls\n",
      "   0  2.6320488e+08 1.27e+08 2.46e+01  -1.0 0.00e+00    -  0.00e+00 0.00e+00   0\n",
      "   1r 2.6320488e+08 1.27e+08 9.99e+02   8.0 0.00e+00    -  0.00e+00 1.15e-10R  2\n",
      "   2r 2.6320489e+08 1.37e+08 1.89e+07   8.0 9.61e+07    -  1.99e-03 1.03e-06f  1\n",
      "   3r 2.6320517e+08 1.37e+08 8.11e+06   8.0 2.20e+07    -  5.74e-01 3.97e-03f  1\n",
      "   4r 2.6321040e+08 9.92e+07 6.94e+06   5.2 1.11e+07    -  1.44e-01 9.12e-01f  1\n",
      "   5  2.6320397e+08 9.92e+07 2.46e+01  -1.0 8.01e+11    -  5.91e-09 3.00e-08f  1\n",
      "   6r 2.6320397e+08 9.92e+07 9.99e+02   7.9 0.00e+00    -  0.00e+00 1.57e-10R  2\n",
      "   7r 2.6320397e+08 9.95e+07 1.59e+07   7.9 4.74e+07    -  1.88e-03 1.08e-06f  1\n",
      "   8r 2.6320327e+08 9.91e+07 1.00e+07   5.1 1.03e+07    -  3.71e-01 4.81e-01f  1\n",
      "   9r 2.6320329e+08 1.51e+08 7.66e+06   5.1 7.59e+04   0.0 2.39e-01 1.00e+00f  1\n",
      "iter    objective    inf_pr   inf_du lg(mu)  ||d||  lg(rg) alpha_du alpha_pr  ls\n",
      "  10r 2.6320332e+08 1.68e+08 2.30e+06   5.1 3.27e+03  -0.5 6.99e-01 1.00e+00f  1\n",
      "  11r 2.6320332e+08 1.77e+08 2.18e+06   5.1 2.51e+08    -  5.52e-02 7.18e-03f  1\n",
      "  12r 2.6320325e+08 1.85e+08 2.07e+06   4.4 2.49e+08    -  5.18e-02 4.73e-02f  1\n",
      "  13r 2.6320325e+08 1.85e+08 9.99e+02   7.8 0.00e+00    -  0.00e+00 1.79e-07R  2\n",
      "  14r 2.6320326e+08 1.87e+08 1.84e+06   7.8 2.38e+07    -  6.72e-03 1.71e-05f  2\n",
      "  15r 2.6320325e+08 1.83e+08 1.55e+06   5.0 9.10e+06    -  1.46e-01 2.54e-01f  1\n",
      "  16r 2.6320327e+08 1.81e+08 6.45e+04   5.0 1.36e+03   0.0 9.76e-01 1.00e+00f  1\n",
      "  17r 2.6320338e+08 2.42e+08 1.05e+05   4.3 3.44e+03  -0.5 7.16e-01 1.00e+00f  1\n",
      "  18r 2.6320353e+08 3.04e+08 4.65e+03   4.3 9.08e+03  -1.0 9.94e-01 1.00e+00f  1\n",
      "  19r 2.6320344e+08 3.06e+08 5.26e+03   2.9 5.05e+08    -  4.21e-03 2.68e-03f  1\n",
      "iter    objective    inf_pr   inf_du lg(mu)  ||d||  lg(rg) alpha_du alpha_pr  ls\n",
      "  20r 2.6320344e+08 3.06e+08 3.68e+03   2.9 2.70e+04  -1.4 7.27e-01 2.21e-02f  1\n",
      "  21r 2.6320343e+08 3.03e+08 6.37e+03   2.9 1.10e+04  -1.0 1.00e+00 1.46e-01f  1\n",
      "  22r 2.6320334e+08 3.00e+08 1.10e+03   2.9 5.23e+02   0.3 1.00e+00 1.00e+00f  1\n",
      "  23r 2.6320330e+08 2.85e+08 1.10e+03   2.9 1.57e+03  -0.2 1.00e+00 1.00e+00f  1\n",
      "  24r 2.6320331e+08 2.93e+08 1.10e+03   2.9 2.54e+09    -  5.47e-04 1.53e-04f  1\n",
      "  25r 2.6320332e+08 2.93e+08 1.10e+03   2.9 2.53e+09    -  4.83e-04 3.32e-04f  1\n",
      "  26r 2.6320332e+08 2.93e+08 1.10e+03   2.9 2.53e+09    -  3.03e-04 3.34e-04f  1\n",
      "  27r 2.6320332e+08 2.93e+08 1.10e+03   2.9 4.70e+03  -0.6 1.00e+00 1.19e-02f  1\n",
      "  28r 2.6320332e+08 2.92e+08 1.61e+03   2.9 1.40e+04  -1.1 1.00e+00 1.58e-02f  1\n",
      "  29r 2.6320332e+08 2.74e+08 1.47e+04   2.9 3.86e+04  -1.6 5.89e-02 2.41e-02f  1\n",
      "iter    objective    inf_pr   inf_du lg(mu)  ||d||  lg(rg) alpha_du alpha_pr  ls\n",
      "  30r 2.6320332e+08 2.74e+08 7.76e+03   2.9 2.66e+02   2.5 1.51e-01 8.62e-02f  1\n",
      "  31r 2.6320332e+08 2.74e+08 1.59e+04   2.9 2.43e+02   2.0 3.72e-01 7.46e-02f  1\n",
      "  32r 2.6320332e+08 2.74e+08 1.65e+04   2.9 2.39e+02   1.5 5.71e-01 9.85e-01f  1\n",
      "  33r 2.6320332e+08 2.74e+08 5.55e+03   2.9 1.06e+02   1.0 1.00e+00 9.12e-01f  1\n",
      "  34r 2.6320332e+08 2.73e+08 8.29e+03   2.9 3.17e+02   0.5 1.00e+00 3.62e-01f  1\n",
      "  35r 2.6320332e+08 2.73e+08 8.15e+03   2.9 2.53e+09    -  6.56e-04 4.70e-04f  1\n",
      "  36r 2.6320332e+08 2.73e+08 9.99e+02   7.8 0.00e+00    -  0.00e+00 2.77e-07R  2\n",
      "  37r 2.6320340e+08 2.92e+08 2.41e+06   7.8 4.86e+07    -  5.09e-03 5.92e-04f  1\n",
      "  38r 2.6320347e+08 2.87e+08 2.38e+06   5.7 3.00e+07    -  2.12e-02 9.67e-02f  1\n",
      "  39r 2.6320354e+08 2.01e+08 1.90e+06   5.7 1.22e+05  -2.0 2.09e-01 2.61e-01f  1\n",
      "iter    objective    inf_pr   inf_du lg(mu)  ||d||  lg(rg) alpha_du alpha_pr  ls\n",
      "  40r 2.6320355e+08 1.75e+08 5.14e+05   5.0 2.98e+05  -2.5 7.06e-01 1.11e-01f  1\n",
      "  41r 2.6320362e+08 1.87e+08 1.61e+06   5.0 1.37e+03   1.6 9.16e-03 4.48e-01f  1\n",
      "  42r 2.6320365e+08 1.93e+08 8.43e+05   5.0 1.09e+03   1.1 1.48e-02 1.71e-01f  1\n",
      "  43r 2.6320365e+08 1.93e+08 1.02e+06   5.0 2.31e+03   2.4 4.68e-01 2.69e-03h  1\n",
      "  44r 2.6320378e+08 8.33e+08 1.90e+08   5.0 2.68e+03   1.9 3.50e-02 1.00e+00f  1\n",
      "  45r 2.6320379e+08 7.81e+08 6.88e+07   5.0 9.73e+01   3.3 3.33e-01 1.00e+00f  1\n",
      "  46r 2.6320382e+08 7.86e+08 2.33e+06   5.0 1.78e+01   2.8 9.91e-01 1.00e+00f  1\n",
      "  47r 2.6320379e+08 7.86e+08 4.72e+03   3.6 5.91e+00   2.3 9.95e-01 1.00e+00f  1\n",
      "  48r 2.6320378e+08 7.85e+08 1.04e+03   2.2 1.53e+01   1.8 1.00e+00 1.00e+00f  1\n",
      "  49r 2.6320377e+08 7.85e+08 1.01e+03   2.2 4.44e+01   1.4 1.00e+00 1.00e+00f  1\n",
      "iter    objective    inf_pr   inf_du lg(mu)  ||d||  lg(rg) alpha_du alpha_pr  ls\n",
      "  50r 2.6320376e+08 7.85e+08 1.01e+03   1.5 1.33e+02   0.9 1.00e+00 8.10e-02f  1\n",
      "  51r 2.6320373e+08 7.84e+08 1.00e+03   1.5 3.97e+02   0.4 1.00e+00 9.28e-01f  1\n",
      "  52r 2.6320365e+08 7.82e+08 1.00e+03   1.5 1.19e+03  -0.1 1.00e+00 1.00e+00f  1\n",
      "  53r 2.6320354e+08 7.74e+08 1.00e+03   1.5 3.57e+03  -0.6 1.00e+00 1.00e+00f  1\n",
      "  54r 2.6320346e+08 7.54e+08 1.00e+03   1.5 1.07e+04  -1.0 1.00e+00 1.00e+00f  1\n",
      "  55r 2.6320346e+08 7.54e+08 1.00e+03   1.5 7.72e+11    -  8.27e-06 8.04e-07f  1\n",
      "  56r 2.6320346e+08 7.54e+08 1.00e+03   1.5 9.89e+11    -  7.68e-06 1.21e-06f  1\n",
      "  57r 2.6320346e+08 7.54e+08 1.00e+03   1.5 1.20e+12    -  8.08e-06 7.22e-07f  1\n",
      "  58r 2.6320346e+08 7.54e+08 1.00e+03   1.5 8.47e+11    -  8.58e-06 1.64e-06f  1\n",
      "  59r 2.6320346e+08 7.54e+08 1.00e+03   1.5 9.05e+11    -  8.41e-06 1.35e-06f  1\n",
      "iter    objective    inf_pr   inf_du lg(mu)  ||d||  lg(rg) alpha_du alpha_pr  ls\n",
      "  60r 2.6320346e+08 7.54e+08 1.00e+03   1.5 9.05e+10    -  2.51e-05 1.61e-06f  1\n",
      "  61r 2.6320347e+08 7.53e+08 1.00e+03   1.5 1.32e+10    -  2.59e-05 1.59e-05f  1\n",
      "  62r 2.6320347e+08 7.53e+08 1.00e+03   1.5 1.09e+10    -  9.52e-05 3.29e-06f  1\n",
      "  63r 2.6320347e+08 7.40e+08 1.00e+03   1.5 1.09e+10    -  2.86e-04 9.23e-05f  1\n",
      "  64r 2.6320347e+08 7.12e+08 1.00e+03   1.5 1.09e+10    -  3.73e-04 2.04e-04f  1\n",
      "  65r 2.6320347e+08 7.01e+08 3.02e+03   1.5 1.09e+10    -  9.27e-04 8.02e-05f  1\n",
      "  66r 2.6320347e+08 6.82e+08 5.89e+03   1.5 1.09e+10    -  8.88e-04 1.27e-04f  1\n",
      "  67r 2.6320347e+08 6.82e+08 9.99e+02   7.7 0.00e+00    -  0.00e+00 1.54e-09R  2\n",
      "  68r 2.6320347e+08 6.82e+08 9.27e+06   7.7 1.38e+11    -  2.77e-05 4.35e-06f  2\n",
      "  69r 2.6320354e+08 6.98e+08 6.18e+06   6.3 7.32e+07    -  3.39e-01 1.14e-02f  1\n",
      "iter    objective    inf_pr   inf_du lg(mu)  ||d||  lg(rg) alpha_du alpha_pr  ls\n",
      "  70r 2.6320357e+08 6.65e+08 6.13e+06   4.9 2.63e+08    -  6.40e-03 6.06e-02f  1\n",
      "  71r 2.6320358e+08 6.57e+08 5.24e+06   4.9 1.81e+08    -  1.47e-01 5.84e-03f  1\n",
      "  72r 2.6320394e+08 4.56e+08 5.20e+06   4.9 1.80e+08    -  6.65e-03 1.52e-01f  1\n",
      "  73r 2.6320394e+08 4.56e+08 9.99e+02   7.5 0.00e+00    -  0.00e+00 2.93e-07R  6\n",
      "  74r 2.6320395e+08 4.57e+08 1.18e+06   7.5 1.14e+07    -  3.20e-02 5.24e-05f  3\n",
      "  75r 2.6320396e+08 4.47e+08 1.05e+06   4.7 4.91e+06    -  1.93e-01 1.04e-01f  1\n",
      "  76r 2.6320398e+08 4.48e+08 2.73e+04   4.7 1.00e+03   0.0 9.74e-01 1.00e+00f  1\n",
      "  77r 2.6320399e+08 4.43e+08 3.60e+04   4.7 1.05e+08    -  1.27e-02 4.24e-03f  1\n",
      "  78r 2.6320399e+08 4.41e+08 3.78e+04   4.7 1.04e+08    -  3.69e-03 1.87e-03f  1\n",
      "  79r 2.6320400e+08 4.38e+08 3.96e+04   4.7 1.04e+08    -  4.60e-03 2.74e-03f  1\n",
      "iter    objective    inf_pr   inf_du lg(mu)  ||d||  lg(rg) alpha_du alpha_pr  ls\n",
      "  80r 2.6320401e+08 4.32e+08 7.30e+04   4.7 1.04e+08    -  3.85e-02 5.22e-03f  1\n",
      "  81r 2.6320412e+08 3.67e+08 3.80e+04   4.7 1.03e+08    -  1.68e-02 5.10e-02f  1\n",
      "  82r 2.6320422e+08 3.42e+08 1.48e+05   4.7 9.80e+07    -  1.65e-01 4.40e-02f  1\n",
      "  83r 2.6320422e+08 3.41e+08 3.01e+05   4.7 9.36e+07    -  2.64e-01 7.34e-04f  1\n",
      "  84r 2.6320437e+08 2.93e+08 3.61e+05   4.7 9.34e+07    -  2.78e-01 7.38e-02f  1\n",
      "  85r 2.6320443e+08 2.95e+08 2.99e+05   4.7 3.28e+04   1.3 1.72e-01 1.84e-01f  1\n",
      "  86r 2.6320443e+08 2.95e+08 1.92e+05   4.7 2.91e+04   1.8 3.99e-01 2.85e-03h  1\n",
      "  87r 2.6320451e+08 2.99e+08 2.95e+05   4.7 3.76e+04   1.3 4.30e-01 2.80e-01f  1\n",
      "  88r 2.6320451e+08 2.99e+08 8.59e+05   4.7 2.77e+04   1.7 7.73e-01 1.77e-02h  1\n",
      "  89r 2.6320467e+08 3.06e+08 4.09e+05   4.7 2.77e+04   1.2 1.00e+00 6.15e-01f  1\n",
      "iter    objective    inf_pr   inf_du lg(mu)  ||d||  lg(rg) alpha_du alpha_pr  ls\n",
      "  90r 2.6320466e+08 3.06e+08 3.89e+05   4.0 1.10e+04   0.7 8.99e-01 5.74e-02f  1\n",
      "  91r 2.6320466e+08 3.06e+08 8.37e+05   4.0 1.05e+04   2.1 1.00e+00 3.71e-02h  1\n",
      "  92r 2.6320468e+08 3.07e+08 4.04e+05   4.0 1.01e+04   1.6 1.00e+00 1.00e+00f  1\n",
      "  93r 2.6320463e+08 3.07e+08 3.74e+03   3.3 1.89e+02   1.1 9.95e-01 1.00e+00f  1\n",
      "  94r 2.6320455e+08 3.06e+08 6.99e+03   1.9 2.64e+02   0.6 1.00e+00 1.00e+00f  1\n",
      "  95r 2.6320455e+08 3.06e+08 5.00e+03   1.9 1.24e+01   2.0 1.00e+00 1.00e+00f  1\n",
      "  96r 2.6320455e+08 3.06e+08 1.24e+04   1.9 4.64e+00   2.4 1.00e+00 1.00e+00f  1\n",
      "  97r 2.6320455e+08 3.06e+08 6.66e+03   1.9 1.39e+01   1.9 1.00e+00 1.00e+00f  1\n",
      "  98r 2.6320455e+08 3.06e+08 2.67e+04   1.9 4.18e+01   1.4 1.00e+00 1.00e+00f  1\n",
      "  99r 2.6320454e+08 3.06e+08 1.09e+04   1.9 1.25e+02   1.0 1.00e+00 1.00e+00f  1\n",
      "iter    objective    inf_pr   inf_du lg(mu)  ||d||  lg(rg) alpha_du alpha_pr  ls\n",
      " 100r 2.6320454e+08 3.06e+08 2.72e+04   1.9 1.38e+01   2.3 1.00e+00 1.00e+00f  1\n",
      " 101r 2.6320454e+08 3.06e+08 4.79e+03   1.9 1.90e+01   1.8 1.00e+00 1.00e+00f  1\n",
      " 102r 2.6320453e+08 3.05e+08 1.17e+03   1.9 5.29e+01   1.3 1.00e+00 1.00e+00f  1\n",
      " 103r 2.6320453e+08 3.05e+08 1.17e+03   1.9 1.59e+02   0.9 1.00e+00 1.00e+00f  1\n",
      " 104r 2.6320451e+08 3.05e+08 1.17e+03   1.9 4.76e+02   0.4 1.00e+00 9.86e-01f  1\n",
      " 105r 2.6320451e+08 3.05e+08 1.17e+03   1.9 1.43e+03  -0.1 1.00e+00 3.74e-03f  1\n",
      " 106r 2.6320449e+08 3.05e+08 1.17e+03   1.9 4.29e+03  -0.6 1.00e+00 1.57e-01f  1\n",
      " 107r 2.6320449e+08 3.05e+08 1.17e+03   1.9 1.29e+04  -1.0 1.00e+00 3.04e-03f  1\n",
      " 108r 2.6320449e+08 3.05e+08 1.17e+03   1.9 3.87e+04  -1.5 1.00e+00 3.52e-02f  1\n",
      " 109r 2.6320449e+08 3.06e+08 1.17e+03   1.9 1.17e+05  -2.0 2.00e-01 1.45e-02f  1\n",
      "iter    objective    inf_pr   inf_du lg(mu)  ||d||  lg(rg) alpha_du alpha_pr  ls\n",
      " 110r 2.6320448e+08 3.03e+08 1.17e+03   1.9 3.27e+05  -2.5 6.95e-03 2.69e-03f  1\n",
      " 111r 2.6320448e+08 2.96e+08 1.17e+03   1.9 9.18e+05  -2.9 6.24e-04 1.72e-03f  1\n",
      " 112r 2.6320448e+08 2.95e+08 1.17e+03   1.9 2.61e+09    -  1.59e-03 1.34e-04f  1\n",
      " 113r 2.6320448e+08 2.94e+08 1.78e+03   1.9 2.61e+09    -  2.67e-03 1.33e-04f  1\n",
      " 114r 2.6320448e+08 2.92e+08 4.04e+03   1.9 2.61e+09    -  5.84e-03 2.43e-04f  1\n",
      " 115r 2.6320448e+08 2.89e+08 4.11e+03   1.9 2.60e+09    -  4.75e-04 2.84e-04f  1\n",
      " 116r 2.6320447e+08 2.84e+08 4.21e+03   1.9 2.60e+09    -  7.20e-04 4.34e-04f  1\n",
      " 117r 2.6320447e+08 2.81e+08 4.80e+03   1.9 2.60e+09    -  1.90e-03 3.16e-04f  1\n",
      " 118r 2.6320447e+08 2.81e+08 4.47e+03   1.9 5.60e+03  -0.7 1.26e-01 5.21e-03f  1\n",
      " 119r 2.6320445e+08 2.72e+08 4.71e+03   1.9 1.49e+04  -1.2 4.29e-02 3.00e-02f  1\n",
      "iter    objective    inf_pr   inf_du lg(mu)  ||d||  lg(rg) alpha_du alpha_pr  ls\n",
      " 120r 2.6320445e+08 2.72e+08 4.25e+03   1.9 1.05e+02   1.9 5.83e-01 4.00e-01f  1\n",
      " 121r 2.6320445e+08 2.71e+08 3.80e+03   1.9 9.54e+01   1.5 9.75e-01 3.12e-01f  1\n",
      " 122r 2.6320445e+08 2.71e+08 5.74e+03   1.9 1.48e+02   1.0 1.00e+00 8.63e-03f  1\n",
      " 123r 2.6320445e+08 2.71e+08 2.69e+04   1.9 1.17e+02   1.4 4.69e-02 1.04e-02f  1\n",
      " 124r 2.6320445e+08 2.71e+08 3.83e+04   1.9 1.60e+02   0.9 1.53e-02 4.86e-01f  1\n",
      " 125r 2.6320445e+08 2.71e+08 6.77e+05   1.9 2.58e+01   4.1 1.00e+00 1.05e-03f  1\n",
      " 126r 2.6320445e+08 2.71e+08 2.91e+07   1.9 4.20e+01   3.6 8.56e-01 2.99e-02f  1\n",
      " 127r 2.6320445e+08 2.71e+08 8.03e+06   1.9 4.08e+01   3.1 1.00e+00 8.68e-01f  1\n",
      " 128r 2.6320445e+08 2.71e+08 4.92e+06   1.9 2.22e+01   2.6 2.73e-02 2.55e-01f  1\n",
      " 129r 2.6320445e+08 2.71e+08 4.91e+07   1.9 1.23e+01   6.7 1.00e+00 5.20e-04h  1\n",
      "Error in an AMPL evaluation. Run with \"halt_on_ampl_error yes\" to see details.\n",
      "Warning: Cutting back alpha due to evaluation error\n",
      "iter    objective    inf_pr   inf_du lg(mu)  ||d||  lg(rg) alpha_du alpha_pr  ls\n",
      " 130r 2.6320445e+08 2.71e+08 2.25e+09   1.9 9.04e+00   6.2 1.00e+00 1.45e-02h  2\n",
      " 131r 2.6320445e+08 2.71e+08 8.13e+06   1.9 1.17e+01   5.7 1.00e+00 1.00e+00f  1\n",
      " 132r 2.6320445e+08 2.71e+08 8.41e+06   1.9 7.77e-01   5.2 8.19e-01 1.00e+00f  1\n",
      " 133r 2.6320445e+08 2.71e+08 2.13e+05   1.9 3.47e+00   4.8 9.62e-01 1.00e+00f  1\n",
      " 134r 2.6320445e+08 2.71e+08 3.03e+05   1.9 6.52e+00   4.3 1.00e+00 1.00e+00f  1\n",
      " 135r 2.6320445e+08 2.71e+08 1.12e+05   1.9 9.99e+00   3.8 9.23e-01 1.00e+00f  1\n",
      " 136r 2.6320445e+08 2.71e+08 2.75e+04   1.9 3.82e+00   3.3 1.00e+00 1.00e+00f  1\n",
      " 137r 2.6320445e+08 2.71e+08 4.47e+03   1.9 3.89e+00   2.9 9.70e-01 8.17e-01f  1\n",
      " 138r 2.6320445e+08 2.71e+08 3.49e+03   1.9 4.72e+00   2.4 1.00e+00 2.80e-01f  1\n",
      " 139r 2.6320445e+08 2.71e+08 5.15e+03   1.9 1.41e+01   1.9 9.68e-01 1.55e-01f  1\n",
      "iter    objective    inf_pr   inf_du lg(mu)  ||d||  lg(rg) alpha_du alpha_pr  ls\n",
      " 140r 2.6320445e+08 2.71e+08 1.14e+03   1.9 5.30e+00   2.3 1.00e+00 1.00e+00f  1\n",
      " 141r 2.6320445e+08 2.71e+08 1.14e+03   1.9 1.59e+01   1.9 1.00e+00 1.00e+00f  1\n",
      " 142r 2.6320445e+08 2.71e+08 1.14e+03   1.9 4.77e+01   1.4 1.00e+00 1.36e-01f  1\n",
      " 143r 2.6320445e+08 2.71e+08 1.14e+03   1.9 1.44e+02   0.9 1.00e+00 8.64e-02f  1\n",
      " 144r 2.6320444e+08 2.71e+08 1.14e+03   1.9 4.44e+02   0.4 1.00e+00 5.26e-02f  1\n",
      " 145r 2.6320444e+08 2.71e+08 1.12e+03   1.9 1.30e+03  -0.1 2.94e-01 4.50e-02f  1\n",
      " 146r 2.6320444e+08 2.71e+08 1.12e+03   1.9 5.24e+02   0.4 1.00e+00 6.37e-02f  1\n",
      " 147r 2.6320444e+08 2.71e+08 1.12e+03   1.9 1.62e+03  -0.1 2.20e-01 6.16e-02f  1\n",
      " 148r 2.6320444e+08 2.71e+08 1.12e+03   1.9 4.77e+03  -0.6 2.23e-01 2.29e-02f  1\n",
      " 149r 2.6320444e+08 2.71e+08 1.14e+03   1.9 2.24e+02   0.7 1.00e+00 1.21e-01f  1\n",
      "iter    objective    inf_pr   inf_du lg(mu)  ||d||  lg(rg) alpha_du alpha_pr  ls\n",
      " 150r 2.6320444e+08 2.71e+08 1.15e+03   1.9 6.64e+02   0.3 3.90e-01 1.18e-01f  1\n",
      " 151r 2.6320443e+08 2.71e+08 1.13e+03   1.9 1.88e+03  -0.2 2.35e-01 4.35e-02f  1\n",
      " 152r 2.6320443e+08 2.71e+08 1.08e+03   1.9 7.03e+02   0.2 8.71e-01 6.54e-02f  1\n",
      " 153r 2.6320442e+08 2.71e+08 1.07e+03   1.9 2.04e+03  -0.3 6.62e-02 5.81e-02f  1\n",
      " 154r 2.6320442e+08 2.71e+08 7.27e+03   1.9 7.67e+02   0.2 3.86e-01 3.94e-02f  1\n",
      " 155r 2.6320441e+08 2.74e+08 1.97e+04   1.9 2.88e+02   0.6 6.58e-01 1.27e-01f  1\n",
      " 156r 2.6320432e+08 2.66e+08 2.15e+04   1.9 8.55e+02   0.1 1.76e-01 8.07e-02f  1\n",
      " 157r 2.6320426e+08 2.59e+08 1.94e+04   1.9 5.53e+02   0.5 5.52e-02 6.72e-02f  1\n",
      " 158r 2.6320424e+08 2.57e+08 3.51e+04   1.9 1.23e+02   1.0 5.17e-01 6.92e-02f  1\n",
      " 159r 2.6320420e+08 2.54e+08 3.62e+04   1.9 4.65e+01   1.4 1.00e+00 2.31e-01f  1\n",
      "iter    objective    inf_pr   inf_du lg(mu)  ||d||  lg(rg) alpha_du alpha_pr  ls\n",
      " 160r 2.6320412e+08 2.52e+08 5.06e+04   1.9 1.35e+02   0.9 7.31e-01 1.62e-01f  1\n",
      " 161r 2.6320403e+08 2.49e+08 7.92e+04   1.9 3.71e+02   0.4 2.70e-01 6.95e-02f  1\n",
      " 162r 2.6320400e+08 2.48e+08 1.95e+05   1.9 1.38e+02   0.9 9.28e-01 8.75e-02f  1\n",
      " 163r 2.6320398e+08 2.39e+08 1.70e+05   1.9 4.17e+02   0.4 3.29e-01 1.13e-01f  1\n",
      " 164r 2.6320397e+08 2.37e+08 1.39e+05   1.9 1.55e+02   0.8 1.00e+00 9.32e-02f  1\n",
      " 165r 2.6320396e+08 2.34e+08 8.73e+04   1.9 5.78e+01   1.2 1.00e+00 2.93e-01f  1\n",
      " 166r 2.6320396e+08 2.31e+08 8.04e+04   1.9 2.66e+02   0.8 8.03e-02 7.78e-02f  1\n",
      " 167r 2.6320396e+08 2.31e+08 8.00e+04   1.9 5.03e+02   1.2 2.41e-02 7.98e-03f  1\n",
      " 168r 2.6320396e+08 2.31e+08 7.80e+04   1.9 7.26e+01   1.6 5.77e-02 1.76e-02f  1\n",
      " 169r 2.6320396e+08 2.31e+08 6.47e+04   1.9 8.00e+01   2.0 1.22e-01 4.73e-02f  1\n",
      "iter    objective    inf_pr   inf_du lg(mu)  ||d||  lg(rg) alpha_du alpha_pr  ls\n",
      " 170r 2.6320396e+08 2.31e+08 6.62e+04   1.9 7.02e+01   2.5 4.24e-02 5.72e-02f  1\n",
      " 171r 2.6320396e+08 2.31e+08 8.57e+04   1.9 5.08e+01   2.9 5.96e-02 9.97e-02f  1\n",
      " 172r 2.6320396e+08 2.31e+08 6.71e+04   1.9 2.87e+01   3.3 8.03e-02 6.99e-02f  1\n",
      " 173r 2.6320396e+08 2.31e+08 9.48e+04   1.9 4.59e+01   2.8 2.67e-01 3.97e-01f  1\n",
      " 174r 2.6320395e+08 2.31e+08 5.64e+04   1.9 2.00e+01   2.4 9.58e-01 4.43e-01f  1\n",
      " 175r 2.6320395e+08 2.31e+08 4.65e+04   1.9 1.31e+01   1.9 6.62e-01 1.76e-01f  1\n",
      " 176r 2.6320395e+08 2.30e+08 1.53e+05   1.9 4.00e+01   1.4 1.00e+00 1.04e-01f  1\n",
      " 177r 2.6320395e+08 2.29e+08 1.15e+05   1.9 1.49e+01   1.8 9.52e-01 3.38e-01f  1\n",
      " 178r 2.6320395e+08 2.28e+08 1.21e+05   1.9 7.72e+01   1.4 1.00e+00 1.68e-01f  1\n",
      " 179r 2.6320394e+08 2.27e+08 6.58e+04   1.9 1.70e+01   1.8 1.00e+00 4.25e-01f  1\n",
      "iter    objective    inf_pr   inf_du lg(mu)  ||d||  lg(rg) alpha_du alpha_pr  ls\n",
      " 180r 2.6320394e+08 2.27e+08 6.54e+04   1.9 6.44e+03   1.3 7.07e-03 5.61e-03f  1\n",
      " 181r 2.6320394e+08 2.26e+08 8.69e+04   1.9 2.04e+01   1.7 1.00e+00 2.29e-02f  1\n",
      " 182r 2.6320394e+08 2.26e+08 8.25e+04   1.9 9.17e+02   1.3 6.84e-02 3.72e-02f  1\n",
      " 183r 2.6320394e+08 2.26e+08 7.62e+04   1.9 2.14e+01   1.7 1.00e+00 2.64e-02f  1\n",
      " 184r 2.6320394e+08 2.23e+08 6.27e+04   1.9 6.44e+01   1.2 1.00e+00 2.07e-01f  1\n",
      " 185r 2.6320394e+08 2.10e+08 1.64e+05   1.9 1.93e+02   0.7 9.49e-01 8.80e-02f  1\n",
      " 186r 2.6320394e+08 2.10e+08 1.22e+04   1.9 1.09e+01   3.0 7.63e-01 1.79e-01f  1\n",
      " 187r 2.6320394e+08 2.10e+08 3.21e+04   1.9 1.20e+01   2.5 1.00e+00 2.63e-01f  1\n",
      " 188r 2.6320394e+08 2.09e+08 2.32e+04   1.9 1.02e+01   2.0 1.00e+00 5.03e-01f  1\n",
      " 189r 2.6320394e+08 2.07e+08 2.64e+04   1.9 3.06e+01   1.5 1.00e+00 2.15e-01f  1\n",
      "iter    objective    inf_pr   inf_du lg(mu)  ||d||  lg(rg) alpha_du alpha_pr  ls\n",
      " 190r 2.6320394e+08 2.03e+08 1.44e+05   1.9 9.17e+01   1.1 1.00e+00 1.01e-01f  1\n",
      " 191r 2.6320394e+08 1.99e+08 4.33e+04   1.9 3.44e+01   1.5 1.00e+00 3.49e-01f  1\n",
      " 192r 2.6320394e+08 1.85e+08 1.96e+05   1.9 1.03e+02   1.0 1.00e+00 1.85e-01f  1\n",
      " 193r 2.6320394e+08 1.85e+08 4.47e+05   1.9 8.95e+01   4.1 1.42e-02 1.84e-02h  1\n",
      " 194r 2.6320394e+08 1.85e+08 4.34e+05   1.9 9.35e+00   4.6 6.43e-02 3.59e-02h  1\n",
      " 195r 2.6320394e+08 1.85e+08 3.17e+05   1.9 9.13e+00   4.1 1.30e-01 2.74e-01h  1\n",
      " 196r 2.6320394e+08 1.86e+08 2.42e+05   1.9 7.27e+00   3.6 6.82e-01 3.14e-01f  1\n",
      " 197r 2.6320394e+08 1.86e+08 2.10e+05   1.9 1.86e+01   3.1 5.40e-01 7.11e-02f  1\n",
      " 198r 2.6320394e+08 1.86e+08 1.22e+05   1.9 5.04e+00   2.7 1.00e+00 4.20e-01f  1\n",
      " 199r 2.6320394e+08 1.83e+08 2.77e+03   1.9 6.88e+00   2.2 1.00e+00 1.00e+00f  1\n",
      "iter    objective    inf_pr   inf_du lg(mu)  ||d||  lg(rg) alpha_du alpha_pr  ls\n",
      " 200r 2.6320394e+08 1.80e+08 1.03e+04   1.2 2.95e+01   1.7 7.82e-01 2.70e-01f  1\n",
      "\n",
      "Number of Iterations....: 200\n",
      "\n",
      "                                   (scaled)                 (unscaled)\n",
      "Objective...............:   2.6320394014834476e+08    2.6320394014834476e+08\n",
      "Dual infeasibility......:   1.0324431258664568e+04    1.0324431258664568e+04\n",
      "Constraint violation....:   3.0859154910812795e+07    1.8000638959976041e+08\n",
      "Complementarity.........:   6.2631084426618898e+01    6.2631084426618898e+01\n",
      "Overall NLP error.......:   3.0859154910812795e+07    1.8000638959976041e+08\n",
      "\n",
      "\n",
      "Number of objective function evaluations             = 227\n",
      "Number of objective gradient evaluations             = 14\n",
      "Number of equality constraint evaluations            = 228\n",
      "Number of inequality constraint evaluations          = 227\n",
      "Number of equality constraint Jacobian evaluations   = 207\n",
      "Number of inequality constraint Jacobian evaluations = 207\n",
      "Number of Lagrangian Hessian evaluations             = 200\n",
      "Total CPU secs in IPOPT (w/o function evaluations)   =      4.479\n",
      "Total CPU secs in NLP function evaluations           =    858.796\n",
      "\n",
      "EXIT: Maximum Number of Iterations Exceeded.\n"
     ]
    },
    {
     "name": "stderr",
     "output_type": "stream",
     "text": [
      "WARNING:pyomo.core:Loading a SolverResults object with a warning status into model.name=\"unknown\";\n",
      "  - termination condition: maxIterations\n",
      "  - message from solver: Ipopt 3.13.2\\x3a Maximum Number of Iterations Exceeded.\n"
     ]
    },
    {
     "name": "stdout",
     "output_type": "stream",
     "text": [
      "Calculating PTDF Matrix Factorization\n"
     ]
    },
    {
     "name": "stderr",
     "output_type": "stream",
     "text": [
      "INFO:egret:Calculating PTDF Matrix Factorization\n"
     ]
    },
    {
     "name": "stdout",
     "output_type": "stream",
     "text": [
      "\n",
      "Pyomo model construction time:         0.41\n",
      "\n",
      "Failed to solve deterministic RUC instance - likely because no feasible solution exists!\n",
      "Wrote failed RUC data to file=bad_ruc.json\n"
     ]
    },
    {
     "ename": "GurobiError",
     "evalue": "Model too large for size-limited license; visit https://www.gurobi.com/free-trial for a full license",
     "output_type": "error",
     "traceback": [
      "\u001b[0;31m---------------------------------------------------------------------------\u001b[0m",
      "\u001b[0;31mGurobiError\u001b[0m                               Traceback (most recent call last)",
      "\u001b[0;32m<ipython-input-10-2d0d381a725c>\u001b[0m in \u001b[0;36m<module>\u001b[0;34m\u001b[0m\n\u001b[0;32m----> 1\u001b[0;31m \u001b[0mPrescient\u001b[0m\u001b[0;34m(\u001b[0m\u001b[0;34m)\u001b[0m\u001b[0;34m.\u001b[0m\u001b[0msimulate\u001b[0m\u001b[0;34m(\u001b[0m\u001b[0;34m**\u001b[0m\u001b[0moptions\u001b[0m\u001b[0;34m)\u001b[0m\u001b[0;34m\u001b[0m\u001b[0;34m\u001b[0m\u001b[0m\n\u001b[0m",
      "\u001b[0;32m/lustre/eaglefs/projects/gmihybridsys/dguittet/Prescient/prescient/simulator/prescient.py\u001b[0m in \u001b[0;36msimulate\u001b[0;34m(self, **options)\u001b[0m\n\u001b[1;32m     73\u001b[0m             \u001b[0mself\u001b[0m\u001b[0;34m.\u001b[0m\u001b[0mconfig\u001b[0m\u001b[0;34m.\u001b[0m\u001b[0mset_value\u001b[0m\u001b[0;34m(\u001b[0m\u001b[0moptions\u001b[0m\u001b[0;34m)\u001b[0m\u001b[0;34m\u001b[0m\u001b[0;34m\u001b[0m\u001b[0m\n\u001b[1;32m     74\u001b[0m \u001b[0;34m\u001b[0m\u001b[0m\n\u001b[0;32m---> 75\u001b[0;31m         \u001b[0;32mreturn\u001b[0m \u001b[0mself\u001b[0m\u001b[0;34m.\u001b[0m\u001b[0m_simulate\u001b[0m\u001b[0;34m(\u001b[0m\u001b[0mself\u001b[0m\u001b[0;34m.\u001b[0m\u001b[0mconfig\u001b[0m\u001b[0;34m)\u001b[0m\u001b[0;34m\u001b[0m\u001b[0;34m\u001b[0m\u001b[0m\n\u001b[0m\u001b[1;32m     76\u001b[0m \u001b[0;34m\u001b[0m\u001b[0m\n\u001b[1;32m     77\u001b[0m     \u001b[0;32mdef\u001b[0m \u001b[0m_simulate\u001b[0m\u001b[0;34m(\u001b[0m\u001b[0mself\u001b[0m\u001b[0;34m,\u001b[0m \u001b[0moptions\u001b[0m\u001b[0;34m:\u001b[0m \u001b[0mPrescientConfig\u001b[0m\u001b[0;34m)\u001b[0m\u001b[0;34m:\u001b[0m\u001b[0;34m\u001b[0m\u001b[0;34m\u001b[0m\u001b[0m\n",
      "\u001b[0;32m/lustre/eaglefs/projects/gmihybridsys/dguittet/Prescient/prescient/simulator/prescient.py\u001b[0m in \u001b[0;36m_simulate\u001b[0;34m(self, options)\u001b[0m\n\u001b[1;32m     80\u001b[0m                                 \"If you wish to simulate again create a new Prescient object.\")\n\u001b[1;32m     81\u001b[0m         \u001b[0mself\u001b[0m\u001b[0;34m.\u001b[0m\u001b[0msimulate_called\u001b[0m \u001b[0;34m=\u001b[0m \u001b[0;32mTrue\u001b[0m\u001b[0;34m\u001b[0m\u001b[0;34m\u001b[0m\u001b[0m\n\u001b[0;32m---> 82\u001b[0;31m         \u001b[0;32mreturn\u001b[0m \u001b[0msuper\u001b[0m\u001b[0;34m(\u001b[0m\u001b[0;34m)\u001b[0m\u001b[0;34m.\u001b[0m\u001b[0msimulate\u001b[0m\u001b[0;34m(\u001b[0m\u001b[0moptions\u001b[0m\u001b[0;34m)\u001b[0m\u001b[0;34m\u001b[0m\u001b[0;34m\u001b[0m\u001b[0m\n\u001b[0m\u001b[1;32m     83\u001b[0m \u001b[0;34m\u001b[0m\u001b[0m\n\u001b[1;32m     84\u001b[0m \u001b[0;32mdef\u001b[0m \u001b[0mmain\u001b[0m\u001b[0;34m(\u001b[0m\u001b[0margs\u001b[0m\u001b[0;34m=\u001b[0m\u001b[0;32mNone\u001b[0m\u001b[0;34m)\u001b[0m\u001b[0;34m:\u001b[0m\u001b[0;34m\u001b[0m\u001b[0;34m\u001b[0m\u001b[0m\n",
      "\u001b[0;32m/lustre/eaglefs/projects/gmihybridsys/dguittet/Prescient/prescient/simulator/simulator.py\u001b[0m in \u001b[0;36msimulate\u001b[0;34m(self, options)\u001b[0m\n\u001b[1;32m     93\u001b[0m \u001b[0;34m\u001b[0m\u001b[0m\n\u001b[1;32m     94\u001b[0m         \u001b[0mfirst_time_step\u001b[0m \u001b[0;34m=\u001b[0m \u001b[0mtime_manager\u001b[0m\u001b[0;34m.\u001b[0m\u001b[0mget_first_time_step\u001b[0m\u001b[0;34m(\u001b[0m\u001b[0;34m)\u001b[0m\u001b[0;34m\u001b[0m\u001b[0;34m\u001b[0m\u001b[0m\n\u001b[0;32m---> 95\u001b[0;31m         \u001b[0moracle_manager\u001b[0m\u001b[0;34m.\u001b[0m\u001b[0mcall_initialization_oracle\u001b[0m\u001b[0;34m(\u001b[0m\u001b[0moptions\u001b[0m\u001b[0;34m,\u001b[0m \u001b[0mfirst_time_step\u001b[0m\u001b[0;34m)\u001b[0m\u001b[0;34m\u001b[0m\u001b[0;34m\u001b[0m\u001b[0m\n\u001b[0m\u001b[1;32m     96\u001b[0m \u001b[0;34m\u001b[0m\u001b[0m\n\u001b[1;32m     97\u001b[0m         \u001b[0;32mfor\u001b[0m \u001b[0mtime_step\u001b[0m \u001b[0;32min\u001b[0m \u001b[0mtime_manager\u001b[0m\u001b[0;34m.\u001b[0m\u001b[0mtime_steps\u001b[0m\u001b[0;34m(\u001b[0m\u001b[0;34m)\u001b[0m\u001b[0;34m:\u001b[0m\u001b[0;34m\u001b[0m\u001b[0;34m\u001b[0m\u001b[0m\n",
      "\u001b[0;32m/lustre/eaglefs/projects/gmihybridsys/dguittet/Prescient/prescient/simulator/oracle_manager.py\u001b[0m in \u001b[0;36mcall_initialization_oracle\u001b[0;34m(self, options, time_step)\u001b[0m\n\u001b[1;32m    123\u001b[0m         \u001b[0;31m#################################################################\u001b[0m\u001b[0;34m\u001b[0m\u001b[0;34m\u001b[0m\u001b[0;34m\u001b[0m\u001b[0m\n\u001b[1;32m    124\u001b[0m \u001b[0;34m\u001b[0m\u001b[0m\n\u001b[0;32m--> 125\u001b[0;31m         \u001b[0mself\u001b[0m\u001b[0;34m.\u001b[0m\u001b[0m_generate_pending_ruc\u001b[0m\u001b[0;34m(\u001b[0m\u001b[0moptions\u001b[0m\u001b[0;34m,\u001b[0m \u001b[0mtime_step\u001b[0m\u001b[0;34m.\u001b[0m\u001b[0mdate\u001b[0m\u001b[0;34m,\u001b[0m \u001b[0mtime_step\u001b[0m\u001b[0;34m.\u001b[0m\u001b[0mhour\u001b[0m\u001b[0;34m,\u001b[0m \u001b[0;32mNone\u001b[0m\u001b[0;34m)\u001b[0m\u001b[0;34m\u001b[0m\u001b[0;34m\u001b[0m\u001b[0m\n\u001b[0m\u001b[1;32m    126\u001b[0m         \u001b[0mself\u001b[0m\u001b[0;34m.\u001b[0m\u001b[0mactivate_pending_ruc\u001b[0m\u001b[0;34m(\u001b[0m\u001b[0moptions\u001b[0m\u001b[0;34m)\u001b[0m\u001b[0;34m\u001b[0m\u001b[0;34m\u001b[0m\u001b[0m\n\u001b[1;32m    127\u001b[0m \u001b[0;34m\u001b[0m\u001b[0m\n",
      "\u001b[0;32m/lustre/eaglefs/projects/gmihybridsys/dguittet/Prescient/prescient/simulator/oracle_manager.py\u001b[0m in \u001b[0;36m_generate_pending_ruc\u001b[0;34m(self, options, uc_date, uc_hour, sim_state_for_ruc)\u001b[0m\n\u001b[1;32m    215\u001b[0m                 \u001b[0muc_hour\u001b[0m\u001b[0;34m,\u001b[0m\u001b[0;34m\u001b[0m\u001b[0;34m\u001b[0m\u001b[0m\n\u001b[1;32m    216\u001b[0m                 \u001b[0mdeterministic_ruc_instance\u001b[0m\u001b[0;34m,\u001b[0m\u001b[0;34m\u001b[0m\u001b[0;34m\u001b[0m\u001b[0m\n\u001b[0;32m--> 217\u001b[0;31m                 \u001b[0moptions\u001b[0m\u001b[0;34m.\u001b[0m\u001b[0mcompute_market_settlements\u001b[0m\u001b[0;34m\u001b[0m\u001b[0;34m\u001b[0m\u001b[0m\n\u001b[0m\u001b[1;32m    218\u001b[0m                )\n\u001b[1;32m    219\u001b[0m \u001b[0;34m\u001b[0m\u001b[0m\n",
      "\u001b[0;32m/lustre/eaglefs/projects/gmihybridsys/dguittet/Prescient/prescient/simulator/oracle_manager.py\u001b[0m in \u001b[0;36m_solve_ruc\u001b[0;34m(self, options, uc_date, uc_hour, deterministic_ruc_instance, compute_market_settlements)\u001b[0m\n\u001b[1;32m    164\u001b[0m             \u001b[0mdeterministic_ruc_instance\u001b[0m\u001b[0;34m,\u001b[0m\u001b[0;34m\u001b[0m\u001b[0;34m\u001b[0m\u001b[0m\n\u001b[1;32m    165\u001b[0m             \u001b[0muc_date\u001b[0m\u001b[0;34m,\u001b[0m\u001b[0;34m\u001b[0m\u001b[0;34m\u001b[0m\u001b[0m\n\u001b[0;32m--> 166\u001b[0;31m             \u001b[0muc_hour\u001b[0m\u001b[0;34m\u001b[0m\u001b[0;34m\u001b[0m\u001b[0m\n\u001b[0m\u001b[1;32m    167\u001b[0m         )\n\u001b[1;32m    168\u001b[0m         \u001b[0;32mif\u001b[0m \u001b[0mcompute_market_settlements\u001b[0m\u001b[0;34m:\u001b[0m\u001b[0;34m\u001b[0m\u001b[0;34m\u001b[0m\u001b[0m\n",
      "\u001b[0;32m/lustre/eaglefs/projects/gmihybridsys/dguittet/Prescient/prescient/engine/egret/engine.py\u001b[0m in \u001b[0;36msolve_deterministic_ruc\u001b[0;34m(self, options, ruc_instance, uc_date, uc_hour)\u001b[0m\n\u001b[1;32m    106\u001b[0m         \u001b[0mnetwork_type\u001b[0m \u001b[0;34m=\u001b[0m \u001b[0m_network_type_to_egret_network_constraints\u001b[0m\u001b[0;34m[\u001b[0m\u001b[0moptions\u001b[0m\u001b[0;34m.\u001b[0m\u001b[0mruc_network_type\u001b[0m\u001b[0;34m]\u001b[0m\u001b[0;34m\u001b[0m\u001b[0;34m\u001b[0m\u001b[0m\n\u001b[1;32m    107\u001b[0m         \u001b[0mslack_type\u001b[0m \u001b[0;34m=\u001b[0m \u001b[0m_slack_type_to_egret_slack_type\u001b[0m\u001b[0;34m[\u001b[0m\u001b[0moptions\u001b[0m\u001b[0;34m.\u001b[0m\u001b[0mruc_slack_type\u001b[0m\u001b[0;34m]\u001b[0m\u001b[0;34m\u001b[0m\u001b[0;34m\u001b[0m\u001b[0m\n\u001b[0;32m--> 108\u001b[0;31m         \u001b[0;32mreturn\u001b[0m \u001b[0mself\u001b[0m\u001b[0;34m.\u001b[0m\u001b[0m_p\u001b[0m\u001b[0;34m.\u001b[0m\u001b[0msolve_deterministic_ruc\u001b[0m\u001b[0;34m(\u001b[0m\u001b[0mself\u001b[0m\u001b[0;34m.\u001b[0m\u001b[0m_ruc_solver\u001b[0m\u001b[0;34m,\u001b[0m \u001b[0moptions\u001b[0m\u001b[0;34m,\u001b[0m \u001b[0mruc_instance\u001b[0m\u001b[0;34m,\u001b[0m \u001b[0muc_date\u001b[0m\u001b[0;34m,\u001b[0m \u001b[0muc_hour\u001b[0m\u001b[0;34m,\u001b[0m \u001b[0mnetwork_type\u001b[0m\u001b[0;34m,\u001b[0m \u001b[0mslack_type\u001b[0m\u001b[0;34m,\u001b[0m \u001b[0mself\u001b[0m\u001b[0;34m.\u001b[0m\u001b[0m_ptdf_manager\u001b[0m\u001b[0;34m)\u001b[0m\u001b[0;34m\u001b[0m\u001b[0;34m\u001b[0m\u001b[0m\n\u001b[0m\u001b[1;32m    109\u001b[0m \u001b[0;34m\u001b[0m\u001b[0m\n\u001b[1;32m    110\u001b[0m     def create_and_solve_day_ahead_pricing(self,\n",
      "\u001b[0;32m/lustre/eaglefs/projects/gmihybridsys/dguittet/Prescient/prescient/engine/egret/egret_plugin.py\u001b[0m in \u001b[0;36msolve_deterministic_ruc\u001b[0;34m(solver, options, ruc_instance_for_this_period, this_date, this_hour, network_type, slack_type, ptdf_manager)\u001b[0m\n\u001b[1;32m    285\u001b[0m                                 \u001b[0mslack_type\u001b[0m\u001b[0;34m,\u001b[0m\u001b[0;34m\u001b[0m\u001b[0;34m\u001b[0m\u001b[0m\n\u001b[1;32m    286\u001b[0m                                 ptdf_manager):\n\u001b[0;32m--> 287\u001b[0;31m         \u001b[0mruc_instance_for_this_period\u001b[0m \u001b[0;34m=\u001b[0m \u001b[0mdeterministic_ruc_solver\u001b[0m\u001b[0;34m(\u001b[0m\u001b[0mruc_instance_for_this_period\u001b[0m\u001b[0;34m,\u001b[0m \u001b[0msolver\u001b[0m\u001b[0;34m,\u001b[0m \u001b[0moptions\u001b[0m\u001b[0;34m,\u001b[0m \u001b[0mnetwork_type\u001b[0m\u001b[0;34m,\u001b[0m \u001b[0mslack_type\u001b[0m\u001b[0;34m,\u001b[0m \u001b[0mptdf_manager\u001b[0m\u001b[0;34m)\u001b[0m\u001b[0;34m\u001b[0m\u001b[0;34m\u001b[0m\u001b[0m\n\u001b[0m\u001b[1;32m    288\u001b[0m \u001b[0;34m\u001b[0m\u001b[0m\n\u001b[1;32m    289\u001b[0m         \u001b[0;32mif\u001b[0m \u001b[0moptions\u001b[0m\u001b[0;34m.\u001b[0m\u001b[0mwrite_deterministic_ruc_instances\u001b[0m\u001b[0;34m:\u001b[0m\u001b[0;34m\u001b[0m\u001b[0;34m\u001b[0m\u001b[0m\n",
      "\u001b[0;32m/lustre/eaglefs/projects/gmihybridsys/dguittet/Prescient/prescient/engine/egret/egret_plugin.py\u001b[0m in \u001b[0;36m_solve_deterministic_ruc\u001b[0;34m(deterministic_ruc_data, solver, options, network_type, slack_type, ptdf_manager)\u001b[0m\n\u001b[1;32m    350\u001b[0m                                                    \u001b[0mpyo_model\u001b[0m\u001b[0;34m,\u001b[0m\u001b[0;34m\u001b[0m\u001b[0;34m\u001b[0m\u001b[0m\n\u001b[1;32m    351\u001b[0m                                                    \u001b[0moptions\u001b[0m\u001b[0;34m,\u001b[0m\u001b[0;34m\u001b[0m\u001b[0;34m\u001b[0m\u001b[0m\n\u001b[0;32m--> 352\u001b[0;31m                                                    options.deterministic_ruc_solver_options)\n\u001b[0m\u001b[1;32m    353\u001b[0m         \u001b[0mprint\u001b[0m\u001b[0;34m(\u001b[0m\u001b[0;34m\"Pyomo model solve time:\"\u001b[0m\u001b[0;34m,\u001b[0m\u001b[0mtime\u001b[0m\u001b[0;34m.\u001b[0m\u001b[0mtime\u001b[0m\u001b[0;34m(\u001b[0m\u001b[0;34m)\u001b[0m\u001b[0;34m-\u001b[0m\u001b[0mst\u001b[0m\u001b[0;34m)\u001b[0m\u001b[0;34m\u001b[0m\u001b[0;34m\u001b[0m\u001b[0m\n\u001b[1;32m    354\u001b[0m     \u001b[0;32mexcept\u001b[0m\u001b[0;34m:\u001b[0m\u001b[0;34m\u001b[0m\u001b[0;34m\u001b[0m\u001b[0m\n",
      "\u001b[0;32m/lustre/eaglefs/projects/gmihybridsys/dguittet/Prescient/prescient/engine/egret/egret_plugin.py\u001b[0m in \u001b[0;36mcall_solver\u001b[0;34m(solver, instance, options, solver_options, relaxed, set_instance)\u001b[0m\n\u001b[1;32m     51\u001b[0m     m, results, solver = _solve_unit_commitment(instance, solver, mipgap, None,\n\u001b[1;32m     52\u001b[0m                                                 \u001b[0mtee\u001b[0m\u001b[0;34m,\u001b[0m \u001b[0msymbolic_solver_labels\u001b[0m\u001b[0;34m,\u001b[0m\u001b[0;34m\u001b[0m\u001b[0;34m\u001b[0m\u001b[0m\n\u001b[0;32m---> 53\u001b[0;31m                                                 solver_options, None, relaxed, set_instance=set_instance)\n\u001b[0m\u001b[1;32m     54\u001b[0m \u001b[0;34m\u001b[0m\u001b[0m\n\u001b[1;32m     55\u001b[0m     \u001b[0mmd\u001b[0m \u001b[0;34m=\u001b[0m \u001b[0m_save_uc_results\u001b[0m\u001b[0;34m(\u001b[0m\u001b[0mm\u001b[0m\u001b[0;34m,\u001b[0m \u001b[0mrelaxed\u001b[0m\u001b[0;34m)\u001b[0m\u001b[0;34m\u001b[0m\u001b[0;34m\u001b[0m\u001b[0m\n",
      "\u001b[0;32m/lustre/eaglefs/projects/gmihybridsys/dguittet/Egret/egret/models/unit_commitment.py\u001b[0m in \u001b[0;36m_solve_unit_commitment\u001b[0;34m(m, solver, mipgap, timelimit, solver_tee, symbolic_solver_labels, solver_options, solve_method_options, relaxed, set_instance)\u001b[0m\n\u001b[1;32m   1608\u001b[0m     \u001b[0mnetwork\u001b[0m \u001b[0;34m=\u001b[0m \u001b[0;34m(\u001b[0m\u001b[0;34m'branch'\u001b[0m \u001b[0;32min\u001b[0m \u001b[0mmodel_data\u001b[0m\u001b[0;34m.\u001b[0m\u001b[0mdata\u001b[0m\u001b[0;34m[\u001b[0m\u001b[0;34m'elements'\u001b[0m\u001b[0;34m]\u001b[0m\u001b[0;34m)\u001b[0m \u001b[0;32mand\u001b[0m \u001b[0mbool\u001b[0m\u001b[0;34m(\u001b[0m\u001b[0mlen\u001b[0m\u001b[0;34m(\u001b[0m\u001b[0mmodel_data\u001b[0m\u001b[0;34m.\u001b[0m\u001b[0mdata\u001b[0m\u001b[0;34m[\u001b[0m\u001b[0;34m'elements'\u001b[0m\u001b[0;34m]\u001b[0m\u001b[0;34m[\u001b[0m\u001b[0;34m'branch'\u001b[0m\u001b[0;34m]\u001b[0m\u001b[0;34m)\u001b[0m\u001b[0;34m)\u001b[0m\u001b[0;34m\u001b[0m\u001b[0;34m\u001b[0m\u001b[0m\n\u001b[1;32m   1609\u001b[0m     \u001b[0;32mif\u001b[0m \u001b[0mm\u001b[0m\u001b[0;34m.\u001b[0m\u001b[0mpower_balance\u001b[0m \u001b[0;34m==\u001b[0m \u001b[0;34m'ptdf_power_flow'\u001b[0m \u001b[0;32mand\u001b[0m \u001b[0mm\u001b[0m\u001b[0;34m.\u001b[0m\u001b[0m_ptdf_options\u001b[0m\u001b[0;34m[\u001b[0m\u001b[0;34m'lazy'\u001b[0m\u001b[0;34m]\u001b[0m \u001b[0;32mand\u001b[0m \u001b[0mnetwork\u001b[0m\u001b[0;34m:\u001b[0m\u001b[0;34m\u001b[0m\u001b[0;34m\u001b[0m\u001b[0m\n\u001b[0;32m-> 1610\u001b[0;31m         \u001b[0;32mreturn\u001b[0m \u001b[0m_outer_lazy_ptdf_solve_loop\u001b[0m\u001b[0;34m(\u001b[0m\u001b[0mm\u001b[0m\u001b[0;34m,\u001b[0m \u001b[0msolver\u001b[0m\u001b[0;34m,\u001b[0m \u001b[0mmipgap\u001b[0m\u001b[0;34m,\u001b[0m \u001b[0mtimelimit\u001b[0m\u001b[0;34m,\u001b[0m \u001b[0msolver_tee\u001b[0m\u001b[0;34m,\u001b[0m \u001b[0msymbolic_solver_labels\u001b[0m\u001b[0;34m,\u001b[0m \u001b[0msolver_options\u001b[0m\u001b[0;34m,\u001b[0m \u001b[0msolve_method_options\u001b[0m\u001b[0;34m,\u001b[0m\u001b[0mrelaxed\u001b[0m\u001b[0;34m,\u001b[0m \u001b[0mset_instance\u001b[0m\u001b[0;34m=\u001b[0m\u001b[0mset_instance\u001b[0m \u001b[0;34m)\u001b[0m\u001b[0;34m\u001b[0m\u001b[0;34m\u001b[0m\u001b[0m\n\u001b[0m\u001b[1;32m   1611\u001b[0m     \u001b[0;32melse\u001b[0m\u001b[0;34m:\u001b[0m\u001b[0;34m\u001b[0m\u001b[0;34m\u001b[0m\u001b[0m\n\u001b[1;32m   1612\u001b[0m         \u001b[0;32mreturn\u001b[0m \u001b[0m_solve_model\u001b[0m\u001b[0;34m(\u001b[0m\u001b[0mm\u001b[0m\u001b[0;34m,\u001b[0m\u001b[0msolver\u001b[0m\u001b[0;34m,\u001b[0m\u001b[0mmipgap\u001b[0m\u001b[0;34m,\u001b[0m\u001b[0mtimelimit\u001b[0m\u001b[0;34m,\u001b[0m\u001b[0msolver_tee\u001b[0m\u001b[0;34m,\u001b[0m\u001b[0msymbolic_solver_labels\u001b[0m\u001b[0;34m,\u001b[0m\u001b[0msolver_options\u001b[0m\u001b[0;34m,\u001b[0m\u001b[0msolve_method_options\u001b[0m\u001b[0;34m,\u001b[0m \u001b[0mreturn_solver\u001b[0m\u001b[0;34m=\u001b[0m\u001b[0;32mTrue\u001b[0m\u001b[0;34m,\u001b[0m \u001b[0mset_instance\u001b[0m\u001b[0;34m=\u001b[0m\u001b[0mset_instance\u001b[0m\u001b[0;34m)\u001b[0m\u001b[0;34m\u001b[0m\u001b[0;34m\u001b[0m\u001b[0m\n",
      "\u001b[0;32m/lustre/eaglefs/projects/gmihybridsys/dguittet/Egret/egret/models/unit_commitment.py\u001b[0m in \u001b[0;36m_outer_lazy_ptdf_solve_loop\u001b[0;34m(m, solver, mipgap, timelimit, solver_tee, symbolic_solver_labels, solver_options, solve_method_options, relaxed, set_instance)\u001b[0m\n\u001b[1;32m    915\u001b[0m \u001b[0;34m\u001b[0m\u001b[0m\n\u001b[1;32m    916\u001b[0m         \u001b[0mlpu\u001b[0m\u001b[0;34m.\u001b[0m\u001b[0muc_instance_binary_relaxer\u001b[0m\u001b[0;34m(\u001b[0m\u001b[0mm\u001b[0m\u001b[0;34m,\u001b[0m \u001b[0;32mNone\u001b[0m\u001b[0;34m)\u001b[0m\u001b[0;34m\u001b[0m\u001b[0;34m\u001b[0m\u001b[0m\n\u001b[0;32m--> 917\u001b[0;31m         \u001b[0mm\u001b[0m\u001b[0;34m,\u001b[0m \u001b[0mresults_init\u001b[0m\u001b[0;34m,\u001b[0m \u001b[0msolver\u001b[0m \u001b[0;34m=\u001b[0m \u001b[0m_solve_model\u001b[0m\u001b[0;34m(\u001b[0m\u001b[0mm\u001b[0m\u001b[0;34m,\u001b[0m\u001b[0msolver\u001b[0m\u001b[0;34m,\u001b[0m\u001b[0mmipgap\u001b[0m\u001b[0;34m,\u001b[0m\u001b[0mtimelimit\u001b[0m\u001b[0;34m,\u001b[0m\u001b[0msolver_tee\u001b[0m\u001b[0;34m,\u001b[0m\u001b[0msymbolic_solver_labels\u001b[0m\u001b[0;34m,\u001b[0m\u001b[0msolver_options\u001b[0m\u001b[0;34m,\u001b[0m\u001b[0msolve_method_options\u001b[0m\u001b[0;34m,\u001b[0m \u001b[0mreturn_solver\u001b[0m\u001b[0;34m=\u001b[0m\u001b[0;32mTrue\u001b[0m\u001b[0;34m,\u001b[0m \u001b[0mvars_to_load\u001b[0m \u001b[0;34m=\u001b[0m \u001b[0mvars_to_load\u001b[0m\u001b[0;34m,\u001b[0m \u001b[0mset_instance\u001b[0m\u001b[0;34m=\u001b[0m\u001b[0mset_instance\u001b[0m\u001b[0;34m)\u001b[0m\u001b[0;34m\u001b[0m\u001b[0;34m\u001b[0m\u001b[0m\n\u001b[0m\u001b[1;32m    918\u001b[0m         \u001b[0;32mif\u001b[0m \u001b[0mlp_warmstart_iter_limit\u001b[0m \u001b[0;34m>\u001b[0m \u001b[0;36m0\u001b[0m\u001b[0;34m:\u001b[0m\u001b[0;34m\u001b[0m\u001b[0;34m\u001b[0m\u001b[0m\n\u001b[1;32m    919\u001b[0m             \u001b[0mlp_warmstart_termination_cond\u001b[0m\u001b[0;34m,\u001b[0m \u001b[0mresults\u001b[0m\u001b[0;34m,\u001b[0m \u001b[0mlp_warmstart_iterations\u001b[0m \u001b[0;34m=\u001b[0m\u001b[0;31m \u001b[0m\u001b[0;31m\\\u001b[0m\u001b[0;34m\u001b[0m\u001b[0;34m\u001b[0m\u001b[0m\n",
      "\u001b[0;32m/lustre/eaglefs/projects/gmihybridsys/dguittet/Egret/egret/common/solver_interface.py\u001b[0m in \u001b[0;36m_solve_model\u001b[0;34m(model, solver, mipgap, timelimit, solver_tee, symbolic_solver_labels, solver_options, solve_method_options, return_solver, vars_to_load, set_instance)\u001b[0m\n\u001b[1;32m    151\u001b[0m         \u001b[0;32mif\u001b[0m \u001b[0mset_instance\u001b[0m\u001b[0;34m:\u001b[0m\u001b[0;34m\u001b[0m\u001b[0;34m\u001b[0m\u001b[0m\n\u001b[1;32m    152\u001b[0m             \u001b[0msolver\u001b[0m\u001b[0;34m.\u001b[0m\u001b[0mset_instance\u001b[0m\u001b[0;34m(\u001b[0m\u001b[0mmodel\u001b[0m\u001b[0;34m,\u001b[0m \u001b[0msymbolic_solver_labels\u001b[0m\u001b[0;34m=\u001b[0m\u001b[0msymbolic_solver_labels\u001b[0m\u001b[0;34m)\u001b[0m\u001b[0;34m\u001b[0m\u001b[0;34m\u001b[0m\u001b[0m\n\u001b[0;32m--> 153\u001b[0;31m         \u001b[0mresults\u001b[0m \u001b[0;34m=\u001b[0m \u001b[0msolver\u001b[0m\u001b[0;34m.\u001b[0m\u001b[0msolve\u001b[0m\u001b[0;34m(\u001b[0m\u001b[0mmodel\u001b[0m\u001b[0;34m,\u001b[0m \u001b[0mtee\u001b[0m\u001b[0;34m=\u001b[0m\u001b[0msolver_tee\u001b[0m\u001b[0;34m,\u001b[0m \u001b[0mload_solutions\u001b[0m\u001b[0;34m=\u001b[0m\u001b[0;32mFalse\u001b[0m\u001b[0;34m,\u001b[0m \u001b[0msave_results\u001b[0m\u001b[0;34m=\u001b[0m\u001b[0;32mFalse\u001b[0m\u001b[0;34m,\u001b[0m \u001b[0;34m**\u001b[0m\u001b[0msolve_method_options\u001b[0m\u001b[0;34m)\u001b[0m\u001b[0;34m\u001b[0m\u001b[0;34m\u001b[0m\u001b[0m\n\u001b[0m\u001b[1;32m    154\u001b[0m     \u001b[0;32melse\u001b[0m\u001b[0;34m:\u001b[0m\u001b[0;34m\u001b[0m\u001b[0;34m\u001b[0m\u001b[0m\n\u001b[1;32m    155\u001b[0m         results = solver.solve(model, tee=solver_tee, \\\n",
      "\u001b[0;32m~/.conda-envs/hybrid/lib/python3.7/site-packages/pyomo/solvers/plugins/solvers/persistent_solver.py\u001b[0m in \u001b[0;36msolve\u001b[0;34m(self, *args, **kwds)\u001b[0m\n\u001b[1;32m    466\u001b[0m                 \u001b[0mself\u001b[0m\u001b[0;34m.\u001b[0m\u001b[0m_initialize_callbacks\u001b[0m\u001b[0;34m(\u001b[0m\u001b[0mself\u001b[0m\u001b[0;34m.\u001b[0m\u001b[0m_pyomo_model\u001b[0m\u001b[0;34m)\u001b[0m\u001b[0;34m\u001b[0m\u001b[0;34m\u001b[0m\u001b[0m\n\u001b[1;32m    467\u001b[0m \u001b[0;34m\u001b[0m\u001b[0m\n\u001b[0;32m--> 468\u001b[0;31m             \u001b[0m_status\u001b[0m \u001b[0;34m=\u001b[0m \u001b[0mself\u001b[0m\u001b[0;34m.\u001b[0m\u001b[0m_apply_solver\u001b[0m\u001b[0;34m(\u001b[0m\u001b[0;34m)\u001b[0m\u001b[0;34m\u001b[0m\u001b[0;34m\u001b[0m\u001b[0m\n\u001b[0m\u001b[1;32m    469\u001b[0m             \u001b[0;32mif\u001b[0m \u001b[0mhasattr\u001b[0m\u001b[0;34m(\u001b[0m\u001b[0mself\u001b[0m\u001b[0;34m,\u001b[0m \u001b[0;34m'_transformation_data'\u001b[0m\u001b[0;34m)\u001b[0m\u001b[0;34m:\u001b[0m\u001b[0;34m\u001b[0m\u001b[0;34m\u001b[0m\u001b[0m\n\u001b[1;32m    470\u001b[0m                 \u001b[0;32mdel\u001b[0m \u001b[0mself\u001b[0m\u001b[0;34m.\u001b[0m\u001b[0m_transformation_data\u001b[0m\u001b[0;34m\u001b[0m\u001b[0;34m\u001b[0m\u001b[0m\n",
      "\u001b[0;32m~/.conda-envs/hybrid/lib/python3.7/site-packages/pyomo/solvers/plugins/solvers/gurobi_direct.py\u001b[0m in \u001b[0;36m_apply_solver\u001b[0;34m(self)\u001b[0m\n\u001b[1;32m    200\u001b[0m                     \u001b[0mself\u001b[0m\u001b[0;34m.\u001b[0m\u001b[0m_solver_model\u001b[0m\u001b[0;34m.\u001b[0m\u001b[0msetParam\u001b[0m\u001b[0;34m(\u001b[0m\u001b[0mgurobipy\u001b[0m\u001b[0;34m.\u001b[0m\u001b[0mGRB\u001b[0m\u001b[0;34m.\u001b[0m\u001b[0mParam\u001b[0m\u001b[0;34m.\u001b[0m\u001b[0mQCPDual\u001b[0m\u001b[0;34m,\u001b[0m \u001b[0;36m1\u001b[0m\u001b[0;34m)\u001b[0m\u001b[0;34m\u001b[0m\u001b[0;34m\u001b[0m\u001b[0m\n\u001b[1;32m    201\u001b[0m \u001b[0;34m\u001b[0m\u001b[0m\n\u001b[0;32m--> 202\u001b[0;31m         \u001b[0mself\u001b[0m\u001b[0;34m.\u001b[0m\u001b[0m_solver_model\u001b[0m\u001b[0;34m.\u001b[0m\u001b[0moptimize\u001b[0m\u001b[0;34m(\u001b[0m\u001b[0mself\u001b[0m\u001b[0;34m.\u001b[0m\u001b[0m_callback\u001b[0m\u001b[0;34m)\u001b[0m\u001b[0;34m\u001b[0m\u001b[0;34m\u001b[0m\u001b[0m\n\u001b[0m\u001b[1;32m    203\u001b[0m         \u001b[0mself\u001b[0m\u001b[0;34m.\u001b[0m\u001b[0m_needs_updated\u001b[0m \u001b[0;34m=\u001b[0m \u001b[0;32mFalse\u001b[0m\u001b[0;34m\u001b[0m\u001b[0;34m\u001b[0m\u001b[0m\n\u001b[1;32m    204\u001b[0m \u001b[0;34m\u001b[0m\u001b[0m\n",
      "\u001b[0;32msrc/gurobipy/model.pxi\u001b[0m in \u001b[0;36mgurobipy.Model.optimize\u001b[0;34m()\u001b[0m\n",
      "\u001b[0;31mGurobiError\u001b[0m: Model too large for size-limited license; visit https://www.gurobi.com/free-trial for a full license"
     ]
    }
   ],
   "source": [
    "Prescient().simulate(**options)"
   ]
  }
 ],
 "metadata": {
  "kernelspec": {
   "display_name": "Python 3.7.10 ('hybrid')",
   "language": "python",
   "name": "python3"
  },
  "language_info": {
   "codemirror_mode": {
    "name": "ipython",
    "version": 3
   },
   "file_extension": ".py",
   "mimetype": "text/x-python",
   "name": "python",
   "nbconvert_exporter": "python",
   "pygments_lexer": "ipython3",
   "version": "3.7.10"
  },
  "vscode": {
   "interpreter": {
    "hash": "5c77e5b389361b2ebad54d90c2eefe972bae596e1ceaa2c365334e88b42fd862"
   }
  }
 },
 "nbformat": 4,
 "nbformat_minor": 5
}
