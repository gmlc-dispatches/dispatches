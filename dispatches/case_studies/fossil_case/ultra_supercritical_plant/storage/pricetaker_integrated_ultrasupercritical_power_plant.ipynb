{
 "cells": [
  {
   "cell_type": "markdown",
   "id": "ce70ecff",
   "metadata": {},
   "source": [
    "# Market Analysis with Integrated Ultra-supercritical Power Plant Model: Pricetaker Assumption"
   ]
  },
  {
   "cell_type": "markdown",
   "id": "d8c785bb",
   "metadata": {},
   "source": [
    "Author: Naresh Susarla (naresh.susarla@netl.doe.gov)"
   ]
  },
  {
   "cell_type": "markdown",
   "id": "e11cca0a",
   "metadata": {},
   "source": [
    "This notebook presents a market analysis considering the pricetaker assumption for the integrated system of ultra-supercritical power plant and Solar salt as the storage fluid in thermal energy storage system. The electricity prices or LMP (locational marginal prices) are given and remain constant through the assumed time horizon. The prices used in this study are obtained from a synthetic database, i.e. RTS-GMLC."
   ]
  },
  {
   "cell_type": "markdown",
   "id": "28dbb567",
   "metadata": {},
   "source": [
    "To start this analysis, first import all packages and libraries required."
   ]
  },
  {
   "cell_type": "code",
   "execution_count": 1,
   "id": "daf2ca9d",
   "metadata": {},
   "outputs": [],
   "source": [
    "from pyomo.environ import Param, Objective, Expression, SolverFactory, value, Constraint\n",
    "import numpy as np\n",
    "from dispatches.case_studies.fossil_case.ultra_supercritical_plant.storage.\\\n",
    "    multiperiod_integrated_storage_usc import create_multiperiod_usc_model\n",
    "\n",
    "# For plots\n",
    "from matplotlib import pyplot as plt\n",
    "import matplotlib\n",
    "matplotlib.rc('font', size=24)\n",
    "plt.rc('axes', titlesize=24)"
   ]
  },
  {
   "cell_type": "markdown",
   "id": "707b052f",
   "metadata": {},
   "source": [
    "Get the LMP data from a database or define a list of electricity prices. In this analysis, we define a list and populate it with custom electricity prices. This list is named `price`."
   ]
  },
  {
   "cell_type": "code",
   "execution_count": 2,
   "id": "ebd1dfae",
   "metadata": {},
   "outputs": [],
   "source": [
    "# Select LMP source data and scaling factor\n",
    "use_rts_data = False\n",
    "use_mod_rts_data = True\n",
    "if use_rts_data:\n",
    "    print('>>>>>> Using RTS lmp data')\n",
    "    with open('rts_results_all_prices_base_case.npy', 'rb') as f:\n",
    "        price = np.load(f)\n",
    "elif use_mod_rts_data:\n",
    "    price = [22.9684, 21.1168, 20.4, 20.419,\n",
    "             20.419, 21.2877, 23.07, 25,\n",
    "             18.4634, 0, 0, 0,\n",
    "             0, 0, 0, 0,\n",
    "             19.0342, 23.07, 200, 200,\n",
    "             200, 200, 200, 200]\n",
    "else:\n",
    "    print('>>>>>> Using NREL lmp data')\n",
    "    price = np.load(\"nrel_scenario_average_hourly.npy\")\n",
    "\n",
    "if use_rts_data:\n",
    "    lmp = price[0:number_hours].tolist()\n",
    "elif use_mod_rts_data:\n",
    "    lmp = price"
   ]
  },
  {
   "cell_type": "markdown",
   "id": "d4dc74cf",
   "metadata": {},
   "source": [
    "Define the time horizon and period for the market analysis using the pricetaker assumption and add the initial status of the Solar salt storage tank."
   ]
  },
  {
   "cell_type": "code",
   "execution_count": 3,
   "id": "03940f6a",
   "metadata": {},
   "outputs": [],
   "source": [
    "# Add number of days and hours per week\n",
    "ndays = 1\n",
    "nweeks = 1\n",
    "number_hours = 24 * ndays\n",
    "n_time_points = nweeks * number_hours\n",
    "\n",
    "# Add status for storage tanks in kg\n",
    "tank_status = \"hot_empty\"\n",
    "tank_min = 1\n",
    "tank_max = 6739292"
   ]
  },
  {
   "cell_type": "markdown",
   "id": "6dabb79d",
   "metadata": {},
   "source": [
    "Construct a time-indexed multiperiod model using the multiperiod method with the integrated ultra-supercritical power plant. During this step, the model is initialized for each time period."
   ]
  },
  {
   "cell_type": "code",
   "execution_count": 4,
   "id": "5994b7aa",
   "metadata": {},
   "outputs": [
    {
     "name": "stdout",
     "output_type": "stream",
     "text": [
      "[+   0.00] Beginning the formulation of the multiperiod optimization problem.\n",
      "2022-10-28 12:21:00 [INFO] idaes.apps.grid_integration.multiperiod.multiperiod: ...Constructing the flowsheet model for period[1]\n"
     ]
    },
    {
     "name": "stderr",
     "output_type": "stream",
     "text": [
      "INFO:idaes.apps.grid_integration.multiperiod.multiperiod:...Constructing the flowsheet model for period[1]\n"
     ]
    },
    {
     "name": "stdout",
     "output_type": "stream",
     "text": [
      "2022-10-28 12:21:04 [INFO] idaes.apps.grid_integration.multiperiod.multiperiod: ...Constructing the flowsheet model for period[2]\n"
     ]
    },
    {
     "name": "stderr",
     "output_type": "stream",
     "text": [
      "INFO:idaes.apps.grid_integration.multiperiod.multiperiod:...Constructing the flowsheet model for period[2]\n"
     ]
    },
    {
     "name": "stdout",
     "output_type": "stream",
     "text": [
      "2022-10-28 12:21:08 [INFO] idaes.apps.grid_integration.multiperiod.multiperiod: ...Constructing the flowsheet model for period[3]\n"
     ]
    },
    {
     "name": "stderr",
     "output_type": "stream",
     "text": [
      "INFO:idaes.apps.grid_integration.multiperiod.multiperiod:...Constructing the flowsheet model for period[3]\n"
     ]
    },
    {
     "name": "stdout",
     "output_type": "stream",
     "text": [
      "2022-10-28 12:21:12 [INFO] idaes.apps.grid_integration.multiperiod.multiperiod: ...Constructing the flowsheet model for period[4]\n"
     ]
    },
    {
     "name": "stderr",
     "output_type": "stream",
     "text": [
      "INFO:idaes.apps.grid_integration.multiperiod.multiperiod:...Constructing the flowsheet model for period[4]\n"
     ]
    },
    {
     "name": "stdout",
     "output_type": "stream",
     "text": [
      "2022-10-28 12:21:16 [INFO] idaes.apps.grid_integration.multiperiod.multiperiod: ...Constructing the flowsheet model for period[5]\n"
     ]
    },
    {
     "name": "stderr",
     "output_type": "stream",
     "text": [
      "INFO:idaes.apps.grid_integration.multiperiod.multiperiod:...Constructing the flowsheet model for period[5]\n"
     ]
    },
    {
     "name": "stdout",
     "output_type": "stream",
     "text": [
      "2022-10-28 12:21:20 [INFO] idaes.apps.grid_integration.multiperiod.multiperiod: ...Constructing the flowsheet model for period[6]\n"
     ]
    },
    {
     "name": "stderr",
     "output_type": "stream",
     "text": [
      "INFO:idaes.apps.grid_integration.multiperiod.multiperiod:...Constructing the flowsheet model for period[6]\n"
     ]
    },
    {
     "name": "stdout",
     "output_type": "stream",
     "text": [
      "2022-10-28 12:21:24 [INFO] idaes.apps.grid_integration.multiperiod.multiperiod: ...Constructing the flowsheet model for period[7]\n"
     ]
    },
    {
     "name": "stderr",
     "output_type": "stream",
     "text": [
      "INFO:idaes.apps.grid_integration.multiperiod.multiperiod:...Constructing the flowsheet model for period[7]\n"
     ]
    },
    {
     "name": "stdout",
     "output_type": "stream",
     "text": [
      "2022-10-28 12:21:28 [INFO] idaes.apps.grid_integration.multiperiod.multiperiod: ...Constructing the flowsheet model for period[8]\n"
     ]
    },
    {
     "name": "stderr",
     "output_type": "stream",
     "text": [
      "INFO:idaes.apps.grid_integration.multiperiod.multiperiod:...Constructing the flowsheet model for period[8]\n"
     ]
    },
    {
     "name": "stdout",
     "output_type": "stream",
     "text": [
      "2022-10-28 12:21:31 [INFO] idaes.apps.grid_integration.multiperiod.multiperiod: ...Constructing the flowsheet model for period[9]\n"
     ]
    },
    {
     "name": "stderr",
     "output_type": "stream",
     "text": [
      "INFO:idaes.apps.grid_integration.multiperiod.multiperiod:...Constructing the flowsheet model for period[9]\n"
     ]
    },
    {
     "name": "stdout",
     "output_type": "stream",
     "text": [
      "2022-10-28 12:21:36 [INFO] idaes.apps.grid_integration.multiperiod.multiperiod: ...Constructing the flowsheet model for period[10]\n"
     ]
    },
    {
     "name": "stderr",
     "output_type": "stream",
     "text": [
      "INFO:idaes.apps.grid_integration.multiperiod.multiperiod:...Constructing the flowsheet model for period[10]\n"
     ]
    },
    {
     "name": "stdout",
     "output_type": "stream",
     "text": [
      "2022-10-28 12:21:39 [INFO] idaes.apps.grid_integration.multiperiod.multiperiod: ...Constructing the flowsheet model for period[11]\n"
     ]
    },
    {
     "name": "stderr",
     "output_type": "stream",
     "text": [
      "INFO:idaes.apps.grid_integration.multiperiod.multiperiod:...Constructing the flowsheet model for period[11]\n"
     ]
    },
    {
     "name": "stdout",
     "output_type": "stream",
     "text": [
      "2022-10-28 12:21:43 [INFO] idaes.apps.grid_integration.multiperiod.multiperiod: ...Constructing the flowsheet model for period[12]\n"
     ]
    },
    {
     "name": "stderr",
     "output_type": "stream",
     "text": [
      "INFO:idaes.apps.grid_integration.multiperiod.multiperiod:...Constructing the flowsheet model for period[12]\n"
     ]
    },
    {
     "name": "stdout",
     "output_type": "stream",
     "text": [
      "2022-10-28 12:21:47 [INFO] idaes.apps.grid_integration.multiperiod.multiperiod: ...Constructing the flowsheet model for period[13]\n"
     ]
    },
    {
     "name": "stderr",
     "output_type": "stream",
     "text": [
      "INFO:idaes.apps.grid_integration.multiperiod.multiperiod:...Constructing the flowsheet model for period[13]\n"
     ]
    },
    {
     "name": "stdout",
     "output_type": "stream",
     "text": [
      "2022-10-28 12:21:51 [INFO] idaes.apps.grid_integration.multiperiod.multiperiod: ...Constructing the flowsheet model for period[14]\n"
     ]
    },
    {
     "name": "stderr",
     "output_type": "stream",
     "text": [
      "INFO:idaes.apps.grid_integration.multiperiod.multiperiod:...Constructing the flowsheet model for period[14]\n"
     ]
    },
    {
     "name": "stdout",
     "output_type": "stream",
     "text": [
      "2022-10-28 12:21:54 [INFO] idaes.apps.grid_integration.multiperiod.multiperiod: ...Constructing the flowsheet model for period[15]\n"
     ]
    },
    {
     "name": "stderr",
     "output_type": "stream",
     "text": [
      "INFO:idaes.apps.grid_integration.multiperiod.multiperiod:...Constructing the flowsheet model for period[15]\n"
     ]
    },
    {
     "name": "stdout",
     "output_type": "stream",
     "text": [
      "2022-10-28 12:21:59 [INFO] idaes.apps.grid_integration.multiperiod.multiperiod: ...Constructing the flowsheet model for period[16]\n"
     ]
    },
    {
     "name": "stderr",
     "output_type": "stream",
     "text": [
      "INFO:idaes.apps.grid_integration.multiperiod.multiperiod:...Constructing the flowsheet model for period[16]\n"
     ]
    },
    {
     "name": "stdout",
     "output_type": "stream",
     "text": [
      "2022-10-28 12:22:03 [INFO] idaes.apps.grid_integration.multiperiod.multiperiod: ...Constructing the flowsheet model for period[17]\n"
     ]
    },
    {
     "name": "stderr",
     "output_type": "stream",
     "text": [
      "INFO:idaes.apps.grid_integration.multiperiod.multiperiod:...Constructing the flowsheet model for period[17]\n"
     ]
    },
    {
     "name": "stdout",
     "output_type": "stream",
     "text": [
      "2022-10-28 12:22:06 [INFO] idaes.apps.grid_integration.multiperiod.multiperiod: ...Constructing the flowsheet model for period[18]\n"
     ]
    },
    {
     "name": "stderr",
     "output_type": "stream",
     "text": [
      "INFO:idaes.apps.grid_integration.multiperiod.multiperiod:...Constructing the flowsheet model for period[18]\n"
     ]
    },
    {
     "name": "stdout",
     "output_type": "stream",
     "text": [
      "2022-10-28 12:22:10 [INFO] idaes.apps.grid_integration.multiperiod.multiperiod: ...Constructing the flowsheet model for period[19]\n"
     ]
    },
    {
     "name": "stderr",
     "output_type": "stream",
     "text": [
      "INFO:idaes.apps.grid_integration.multiperiod.multiperiod:...Constructing the flowsheet model for period[19]\n"
     ]
    },
    {
     "name": "stdout",
     "output_type": "stream",
     "text": [
      "2022-10-28 12:22:15 [INFO] idaes.apps.grid_integration.multiperiod.multiperiod: ...Constructing the flowsheet model for period[20]\n"
     ]
    },
    {
     "name": "stderr",
     "output_type": "stream",
     "text": [
      "INFO:idaes.apps.grid_integration.multiperiod.multiperiod:...Constructing the flowsheet model for period[20]\n"
     ]
    },
    {
     "name": "stdout",
     "output_type": "stream",
     "text": [
      "2022-10-28 12:22:18 [INFO] idaes.apps.grid_integration.multiperiod.multiperiod: ...Constructing the flowsheet model for period[21]\n"
     ]
    },
    {
     "name": "stderr",
     "output_type": "stream",
     "text": [
      "INFO:idaes.apps.grid_integration.multiperiod.multiperiod:...Constructing the flowsheet model for period[21]\n"
     ]
    },
    {
     "name": "stdout",
     "output_type": "stream",
     "text": [
      "2022-10-28 12:22:22 [INFO] idaes.apps.grid_integration.multiperiod.multiperiod: ...Constructing the flowsheet model for period[22]\n"
     ]
    },
    {
     "name": "stderr",
     "output_type": "stream",
     "text": [
      "INFO:idaes.apps.grid_integration.multiperiod.multiperiod:...Constructing the flowsheet model for period[22]\n"
     ]
    },
    {
     "name": "stdout",
     "output_type": "stream",
     "text": [
      "2022-10-28 12:22:26 [INFO] idaes.apps.grid_integration.multiperiod.multiperiod: ...Constructing the flowsheet model for period[23]\n"
     ]
    },
    {
     "name": "stderr",
     "output_type": "stream",
     "text": [
      "INFO:idaes.apps.grid_integration.multiperiod.multiperiod:...Constructing the flowsheet model for period[23]\n"
     ]
    },
    {
     "name": "stdout",
     "output_type": "stream",
     "text": [
      "2022-10-28 12:22:31 [INFO] idaes.apps.grid_integration.multiperiod.multiperiod: ...Constructing the flowsheet model for period[24]\n"
     ]
    },
    {
     "name": "stderr",
     "output_type": "stream",
     "text": [
      "INFO:idaes.apps.grid_integration.multiperiod.multiperiod:...Constructing the flowsheet model for period[24]\n"
     ]
    },
    {
     "name": "stdout",
     "output_type": "stream",
     "text": [
      "[+  94.80] Completed the formulation of the multiperiod optimization problem.\n",
      "2022-10-28 12:22:43 [INFO] idaes.init.fs.boiler.control_volume: Initialization Complete\n",
      "2022-10-28 12:22:43 [INFO] idaes.init.fs.boiler: Initialization Complete: optimal - Optimal Solution Found\n",
      "2022-10-28 12:22:43 [INFO] idaes.init.fs.turbine_splitter[1]: Initialization Complete: optimal - Optimal Solution Found\n",
      "2022-10-28 12:22:43 [INFO] idaes.init.fs.turbine_splitter[2]: Initialization Complete: optimal - Optimal Solution Found\n",
      "2022-10-28 12:22:43 [INFO] idaes.init.fs.reheater[1].control_volume: Initialization Complete\n",
      "2022-10-28 12:22:43 [INFO] idaes.init.fs.reheater[1]: Initialization Complete: optimal - Optimal Solution Found\n",
      "2022-10-28 12:22:43 [INFO] idaes.init.fs.turbine_splitter[3]: Initialization Complete: optimal - Optimal Solution Found\n",
      "2022-10-28 12:22:43 [INFO] idaes.init.fs.turbine_splitter[4]: Initialization Complete: optimal - Optimal Solution Found\n",
      "2022-10-28 12:22:43 [INFO] idaes.init.fs.reheater[2].control_volume: Initialization Complete\n",
      "2022-10-28 12:22:43 [INFO] idaes.init.fs.reheater[2]: Initialization Complete: optimal - Optimal Solution Found\n",
      "2022-10-28 12:22:43 [INFO] idaes.init.fs.turbine_splitter[5]: Initialization Complete: optimal - Optimal Solution Found\n",
      "2022-10-28 12:22:44 [INFO] idaes.init.fs.turbine_splitter[6]: Initialization Complete: optimal - Optimal Solution Found\n",
      "2022-10-28 12:22:44 [INFO] idaes.init.fs.turbine_splitter[7]: Initialization Complete: optimal - Optimal Solution Found\n",
      "2022-10-28 12:22:44 [INFO] idaes.init.fs.turbine_splitter[8]: Initialization Complete: optimal - Optimal Solution Found\n",
      "2022-10-28 12:22:44 [INFO] idaes.init.fs.turbine_splitter[9]: Initialization Complete: optimal - Optimal Solution Found\n",
      "2022-10-28 12:22:44 [INFO] idaes.init.fs.turbine_splitter[10]: Initialization Complete: optimal - Optimal Solution Found\n",
      "2022-10-28 12:22:44 [INFO] idaes.init.fs.condenser_mix: Initialization Complete: optimal - Optimal Solution Found\n",
      "2022-10-28 12:22:44 [INFO] idaes.init.fs.condenser.control_volume: Initialization Complete\n",
      "2022-10-28 12:22:44 [INFO] idaes.init.fs.condenser: Initialization Complete: optimal - Optimal Solution Found\n",
      "2022-10-28 12:22:45 [INFO] idaes.init.fs.fwh_mixer[1]: Initialization Complete: optimal - Optimal Solution Found\n",
      "2022-10-28 12:22:45 [INFO] idaes.init.fs.fwh[1].hot_side: Initialization Complete\n",
      "2022-10-28 12:22:45 [INFO] idaes.init.fs.fwh[1].cold_side: Initialization Complete\n",
      "2022-10-28 12:22:45 [INFO] idaes.init.fs.fwh[1]: Initialization Completed, optimal - Optimal Solution Found\n",
      "2022-10-28 12:22:45 [INFO] idaes.init.fs.fwh_mixer[2]: Initialization Complete: optimal - Optimal Solution Found\n",
      "2022-10-28 12:22:45 [INFO] idaes.init.fs.fwh[2].hot_side: Initialization Complete\n",
      "2022-10-28 12:22:45 [INFO] idaes.init.fs.fwh[2].cold_side: Initialization Complete\n",
      "2022-10-28 12:22:45 [INFO] idaes.init.fs.fwh[2]: Initialization Completed, optimal - Optimal Solution Found\n",
      "2022-10-28 12:22:45 [INFO] idaes.init.fs.fwh_mixer[3]: Initialization Complete: optimal - Optimal Solution Found\n",
      "2022-10-28 12:22:45 [INFO] idaes.init.fs.fwh[3].hot_side: Initialization Complete\n",
      "2022-10-28 12:22:45 [INFO] idaes.init.fs.fwh[3].cold_side: Initialization Complete\n",
      "2022-10-28 12:22:45 [INFO] idaes.init.fs.fwh[3]: Initialization Completed, optimal - Optimal Solution Found\n",
      "2022-10-28 12:22:45 [INFO] idaes.init.fs.fwh_mixer[4]: Initialization Complete: optimal - Optimal Solution Found\n",
      "2022-10-28 12:22:45 [INFO] idaes.init.fs.fwh[4].hot_side: Initialization Complete\n",
      "2022-10-28 12:22:45 [INFO] idaes.init.fs.fwh[4].cold_side: Initialization Complete\n",
      "2022-10-28 12:22:46 [INFO] idaes.init.fs.fwh[4]: Initialization Completed, optimal - Optimal Solution Found\n",
      "2022-10-28 12:22:46 [INFO] idaes.init.fs.fwh[5].hot_side: Initialization Complete\n",
      "2022-10-28 12:22:46 [INFO] idaes.init.fs.fwh[5].cold_side: Initialization Complete\n",
      "2022-10-28 12:22:46 [INFO] idaes.init.fs.fwh[5]: Initialization Completed, optimal - Optimal Solution Found\n",
      "2022-10-28 12:22:46 [INFO] idaes.init.fs.deaerator: Initialization Complete: optimal - Optimal Solution Found\n",
      "2022-10-28 12:22:46 [INFO] idaes.init.fs.fwh_mixer[6]: Initialization Complete: optimal - Optimal Solution Found\n",
      "2022-10-28 12:22:46 [INFO] idaes.init.fs.fwh[6].hot_side: Initialization Complete\n",
      "2022-10-28 12:22:46 [INFO] idaes.init.fs.fwh[6].cold_side: Initialization Complete\n",
      "2022-10-28 12:22:46 [INFO] idaes.init.fs.fwh[6]: Initialization Completed, optimal - Optimal Solution Found\n",
      "2022-10-28 12:22:46 [INFO] idaes.init.fs.fwh_mixer[7]: Initialization Complete: optimal - Optimal Solution Found\n",
      "2022-10-28 12:22:46 [INFO] idaes.init.fs.fwh[7].hot_side: Initialization Complete\n",
      "2022-10-28 12:22:46 [INFO] idaes.init.fs.fwh[7].cold_side: Initialization Complete\n",
      "2022-10-28 12:22:46 [INFO] idaes.init.fs.fwh[7]: Initialization Completed, optimal - Optimal Solution Found\n",
      "2022-10-28 12:22:47 [INFO] idaes.init.fs.fwh_mixer[8]: Initialization Complete: optimal - Optimal Solution Found\n",
      "2022-10-28 12:22:47 [INFO] idaes.init.fs.fwh[8].hot_side: Initialization Complete\n",
      "2022-10-28 12:22:47 [INFO] idaes.init.fs.fwh[8].cold_side: Initialization Complete\n",
      "2022-10-28 12:22:47 [INFO] idaes.init.fs.fwh[8]: Initialization Completed, optimal - Optimal Solution Found\n",
      "2022-10-28 12:22:47 [INFO] idaes.init.fs.fwh[9].hot_side: Initialization Complete\n",
      "2022-10-28 12:22:47 [INFO] idaes.init.fs.fwh[9].cold_side: Initialization Complete\n",
      "2022-10-28 12:22:47 [INFO] idaes.init.fs.fwh[9]: Initialization Completed, optimal - Optimal Solution Found\n",
      "Model Initialization =  optimal\n",
      "*******************  USC Model Initialized   ********************\n",
      "2022-10-28 12:22:49 [INFO] idaes.init.fs.ess_hp_split: Initialization Complete: optimal - Optimal Solution Found\n",
      "2022-10-28 12:22:49 [INFO] idaes.init.fs.hxc.hot_side: Initialization Complete\n",
      "2022-10-28 12:22:49 [INFO] idaes.init.dispatches.properties.solarsalt_properties: fs.hxc.cold_side.properties_in Initialisation Step 1 Complete.\n",
      "2022-10-28 12:22:49 [INFO] idaes.init.dispatches.properties.solarsalt_properties: Initialization Step 1 Complete.\n",
      "2022-10-28 12:22:49 [INFO] idaes.init.dispatches.properties.solarsalt_properties: fs.hxc.cold_side.properties_out Initialisation Step 1 Complete.\n",
      "2022-10-28 12:22:49 [INFO] idaes.init.dispatches.properties.solarsalt_properties: Initialization Step 1 Complete.\n",
      "2022-10-28 12:22:49 [INFO] idaes.init.dispatches.properties.solarsalt_properties: State Released.\n",
      "2022-10-28 12:22:49 [INFO] idaes.init.fs.hxc.cold_side: Initialization Complete\n",
      "2022-10-28 12:22:50 [INFO] idaes.init.dispatches.properties.solarsalt_properties: State Released.\n",
      "2022-10-28 12:22:50 [INFO] idaes.init.fs.hxc: Initialization Completed, optimal - Optimal Solution Found\n",
      "2022-10-28 12:22:50 [INFO] idaes.init.fs.cooler.control_volume: Initialization Complete\n",
      "2022-10-28 12:22:50 [INFO] idaes.init.fs.cooler: Initialization Complete: optimal - Optimal Solution Found\n",
      "2022-10-28 12:22:50 [INFO] idaes.init.fs.hx_pump.control_volume: Initialization Complete\n",
      "2022-10-28 12:22:50 [INFO] idaes.init.fs.hx_pump: Initialization Complete: optimal - Optimal Solution Found\n",
      "2022-10-28 12:22:50 [INFO] idaes.init.fs.ess_bfp_split: Initialization Complete: optimal - Optimal Solution Found\n",
      "2022-10-28 12:22:50 [INFO] idaes.init.fs.recycle_mixer: Initialization Complete: optimal - Optimal Solution Found\n",
      "2022-10-28 12:22:50 [INFO] idaes.init.dispatches.properties.solarsalt_properties: fs.hxd.hot_side.properties_in Initialisation Step 1 Complete.\n",
      "2022-10-28 12:22:50 [INFO] idaes.init.dispatches.properties.solarsalt_properties: Initialization Step 1 Complete.\n",
      "2022-10-28 12:22:50 [INFO] idaes.init.dispatches.properties.solarsalt_properties: fs.hxd.hot_side.properties_out Initialisation Step 1 Complete.\n",
      "2022-10-28 12:22:50 [INFO] idaes.init.dispatches.properties.solarsalt_properties: Initialization Step 1 Complete.\n",
      "2022-10-28 12:22:50 [INFO] idaes.init.dispatches.properties.solarsalt_properties: State Released.\n",
      "2022-10-28 12:22:50 [INFO] idaes.init.fs.hxd.hot_side: Initialization Complete\n",
      "2022-10-28 12:22:50 [INFO] idaes.init.fs.hxd.cold_side: Initialization Complete\n",
      "2022-10-28 12:22:51 [INFO] idaes.init.dispatches.properties.solarsalt_properties: State Released.\n"
     ]
    },
    {
     "name": "stdout",
     "output_type": "stream",
     "text": [
      "2022-10-28 12:22:51 [INFO] idaes.init.fs.hxd: Initialization Completed, optimal - Optimal Solution Found\n",
      "Integrated Model Initialization =  optimal\n",
      "***************   Integrated Model Initialized   ***************\n",
      "Cost Initialization =  optimal\n",
      "******************** Costing Initialized *************************\n",
      "\n",
      "\n"
     ]
    },
    {
     "name": "stderr",
     "output_type": "stream",
     "text": [
      "WARNING:pyomo.core:Setting Var 'fs.hxd.delta_temperature_in[0.0]' to a numeric value `0.0629934683431687` outside the bounds (4.9, 300).\n",
      "WARNING:pyomo.core:Setting Var 'period[1].fs.hxd.delta_temperature_in[0.0]' to a numeric value `0.06299346834317004` outside the bounds (4.9, 300).\n"
     ]
    },
    {
     "name": "stdout",
     "output_type": "stream",
     "text": [
      "[+  22.33] Created an instance of the flowsheet and initialized it.\n"
     ]
    },
    {
     "name": "stderr",
     "output_type": "stream",
     "text": [
      "WARNING:pyomo.core:Setting Var 'period[2].fs.hxd.delta_temperature_in[0.0]' to a numeric value `0.06299346834317004` outside the bounds (4.9, 300).\n",
      "WARNING:pyomo.core:Setting Var 'period[3].fs.hxd.delta_temperature_in[0.0]' to a numeric value `0.06299346834317004` outside the bounds (4.9, 300).\n",
      "WARNING:pyomo.core:Setting Var 'period[4].fs.hxd.delta_temperature_in[0.0]' to a numeric value `0.06299346834317004` outside the bounds (4.9, 300).\n",
      "WARNING:pyomo.core:Setting Var 'period[5].fs.hxd.delta_temperature_in[0.0]' to a numeric value `0.06299346834317004` outside the bounds (4.9, 300).\n",
      "WARNING:pyomo.core:Setting Var 'period[6].fs.hxd.delta_temperature_in[0.0]' to a numeric value `0.06299346834317004` outside the bounds (4.9, 300).\n",
      "WARNING:pyomo.core:Setting Var 'period[7].fs.hxd.delta_temperature_in[0.0]' to a numeric value `0.06299346834317004` outside the bounds (4.9, 300).\n",
      "WARNING:pyomo.core:Setting Var 'period[8].fs.hxd.delta_temperature_in[0.0]' to a numeric value `0.06299346834317004` outside the bounds (4.9, 300).\n",
      "WARNING:pyomo.core:Setting Var 'period[9].fs.hxd.delta_temperature_in[0.0]' to a numeric value `0.06299346834317004` outside the bounds (4.9, 300).\n",
      "WARNING:pyomo.core:Setting Var 'period[10].fs.hxd.delta_temperature_in[0.0]' to a numeric value `0.06299346834317004` outside the bounds (4.9, 300).\n",
      "WARNING:pyomo.core:Setting Var 'period[11].fs.hxd.delta_temperature_in[0.0]' to a numeric value `0.06299346834317004` outside the bounds (4.9, 300).\n",
      "WARNING:pyomo.core:Setting Var 'period[12].fs.hxd.delta_temperature_in[0.0]' to a numeric value `0.06299346834317004` outside the bounds (4.9, 300).\n",
      "WARNING:pyomo.core:Setting Var 'period[13].fs.hxd.delta_temperature_in[0.0]' to a numeric value `0.06299346834317004` outside the bounds (4.9, 300).\n",
      "WARNING:pyomo.core:Setting Var 'period[14].fs.hxd.delta_temperature_in[0.0]' to a numeric value `0.06299346834317004` outside the bounds (4.9, 300).\n",
      "WARNING:pyomo.core:Setting Var 'period[15].fs.hxd.delta_temperature_in[0.0]' to a numeric value `0.06299346834317004` outside the bounds (4.9, 300).\n",
      "WARNING:pyomo.core:Setting Var 'period[16].fs.hxd.delta_temperature_in[0.0]' to a numeric value `0.06299346834317004` outside the bounds (4.9, 300).\n",
      "WARNING:pyomo.core:Setting Var 'period[17].fs.hxd.delta_temperature_in[0.0]' to a numeric value `0.06299346834317004` outside the bounds (4.9, 300).\n",
      "WARNING:pyomo.core:Setting Var 'period[18].fs.hxd.delta_temperature_in[0.0]' to a numeric value `0.06299346834317004` outside the bounds (4.9, 300).\n",
      "WARNING:pyomo.core:Setting Var 'period[19].fs.hxd.delta_temperature_in[0.0]' to a numeric value `0.06299346834317004` outside the bounds (4.9, 300).\n",
      "WARNING:pyomo.core:Setting Var 'period[20].fs.hxd.delta_temperature_in[0.0]' to a numeric value `0.06299346834317004` outside the bounds (4.9, 300).\n",
      "WARNING:pyomo.core:Setting Var 'period[21].fs.hxd.delta_temperature_in[0.0]' to a numeric value `0.06299346834317004` outside the bounds (4.9, 300).\n",
      "WARNING:pyomo.core:Setting Var 'period[22].fs.hxd.delta_temperature_in[0.0]' to a numeric value `0.06299346834317004` outside the bounds (4.9, 300).\n",
      "WARNING:pyomo.core:Setting Var 'period[23].fs.hxd.delta_temperature_in[0.0]' to a numeric value `0.06299346834317004` outside the bounds (4.9, 300).\n",
      "WARNING:pyomo.core:Setting Var 'period[24].fs.hxd.delta_temperature_in[0.0]' to a numeric value `0.06299346834317004` outside the bounds (4.9, 300).\n"
     ]
    },
    {
     "name": "stdout",
     "output_type": "stream",
     "text": [
      "[+   3.42] Initialized the entire multiperiod optimization model.\n",
      "[+   0.02] Unfixed the degrees of freedom from each period model.\n"
     ]
    }
   ],
   "source": [
    "# Create the multiperiod model object\n",
    "m = create_multiperiod_usc_model(\n",
    "    n_time_points=n_time_points, pmin=None, pmax=None\n",
    ")\n",
    "\n",
    "# Retrieve pyomo model and active time blocks\n",
    "blks = [m.period[t] for t in m.set_period]\n",
    "\n",
    "# Add periodic linking constraint\n",
    "m.periodic_variable_pair_costraint = Constraint(\n",
    "    expr=(m.period[24].fs.salt_inventory_hot ==\n",
    "         m.period[1].fs.previous_salt_inventory_hot))\n"
   ]
  },
  {
   "cell_type": "markdown",
   "id": "612e25ee",
   "metadata": {},
   "source": [
    "Use the LMP data from the `price` list above to assign the electricity prices to each time period. Also, include revenue and operating cost functions to calculate a total cost."
   ]
  },
  {
   "cell_type": "code",
   "execution_count": 5,
   "id": "1885cdac",
   "metadata": {},
   "outputs": [],
   "source": [
    "count = 0\n",
    "for blk in blks:\n",
    "    blk.lmp_signal = Param(default=0, mutable=True)\n",
    "    blk.revenue = lmp[count]*blk.fs.net_power\n",
    "    blk.operating_cost = Expression(\n",
    "        expr=(\n",
    "            (blk.fs.operating_cost\n",
    "             + blk.fs.plant_fixed_operating_cost\n",
    "             + blk.fs.plant_variable_operating_cost) / (365 * 24)\n",
    "        )\n",
    "    )\n",
    "    blk.cost = Expression(expr=-(blk.revenue - blk.operating_cost))\n",
    "    count += 1"
   ]
  },
  {
   "cell_type": "markdown",
   "id": "363e29f3",
   "metadata": {},
   "source": [
    "Add the total cost expression as the objective function."
   ]
  },
  {
   "cell_type": "code",
   "execution_count": 6,
   "id": "941d0d79",
   "metadata": {},
   "outputs": [],
   "source": [
    "m.obj = Objective(expr=sum([blk.cost for blk in blks]))"
   ]
  },
  {
   "cell_type": "markdown",
   "id": "9c6d2329",
   "metadata": {},
   "source": [
    "Add initial state for the two linking variables in the model: the Solar salt tank for different scenarios and the power."
   ]
  },
  {
   "cell_type": "code",
   "execution_count": 7,
   "id": "9c332516",
   "metadata": {},
   "outputs": [],
   "source": [
    "# Initial state for Solar salt tank for differrent tank scenarios:\"hot_empty\",\"hot_full\",\"hot_half_full\"\n",
    "if tank_status == \"hot_empty\":\n",
    "    blks[0].fs.previous_salt_inventory_hot.fix(1103053.48)\n",
    "    blks[0].fs.previous_salt_inventory_cold.fix(tank_max-1103053.48)\n",
    "elif tank_status == \"half_full\":\n",
    "    blks[0].fs.previous_salt_inventory_hot.fix(tank_max/2)\n",
    "    blks[0].fs.previous_salt_inventory_cold.fix(tank_max/2)\n",
    "elif tank_status == \"hot_full\":\n",
    "    blks[0].fs.previous_salt_inventory_hot.fix(tank_max-tank_min)\n",
    "    blks[0].fs.previous_salt_inventory_cold.fix(tank_min)\n",
    "else:\n",
    "    print(\"Unrecognized scenario! Try hot_empty, hot_full, or half_full\")\n",
    "\n",
    "# Initial state for power linking variable\n",
    "blks[0].fs.previous_power.fix(447.66)"
   ]
  },
  {
   "cell_type": "markdown",
   "id": "97dfb8d1",
   "metadata": {},
   "source": [
    "Finally, solve the entire multi-period model and save the results in lists to be used later to plot the results."
   ]
  },
  {
   "cell_type": "code",
   "execution_count": 8,
   "id": "76e7fe54",
   "metadata": {},
   "outputs": [
    {
     "name": "stdout",
     "output_type": "stream",
     "text": [
      "\n",
      ">>>>>> Solving for week 1: 24 hours of operation in 1 day(s) \n",
      "Ipopt 3.13.2: \n",
      "\n",
      "******************************************************************************\n",
      "This program contains Ipopt, a library for large-scale nonlinear optimization.\n",
      " Ipopt is released as open source code under the Eclipse Public License (EPL).\n",
      "         For more information visit http://projects.coin-or.org/Ipopt\n",
      "\n",
      "This version of Ipopt was compiled from source code available at\n",
      "    https://github.com/IDAES/Ipopt as part of the Institute for the Design of\n",
      "    Advanced Energy Systems Process Systems Engineering Framework (IDAES PSE\n",
      "    Framework) Copyright (c) 2018-2019. See https://github.com/IDAES/idaes-pse.\n",
      "\n",
      "This version of Ipopt was compiled using HSL, a collection of Fortran codes\n",
      "    for large-scale scientific computation.  All technical papers, sales and\n",
      "    publicity material resulting from use of the HSL codes within IPOPT must\n",
      "    contain the following acknowledgement:\n",
      "        HSL, a collection of Fortran codes for large-scale scientific\n",
      "        computation. See http://www.hsl.rl.ac.uk.\n",
      "******************************************************************************\n",
      "\n",
      "This is Ipopt version 3.13.2, running with linear solver ma27.\n",
      "\n",
      "Number of nonzeros in equality constraint Jacobian...:    38348\n",
      "Number of nonzeros in inequality constraint Jacobian.:      284\n",
      "Number of nonzeros in Lagrangian Hessian.............:    11880\n",
      "\n",
      "Total number of variables............................:    14685\n",
      "                     variables with only lower bounds:      144\n",
      "                variables with lower and upper bounds:    10053\n",
      "                     variables with only upper bounds:        0\n",
      "Total number of equality constraints.................:    14567\n",
      "Total number of inequality constraints...............:      168\n",
      "        inequality constraints with only lower bounds:       24\n",
      "   inequality constraints with lower and upper bounds:        0\n",
      "        inequality constraints with only upper bounds:      144\n",
      "\n",
      "iter    objective    inf_pr   inf_du lg(mu)  ||d||  lg(rg) alpha_du alpha_pr  ls\n",
      "   0 -3.7484174e+05 2.83e+08 1.00e+02  -1.0 0.00e+00    -  0.00e+00 0.00e+00   0\n",
      "   1 -3.7398759e+05 9.17e+07 2.36e+04  -1.0 5.31e+06    -  2.10e-01 1.00e+00h  1\n",
      "   2 -3.6768264e+05 1.70e+07 6.36e+02  -1.0 1.05e+07    -  8.29e-01 1.00e+00H  1\n",
      "   3 -3.7083347e+05 1.66e+06 7.72e+02  -1.0 3.42e+06    -  8.97e-01 1.00e+00f  1\n",
      "   4 -3.9294910e+05 5.79e+05 2.80e+02  -1.0 3.61e+07    -  5.25e-01 6.53e-01f  1\n",
      "   5 -3.9354218e+05 5.73e+05 2.77e+02  -1.0 6.16e+07    -  7.50e-01 1.07e-02f  1\n",
      "   6 -4.2233025e+05 6.15e+05 9.12e+01  -1.0 2.63e+08    -  4.85e-01 1.54e-01f  1\n",
      "   7 -4.2267571e+05 6.14e+05 9.11e+01  -1.0 3.11e+08    -  1.51e-01 1.79e-03f  1\n",
      "   8 -4.2431513e+05 5.55e+05 8.24e+01  -1.0 6.85e+07    -  2.84e-01 9.59e-02f  1\n",
      "   9 -4.2601993e+05 5.02e+05 7.46e+01  -1.0 6.43e+07    -  3.00e-01 9.45e-02f  1\n",
      "iter    objective    inf_pr   inf_du lg(mu)  ||d||  lg(rg) alpha_du alpha_pr  ls\n",
      "  10 -4.2710321e+05 4.48e+05 6.65e+01  -1.0 7.41e+07    -  5.61e-01 1.09e-01f  1\n",
      "  11 -4.2965855e+05 3.77e+05 5.64e+01  -1.0 1.49e+08    -  5.09e-01 1.54e-01f  1\n",
      "  12 -4.3295879e+05 4.12e+05 4.93e+01  -1.0 2.54e+08    -  6.40e-01 1.28e-01f  1\n",
      "  13 -4.3415151e+05 4.16e+05 4.82e+01  -1.0 7.46e+08    -  8.47e-02 2.25e-02f  1\n",
      "  14 -4.3609164e+05 4.46e+05 4.62e+01  -1.0 4.74e+08    -  1.61e-01 4.21e-02f  1\n",
      "  15 -4.3838276e+05 5.72e+05 4.40e+01  -1.0 4.60e+08    -  3.18e-01 4.96e-02f  1\n",
      "  16 -4.4061801e+05 6.79e+05 4.22e+01  -1.0 4.81e+08    -  3.36e-01 4.17e-02f  1\n",
      "  17 -4.4523398e+05 3.04e+06 3.94e+01  -1.0 4.38e+08    -  1.94e-01 7.87e-02f  1\n",
      "  18 -4.4649611e+05 3.43e+06 3.82e+01  -1.0 1.40e+08    -  2.92e-03 3.14e-02f  1\n",
      "  19 -4.4768178e+05 3.73e+06 3.71e+01  -1.0 4.71e+08    -  9.41e-02 2.97e-02f  1\n",
      "iter    objective    inf_pr   inf_du lg(mu)  ||d||  lg(rg) alpha_du alpha_pr  ls\n",
      "  20 -4.5076845e+05 6.17e+06 3.47e+01  -1.0 4.26e+08    -  8.36e-03 7.72e-02f  1\n",
      "  21 -4.5123435e+05 6.15e+06 3.43e+01  -1.0 5.40e+08    -  7.61e-03 1.24e-02f  1\n",
      "  22 -4.5425817e+05 8.22e+06 3.19e+01  -1.0 5.36e+08    -  9.19e-02 8.16e-02f  1\n",
      "  23 -4.5467634e+05 8.17e+06 3.15e+01  -1.0 1.20e+08    -  4.59e-01 1.35e-02f  1\n",
      "  24 -4.7432263e+05 1.49e+08 3.24e+01  -1.0 1.13e+08    -  4.95e-01 6.74e-01f  1\n",
      "  25 -4.7641571e+05 3.45e+07 8.06e+00  -1.0 1.87e+07    -  8.78e-01 7.52e-01f  1\n",
      "  26 -4.7821359e+05 2.06e+07 1.28e+01  -1.0 4.37e+07    -  4.61e-01 9.77e-01f  1\n",
      "  27 -4.7840008e+05 1.06e+07 1.28e+00  -1.0 1.48e+07    -  9.20e-01 1.00e+00h  1\n",
      "  28 -4.7847555e+05 8.52e+06 1.21e-01  -1.0 1.46e+07    -  9.99e-01 1.00e+00h  1\n",
      "  29 -4.7848089e+05 3.65e+06 1.56e-02  -1.0 6.36e+06    -  1.00e+00 1.00e+00h  1\n",
      "iter    objective    inf_pr   inf_du lg(mu)  ||d||  lg(rg) alpha_du alpha_pr  ls\n",
      "  30 -4.7848126e+05 4.56e+05 5.57e-04  -1.0 1.49e+06    -  1.00e+00 1.00e+00h  1\n",
      "  31 -4.7848129e+05 7.15e+03 7.19e-06  -1.0 1.63e+05    -  1.00e+00 1.00e+00h  1\n",
      "  32 -4.7849224e+05 1.20e+05 3.33e+00  -1.7 1.39e+06    -  1.00e+00 9.09e-01f  1\n",
      "  33 -4.7849311e+05 1.04e+03 3.44e-04  -1.7 1.85e+05    -  1.00e+00 1.00e+00h  1\n",
      "  34 -4.7849561e+05 2.72e+03 7.61e-04  -2.5 1.82e+05    -  1.00e+00 1.00e+00f  1\n",
      "  35 -4.7849560e+05 6.30e+00 3.38e-08  -2.5 1.01e+04    -  1.00e+00 1.00e+00h  1\n",
      "  36 -4.7849598e+05 4.94e+01 1.57e-05  -3.8 2.44e+04    -  1.00e+00 1.00e+00f  1\n",
      "  37 -4.7849598e+05 3.14e-03 1.50e-09  -3.8 2.20e+02    -  1.00e+00 1.00e+00h  1\n",
      "  38 -4.7849600e+05 1.47e-01 4.74e-08  -5.7 1.33e+03    -  1.00e+00 1.00e+00f  1\n",
      "  39 -4.7849600e+05 2.09e-05 6.96e-12  -8.6 1.58e+01    -  1.00e+00 1.00e+00h  1\n",
      "\n",
      "Number of Iterations....: 39\n",
      "\n",
      "                                   (scaled)                 (unscaled)\n",
      "Objective...............:  -2.3924800234502272e+05   -4.7849600469004543e+05\n",
      "Dual infeasibility......:   6.9581892714587593e-12    1.3916378542917519e-11\n",
      "Constraint violation....:   3.7252902984619141e-09    2.0906329154968262e-05\n",
      "Complementarity.........:   2.5088482622969778e-09    5.0176965245939555e-09\n",
      "Overall NLP error.......:   3.7252902984619141e-09    2.0906329154968262e-05\n",
      "\n",
      "\n",
      "Number of objective function evaluations             = 41\n",
      "Number of objective gradient evaluations             = 40\n",
      "Number of equality constraint evaluations            = 41\n",
      "Number of inequality constraint evaluations          = 41\n",
      "Number of equality constraint Jacobian evaluations   = 40\n",
      "Number of inequality constraint Jacobian evaluations = 40\n",
      "Number of Lagrangian Hessian evaluations             = 39\n",
      "Total CPU secs in IPOPT (w/o function evaluations)   =      1.846\n",
      "Total CPU secs in NLP function evaluations           =     91.459\n",
      "\n",
      "EXIT: Optimal Solution Found.\n"
     ]
    }
   ],
   "source": [
    "# Declare NLP solver\n",
    "opt = SolverFactory('ipopt')\n",
    "\n",
    "# Declare lists to save results\n",
    "hot_tank_level = []\n",
    "cold_tank_level = []\n",
    "net_power = []\n",
    "hxc_duty = []\n",
    "hxd_duty = []\n",
    "for week in range(nweeks):\n",
    "    print()\n",
    "    print(\">>>>>> Solving for week {}: {} hours of operation in {} day(s) \"\n",
    "          .format(week + 1, number_hours, ndays))\n",
    "\n",
    "    # Solve the multi-period model\n",
    "    opt.solve(m, tee=True)\n",
    "\n",
    "    hot_tank_level.append([(value(blks[i].fs.salt_inventory_hot)) * 1e-3\n",
    "                           for i in range(n_time_points)])\n",
    "    cold_tank_level.append([(value(blks[i].fs.salt_inventory_cold)) * 1e-3\n",
    "                            for i in range(n_time_points)])\n",
    "    net_power.append([value(blks[i].fs.net_power)\n",
    "                      for i in range(n_time_points)])\n",
    "    hxc_duty.append([value(blks[i].fs.hxc.heat_duty[0]) * 1e-6\n",
    "                     for i in range(n_time_points)])\n",
    "    hxd_duty.append([value(blks[i].fs.hxd.heat_duty[0]) * 1e-6\n",
    "                     for i in range(n_time_points)])"
   ]
  },
  {
   "cell_type": "markdown",
   "id": "79b85724",
   "metadata": {},
   "source": [
    "Add maximum and minimum values for the power plant power production and storage heat duty. This is needed when plotting the results."
   ]
  },
  {
   "cell_type": "code",
   "execution_count": 9,
   "id": "21a045ff",
   "metadata": {},
   "outputs": [],
   "source": [
    "max_power = 436\n",
    "max_power_storage = 30\n",
    "max_power_total = max_power + max_power_storage\n",
    "min_storage_heat_duty = 10\n",
    "max_storage_heat_duty = 200"
   ]
  },
  {
   "cell_type": "markdown",
   "id": "ad5d1140",
   "metadata": {},
   "source": [
    "In Figure 1, plot the Solar salt levels in the storage tank for the entire time horizon."
   ]
  },
  {
   "cell_type": "code",
   "execution_count": 10,
   "id": "dd0a674d",
   "metadata": {},
   "outputs": [
    {
     "data": {
      "image/png": "[encoded data removed]",
      "text/plain": [
       "<Figure size 864x576 with 2 Axes>"
      ]
     },
     "metadata": {
      "needs_background": "light"
     },
     "output_type": "display_data"
    }
   ],
   "source": [
    "hours = np.arange(n_time_points * nweeks)\n",
    "lmp_array = np.asarray(lmp[0:n_time_points])\n",
    "hot_tank_array = np.asarray(hot_tank_level[0:nweeks]).flatten()\n",
    "cold_tank_array = np.asarray(cold_tank_level[0:nweeks]).flatten()\n",
    "\n",
    "# Convert array to list to include hot tank level at time zero\n",
    "hot_tank_array0 = value(blks[0].fs.previous_salt_inventory_hot) * 1e-3\n",
    "cold_tank_array0 = value(blks[0].fs.previous_salt_inventory_cold) * 1e-3\n",
    "hours_list = hours.tolist() + [n_time_points]\n",
    "hot_tank_list = [hot_tank_array0] + hot_tank_array.tolist()\n",
    "cold_tank_list = [cold_tank_array0] + cold_tank_array.tolist()\n",
    "\n",
    "# Declare settings for plot\n",
    "font = {'size': 16}\n",
    "plt.rc('font', **font)\n",
    "fig1, ax1 = plt.subplots(figsize=(12, 8))\n",
    "color = ['r', 'b', 'tab:green', 'k', 'tab:orange']\n",
    "\n",
    "ax1.set_xlabel('Time Period (hr)')\n",
    "ax1.set_ylabel('Salt Tank Level (metric ton)',\n",
    "               color=color[3])\n",
    "ax1.spines[\"top\"].set_visible(False)\n",
    "ax1.spines[\"right\"].set_visible(False)\n",
    "ax1.grid(linestyle=':', which='both',\n",
    "         color='gray', alpha=0.30)\n",
    "plt.axhline(tank_max * 1e-3, \n",
    "            ls=':', lw=1.75,\n",
    "            color=color[4])\n",
    "plt.text(n_time_points / 2 - 1.5,\n",
    "         tank_max * 1e-3 + 100, \n",
    "         'max salt',\n",
    "         color=color[4])\n",
    "ax1.step(hours_list, hot_tank_list,\n",
    "         marker='^', ms=4,\n",
    "         lw=1, color=color[0], \n",
    "         label='Hot Salt')\n",
    "ax1.step(hours_list, cold_tank_list,\n",
    "         marker='v', ms=4,\n",
    "         lw=1, color=color[1], \n",
    "         label='Cold Salt')\n",
    "ax1.legend(loc=\"center right\", frameon=False)\n",
    "ax1.tick_params(axis='y')\n",
    "ax1.set_xticks(np.arange(0, n_time_points * nweeks + 1, step=2))\n",
    "\n",
    "ax2 = ax1.twinx()\n",
    "ax2.set_ylabel('LMP ($/MWh)',\n",
    "               color=color[2])\n",
    "ax2.step([x + 1 for x in hours], lmp_array,\n",
    "         marker='o', ms=3, alpha=0.5,\n",
    "         ls='-', lw=1,\n",
    "         color=color[2])\n",
    "ax2.tick_params(axis='y',\n",
    "                labelcolor=color[2])"
   ]
  },
  {
   "cell_type": "markdown",
   "id": "fa04c353",
   "metadata": {},
   "source": [
    "In Figure 2, plot the operating profile of the power plant in terms of total power for the entire time horizon."
   ]
  },
  {
   "cell_type": "code",
   "execution_count": 11,
   "id": "33005343",
   "metadata": {},
   "outputs": [
    {
     "data": {
      "image/png": "[encoded data removed]",
      "text/plain": [
       "<Figure size 864x576 with 2 Axes>"
      ]
     },
     "metadata": {
      "needs_background": "light"
     },
     "output_type": "display_data"
    }
   ],
   "source": [
    "font = {'size': 18}\n",
    "plt.rc('font', **font)\n",
    "\n",
    "power_array = np.asarray(net_power[0:nweeks]).flatten()\n",
    "\n",
    "# Convert array to list to include net power at time zero\n",
    "power_array0 = value(blks[0].fs.previous_power)\n",
    "power_list = [power_array0] + power_array.tolist()\n",
    "\n",
    "fig2, ax3 = plt.subplots(figsize=(12, 8))\n",
    "ax3.set_xlabel('Time Period (hr)')\n",
    "ax3.set_ylabel('Net Power Output (MW)',\n",
    "               color=color[1])\n",
    "ax3.spines[\"top\"].set_visible(False)\n",
    "ax3.spines[\"right\"].set_visible(False)\n",
    "ax3.grid(linestyle=':', which='both',\n",
    "         color='gray', alpha=0.30)\n",
    "plt.text(n_time_points / 2 - 3, max_power - 5.5,\n",
    "         'max plant power',\n",
    "         color=color[4])\n",
    "plt.axhline(max_power, \n",
    "            ls='-.', lw=1.75, \n",
    "            color=color[4])\n",
    "ax3.step(hours_list, power_list,\n",
    "         marker='o', ms=4,\n",
    "         lw=1, color=color[1])\n",
    "ax3.tick_params(axis='y',\n",
    "                labelcolor=color[1])\n",
    "ax3.set_xticks(np.arange(0, n_time_points * nweeks + 1, step=2))\n",
    "\n",
    "ax4 = ax3.twinx()\n",
    "ax4.set_ylabel('LMP ($/MWh)',\n",
    "               color=color[2])\n",
    "ax4.step([x + 1 for x in hours], lmp_array,\n",
    "         marker='o', ms=3, alpha=0.5,\n",
    "         ls='-', lw=1,\n",
    "         color=color[2])\n",
    "ax4.tick_params(axis='y',\n",
    "                labelcolor=color[2])"
   ]
  },
  {
   "cell_type": "markdown",
   "id": "6213a458",
   "metadata": {},
   "source": [
    "In Figure 3, plot the storage heat exchanger operating profiles in terms of heat duties for the entire time horizon."
   ]
  },
  {
   "cell_type": "code",
   "execution_count": 12,
   "id": "63875c64",
   "metadata": {},
   "outputs": [
    {
     "data": {
      "image/png": "[encoded data removed]",
      "text/plain": [
       "<Figure size 864x576 with 2 Axes>"
      ]
     },
     "metadata": {
      "needs_background": "light"
     },
     "output_type": "display_data"
    }
   ],
   "source": [
    "zero_point = True\n",
    "hxc_array = np.asarray(hxc_duty[0:nweeks]).flatten()\n",
    "hxd_array = np.asarray(hxd_duty[0:nweeks]).flatten()\n",
    "hxc_duty0 = 0\n",
    "hxc_duty_list = [hxc_duty0] + hxc_array.tolist()\n",
    "hxd_duty0 = 0\n",
    "hxd_duty_list = [hxd_duty0] + hxd_array.tolist()\n",
    "\n",
    "fig3, ax5 = plt.subplots(figsize=(12, 8))\n",
    "ax5.set_xlabel('Time Period (hr)')\n",
    "ax5.set_ylabel('Storage Heat Duty (MW)',\n",
    "               color=color[3])\n",
    "ax5.spines[\"top\"].set_visible(False)\n",
    "ax5.spines[\"right\"].set_visible(False)\n",
    "ax5.grid(linestyle=':', which='both',\n",
    "         color='gray', alpha=0.30)\n",
    "plt.text(n_time_points / 2 - 2.2, \n",
    "         max_storage_heat_duty + 1,\n",
    "         'max storage',\n",
    "         color=color[4])\n",
    "plt.text(n_time_points / 2 - 2, \n",
    "         min_storage_heat_duty - 6.5,\n",
    "         'min storage',\n",
    "         color=color[4])\n",
    "plt.axhline(max_storage_heat_duty, \n",
    "            ls=':', lw=1.75,\n",
    "            color=color[4])\n",
    "plt.axhline(min_storage_heat_duty, \n",
    "            ls=':', lw=1.75,\n",
    "            color=color[4])\n",
    "if zero_point:\n",
    "    ax5.step(hours_list, hxc_duty_list,\n",
    "             marker='^', ms=4,\n",
    "             color=color[0], label='Charge',)\n",
    "    ax5.step(hours_list, hxd_duty_list,\n",
    "             marker='v', ms=4,\n",
    "             color=color[1], label='Discharge')\n",
    "else:\n",
    "    ax5.step([x + 1 for x in hours], hxc_array,\n",
    "             marker='^', ms=4, lw=1,\n",
    "             color=color[0], label='Charge')\n",
    "    ax5.step([x + 1 for x in hours], hxd_array,\n",
    "             marker='v', ms=4, lw=1,\n",
    "             color=color[1], label='Discharge')\n",
    "ax5.legend(loc=\"center right\", frameon=False)\n",
    "ax5.tick_params(axis='y',\n",
    "                labelcolor=color[3])\n",
    "ax5.set_xticks(np.arange(0, n_time_points * nweeks + 1, step=2))\n",
    "\n",
    "ax6 = ax5.twinx()\n",
    "ax6.set_ylabel('LMP ($/MWh)',\n",
    "               color=color[2])\n",
    "ax6.step([x + 1 for x in hours], lmp_array,\n",
    "         marker='o', ms=3,\n",
    "         alpha=0.5, ls='-',\n",
    "         color=color[2])\n",
    "ax6.tick_params(axis='y',\n",
    "                labelcolor=color[2])"
   ]
  }
 ],
 "metadata": {
  "celltoolbar": "Tags",
  "kernelspec": {
   "display_name": "Python 3 (ipykernel)",
   "language": "python",
   "name": "python3"
  },
  "language_info": {
   "codemirror_mode": {
    "name": "ipython",
    "version": 3
   },
   "file_extension": ".py",
   "mimetype": "text/x-python",
   "name": "python",
   "nbconvert_exporter": "python",
   "pygments_lexer": "ipython3",
   "version": "3.9.12"
  },
  "vscode": {
   "interpreter": {
    "hash": "3de6449f03505a37b78911f8b034d40127ea57d9aee03280633bd6a176a9ad3c"
   }
  }
 },
 "nbformat": 4,
 "nbformat_minor": 5
}
